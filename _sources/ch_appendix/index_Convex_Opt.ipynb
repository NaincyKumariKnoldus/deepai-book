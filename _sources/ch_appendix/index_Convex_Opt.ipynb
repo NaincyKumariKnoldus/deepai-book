{
 "cells": [
  {
   "cell_type": "markdown",
   "id": "81dd0665",
   "metadata": {
    "id": "G5F0mFyZ9EgL"
   },
   "source": [
    "# 7. Giới thiệu chung về optimization\n",
    "\n",
    "Nếu đã học về Machine Learning thì không thể không biết về tối ưu hoá. Đây là một mảng kiến thức rất quan trọng trong Machine Learning bởi vì bản chất của các bài toán trong Machine Learning đều qui về tối ưu một hàm mất mát. Hiểu và nắm rõ các dạng bài toán và phương pháp tối ưu sẽ giúp chúng ta biết được qui luật ẩn đằng sau các thuật toán trong Machine Learning. Đồng thời trang bị cho mình kiến thức nền tảng để học các thuật toán khác.\n",
    "\n",
    "Không những thế, rất nhiều các vấn đề trong cuộc sống tồn tại dưới dạng một bài toán tối ưu. Đó có thể là những bài toán về tối ưu chi phí sản xuất, tối ưu giao vận,... mà chúng ta sẽ được tìm hiểu thông qua bài viết này."
   ]
  }
 ],
 "metadata": {
  "jupytext": {
   "text_representation": {
    "extension": ".md",
    "format_name": "myst",
    "format_version": 0.12,
    "jupytext_version": "1.8.2"
   }
  },
  "kernelspec": {
   "display_name": "Python 3",
   "name": "python3"
  },
  "language_info": {
   "codemirror_mode": {
    "name": "ipython",
    "version": 3
   },
   "file_extension": ".py",
   "mimetype": "text/x-python",
   "name": "python",
   "nbconvert_exporter": "python",
   "pygments_lexer": "ipython3",
   "version": "3.9.7"
  },
  "source_map": [
   13
  ]
 },
 "nbformat": 4,
 "nbformat_minor": 5
}