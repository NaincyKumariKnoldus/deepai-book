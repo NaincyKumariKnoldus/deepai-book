{
 "cells": [
  {
   "cell_type": "markdown",
   "id": "fee29bc6",
   "metadata": {},
   "source": [
    "# 5.1. Class và Object\n",
    "\n",
    "Class trong OOP chính là những đơn vị thiết kế do người lập trình tạo ra nhằm thiết lập cấu trúc dữ liệu cho chương trình. Class giả lập lại các thực thể trong thực tiễn bằng cách mô hình hoá chúng trong lập trình. Ví dụ như chúng ta có thể tạo ra class User để bao quát các chức năng và thuộc tính của một người dùng trong một hệ thống. Class này sẽ bao gồm hai thành phần:\n",
    "\n",
    "* Thuộc tính (_attribute_): name, age, gender, occupation.\n",
    "* Phương thức (_method_): buy, search, purchase, click, addToCart.\n",
    "\n",
    "Thuộc tính là những số liệu liên quan tới người dùng, còn phương thức chính là những gì mà user có thể thực hiện được."
   ]
  },
  {
   "cell_type": "markdown",
   "id": "2e952c8f",
   "metadata": {
    "id": "Z99oUAqIcoCk"
   },
   "source": [
    "## 5.1.1. Khởi tạo class\n",
    "Class được bắt đầu bởi từ khoá `class` và theo sau từ khoá này là tên của class đó và dấu hai chấm. Những phần nằm dưới dòng chứa từ khoá `class` được gọi là class body. Nơi chúng ta sẽ định nghĩa `class` đó được khởi tạo như thế nào, có những phương thức và thuộc tính ra sao. Ví dụ chúng ta muốn khởi tạo class User ở hình thức đơn giản nhất."
   ]
  },
  {
   "cell_type": "code",
   "execution_count": 1,
   "id": "7dccd2f8",
   "metadata": {
    "colab": {
     "base_uri": "https://localhost:8080/"
    },
    "executionInfo": {
     "elapsed": 1019,
     "status": "ok",
     "timestamp": 1621526070670,
     "user": {
      "displayName": "khanhblog AI",
      "photoUrl": "https://lh3.googleusercontent.com/a-/AOh14GhNCi9Qnch9sWXSuvX4N5yijAGEjX1IvfmN-95m=s64",
      "userId": "06481533334230032014"
     },
     "user_tz": -420
    },
    "id": "NygdVucDeqP6",
    "outputId": "3280eee8-95d8-4df0-bad7-99a1c3653229"
   },
   "outputs": [
    {
     "name": "stdout",
     "output_type": "stream",
     "text": [
      "True\n"
     ]
    }
   ],
   "source": [
    "class User:\n",
    "  pass\n",
    "\n",
    "# Khởi tạo một object user và kiểm tra type của nó.\n",
    "user = User()\n",
    "print(type(user) == User)"
   ]
  },
  {
   "cell_type": "markdown",
   "id": "d763782e",
   "metadata": {
    "id": "nJGKWIV8e09w"
   },
   "source": [
    "Như vậy class User đã được khởi tạo thành công. Nhưng đây mới chỉ là class rỗng. Chúng ta cần phải khởi tạo các thuộc tính của User thông qua hàm tạo (_constructor_)."
   ]
  },
  {
   "cell_type": "markdown",
   "id": "e3e24363",
   "metadata": {
    "id": "DpYz-e1Kev-F"
   },
   "source": [
    "### 5.1.1. Constructor trong python\n",
    "\n",
    "\n",
    "Thuộc tính của một class được gọi là _attribute_. Nó được định nghĩa thông qua một hàm tạo có tên là `__init__()`. Đây là một hàm được qui ước trong convention của ngôn ngữ python, có nghĩa là hàm tạo luôn luôn có tên xác định là `__init__()`.\n",
    "\n",
    "Để khởi tạo class User chúng ta phải truyền vào các giá trị thuộc tính của `User`."
   ]
  },
  {
   "cell_type": "code",
   "execution_count": 2,
   "id": "805f16e9",
   "metadata": {
    "executionInfo": {
     "elapsed": 1049,
     "status": "ok",
     "timestamp": 1621526414200,
     "user": {
      "displayName": "khanhblog AI",
      "photoUrl": "https://lh3.googleusercontent.com/a-/AOh14GhNCi9Qnch9sWXSuvX4N5yijAGEjX1IvfmN-95m=s64",
      "userId": "06481533334230032014"
     },
     "user_tz": -420
    },
    "id": "iuFR3b56O6uX"
   },
   "outputs": [],
   "source": [
    "class User:\n",
    "  def __init__(self, name, age, gender, occupation):\n",
    "    self.name = name\n",
    "    self.age = age\n",
    "    self.gender = gender\n",
    "    self.occupation = occupation"
   ]
  },
  {
   "cell_type": "markdown",
   "id": "6e082ff2",
   "metadata": {
    "id": "9a1Qo_EpgSpX"
   },
   "source": [
    "Các gía trị bên trong một hàm số được gọi là đối số (_argument_). Chẳng hạn bên trong hàm `__init__()` thì `self, name, age, gender, occupation` chính là đối số. Đối với hàm tạo `__init__()` thì đối số đầu tiên luôn luôn là `self`. Trong tiếng Anh khi bạn nói your-self hoặc my-self có nghĩa là chính bạn. Từ khoá `self` ở đây thể hiện cho chính bản thân class. Nhờ từ khoá self mà chúng ta có thể truy cập được vào các thuộc tính của class User thông qua `self.name, self.age, self.gender, self.occupation` và gán cho nó bằng giá trị của đối số của hàm tạo thông qua nhóm câu lệnh:\n",
    "\n",
    "```\n",
    "self.name = name\n",
    "self.age = age\n",
    "self.gender = gender\n",
    "self.occupation = occupation\n",
    "```\n",
    "\n",
    "Khi khởi tạo một class thì hàm tạo sẽ được gọi đầu tiên và bên trong một class ta phải truyền vào các đối số (trong ví dụ gồm `name, age, gender, occupation`) được khai báo ở hàm tạo. Cụ thể như sau:"
   ]
  },
  {
   "cell_type": "code",
   "execution_count": 3,
   "id": "ffe2d2a8",
   "metadata": {
    "colab": {
     "base_uri": "https://localhost:8080/"
    },
    "executionInfo": {
     "elapsed": 829,
     "status": "ok",
     "timestamp": 1621526820606,
     "user": {
      "displayName": "khanhblog AI",
      "photoUrl": "https://lh3.googleusercontent.com/a-/AOh14GhNCi9Qnch9sWXSuvX4N5yijAGEjX1IvfmN-95m=s64",
      "userId": "06481533334230032014"
     },
     "user_tz": -420
    },
    "id": "76LBNR6PQp3q",
    "outputId": "4eb8c47a-956c-4059-e594-15d8c1859c1c"
   },
   "outputs": [
    {
     "name": "stdout",
     "output_type": "stream",
     "text": [
      "Pham Dinh Khanh 27 male AI Engineer\n"
     ]
    }
   ],
   "source": [
    "user = User(name='Pham Dinh Khanh', age=27, gender='male', occupation='AI Engineer')\n",
    "print(user.name, user.age, user.gender, user.occupation)"
   ]
  },
  {
   "cell_type": "markdown",
   "id": "30a28877",
   "metadata": {
    "id": "IEPGt9ZxjclY"
   },
   "source": [
    "Như vậy các thuộc tính của class `User` có thể thay đổi theo giá trị của đối số được truyền vào hàm tạo. Ngoài ra chúng ta còn có những thuộc tính **không thay đổi** của class. Những thuộc tính bất biến này có thể được khởi tạo bên ngoài hàm tạo."
   ]
  },
  {
   "cell_type": "code",
   "execution_count": 4,
   "id": "e1a1914f",
   "metadata": {
    "colab": {
     "base_uri": "https://localhost:8080/"
    },
    "executionInfo": {
     "elapsed": 1095,
     "status": "ok",
     "timestamp": 1621527361880,
     "user": {
      "displayName": "khanhblog AI",
      "photoUrl": "https://lh3.googleusercontent.com/a-/AOh14GhNCi9Qnch9sWXSuvX4N5yijAGEjX1IvfmN-95m=s64",
      "userId": "06481533334230032014"
     },
     "user_tz": -420
    },
    "id": "jw6o2ZhSjzTX",
    "outputId": "f61998eb-f493-4769-9bb5-d31a9dfc6861"
   },
   "outputs": [
    {
     "name": "stdout",
     "output_type": "stream",
     "text": [
      "VietNam Pham Dinh Khanh 27 male AI Engineer\n"
     ]
    }
   ],
   "source": [
    "class User:\n",
    "  nation = 'VietNam'\n",
    "  def __init__(self, name, age, gender, occupation):\n",
    "    self.name = name\n",
    "    self.age = age\n",
    "    self.gender = gender\n",
    "    self.occupation = occupation\n",
    "\n",
    "user = User(name='Pham Dinh Khanh', age=27, gender='male', occupation='AI Engineer')\n",
    "print(user.nation, user.name, user.age, user.gender, user.occupation)"
   ]
  },
  {
   "cell_type": "markdown",
   "id": "8042b830",
   "metadata": {
    "id": "tWytrCgjkAa3"
   },
   "source": [
    "Như vậy ta thấy thuộc tính nation đã được gán giá trị mặc định là 'VietNam' và chúng ta không thể thay đổi được chúng thông qua hàm tạo.\n",
    "\n",
    "Như vậy bạn đã biết cách tạo một class trong python rồi phải không. Hãy làm bài tập sau đây để củng cố kiến thức.\n",
    "\n",
    "**Bài tập**: Hãy khởi tạo một class là User với các thuộc tính trong hàm tạo là `user, password, totalAmount, totalClick` và thuộc tính bất biến là `customerType=B2C`."
   ]
  },
  {
   "cell_type": "markdown",
   "id": "98093135",
   "metadata": {
    "id": "VCpsoQvilPg8"
   },
   "source": [
    "### 5.1.2. Khởi tạo một object\n",
    "\n",
    "Chúng ta xem class như là một bản thiết kế thì object chính là thể hiện của class ở thực tại. Cụ thể hơn, chúng ta đã có class User, nhưng muốn dùng được class đó thì phải khởi tạo chúng và gán chúng vào một biến. Khi đó các thuộc tính và phương thức của nó mới được lưu xuống bộ nhớ để có thể làm việc được. `user1, user2` Bên dưới chính là các object của class User."
   ]
  },
  {
   "cell_type": "code",
   "execution_count": 5,
   "id": "5d49fa8c",
   "metadata": {
    "executionInfo": {
     "elapsed": 767,
     "status": "ok",
     "timestamp": 1621527960746,
     "user": {
      "displayName": "khanhblog AI",
      "photoUrl": "https://lh3.googleusercontent.com/a-/AOh14GhNCi9Qnch9sWXSuvX4N5yijAGEjX1IvfmN-95m=s64",
      "userId": "06481533334230032014"
     },
     "user_tz": -420
    },
    "id": "8Kpn8yoFl_oh"
   },
   "outputs": [],
   "source": [
    "user1 = User(name='Pham Dinh Khanh', age=27, gender='male', occupation='AI Engineer')\n",
    "user2 = User(name='Pham Dinh Khanh', age=27, gender='male', occupation='AI Engineer')"
   ]
  },
  {
   "cell_type": "markdown",
   "id": "684f3dd2",
   "metadata": {
    "id": "FKMQEO2CmrG2"
   },
   "source": [
    "Mặc dù `user1, user2` cùng là object của class User và có cùng một cách khởi tạo nhưng chúng được lưu trữ ở hai ô nhớ khác nhau và chúng là hai thực thể khác biệt nhau."
   ]
  },
  {
   "cell_type": "code",
   "execution_count": 6,
   "id": "bbb676db",
   "metadata": {
    "colab": {
     "base_uri": "https://localhost:8080/"
    },
    "executionInfo": {
     "elapsed": 894,
     "status": "ok",
     "timestamp": 1621528176429,
     "user": {
      "displayName": "khanhblog AI",
      "photoUrl": "https://lh3.googleusercontent.com/a-/AOh14GhNCi9Qnch9sWXSuvX4N5yijAGEjX1IvfmN-95m=s64",
      "userId": "06481533334230032014"
     },
     "user_tz": -420
    },
    "id": "cPOW-NBimT9V",
    "outputId": "4b9b59c1-cb21-4ad3-ee83-be7d78091266"
   },
   "outputs": [
    {
     "data": {
      "text/plain": [
       "False"
      ]
     },
     "execution_count": 6,
     "metadata": {},
     "output_type": "execute_result"
    }
   ],
   "source": [
    "user1 == user2"
   ]
  },
  {
   "cell_type": "markdown",
   "id": "0cfe0113",
   "metadata": {
    "id": "wOQTrSOVmSXA"
   },
   "source": [
    "### 5.1.3. Phương thức (method)\n",
    "\n",
    "Ở trên chúng ta đã biết về cách khởi tạo một object thông qua hàm tạo. Nhưng object đó mới chỉ gồm các thuộc tính mà chưa có phương thức. Phương thức là những chức năng của đối tượng. Ví dụ như User có các chức năng `buy, search, purchase, click, addToCart`. Trong class thì phương thức là những hàm được định nghĩa bên ngoài với hàm tạo."
   ]
  },
  {
   "cell_type": "code",
   "execution_count": 7,
   "id": "054fe491",
   "metadata": {
    "colab": {
     "base_uri": "https://localhost:8080/"
    },
    "executionInfo": {
     "elapsed": 1028,
     "status": "ok",
     "timestamp": 1621528839270,
     "user": {
      "displayName": "khanhblog AI",
      "photoUrl": "https://lh3.googleusercontent.com/a-/AOh14GhNCi9Qnch9sWXSuvX4N5yijAGEjX1IvfmN-95m=s64",
      "userId": "06481533334230032014"
     },
     "user_tz": -420
    },
    "id": "VR3N0gTcopYL",
    "outputId": "d4542253-c736-4da6-a7a5-0dec7aa12e48"
   },
   "outputs": [
    {
     "name": "stdout",
     "output_type": "stream",
     "text": [
      "VietNam Pham Dinh Khanh 27 male AI Engineer\n"
     ]
    }
   ],
   "source": [
    "class User:\n",
    "  nation = 'VietNam'\n",
    "  def __init__(self, name, age, gender, occupation):\n",
    "    self.name = name\n",
    "    self.age = age\n",
    "    self.gender = gender\n",
    "    self.occupation = occupation\n",
    "\n",
    "  # Các hàm buy, search là những hàm phương thức.\n",
    "  def buy(self, item):\n",
    "    print('you bought {}'.format(item))\n",
    "  \n",
    "  def search(self, term):\n",
    "    print('you search: {}'.format(term))\n",
    "\n",
    "user = User(name='Pham Dinh Khanh', age=27, gender='male', occupation='AI Engineer')\n",
    "print(user.nation, user.name, user.age, user.gender, user.occupation)"
   ]
  },
  {
   "cell_type": "markdown",
   "id": "8631c8f1",
   "metadata": {
    "id": "DqN33ftJpBMP"
   },
   "source": [
    "Trong ví dụ trên thì các hàm `buy, search` là những hàm phương thức. Những hàm này phải có đối số đầu tiên là `self` để khi khởi tạo object chúng ta có thể truy cập được hàm. Để truy cập vào một hàm phương thức thì chúng ta có thể dùng `object.function_name()`."
   ]
  },
  {
   "cell_type": "code",
   "execution_count": 8,
   "id": "0072c237",
   "metadata": {
    "colab": {
     "base_uri": "https://localhost:8080/"
    },
    "executionInfo": {
     "elapsed": 776,
     "status": "ok",
     "timestamp": 1621528841320,
     "user": {
      "displayName": "khanhblog AI",
      "photoUrl": "https://lh3.googleusercontent.com/a-/AOh14GhNCi9Qnch9sWXSuvX4N5yijAGEjX1IvfmN-95m=s64",
      "userId": "06481533334230032014"
     },
     "user_tz": -420
    },
    "id": "bZEDueC6pUDD",
    "outputId": "14522427-947b-493d-988e-697f46638f09"
   },
   "outputs": [
    {
     "name": "stdout",
     "output_type": "stream",
     "text": [
      "you bought a Book\n",
      "you search: AI Book\n"
     ]
    }
   ],
   "source": [
    "user.buy('a Book')\n",
    "user.search('AI Book')"
   ]
  },
  {
   "cell_type": "markdown",
   "id": "d466f050",
   "metadata": {
    "id": "ctdrKq73pp8b"
   },
   "source": [
    "Như chúng ta thấy các phương thức đã được thực thi.\n",
    "\n",
    "**Bài tập:** Thử khởi tạo các hàm phương thức `buy` và `search` mà không có đối số `self` và truy cập chúng. Hãy nhận xét về kết quả nhận được."
   ]
  },
  {
   "cell_type": "markdown",
   "id": "e30a7d12",
   "metadata": {
    "id": "iKs-5ThSVStJ"
   },
   "source": [
    "# 5.2. Tính kế thừa\n",
    "\n",
    "Trong di truyền học thì con cái thường kế thừa những đặc điểm của cha mẹ như diện mạo, dọng nói, tính cách,.... Trong lập trình những class con cũng có thể kế thừa lại các thuộc tính và phương thức của các class cha mẹ của chúng.\n",
    "\n",
    "Để kế thừa lại một class thì chúng ta để lại tên class cha trong dấu `()` của dòng lệnh class ở vị trí đầu tiên."
   ]
  },
  {
   "cell_type": "code",
   "execution_count": 9,
   "id": "733bd3dd",
   "metadata": {
    "colab": {
     "base_uri": "https://localhost:8080/"
    },
    "executionInfo": {
     "elapsed": 979,
     "status": "ok",
     "timestamp": 1621529640417,
     "user": {
      "displayName": "khanhblog AI",
      "photoUrl": "https://lh3.googleusercontent.com/a-/AOh14GhNCi9Qnch9sWXSuvX4N5yijAGEjX1IvfmN-95m=s64",
      "userId": "06481533334230032014"
     },
     "user_tz": -420
    },
    "id": "zefMFDZbsBWV",
    "outputId": "a61d170d-cca5-4ff7-ff38-8fb905a0786a"
   },
   "outputs": [
    {
     "name": "stdout",
     "output_type": "stream",
     "text": [
      "VietNam Pham Dinh Khanh 27 male AI Engineer\n",
      "you bought a Book\n",
      "you search: AI Book\n"
     ]
    }
   ],
   "source": [
    "# SpecialUser kế thừa lại User bằng cách để User trong dấu ()\n",
    "class SpecialUser(User):\n",
    "  pass\n",
    "\n",
    "user = SpecialUser(name='Pham Dinh Khanh', age=27, gender='male', occupation='AI Engineer')\n",
    "print(user.nation, user.name, user.age, user.gender, user.occupation)\n",
    "user.buy('a Book')\n",
    "user.search('AI Book')"
   ]
  },
  {
   "cell_type": "markdown",
   "id": "1a147c96",
   "metadata": {
    "id": "UE5CJZh8sO_k"
   },
   "source": [
    "Như chúng ta có thể thấy, mặc dù không qui định bất kỳ phương thức và thuộc tính nào nhưng SpecialUser đã sở hữu hoàn toàn hàm tạo, các phương thức và thuộc tính của class User.\n",
    "\n",
    "Để kiểm tra xem một object có phải được kế thừa từ một class khác không thì chúng ta dùng câu lệnh `isinstance(object, Class)`."
   ]
  },
  {
   "cell_type": "code",
   "execution_count": 10,
   "id": "6cf67de9",
   "metadata": {
    "colab": {
     "base_uri": "https://localhost:8080/"
    },
    "executionInfo": {
     "elapsed": 1785,
     "status": "ok",
     "timestamp": 1621529765890,
     "user": {
      "displayName": "khanhblog AI",
      "photoUrl": "https://lh3.googleusercontent.com/a-/AOh14GhNCi9Qnch9sWXSuvX4N5yijAGEjX1IvfmN-95m=s64",
      "userId": "06481533334230032014"
     },
     "user_tz": -420
    },
    "id": "E73rx1gMsvpA",
    "outputId": "f1df158b-8918-4b48-a20f-cf31e9958ee1"
   },
   "outputs": [
    {
     "name": "stdout",
     "output_type": "stream",
     "text": [
      "<class '__main__.SpecialUser'>\n"
     ]
    },
    {
     "data": {
      "text/plain": [
       "True"
      ]
     },
     "execution_count": 10,
     "metadata": {},
     "output_type": "execute_result"
    }
   ],
   "source": [
    "print(type(user))\n",
    "isinstance(user, User)"
   ]
  },
  {
   "cell_type": "markdown",
   "id": "9a8aba82",
   "metadata": {
    "id": "mDH7DUOVtLJv"
   },
   "source": [
    "Ta thấy mặc dù type của object user là class `SpecialUser` nhưng do được kế thừa lại từ class `User` nên object user vẫn là một thể hiện (_instance_) của User."
   ]
  },
  {
   "cell_type": "markdown",
   "id": "36436acf",
   "metadata": {
    "id": "jye_OiseuSyW"
   },
   "source": [
    "## 5.2.1 Override & Extend\n",
    "\n",
    "Bên cạnh việc kế thừa thì con cái vẫn có những đặc trưng riêng khác với cha mẹ. Những đặc trưng riêng này có thể được mở rộng (_extend_) dưới dạng những phương thức và thuộc tính mới hoặc viết đè (_override_) lên những phương thức và thuộc tính đã có sẵn từ cha mẹ. Cần phân biệt hai khái niệm mở rộng và viết đè. Mở rộng có nghĩa rằng phương thức và thuộc tính đó chưa từng có ở cha mẹ. Ví dụ cha mẹ chưa từng đi du học nhưng con cái đi du học. Do đó ta phải tạo ra các phương thức và thuộc tính mới cho class con. Trong khi viết đè là việc ta sửa lại những phương thức và thuộc tính mà ở con cái khác với cha mẹ. Ví dụ như con cái cao mà cha mẹ lại thấp."
   ]
  },
  {
   "cell_type": "markdown",
   "id": "a85ad0e3",
   "metadata": {
    "id": "fHLD_kFAvuDX"
   },
   "source": [
    "## 5.2.2. Ví dụ về Extend\n",
    "\n",
    "Cũng trên class SpecialUser, chúng ta mở rộng thêm một chức năng nữa mà chỉ class SpecialUser mới có là `getVoucher()`."
   ]
  },
  {
   "cell_type": "code",
   "execution_count": 11,
   "id": "33126255",
   "metadata": {
    "colab": {
     "base_uri": "https://localhost:8080/"
    },
    "executionInfo": {
     "elapsed": 1149,
     "status": "ok",
     "timestamp": 1621530982899,
     "user": {
      "displayName": "khanhblog AI",
      "photoUrl": "https://lh3.googleusercontent.com/a-/AOh14GhNCi9Qnch9sWXSuvX4N5yijAGEjX1IvfmN-95m=s64",
      "userId": "06481533334230032014"
     },
     "user_tz": -420
    },
    "id": "q9RiqUy9vqGj",
    "outputId": "1e2eaaa0-cfc8-4a19-d35d-d0fcf0d74cb6"
   },
   "outputs": [
    {
     "name": "stdout",
     "output_type": "stream",
     "text": [
      "You get a voucher valuing 100$\n"
     ]
    }
   ],
   "source": [
    "class SpecialUser(User):\n",
    "  def getVoucher(self, value):\n",
    "    print(\"You get a voucher valuing {}\".format(value))\n",
    "\n",
    "user = SpecialUser(name='Pham Dinh Khanh', age=27, gender='male', occupation='AI Engineer')\n",
    "user.getVoucher('100$')"
   ]
  },
  {
   "cell_type": "markdown",
   "id": "87196b3f",
   "metadata": {
    "id": "9oXr0CvNvomR"
   },
   "source": [
    "Hàm `getVoucher()` là một hàm mở rộng mà chỉ `SpecialUser` mới có. Hàm này không xuất hiện tại `User`."
   ]
  },
  {
   "cell_type": "markdown",
   "id": "b3845c8f",
   "metadata": {
    "id": "zZOuYwBCtxAL"
   },
   "source": [
    "## 5.2.3. Ví dụ về Override\n",
    "\n",
    "Tiếp theo chúng ta sửa lại phương thức `buy()` sao cho phương thức này có thêm một đối số nữa là amount."
   ]
  },
  {
   "cell_type": "code",
   "execution_count": 12,
   "id": "58edba33",
   "metadata": {
    "colab": {
     "base_uri": "https://localhost:8080/"
    },
    "executionInfo": {
     "elapsed": 939,
     "status": "ok",
     "timestamp": 1621530999076,
     "user": {
      "displayName": "khanhblog AI",
      "photoUrl": "https://lh3.googleusercontent.com/a-/AOh14GhNCi9Qnch9sWXSuvX4N5yijAGEjX1IvfmN-95m=s64",
      "userId": "06481533334230032014"
     },
     "user_tz": -420
    },
    "id": "Gzgf7r_VxNCb",
    "outputId": "5fe807d0-c518-46b6-865f-53ed658dde90"
   },
   "outputs": [
    {
     "name": "stdout",
     "output_type": "stream",
     "text": [
      "you bought a book with the amount of 100$\n"
     ]
    }
   ],
   "source": [
    "class SpecialUser(User):\n",
    "  def buy(self, item, amount):\n",
    "    print('you bought {} with the amount of {}'.format(item, amount))\n",
    "\n",
    "user = SpecialUser(name='Pham Dinh Khanh', age=27, gender='male', occupation='AI Engineer')\n",
    "user.buy('a book', '100$')"
   ]
  },
  {
   "cell_type": "markdown",
   "id": "f2845590",
   "metadata": {
    "id": "iFrZ74lDyBe6"
   },
   "source": [
    "# 5.3. Module và package\n",
    "\n",
    "**Module, package là gì và tại sao cần module, package?**\n",
    "\n",
    "Module hiểu ngắn gọn là một file python mà trong đó chứa các khai báo và định nghĩa về hàm số và biến. Các chương trình python sẽ được thiết kế sao cho nội dung được chia nhỏ về các files module để dễ dàng quản lý. Chúng ta có thể dễ dàng import lại các khai báo và định nghĩa từ module này sang module khác.\n",
    "\n",
    "Đối với những chương trình mà thường xuyên được sử dụng lặp lại ở những chương trình khác thì chúng ta sẽ tìm cách đóng gói chúng thành những packages. Như vậy khi tái sử dụng chúng, chúng ta chỉ việc gọi lại từ thư viện của interpreter mà không cần viết lại code. Một package sẽ có thiết kế bao gồm nhiều files module.\n",
    "\n",
    "**Ví dụ về module, package và cách import chúng**\n",
    "\n",
    "Ví dụ trong câu lệnh import matplotlib bên dưới."
   ]
  },
  {
   "cell_type": "code",
   "execution_count": 13,
   "id": "b20833a5",
   "metadata": {},
   "outputs": [],
   "source": [
    "import matplotlib.pyplot as plt"
   ]
  },
  {
   "cell_type": "markdown",
   "id": "6841ade8",
   "metadata": {},
   "source": [
    "Thì `matplotlib` chính là package vì nó là thư mục bên ngoài cùng và chứa các module bên trong. `pyplot` chính là một module của `matplotlib`. Trong câu lệnh trên thì chúng ta đã import module `pyplot` dưới một tên định danh là `plt`. Tên này sẽ được sử dụng thay cho pyplot trong toàn bộ file code.\n",
    "\n",
    "Ngoài ra chúng ta cũng có thể import một module trong thư viện bằng câu lệnh `from package import module` như bên dưới."
   ]
  },
  {
   "cell_type": "code",
   "execution_count": 14,
   "id": "18171ccf",
   "metadata": {},
   "outputs": [],
   "source": [
    "from matplotlib import pyplot as plt"
   ]
  },
  {
   "cell_type": "markdown",
   "id": "1ee36dca",
   "metadata": {},
   "source": [
    "**Ví dụ về module và package**\n",
    "\n",
    "Giả sử chúng ta cần thiết kế một hệ thống thương mại điện tử đơn giản mà ở đó có các classes như `User, Item và Order`. Khi đó bạn tạo một package `ecommerce` được chứa trong thư mục cùng tên là `ecommerce`. Các module được lưu trữ bên trong package lần lượt gồm `user.py, item.py, order.py` có nội dung như sau:"
   ]
  },
  {
   "cell_type": "code",
   "execution_count": 15,
   "id": "33a0cadf",
   "metadata": {},
   "outputs": [],
   "source": [
    "# file user.py\n",
    "class User:\n",
    "  nation = 'VietNam'\n",
    "  def __init__(self, name, age, gender, occupation):\n",
    "    self.name = name\n",
    "    self.age = age\n",
    "    self.gender = gender\n",
    "    self.occupation = occupation\n",
    "\n",
    "  # Các hàm buy, search là những hàm phương thức.\n",
    "  def buy(self, item):\n",
    "    print('you bought {}'.format(item))\n",
    "  \n",
    "  def search(self, term):\n",
    "    print('you search: {}'.format(term))"
   ]
  },
  {
   "cell_type": "code",
   "execution_count": 16,
   "id": "80caa7e4",
   "metadata": {},
   "outputs": [],
   "source": [
    "# file item.py\n",
    "class Item:\n",
    "    def __init__(self, item_id, item_name, item_price):\n",
    "        self.item_id = item_id\n",
    "        self.item_price = item_price\n",
    "        self.item_name = item_name"
   ]
  },
  {
   "cell_type": "markdown",
   "id": "f717f9dc",
   "metadata": {},
   "source": [
    "Tiếp theo trong `order` chúng ta sẽ cần sử dụng nội dung của các classes `User` và `Item` nên cần phải import những module này trong module order như bên dưới."
   ]
  },
  {
   "cell_type": "code",
   "execution_count": 17,
   "id": "d4441063",
   "metadata": {
    "class": "no-execute"
   },
   "outputs": [
    {
     "name": "stdout",
     "output_type": "stream",
     "text": [
      "skipping\n"
     ]
    }
   ],
   "source": [
    "%%script echo skipping\n",
    "\n",
    "# file order.py\n",
    "from user import User\n",
    "from item import Item\n",
    "\n",
    "class Order:\n",
    "    def __init__(self, user, item, item_quant):\n",
    "        self.user = user\n",
    "        self.item = item\n",
    "        self.item_quant = item_quant\n",
    "    \n",
    "    def cost(self):\n",
    "        value = self.item_quant*self.item.item_price\n",
    "        return value\n",
    "    \n",
    "if __name__ == '__main__':\n",
    "    user = User(name='Pham Dinh Khanh', age=27, gender='male', occupation='AI Engineer')\n",
    "    item = Item(item_id='123', item_name='keo vuốt tóc', item_price=50.000)\n",
    "    order = Order(user=user, item=item, item_quant=2)\n",
    "    total_cost = order.cost()\n",
    "    print(total_cost)"
   ]
  },
  {
   "cell_type": "markdown",
   "id": "89ce599c",
   "metadata": {},
   "source": [
    "Trên đây là một ví dụ đơn giản về cách tổ chức và thiết kế một package gồm các modules bên trong nó. Đây là một nội dung quan trọng bởi vì trong những dự án lớn thì chúng ta sẽ thường xuyên phải thiết kế chương trình thành các modules và packages để giúp cho code trở nên ngắn gọn và dễ quản lý hơn.\n",
    "\n",
    "# 5.4. Tổng kết\n",
    "\n",
    "Như vậy qua bài viết này bạn đã được làm quen với lập trình hướng đối tượng trong python. Đây là một hình mẫu thiết kế được áp dụng trên nhiều ngôn ngữ lập trình hiện đại như `Java, C++, C#` nên những gì bạn học được sẽ trang bị cho bạn tư tưởng về OOP khi bạn học bất kỳ ngôn ngữ lập trình nào khác.\n",
    "\n",
    "Tóm tắt lại, bài này mình đã giới thiệu tới các bạn:\n",
    "\n",
    "1. Lập trình hướng đối tượng là gì?\n",
    "2. Cách khởi tạo một class trong python.\n",
    "3. Xác định phương thức và thuộc tính trong class của python.\n",
    "4. Khởi tạo một object từ class.\n",
    "5. Tính kế thừa trong python và các ví dụ về override, extend.\n",
    "6. Các khái niệm cơ bản và ví dụ về module và package."
   ]
  },
  {
   "cell_type": "markdown",
   "id": "c1805c44",
   "metadata": {
    "id": "XMqXOsjiVXR9"
   },
   "source": [
    "# 5.5. Bài tập\n",
    "\n",
    "1. Hãy xây dựng một class AI với hai thuộc tính là algorithm (tên thuật toán) và model_type (dạng thuật toán dự báo hay phân loại).\n",
    "\n",
    "2. Viết thêm hai phương thức cho class AI là `fit` (huấn luyện) với đầu vào là các tham số `model, X_train, y_train` và `predict` (dự báo) với đầu vào là các tham số `model, X_pred`. (Không cần phải lấy dữ liệu thật, chỉ cần print ra các đối số bên trong mỗi hàm).\n",
    "\n",
    "3. Gọi các hàm phương thức vừa thêm mới.\n",
    "\n",
    "4. Xây dựng một class DeepLearning kế thừa từ AI. Trong class này có một hàm mở rộng là `train_on_epoch` (huấn luyện trên từng epoch) với đầu vào là `model, X_train, y_train, epoch` và hàm viết đè là `fit` có thêm tham số `learning_rate`."
   ]
  },
  {
   "cell_type": "markdown",
   "id": "15518e14",
   "metadata": {
    "id": "H0Od0MpO1_qn"
   },
   "source": [
    "# 5.6. Tài liệu \n",
    "\n",
    "1. [Intro to Object-Oriented Programming (OOP) in Python\n",
    "](https://realpython.com/python3-object-oriented-programming/)\n",
    "2. [Python - Object Oriented - tutorialspoint\n",
    "](https://www.tutorialspoint.com/python/python_classes_objects.htm)\n",
    "3. [Python class and object - w3school](https://www.w3schools.com/python/python_classes.asp)\n",
    "4. [Python3 Object Oriented Programming - Dusty Phillip](https://www.amazon.com/Python-3-Object-Oriented-Programming/dp/1849511268)"
   ]
  }
 ],
 "metadata": {
  "jupytext": {
   "text_representation": {
    "extension": ".md",
    "format_name": "myst",
    "format_version": 0.12,
    "jupytext_version": "1.8.2"
   }
  },
  "kernelspec": {
   "display_name": "Python 3",
   "name": "python3"
  },
  "language_info": {
   "codemirror_mode": {
    "name": "ipython",
    "version": 3
   },
   "file_extension": ".py",
   "mimetype": "text/x-python",
   "name": "python",
   "nbconvert_exporter": "python",
   "pygments_lexer": "ipython3",
   "version": "3.9.7"
  },
  "source_map": [
   11,
   22,
   27,
   51,
   55,
   65,
   86,
   99,
   119,
   123,
   151,
   159,
   165,
   182,
   186,
   205,
   211,
   246,
   250,
   270,
   276,
   284,
   310,
   316,
   336,
   340,
   346,
   352,
   376,
   380,
   386,
   410,
   424,
   426,
   432,
   434,
   440,
   457,
   464,
   468,
   492,
   509,
   521
  ]
 },
 "nbformat": 4,
 "nbformat_minor": 5
}