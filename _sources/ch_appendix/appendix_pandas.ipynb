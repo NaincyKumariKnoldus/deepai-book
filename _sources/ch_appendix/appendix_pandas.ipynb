{
 "cells": [
  {
   "cell_type": "markdown",
   "id": "d2980476",
   "metadata": {},
   "source": [
    "# 2.1. Khởi tạo dataframe\n",
    "\n",
    "Đây là cách thường ít được áp dụng vì khi làm việc chúng ta thường đọc dữ liệu từ những file dữ liệu có sẵn được lưu dưới dạng `csv` hoặc `txt`. Nhưng đôi khi chúng ta cũng cần khởi tạo dataframe từ đầu chẳng hạn như bạn muốn lưu kết quả log file của chương trình vào một dataframe và save dưới dạng `csv` sau đó. Việc lưu trữ dưới dạng dataframe sẽ giúp cho bạn dễ dàng thực hiện các phép lọc, thống kê và visualize trực tiếp từ dataframe một cách dễ dàng hơn. \n",
    "\n",
    "Đưới đây mình sẽ giới thiệu hai cách khởi tạo dataframe chính trực tiếp từ câu lệnh `pd.DataFrame(.)`."
   ]
  },
  {
   "cell_type": "markdown",
   "id": "702ab38b",
   "metadata": {
    "id": "XUX-h_E5trFF"
   },
   "source": [
    "## 2.1.1. Khởi tạo thông qua dictionary\n",
    "\n",
    "Về định dạng dictionary chúng ta đã được học ở [chương phụ lục - dictionary](https://phamdinhkhanh.github.io/deepai-book/ch_appendix/appendix_dtypes_basic.html#dictionary). Nội dung của dictionary sẽ gồm key là tên cột và value là list giá trị của cột tương ứng."
   ]
  },
  {
   "cell_type": "code",
   "execution_count": 1,
   "id": "7bb2fa74",
   "metadata": {
    "colab": {
     "base_uri": "https://localhost:8080/",
     "height": 173
    },
    "id": "ki4Ajy-qig-y",
    "outputId": "3040df50-8988-445d-cf9c-be36d4aa86d7"
   },
   "outputs": [
    {
     "data": {
      "text/html": [
       "<div>\n",
       "<style scoped>\n",
       "    .dataframe tbody tr th:only-of-type {\n",
       "        vertical-align: middle;\n",
       "    }\n",
       "\n",
       "    .dataframe tbody tr th {\n",
       "        vertical-align: top;\n",
       "    }\n",
       "\n",
       "    .dataframe thead th {\n",
       "        text-align: right;\n",
       "    }\n",
       "</style>\n",
       "<table border=\"1\" class=\"dataframe\">\n",
       "  <thead>\n",
       "    <tr style=\"text-align: right;\">\n",
       "      <th></th>\n",
       "      <th>contents</th>\n",
       "      <th>infos</th>\n",
       "      <th>numbers</th>\n",
       "    </tr>\n",
       "  </thead>\n",
       "  <tbody>\n",
       "    <tr>\n",
       "      <th>0</th>\n",
       "      <td>Author</td>\n",
       "      <td>Pham Dinh Khanh</td>\n",
       "      <td>1993</td>\n",
       "    </tr>\n",
       "    <tr>\n",
       "      <th>1</th>\n",
       "      <td>Book</td>\n",
       "      <td>ML algorithms to Practice</td>\n",
       "      <td>2021</td>\n",
       "    </tr>\n",
       "    <tr>\n",
       "      <th>2</th>\n",
       "      <td>Target</td>\n",
       "      <td>Vi mot cong dong AI vung manh hon</td>\n",
       "      <td>1</td>\n",
       "    </tr>\n",
       "    <tr>\n",
       "      <th>3</th>\n",
       "      <td>No_Donation</td>\n",
       "      <td>Community</td>\n",
       "      <td>2</td>\n",
       "    </tr>\n",
       "  </tbody>\n",
       "</table>\n",
       "</div>"
      ],
      "text/plain": [
       "      contents                              infos  numbers\n",
       "0       Author                    Pham Dinh Khanh     1993\n",
       "1         Book          ML algorithms to Practice     2021\n",
       "2       Target  Vi mot cong dong AI vung manh hon        1\n",
       "3  No_Donation                          Community        2"
      ]
     },
     "metadata": {},
     "output_type": "display_data"
    }
   ],
   "source": [
    "import pandas as pd\n",
    "from IPython.display import display\n",
    "pd.set_option('max_colwidth', 40)\n",
    "pd.set_option('precision', 5)\n",
    "pd.set_option('max_rows', 10)\n",
    "pd.set_option('max_columns', 30)\n",
    "\n",
    "\n",
    "dict_columns = {\n",
    "    'contents':['Author', 'Book', 'Target', 'No_Donation'],\n",
    "    'infos':['Pham Dinh Khanh', 'ML algorithms to Practice', 'Vi mot cong dong AI vung manh hon', 'Community'],\n",
    "    'numbers':[1993, 2021, 1, 2]\n",
    "}\n",
    "\n",
    "df = pd.DataFrame(dict_columns)\n",
    "display(df)"
   ]
  },
  {
   "cell_type": "markdown",
   "id": "6dba6982",
   "metadata": {
    "id": "3mZfjB3FmHjn"
   },
   "source": [
    "Hàm display của `IPython` giúp cho DataFrame hiển thị được trên code khi run dưới dạng script file. các options của `pd.set_option()` lần lượt có tác dụng:\n",
    "\n",
    "* `max_colwidth`: Qui định chiều rộng tối đa của một cột.\n",
    "* `precision`: Độ chính xác của các sau dấu phảy của các cột định dạng float.\n",
    "* `max_columns`, `max_rows`: Lần lượt là độ số lượng cột và số lượng dòng tối đa được hiển thị.\n",
    "\n",
    "Tiếp theo chúng ta sẽ khởi tạo thông qua list các dòng.\n",
    "\n",
    "## 2.1.2. Khởi tạo thông qua list các dòng\n",
    "\n",
    "Theo cách này chúng ta sẽ truyền vào data là một list gồm các tupple mà mỗi tupple là một dòng dữ liệu. đối số `columns` sẽ qui định tên cột theo đúng thứ tự được qui định ở mỗi dòng."
   ]
  },
  {
   "cell_type": "code",
   "execution_count": 2,
   "id": "e785e845",
   "metadata": {
    "colab": {
     "base_uri": "https://localhost:8080/",
     "height": 173
    },
    "deletable": true,
    "editable": true,
    "id": "idzxlT3BSzJe",
    "outputId": "7d4c511a-c142-4bb1-9f3e-62fc6405d5ac"
   },
   "outputs": [
    {
     "data": {
      "text/html": [
       "<div>\n",
       "<style scoped>\n",
       "    .dataframe tbody tr th:only-of-type {\n",
       "        vertical-align: middle;\n",
       "    }\n",
       "\n",
       "    .dataframe tbody tr th {\n",
       "        vertical-align: top;\n",
       "    }\n",
       "\n",
       "    .dataframe thead th {\n",
       "        text-align: right;\n",
       "    }\n",
       "</style>\n",
       "<table border=\"1\" class=\"dataframe\">\n",
       "  <thead>\n",
       "    <tr style=\"text-align: right;\">\n",
       "      <th></th>\n",
       "      <th>contents</th>\n",
       "      <th>infos</th>\n",
       "      <th>numbers</th>\n",
       "    </tr>\n",
       "  </thead>\n",
       "  <tbody>\n",
       "    <tr>\n",
       "      <th>0</th>\n",
       "      <td>Author</td>\n",
       "      <td>Pham Dinh Khanh</td>\n",
       "      <td>1993</td>\n",
       "    </tr>\n",
       "    <tr>\n",
       "      <th>1</th>\n",
       "      <td>Book</td>\n",
       "      <td>ML algorithms to Practice</td>\n",
       "      <td>2021</td>\n",
       "    </tr>\n",
       "    <tr>\n",
       "      <th>2</th>\n",
       "      <td>Target</td>\n",
       "      <td>Vi mot cong dong AI vung manh hon</td>\n",
       "      <td>1</td>\n",
       "    </tr>\n",
       "    <tr>\n",
       "      <th>3</th>\n",
       "      <td>No_Donation</td>\n",
       "      <td>Community</td>\n",
       "      <td>2</td>\n",
       "    </tr>\n",
       "  </tbody>\n",
       "</table>\n",
       "</div>"
      ],
      "text/plain": [
       "      contents                              infos  numbers\n",
       "0       Author                    Pham Dinh Khanh     1993\n",
       "1         Book          ML algorithms to Practice     2021\n",
       "2       Target  Vi mot cong dong AI vung manh hon        1\n",
       "3  No_Donation                          Community        2"
      ]
     },
     "execution_count": 2,
     "metadata": {},
     "output_type": "execute_result"
    }
   ],
   "source": [
    "import pandas as pd\n",
    "\n",
    "records = [('Author', 'Pham Dinh Khanh', 1993), \n",
    "           ('Book', 'ML algorithms to Practice', 2021), \n",
    "           ('Target', 'Vi mot cong dong AI vung manh hon', 1), \n",
    "           ('No_Donation', 'Community', 2)]\n",
    "           \n",
    "# Khởi tạo DataFrame\n",
    "df = pd.DataFrame(data = records, columns = ['contents', 'infos', 'numbers'])\n",
    "df"
   ]
  },
  {
   "cell_type": "markdown",
   "id": "0ac69550",
   "metadata": {
    "id": "oKhh-Uwap4aD"
   },
   "source": [
    "Để lưu trữ một dataframe dưới dạng một file `csv` chúng ta dùng hàm `.to_csv(.)` tham số truyền vào là đường link save file. Chẳng hạn bên dưới ta lưu dataframe vào một file \"data.csv\" cùng thư mục với file notebook."
   ]
  },
  {
   "cell_type": "code",
   "execution_count": 3,
   "id": "221acc78",
   "metadata": {
    "id": "4GV9k0OxqFAP"
   },
   "outputs": [],
   "source": [
    "df.to_csv(\"data.csv\")"
   ]
  },
  {
   "cell_type": "markdown",
   "id": "491cb112",
   "metadata": {
    "id": "Tq6hF0D4pcg7"
   },
   "source": [
    "## 2.1.3. Đọc dữ liệu từ file\n",
    "\n",
    "Chúng ta cũng có thể khởi tạo bảng bằng cách đọc file `csv, txt, xls, xlsx, dat` thông qua hàm `pd.read_csv(.)`. Hàm này không chỉ đọc được những file có trên máy tính của bạn mà còn có thể download những file có trên mạng. Bên dưới chúng ta thực hành đọc dữ liệu về giá nhà ở tại Boston từ bộ dữ liệu `BostonHousing`. Bộ dữ liệu này gồm các trường:\n",
    "\n",
    "\n",
    "* crim: Tỷ lệ phạm tội phạm bình quân đầu người theo thị trấn.\n",
    "* zn: Tỷ lệ đất ở được quy hoạch cho các lô trên 25.000 foot square.\n",
    "* indus: Tỷ lệ diện tích thuộc lĩnh vực _kinh doanh phi bán lẻ_ trên mỗi thị trấn.\n",
    "* chas: Biến giả, = 1 nếu được bao bởi sông Charles River, = 0 nếu ngược lại.\n",
    "* nox: Nồng độ khí Ni-tơ oxit.\n",
    "* rm: Trung bình số phòng trên một căn hộ.\n",
    "* age: Tỷ lệ căn hộ được xây dựng trước năm 1940.\n",
    "* dis: Khoảng cách trung bình có trọng số tới 5 trung tâm việc làm lớn nhất ở Boston.\n",
    "* rad: Chỉ số về khả năng tiếp cận đường cao tốc.\n",
    "* tax: Giá trị thuế suất tính trên đơn vị `10000$`.\n",
    "* ptratio: Tỷ lệ học sinh-giáo viên trên mỗi thị trấn.\n",
    "* black: Tỷ lệ số người da đen trong thị trấn được tính theo công thức:\n",
    "$1000(\\text{Bk} - 0.63)^2$ ở đây $\\text{Bk}$ là tỷ lệ người da đen trong thị trấn.\n",
    "* lstat: Tỷ lệ phần trăm dân số thu nhập thấp.\n",
    "* medv: median giá trị của nhà có người sở hữu tính trên đơn vị `1000$`."
   ]
  },
  {
   "cell_type": "code",
   "execution_count": 4,
   "id": "d1167c36",
   "metadata": {
    "colab": {
     "base_uri": "https://localhost:8080/",
     "height": 204
    },
    "id": "l5ZQBcFbcC51",
    "outputId": "855d245c-06dc-43df-ea9a-5c40b1c23847"
   },
   "outputs": [
    {
     "data": {
      "text/html": [
       "<div>\n",
       "<style scoped>\n",
       "    .dataframe tbody tr th:only-of-type {\n",
       "        vertical-align: middle;\n",
       "    }\n",
       "\n",
       "    .dataframe tbody tr th {\n",
       "        vertical-align: top;\n",
       "    }\n",
       "\n",
       "    .dataframe thead th {\n",
       "        text-align: right;\n",
       "    }\n",
       "</style>\n",
       "<table border=\"1\" class=\"dataframe\">\n",
       "  <thead>\n",
       "    <tr style=\"text-align: right;\">\n",
       "      <th></th>\n",
       "      <th>crim</th>\n",
       "      <th>zn</th>\n",
       "      <th>indus</th>\n",
       "      <th>chas</th>\n",
       "      <th>nox</th>\n",
       "      <th>rm</th>\n",
       "      <th>age</th>\n",
       "      <th>dis</th>\n",
       "      <th>rad</th>\n",
       "      <th>tax</th>\n",
       "      <th>ptratio</th>\n",
       "      <th>b</th>\n",
       "      <th>lstat</th>\n",
       "      <th>medv</th>\n",
       "    </tr>\n",
       "  </thead>\n",
       "  <tbody>\n",
       "    <tr>\n",
       "      <th>0</th>\n",
       "      <td>0.00632</td>\n",
       "      <td>18.0</td>\n",
       "      <td>2.31</td>\n",
       "      <td>0</td>\n",
       "      <td>0.538</td>\n",
       "      <td>6.575</td>\n",
       "      <td>65.2</td>\n",
       "      <td>4.0900</td>\n",
       "      <td>1</td>\n",
       "      <td>296</td>\n",
       "      <td>15.3</td>\n",
       "      <td>396.90</td>\n",
       "      <td>4.98</td>\n",
       "      <td>24.0</td>\n",
       "    </tr>\n",
       "    <tr>\n",
       "      <th>1</th>\n",
       "      <td>0.02731</td>\n",
       "      <td>0.0</td>\n",
       "      <td>7.07</td>\n",
       "      <td>0</td>\n",
       "      <td>0.469</td>\n",
       "      <td>6.421</td>\n",
       "      <td>78.9</td>\n",
       "      <td>4.9671</td>\n",
       "      <td>2</td>\n",
       "      <td>242</td>\n",
       "      <td>17.8</td>\n",
       "      <td>396.90</td>\n",
       "      <td>9.14</td>\n",
       "      <td>21.6</td>\n",
       "    </tr>\n",
       "    <tr>\n",
       "      <th>2</th>\n",
       "      <td>0.02729</td>\n",
       "      <td>0.0</td>\n",
       "      <td>7.07</td>\n",
       "      <td>0</td>\n",
       "      <td>0.469</td>\n",
       "      <td>7.185</td>\n",
       "      <td>61.1</td>\n",
       "      <td>4.9671</td>\n",
       "      <td>2</td>\n",
       "      <td>242</td>\n",
       "      <td>17.8</td>\n",
       "      <td>392.83</td>\n",
       "      <td>4.03</td>\n",
       "      <td>34.7</td>\n",
       "    </tr>\n",
       "    <tr>\n",
       "      <th>3</th>\n",
       "      <td>0.03237</td>\n",
       "      <td>0.0</td>\n",
       "      <td>2.18</td>\n",
       "      <td>0</td>\n",
       "      <td>0.458</td>\n",
       "      <td>6.998</td>\n",
       "      <td>45.8</td>\n",
       "      <td>6.0622</td>\n",
       "      <td>3</td>\n",
       "      <td>222</td>\n",
       "      <td>18.7</td>\n",
       "      <td>394.63</td>\n",
       "      <td>2.94</td>\n",
       "      <td>33.4</td>\n",
       "    </tr>\n",
       "    <tr>\n",
       "      <th>4</th>\n",
       "      <td>0.06905</td>\n",
       "      <td>0.0</td>\n",
       "      <td>2.18</td>\n",
       "      <td>0</td>\n",
       "      <td>0.458</td>\n",
       "      <td>7.147</td>\n",
       "      <td>54.2</td>\n",
       "      <td>6.0622</td>\n",
       "      <td>3</td>\n",
       "      <td>222</td>\n",
       "      <td>18.7</td>\n",
       "      <td>396.90</td>\n",
       "      <td>5.33</td>\n",
       "      <td>36.2</td>\n",
       "    </tr>\n",
       "  </tbody>\n",
       "</table>\n",
       "</div>"
      ],
      "text/plain": [
       "      crim    zn  indus  chas    nox     rm   age     dis  rad  tax  ptratio  \\\n",
       "0  0.00632  18.0   2.31     0  0.538  6.575  65.2  4.0900    1  296     15.3   \n",
       "1  0.02731   0.0   7.07     0  0.469  6.421  78.9  4.9671    2  242     17.8   \n",
       "2  0.02729   0.0   7.07     0  0.469  7.185  61.1  4.9671    2  242     17.8   \n",
       "3  0.03237   0.0   2.18     0  0.458  6.998  45.8  6.0622    3  222     18.7   \n",
       "4  0.06905   0.0   2.18     0  0.458  7.147  54.2  6.0622    3  222     18.7   \n",
       "\n",
       "        b  lstat  medv  \n",
       "0  396.90   4.98  24.0  \n",
       "1  396.90   9.14  21.6  \n",
       "2  392.83   4.03  34.7  \n",
       "3  394.63   2.94  33.4  \n",
       "4  396.90   5.33  36.2  "
      ]
     },
     "execution_count": 4,
     "metadata": {},
     "output_type": "execute_result"
    }
   ],
   "source": [
    "import pandas as pd\n",
    "\n",
    "df = pd.read_csv(\"https://raw.githubusercontent.com/phamdinhkhanh/datasets/master/BostonHousing.csv\", sep=\",\", header = 0, index_col = None)\n",
    "df.head()"
   ]
  },
  {
   "cell_type": "markdown",
   "id": "46519da6",
   "metadata": {
    "id": "enkuwJmyqOrE"
   },
   "source": [
    "Trong hàm `pd.read_csv()` chúng ta sẽ khai báo các thông số chính bao gồm :\n",
    "\n",
    "* sep: Là viết tắt của seperator, ký hiệu ngăn cách các trường trong cùng một dòng, thường và mặc định là dấu phảy.\n",
    "* header: Mặc định là indice của dòng được chọn làm column name. Thường là dòng đầu tiên của file. Trường hợp file không có header thì để `header = None`. Khi đó indices cho column name sẽ được mặc định là các số tự nhiên liên tiếp từ 0 cho đến indice column cuối cùng.\n",
    "* index_col: Là indice của column được sử dụng làm giá trị index cho dataframe. cột index phải có giá trị khác nhau để phân biệt giữa các dòng và khi chúng ta để index_col = None thì giá trị index sẽ được đánh mặc định từ 0 cho đến dòng cuối cùng."
   ]
  },
  {
   "cell_type": "markdown",
   "id": "7c5564bb",
   "metadata": {
    "id": "lDNmOXEVkFJ0"
   },
   "source": [
    "Hàm `df.head()` mặc định sẽ hiển thị ra 5 quan sát đầu tiên của dataframe. Chúng ta muốn hiển thị 5 quan sát cuối cùng thì dùng hàm `df.tail()` và 5 quan sát ngẫu nhiên thì dùng hàm `df.sample(5)`."
   ]
  },
  {
   "cell_type": "markdown",
   "id": "c259cbc3",
   "metadata": {
    "id": "MtEf_Mosjd1P"
   },
   "source": [
    "Hàm `df.info()` sẽ cho ta biết định dạng và số lượng quan sát `not-null` của mỗi trường trong dataframe."
   ]
  },
  {
   "cell_type": "code",
   "execution_count": 5,
   "id": "9ff9d714",
   "metadata": {
    "colab": {
     "base_uri": "https://localhost:8080/"
    },
    "id": "1EpBPw5EjoCl",
    "outputId": "50f25d60-191a-438d-dd79-6d7bae213ed0"
   },
   "outputs": [
    {
     "name": "stdout",
     "output_type": "stream",
     "text": [
      "<class 'pandas.core.frame.DataFrame'>\n",
      "RangeIndex: 506 entries, 0 to 505\n",
      "Data columns (total 14 columns):\n",
      " #   Column   Non-Null Count  Dtype  \n",
      "---  ------   --------------  -----  \n",
      " 0   crim     506 non-null    float64\n",
      " 1   zn       506 non-null    float64\n",
      " 2   indus    506 non-null    float64\n",
      " 3   chas     506 non-null    int64  \n",
      " 4   nox      506 non-null    float64\n",
      " 5   rm       506 non-null    float64\n",
      " 6   age      506 non-null    float64\n",
      " 7   dis      506 non-null    float64\n",
      " 8   rad      506 non-null    int64  \n",
      " 9   tax      506 non-null    int64  \n",
      " 10  ptratio  506 non-null    float64\n",
      " 11  b        506 non-null    float64\n",
      " 12  lstat    506 non-null    float64\n",
      " 13  medv     506 non-null    float64\n",
      "dtypes: float64(11), int64(3)\n",
      "memory usage: 55.5 KB\n"
     ]
    }
   ],
   "source": [
    "df.info()"
   ]
  },
  {
   "cell_type": "markdown",
   "id": "5cd058c7",
   "metadata": {
    "id": "99yomrSTkrYX"
   },
   "source": [
    "Hoặc chúng ta có thể dùng hàm `df.dtypes` để kiểm tra định dạng dữ liệu các trường của một bảng."
   ]
  },
  {
   "cell_type": "code",
   "execution_count": 6,
   "id": "b1121084",
   "metadata": {
    "colab": {
     "base_uri": "https://localhost:8080/"
    },
    "deletable": true,
    "editable": true,
    "id": "BuSwc1UDSzJs",
    "outputId": "2f9f3613-ed14-4084-f381-26a6d424fb05"
   },
   "outputs": [
    {
     "data": {
      "text/plain": [
       "crim       float64\n",
       "zn         float64\n",
       "indus      float64\n",
       "chas         int64\n",
       "nox        float64\n",
       "            ...   \n",
       "tax          int64\n",
       "ptratio    float64\n",
       "b          float64\n",
       "lstat      float64\n",
       "medv       float64\n",
       "Length: 14, dtype: object"
      ]
     },
     "execution_count": 6,
     "metadata": {},
     "output_type": "execute_result"
    }
   ],
   "source": [
    "# Check for datatype\n",
    "df.dtypes"
   ]
  },
  {
   "cell_type": "markdown",
   "id": "a8d71fe8",
   "metadata": {
    "id": "h3WBoFA_s_fZ"
   },
   "source": [
    "Nếu muốn kiểm tra chi tiết hơn những thống kê mô tả của dataframe như trung bình, phương sai, min, max, median của một trường dữ liệu chúng ta dùng hàm `df.describe()`"
   ]
  },
  {
   "cell_type": "code",
   "execution_count": 7,
   "id": "5af9b238",
   "metadata": {
    "colab": {
     "base_uri": "https://localhost:8080/",
     "height": 297
    },
    "deletable": true,
    "editable": true,
    "id": "_I58Z6Z5SzJ7",
    "outputId": "0a32cdc0-f68c-4e63-b5f6-87a261e5ffe2"
   },
   "outputs": [
    {
     "data": {
      "text/html": [
       "<div>\n",
       "<style scoped>\n",
       "    .dataframe tbody tr th:only-of-type {\n",
       "        vertical-align: middle;\n",
       "    }\n",
       "\n",
       "    .dataframe tbody tr th {\n",
       "        vertical-align: top;\n",
       "    }\n",
       "\n",
       "    .dataframe thead th {\n",
       "        text-align: right;\n",
       "    }\n",
       "</style>\n",
       "<table border=\"1\" class=\"dataframe\">\n",
       "  <thead>\n",
       "    <tr style=\"text-align: right;\">\n",
       "      <th></th>\n",
       "      <th>crim</th>\n",
       "      <th>zn</th>\n",
       "      <th>indus</th>\n",
       "      <th>chas</th>\n",
       "      <th>nox</th>\n",
       "      <th>rm</th>\n",
       "      <th>age</th>\n",
       "      <th>dis</th>\n",
       "      <th>rad</th>\n",
       "      <th>tax</th>\n",
       "      <th>ptratio</th>\n",
       "      <th>b</th>\n",
       "      <th>lstat</th>\n",
       "      <th>medv</th>\n",
       "    </tr>\n",
       "  </thead>\n",
       "  <tbody>\n",
       "    <tr>\n",
       "      <th>count</th>\n",
       "      <td>506.00000</td>\n",
       "      <td>506.00000</td>\n",
       "      <td>506.00000</td>\n",
       "      <td>506.00000</td>\n",
       "      <td>506.00000</td>\n",
       "      <td>506.00000</td>\n",
       "      <td>506.00000</td>\n",
       "      <td>506.00000</td>\n",
       "      <td>506.00000</td>\n",
       "      <td>506.00000</td>\n",
       "      <td>506.00000</td>\n",
       "      <td>506.00000</td>\n",
       "      <td>506.00000</td>\n",
       "      <td>506.00000</td>\n",
       "    </tr>\n",
       "    <tr>\n",
       "      <th>mean</th>\n",
       "      <td>3.61352</td>\n",
       "      <td>11.36364</td>\n",
       "      <td>11.13678</td>\n",
       "      <td>0.06917</td>\n",
       "      <td>0.55470</td>\n",
       "      <td>6.28463</td>\n",
       "      <td>68.57490</td>\n",
       "      <td>3.79504</td>\n",
       "      <td>9.54941</td>\n",
       "      <td>408.23715</td>\n",
       "      <td>18.45553</td>\n",
       "      <td>356.67403</td>\n",
       "      <td>12.65306</td>\n",
       "      <td>22.53281</td>\n",
       "    </tr>\n",
       "    <tr>\n",
       "      <th>std</th>\n",
       "      <td>8.60155</td>\n",
       "      <td>23.32245</td>\n",
       "      <td>6.86035</td>\n",
       "      <td>0.25399</td>\n",
       "      <td>0.11588</td>\n",
       "      <td>0.70262</td>\n",
       "      <td>28.14886</td>\n",
       "      <td>2.10571</td>\n",
       "      <td>8.70726</td>\n",
       "      <td>168.53712</td>\n",
       "      <td>2.16495</td>\n",
       "      <td>91.29486</td>\n",
       "      <td>7.14106</td>\n",
       "      <td>9.19710</td>\n",
       "    </tr>\n",
       "    <tr>\n",
       "      <th>min</th>\n",
       "      <td>0.00632</td>\n",
       "      <td>0.00000</td>\n",
       "      <td>0.46000</td>\n",
       "      <td>0.00000</td>\n",
       "      <td>0.38500</td>\n",
       "      <td>3.56100</td>\n",
       "      <td>2.90000</td>\n",
       "      <td>1.12960</td>\n",
       "      <td>1.00000</td>\n",
       "      <td>187.00000</td>\n",
       "      <td>12.60000</td>\n",
       "      <td>0.32000</td>\n",
       "      <td>1.73000</td>\n",
       "      <td>5.00000</td>\n",
       "    </tr>\n",
       "    <tr>\n",
       "      <th>25%</th>\n",
       "      <td>0.08204</td>\n",
       "      <td>0.00000</td>\n",
       "      <td>5.19000</td>\n",
       "      <td>0.00000</td>\n",
       "      <td>0.44900</td>\n",
       "      <td>5.88550</td>\n",
       "      <td>45.02500</td>\n",
       "      <td>2.10018</td>\n",
       "      <td>4.00000</td>\n",
       "      <td>279.00000</td>\n",
       "      <td>17.40000</td>\n",
       "      <td>375.37750</td>\n",
       "      <td>6.95000</td>\n",
       "      <td>17.02500</td>\n",
       "    </tr>\n",
       "    <tr>\n",
       "      <th>50%</th>\n",
       "      <td>0.25651</td>\n",
       "      <td>0.00000</td>\n",
       "      <td>9.69000</td>\n",
       "      <td>0.00000</td>\n",
       "      <td>0.53800</td>\n",
       "      <td>6.20850</td>\n",
       "      <td>77.50000</td>\n",
       "      <td>3.20745</td>\n",
       "      <td>5.00000</td>\n",
       "      <td>330.00000</td>\n",
       "      <td>19.05000</td>\n",
       "      <td>391.44000</td>\n",
       "      <td>11.36000</td>\n",
       "      <td>21.20000</td>\n",
       "    </tr>\n",
       "    <tr>\n",
       "      <th>75%</th>\n",
       "      <td>3.67708</td>\n",
       "      <td>12.50000</td>\n",
       "      <td>18.10000</td>\n",
       "      <td>0.00000</td>\n",
       "      <td>0.62400</td>\n",
       "      <td>6.62350</td>\n",
       "      <td>94.07500</td>\n",
       "      <td>5.18843</td>\n",
       "      <td>24.00000</td>\n",
       "      <td>666.00000</td>\n",
       "      <td>20.20000</td>\n",
       "      <td>396.22500</td>\n",
       "      <td>16.95500</td>\n",
       "      <td>25.00000</td>\n",
       "    </tr>\n",
       "    <tr>\n",
       "      <th>max</th>\n",
       "      <td>88.97620</td>\n",
       "      <td>100.00000</td>\n",
       "      <td>27.74000</td>\n",
       "      <td>1.00000</td>\n",
       "      <td>0.87100</td>\n",
       "      <td>8.78000</td>\n",
       "      <td>100.00000</td>\n",
       "      <td>12.12650</td>\n",
       "      <td>24.00000</td>\n",
       "      <td>711.00000</td>\n",
       "      <td>22.00000</td>\n",
       "      <td>396.90000</td>\n",
       "      <td>37.97000</td>\n",
       "      <td>50.00000</td>\n",
       "    </tr>\n",
       "  </tbody>\n",
       "</table>\n",
       "</div>"
      ],
      "text/plain": [
       "            crim         zn      indus       chas        nox         rm  \\\n",
       "count  506.00000  506.00000  506.00000  506.00000  506.00000  506.00000   \n",
       "mean     3.61352   11.36364   11.13678    0.06917    0.55470    6.28463   \n",
       "std      8.60155   23.32245    6.86035    0.25399    0.11588    0.70262   \n",
       "min      0.00632    0.00000    0.46000    0.00000    0.38500    3.56100   \n",
       "25%      0.08204    0.00000    5.19000    0.00000    0.44900    5.88550   \n",
       "50%      0.25651    0.00000    9.69000    0.00000    0.53800    6.20850   \n",
       "75%      3.67708   12.50000   18.10000    0.00000    0.62400    6.62350   \n",
       "max     88.97620  100.00000   27.74000    1.00000    0.87100    8.78000   \n",
       "\n",
       "             age        dis        rad        tax    ptratio          b  \\\n",
       "count  506.00000  506.00000  506.00000  506.00000  506.00000  506.00000   \n",
       "mean    68.57490    3.79504    9.54941  408.23715   18.45553  356.67403   \n",
       "std     28.14886    2.10571    8.70726  168.53712    2.16495   91.29486   \n",
       "min      2.90000    1.12960    1.00000  187.00000   12.60000    0.32000   \n",
       "25%     45.02500    2.10018    4.00000  279.00000   17.40000  375.37750   \n",
       "50%     77.50000    3.20745    5.00000  330.00000   19.05000  391.44000   \n",
       "75%     94.07500    5.18843   24.00000  666.00000   20.20000  396.22500   \n",
       "max    100.00000   12.12650   24.00000  711.00000   22.00000  396.90000   \n",
       "\n",
       "           lstat       medv  \n",
       "count  506.00000  506.00000  \n",
       "mean    12.65306   22.53281  \n",
       "std      7.14106    9.19710  \n",
       "min      1.73000    5.00000  \n",
       "25%      6.95000   17.02500  \n",
       "50%     11.36000   21.20000  \n",
       "75%     16.95500   25.00000  \n",
       "max     37.97000   50.00000  "
      ]
     },
     "execution_count": 7,
     "metadata": {},
     "output_type": "execute_result"
    }
   ],
   "source": [
    "# Thống kê mô tả dữ liệu\n",
    "df.describe()"
   ]
  },
  {
   "cell_type": "markdown",
   "id": "fc956285",
   "metadata": {
    "id": "ETd2i2lpuevj"
   },
   "source": [
    "## 2.1.4. Export to CSV, EXCEL, TXT, JSON\n",
    "\n",
    "Đây là câu lệnh được sử dụng khá phổ biến để lưu trữ các file dữ liệu từ dataframe sang những định dạng khác nhau. Những định dạng này sẽ cho phép chúng ta load lại dữ liệu bằng các hàm `read_csv(), read_xlsx(), read_txt(), read_json()` sau đó."
   ]
  },
  {
   "cell_type": "code",
   "execution_count": 8,
   "id": "48b08a21",
   "metadata": {
    "class": "no-execute",
    "id": "wAySTF-XugIY"
   },
   "outputs": [
    {
     "name": "stdout",
     "output_type": "stream",
     "text": [
      "skipping\n"
     ]
    }
   ],
   "source": [
    "%%script echo skipping\n",
    "\n",
    "# Lưu dữ liệu sang file csv\n",
    "df.to_csv('BostonHousing.csv', index = False)\n",
    "# Lưu file excel\n",
    "df.to_excel('BostonHousing.xls', index = False)\n",
    "# Lưu dữ file json\n",
    "df.to_json('BostonHousing.json') #do not include index = False, index only use for table orient"
   ]
  },
  {
   "cell_type": "markdown",
   "id": "8028b779",
   "metadata": {
    "deletable": true,
    "editable": true,
    "id": "ICRmGEYGSzKZ"
   },
   "source": [
    "# 2.2. Thao tác với dataframe"
   ]
  },
  {
   "cell_type": "markdown",
   "id": "3663d46a",
   "metadata": {
    "id": "fk0tPbXNI6p4"
   },
   "source": [
    "## 2.2.1. Truy cập dataframe\n",
    "\n",
    "Chúng ta có thể truy cập dataframe theo hai cách.\n",
    "\n",
    "**Truy cập theo slice index:** Theo cách này chúng ta chỉ cần truyền vào index của dòng và cột và sử dụng hàm `df.iloc[rows_slice, columns_slice]` để trích xuất ra các dòng và cột tương ứng. Cách lấy slice cho rows và columns hoàn toàn tương tự như truy cập slice index trong [list](https://phamdinhkhanh.github.io/deepai-book/ch_appendix/appendix_dtypes_basic.html#list). \n",
    "\n",
    "_Note:_ `iloc` là viết tắt của indice location, tức là truy cập quan indice."
   ]
  },
  {
   "cell_type": "code",
   "execution_count": 9,
   "id": "f42a45a1",
   "metadata": {
    "colab": {
     "base_uri": "https://localhost:8080/",
     "height": 204
    },
    "id": "VHG7YUzRRfvM",
    "outputId": "635b034c-c6a1-4851-b2b0-e4a1015e8ce0"
   },
   "outputs": [
    {
     "data": {
      "text/html": [
       "<div>\n",
       "<style scoped>\n",
       "    .dataframe tbody tr th:only-of-type {\n",
       "        vertical-align: middle;\n",
       "    }\n",
       "\n",
       "    .dataframe tbody tr th {\n",
       "        vertical-align: top;\n",
       "    }\n",
       "\n",
       "    .dataframe thead th {\n",
       "        text-align: right;\n",
       "    }\n",
       "</style>\n",
       "<table border=\"1\" class=\"dataframe\">\n",
       "  <thead>\n",
       "    <tr style=\"text-align: right;\">\n",
       "      <th></th>\n",
       "      <th>crim</th>\n",
       "      <th>zn</th>\n",
       "      <th>indus</th>\n",
       "      <th>chas</th>\n",
       "      <th>nox</th>\n",
       "    </tr>\n",
       "  </thead>\n",
       "  <tbody>\n",
       "    <tr>\n",
       "      <th>0</th>\n",
       "      <td>0.00632</td>\n",
       "      <td>18.0</td>\n",
       "      <td>2.31</td>\n",
       "      <td>0</td>\n",
       "      <td>0.538</td>\n",
       "    </tr>\n",
       "    <tr>\n",
       "      <th>1</th>\n",
       "      <td>0.02731</td>\n",
       "      <td>0.0</td>\n",
       "      <td>7.07</td>\n",
       "      <td>0</td>\n",
       "      <td>0.469</td>\n",
       "    </tr>\n",
       "    <tr>\n",
       "      <th>2</th>\n",
       "      <td>0.02729</td>\n",
       "      <td>0.0</td>\n",
       "      <td>7.07</td>\n",
       "      <td>0</td>\n",
       "      <td>0.469</td>\n",
       "    </tr>\n",
       "    <tr>\n",
       "      <th>3</th>\n",
       "      <td>0.03237</td>\n",
       "      <td>0.0</td>\n",
       "      <td>2.18</td>\n",
       "      <td>0</td>\n",
       "      <td>0.458</td>\n",
       "    </tr>\n",
       "    <tr>\n",
       "      <th>4</th>\n",
       "      <td>0.06905</td>\n",
       "      <td>0.0</td>\n",
       "      <td>2.18</td>\n",
       "      <td>0</td>\n",
       "      <td>0.458</td>\n",
       "    </tr>\n",
       "  </tbody>\n",
       "</table>\n",
       "</div>"
      ],
      "text/plain": [
       "      crim    zn  indus  chas    nox\n",
       "0  0.00632  18.0   2.31     0  0.538\n",
       "1  0.02731   0.0   7.07     0  0.469\n",
       "2  0.02729   0.0   7.07     0  0.469\n",
       "3  0.03237   0.0   2.18     0  0.458\n",
       "4  0.06905   0.0   2.18     0  0.458"
      ]
     },
     "execution_count": 9,
     "metadata": {},
     "output_type": "execute_result"
    }
   ],
   "source": [
    "# Lựa chọn 5 dòng đầu và 5 cột đầu của df\n",
    "df.iloc[:5, :5]"
   ]
  },
  {
   "cell_type": "code",
   "execution_count": 10,
   "id": "dfa03662",
   "metadata": {
    "colab": {
     "base_uri": "https://localhost:8080/",
     "height": 204
    },
    "id": "bg9DUpfRRdot",
    "outputId": "f4faa30d-e74f-49d0-f127-8b29d85d9e31"
   },
   "outputs": [
    {
     "data": {
      "text/html": [
       "<div>\n",
       "<style scoped>\n",
       "    .dataframe tbody tr th:only-of-type {\n",
       "        vertical-align: middle;\n",
       "    }\n",
       "\n",
       "    .dataframe tbody tr th {\n",
       "        vertical-align: top;\n",
       "    }\n",
       "\n",
       "    .dataframe thead th {\n",
       "        text-align: right;\n",
       "    }\n",
       "</style>\n",
       "<table border=\"1\" class=\"dataframe\">\n",
       "  <thead>\n",
       "    <tr style=\"text-align: right;\">\n",
       "      <th></th>\n",
       "      <th>indus</th>\n",
       "      <th>chas</th>\n",
       "    </tr>\n",
       "  </thead>\n",
       "  <tbody>\n",
       "    <tr>\n",
       "      <th>5</th>\n",
       "      <td>2.18</td>\n",
       "      <td>0</td>\n",
       "    </tr>\n",
       "    <tr>\n",
       "      <th>6</th>\n",
       "      <td>7.87</td>\n",
       "      <td>0</td>\n",
       "    </tr>\n",
       "    <tr>\n",
       "      <th>7</th>\n",
       "      <td>7.87</td>\n",
       "      <td>0</td>\n",
       "    </tr>\n",
       "    <tr>\n",
       "      <th>8</th>\n",
       "      <td>7.87</td>\n",
       "      <td>0</td>\n",
       "    </tr>\n",
       "    <tr>\n",
       "      <th>9</th>\n",
       "      <td>7.87</td>\n",
       "      <td>0</td>\n",
       "    </tr>\n",
       "  </tbody>\n",
       "</table>\n",
       "</div>"
      ],
      "text/plain": [
       "   indus  chas\n",
       "5   2.18     0\n",
       "6   7.87     0\n",
       "7   7.87     0\n",
       "8   7.87     0\n",
       "9   7.87     0"
      ]
     },
     "execution_count": 10,
     "metadata": {},
     "output_type": "execute_result"
    }
   ],
   "source": [
    "# Lựa chọn 5 dòng từ 5:10 và 2 cột từ 2:4\n",
    "df.iloc[5:10, 2:4]"
   ]
  },
  {
   "cell_type": "code",
   "execution_count": 11,
   "id": "8a488d7c",
   "metadata": {
    "colab": {
     "base_uri": "https://localhost:8080/",
     "height": 204
    },
    "id": "89TxUvLHRxgn",
    "outputId": "8e764ab3-24f2-42fa-a2ec-bc494475e393"
   },
   "outputs": [
    {
     "data": {
      "text/html": [
       "<div>\n",
       "<style scoped>\n",
       "    .dataframe tbody tr th:only-of-type {\n",
       "        vertical-align: middle;\n",
       "    }\n",
       "\n",
       "    .dataframe tbody tr th {\n",
       "        vertical-align: top;\n",
       "    }\n",
       "\n",
       "    .dataframe thead th {\n",
       "        text-align: right;\n",
       "    }\n",
       "</style>\n",
       "<table border=\"1\" class=\"dataframe\">\n",
       "  <thead>\n",
       "    <tr style=\"text-align: right;\">\n",
       "      <th></th>\n",
       "      <th>zn</th>\n",
       "      <th>chas</th>\n",
       "    </tr>\n",
       "  </thead>\n",
       "  <tbody>\n",
       "    <tr>\n",
       "      <th>501</th>\n",
       "      <td>0.0</td>\n",
       "      <td>0</td>\n",
       "    </tr>\n",
       "    <tr>\n",
       "      <th>502</th>\n",
       "      <td>0.0</td>\n",
       "      <td>0</td>\n",
       "    </tr>\n",
       "    <tr>\n",
       "      <th>503</th>\n",
       "      <td>0.0</td>\n",
       "      <td>0</td>\n",
       "    </tr>\n",
       "    <tr>\n",
       "      <th>504</th>\n",
       "      <td>0.0</td>\n",
       "      <td>0</td>\n",
       "    </tr>\n",
       "    <tr>\n",
       "      <th>505</th>\n",
       "      <td>0.0</td>\n",
       "      <td>0</td>\n",
       "    </tr>\n",
       "  </tbody>\n",
       "</table>\n",
       "</div>"
      ],
      "text/plain": [
       "      zn  chas\n",
       "501  0.0     0\n",
       "502  0.0     0\n",
       "503  0.0     0\n",
       "504  0.0     0\n",
       "505  0.0     0"
      ]
     },
     "execution_count": 11,
     "metadata": {},
     "output_type": "execute_result"
    }
   ],
   "source": [
    "# Lựa chọn 5 dòng cuối và các cột 1 và 3\n",
    "df.iloc[-5:, [1, 3]]"
   ]
  },
  {
   "cell_type": "markdown",
   "id": "4f4c0b17",
   "metadata": {
    "id": "69Vl8zuxSAIq"
   },
   "source": [
    "Ngoài ra ta cũng có thể truy cập các dòng theo row index của dataframe thông qua câu lệnh `df.loc[]`."
   ]
  },
  {
   "cell_type": "code",
   "execution_count": 12,
   "id": "5a509eaa",
   "metadata": {
    "colab": {
     "base_uri": "https://localhost:8080/",
     "height": 235
    },
    "id": "AGUpcbzFSKbr",
    "outputId": "0256b8e3-b670-4a80-c25d-19838e68be21"
   },
   "outputs": [
    {
     "data": {
      "text/html": [
       "<div>\n",
       "<style scoped>\n",
       "    .dataframe tbody tr th:only-of-type {\n",
       "        vertical-align: middle;\n",
       "    }\n",
       "\n",
       "    .dataframe tbody tr th {\n",
       "        vertical-align: top;\n",
       "    }\n",
       "\n",
       "    .dataframe thead th {\n",
       "        text-align: right;\n",
       "    }\n",
       "</style>\n",
       "<table border=\"1\" class=\"dataframe\">\n",
       "  <thead>\n",
       "    <tr style=\"text-align: right;\">\n",
       "      <th></th>\n",
       "      <th>crim</th>\n",
       "      <th>zn</th>\n",
       "      <th>indus</th>\n",
       "      <th>chas</th>\n",
       "      <th>nox</th>\n",
       "      <th>rm</th>\n",
       "      <th>age</th>\n",
       "      <th>dis</th>\n",
       "      <th>rad</th>\n",
       "      <th>tax</th>\n",
       "      <th>ptratio</th>\n",
       "      <th>b</th>\n",
       "      <th>lstat</th>\n",
       "      <th>medv</th>\n",
       "    </tr>\n",
       "  </thead>\n",
       "  <tbody>\n",
       "    <tr>\n",
       "      <th>10</th>\n",
       "      <td>0.22489</td>\n",
       "      <td>12.5</td>\n",
       "      <td>7.87</td>\n",
       "      <td>0</td>\n",
       "      <td>0.524</td>\n",
       "      <td>6.377</td>\n",
       "      <td>94.3</td>\n",
       "      <td>6.3467</td>\n",
       "      <td>5</td>\n",
       "      <td>311</td>\n",
       "      <td>15.2</td>\n",
       "      <td>392.52</td>\n",
       "      <td>20.45</td>\n",
       "      <td>15.0</td>\n",
       "    </tr>\n",
       "    <tr>\n",
       "      <th>11</th>\n",
       "      <td>0.11747</td>\n",
       "      <td>12.5</td>\n",
       "      <td>7.87</td>\n",
       "      <td>0</td>\n",
       "      <td>0.524</td>\n",
       "      <td>6.009</td>\n",
       "      <td>82.9</td>\n",
       "      <td>6.2267</td>\n",
       "      <td>5</td>\n",
       "      <td>311</td>\n",
       "      <td>15.2</td>\n",
       "      <td>396.90</td>\n",
       "      <td>13.27</td>\n",
       "      <td>18.9</td>\n",
       "    </tr>\n",
       "    <tr>\n",
       "      <th>12</th>\n",
       "      <td>0.09378</td>\n",
       "      <td>12.5</td>\n",
       "      <td>7.87</td>\n",
       "      <td>0</td>\n",
       "      <td>0.524</td>\n",
       "      <td>5.889</td>\n",
       "      <td>39.0</td>\n",
       "      <td>5.4509</td>\n",
       "      <td>5</td>\n",
       "      <td>311</td>\n",
       "      <td>15.2</td>\n",
       "      <td>390.50</td>\n",
       "      <td>15.71</td>\n",
       "      <td>21.7</td>\n",
       "    </tr>\n",
       "    <tr>\n",
       "      <th>13</th>\n",
       "      <td>0.62976</td>\n",
       "      <td>0.0</td>\n",
       "      <td>8.14</td>\n",
       "      <td>0</td>\n",
       "      <td>0.538</td>\n",
       "      <td>5.949</td>\n",
       "      <td>61.8</td>\n",
       "      <td>4.7075</td>\n",
       "      <td>4</td>\n",
       "      <td>307</td>\n",
       "      <td>21.0</td>\n",
       "      <td>396.90</td>\n",
       "      <td>8.26</td>\n",
       "      <td>20.4</td>\n",
       "    </tr>\n",
       "    <tr>\n",
       "      <th>14</th>\n",
       "      <td>0.63796</td>\n",
       "      <td>0.0</td>\n",
       "      <td>8.14</td>\n",
       "      <td>0</td>\n",
       "      <td>0.538</td>\n",
       "      <td>6.096</td>\n",
       "      <td>84.5</td>\n",
       "      <td>4.4619</td>\n",
       "      <td>4</td>\n",
       "      <td>307</td>\n",
       "      <td>21.0</td>\n",
       "      <td>380.02</td>\n",
       "      <td>10.26</td>\n",
       "      <td>18.2</td>\n",
       "    </tr>\n",
       "    <tr>\n",
       "      <th>15</th>\n",
       "      <td>0.62739</td>\n",
       "      <td>0.0</td>\n",
       "      <td>8.14</td>\n",
       "      <td>0</td>\n",
       "      <td>0.538</td>\n",
       "      <td>5.834</td>\n",
       "      <td>56.5</td>\n",
       "      <td>4.4986</td>\n",
       "      <td>4</td>\n",
       "      <td>307</td>\n",
       "      <td>21.0</td>\n",
       "      <td>395.62</td>\n",
       "      <td>8.47</td>\n",
       "      <td>19.9</td>\n",
       "    </tr>\n",
       "  </tbody>\n",
       "</table>\n",
       "</div>"
      ],
      "text/plain": [
       "       crim    zn  indus  chas    nox     rm   age     dis  rad  tax  ptratio  \\\n",
       "10  0.22489  12.5   7.87     0  0.524  6.377  94.3  6.3467    5  311     15.2   \n",
       "11  0.11747  12.5   7.87     0  0.524  6.009  82.9  6.2267    5  311     15.2   \n",
       "12  0.09378  12.5   7.87     0  0.524  5.889  39.0  5.4509    5  311     15.2   \n",
       "13  0.62976   0.0   8.14     0  0.538  5.949  61.8  4.7075    4  307     21.0   \n",
       "14  0.63796   0.0   8.14     0  0.538  6.096  84.5  4.4619    4  307     21.0   \n",
       "15  0.62739   0.0   8.14     0  0.538  5.834  56.5  4.4986    4  307     21.0   \n",
       "\n",
       "         b  lstat  medv  \n",
       "10  392.52  20.45  15.0  \n",
       "11  396.90  13.27  18.9  \n",
       "12  390.50  15.71  21.7  \n",
       "13  396.90   8.26  20.4  \n",
       "14  380.02  10.26  18.2  \n",
       "15  395.62   8.47  19.9  "
      ]
     },
     "execution_count": 12,
     "metadata": {},
     "output_type": "execute_result"
    }
   ],
   "source": [
    "# Truy cập các dòng có index là 10:15\n",
    "df.loc[10:15]"
   ]
  },
  {
   "cell_type": "markdown",
   "id": "cdd67a9c",
   "metadata": {
    "id": "91f7rXWrR96K"
   },
   "source": [
    "**Truy cập theo column names:** Đây là cách được sử dụng phổ biến vì nó tường minh hơn. Theo cách này chúng ta sẽ truy cập các trường của dataframe bằng cách khai báo list column_names của chúng.\n",
    "\n",
    "Ví dụ bên dưới chúng ta cần lấy ra các trường `['crim', 'tax', 'rad']` từ bảng `df`. Ta sẽ làm như sau:"
   ]
  },
  {
   "cell_type": "code",
   "execution_count": 13,
   "id": "ea4c39c2",
   "metadata": {
    "colab": {
     "base_uri": "https://localhost:8080/",
     "height": 204
    },
    "id": "6he7OmOyTo57",
    "outputId": "891ff46f-e0df-4ca3-dc4c-89ca7ef59f0c"
   },
   "outputs": [
    {
     "data": {
      "text/html": [
       "<div>\n",
       "<style scoped>\n",
       "    .dataframe tbody tr th:only-of-type {\n",
       "        vertical-align: middle;\n",
       "    }\n",
       "\n",
       "    .dataframe tbody tr th {\n",
       "        vertical-align: top;\n",
       "    }\n",
       "\n",
       "    .dataframe thead th {\n",
       "        text-align: right;\n",
       "    }\n",
       "</style>\n",
       "<table border=\"1\" class=\"dataframe\">\n",
       "  <thead>\n",
       "    <tr style=\"text-align: right;\">\n",
       "      <th></th>\n",
       "      <th>crim</th>\n",
       "      <th>tax</th>\n",
       "      <th>rad</th>\n",
       "    </tr>\n",
       "  </thead>\n",
       "  <tbody>\n",
       "    <tr>\n",
       "      <th>0</th>\n",
       "      <td>0.00632</td>\n",
       "      <td>296</td>\n",
       "      <td>1</td>\n",
       "    </tr>\n",
       "    <tr>\n",
       "      <th>1</th>\n",
       "      <td>0.02731</td>\n",
       "      <td>242</td>\n",
       "      <td>2</td>\n",
       "    </tr>\n",
       "    <tr>\n",
       "      <th>2</th>\n",
       "      <td>0.02729</td>\n",
       "      <td>242</td>\n",
       "      <td>2</td>\n",
       "    </tr>\n",
       "    <tr>\n",
       "      <th>3</th>\n",
       "      <td>0.03237</td>\n",
       "      <td>222</td>\n",
       "      <td>3</td>\n",
       "    </tr>\n",
       "    <tr>\n",
       "      <th>4</th>\n",
       "      <td>0.06905</td>\n",
       "      <td>222</td>\n",
       "      <td>3</td>\n",
       "    </tr>\n",
       "  </tbody>\n",
       "</table>\n",
       "</div>"
      ],
      "text/plain": [
       "      crim  tax  rad\n",
       "0  0.00632  296    1\n",
       "1  0.02731  242    2\n",
       "2  0.02729  242    2\n",
       "3  0.03237  222    3\n",
       "4  0.06905  222    3"
      ]
     },
     "execution_count": 13,
     "metadata": {},
     "output_type": "execute_result"
    }
   ],
   "source": [
    "df[['crim', 'tax', 'rad']].head()"
   ]
  },
  {
   "cell_type": "markdown",
   "id": "16a1d6d2",
   "metadata": {
    "id": "Wh_E3q8qTwtv"
   },
   "source": [
    "**Kết hợp cả hai cách**: Chúng ta có thể truy cập dataframe bằng cách kết hợp cả hai cách theo hướng sử dụng column names đối với cột và slice index đối với dòng:"
   ]
  },
  {
   "cell_type": "code",
   "execution_count": 14,
   "id": "a9a84453",
   "metadata": {
    "colab": {
     "base_uri": "https://localhost:8080/",
     "height": 204
    },
    "id": "eqGPl5P3UG_V",
    "outputId": "29e4116f-e724-47a4-ae0d-e008e7450e85"
   },
   "outputs": [
    {
     "data": {
      "text/html": [
       "<div>\n",
       "<style scoped>\n",
       "    .dataframe tbody tr th:only-of-type {\n",
       "        vertical-align: middle;\n",
       "    }\n",
       "\n",
       "    .dataframe tbody tr th {\n",
       "        vertical-align: top;\n",
       "    }\n",
       "\n",
       "    .dataframe thead th {\n",
       "        text-align: right;\n",
       "    }\n",
       "</style>\n",
       "<table border=\"1\" class=\"dataframe\">\n",
       "  <thead>\n",
       "    <tr style=\"text-align: right;\">\n",
       "      <th></th>\n",
       "      <th>crim</th>\n",
       "      <th>tax</th>\n",
       "      <th>rad</th>\n",
       "    </tr>\n",
       "  </thead>\n",
       "  <tbody>\n",
       "    <tr>\n",
       "      <th>10</th>\n",
       "      <td>0.22489</td>\n",
       "      <td>311</td>\n",
       "      <td>5</td>\n",
       "    </tr>\n",
       "    <tr>\n",
       "      <th>11</th>\n",
       "      <td>0.11747</td>\n",
       "      <td>311</td>\n",
       "      <td>5</td>\n",
       "    </tr>\n",
       "    <tr>\n",
       "      <th>12</th>\n",
       "      <td>0.09378</td>\n",
       "      <td>311</td>\n",
       "      <td>5</td>\n",
       "    </tr>\n",
       "    <tr>\n",
       "      <th>13</th>\n",
       "      <td>0.62976</td>\n",
       "      <td>307</td>\n",
       "      <td>4</td>\n",
       "    </tr>\n",
       "    <tr>\n",
       "      <th>14</th>\n",
       "      <td>0.63796</td>\n",
       "      <td>307</td>\n",
       "      <td>4</td>\n",
       "    </tr>\n",
       "  </tbody>\n",
       "</table>\n",
       "</div>"
      ],
      "text/plain": [
       "       crim  tax  rad\n",
       "10  0.22489  311    5\n",
       "11  0.11747  311    5\n",
       "12  0.09378  311    5\n",
       "13  0.62976  307    4\n",
       "14  0.63796  307    4"
      ]
     },
     "execution_count": 14,
     "metadata": {},
     "output_type": "execute_result"
    }
   ],
   "source": [
    "# Lấy ra các dòng từ 10:15 của các trường 'crim', 'tax', 'rad'\n",
    "df[['crim', 'tax', 'rad']].iloc[10:15]"
   ]
  },
  {
   "cell_type": "markdown",
   "id": "2fbb776e",
   "metadata": {
    "id": "eDoGlT-IplRF"
   },
   "source": [
    "## 2.2.2. Lọc dataframe\n",
    "\n",
    "Chúng ta có thể lọc dataframe thông qua các điều kiện đối với các trường. Điều kiện của trường được thể hiện như một biểu thức logic và bao trong dấu `[]`. Giả sử chúng ta muốn lọc ra các thị trấn mà có số phòng ở trung bình trên căn hộ là trên 4 thì truyền vào dấu `[]` điều kiện `df['rm'] > 4`."
   ]
  },
  {
   "cell_type": "code",
   "execution_count": 15,
   "id": "4caccca7",
   "metadata": {
    "colab": {
     "base_uri": "https://localhost:8080/",
     "height": 204
    },
    "id": "SoQVlccfp0ov",
    "outputId": "57c284c6-dbfc-436d-829b-c191963b420e"
   },
   "outputs": [
    {
     "data": {
      "text/html": [
       "<div>\n",
       "<style scoped>\n",
       "    .dataframe tbody tr th:only-of-type {\n",
       "        vertical-align: middle;\n",
       "    }\n",
       "\n",
       "    .dataframe tbody tr th {\n",
       "        vertical-align: top;\n",
       "    }\n",
       "\n",
       "    .dataframe thead th {\n",
       "        text-align: right;\n",
       "    }\n",
       "</style>\n",
       "<table border=\"1\" class=\"dataframe\">\n",
       "  <thead>\n",
       "    <tr style=\"text-align: right;\">\n",
       "      <th></th>\n",
       "      <th>crim</th>\n",
       "      <th>zn</th>\n",
       "      <th>indus</th>\n",
       "      <th>chas</th>\n",
       "      <th>nox</th>\n",
       "      <th>rm</th>\n",
       "      <th>age</th>\n",
       "      <th>dis</th>\n",
       "      <th>rad</th>\n",
       "      <th>tax</th>\n",
       "      <th>ptratio</th>\n",
       "      <th>b</th>\n",
       "      <th>lstat</th>\n",
       "      <th>medv</th>\n",
       "    </tr>\n",
       "  </thead>\n",
       "  <tbody>\n",
       "    <tr>\n",
       "      <th>0</th>\n",
       "      <td>0.00632</td>\n",
       "      <td>18.0</td>\n",
       "      <td>2.31</td>\n",
       "      <td>0</td>\n",
       "      <td>0.538</td>\n",
       "      <td>6.575</td>\n",
       "      <td>65.2</td>\n",
       "      <td>4.0900</td>\n",
       "      <td>1</td>\n",
       "      <td>296</td>\n",
       "      <td>15.3</td>\n",
       "      <td>396.90</td>\n",
       "      <td>4.98</td>\n",
       "      <td>24.0</td>\n",
       "    </tr>\n",
       "    <tr>\n",
       "      <th>1</th>\n",
       "      <td>0.02731</td>\n",
       "      <td>0.0</td>\n",
       "      <td>7.07</td>\n",
       "      <td>0</td>\n",
       "      <td>0.469</td>\n",
       "      <td>6.421</td>\n",
       "      <td>78.9</td>\n",
       "      <td>4.9671</td>\n",
       "      <td>2</td>\n",
       "      <td>242</td>\n",
       "      <td>17.8</td>\n",
       "      <td>396.90</td>\n",
       "      <td>9.14</td>\n",
       "      <td>21.6</td>\n",
       "    </tr>\n",
       "    <tr>\n",
       "      <th>2</th>\n",
       "      <td>0.02729</td>\n",
       "      <td>0.0</td>\n",
       "      <td>7.07</td>\n",
       "      <td>0</td>\n",
       "      <td>0.469</td>\n",
       "      <td>7.185</td>\n",
       "      <td>61.1</td>\n",
       "      <td>4.9671</td>\n",
       "      <td>2</td>\n",
       "      <td>242</td>\n",
       "      <td>17.8</td>\n",
       "      <td>392.83</td>\n",
       "      <td>4.03</td>\n",
       "      <td>34.7</td>\n",
       "    </tr>\n",
       "    <tr>\n",
       "      <th>3</th>\n",
       "      <td>0.03237</td>\n",
       "      <td>0.0</td>\n",
       "      <td>2.18</td>\n",
       "      <td>0</td>\n",
       "      <td>0.458</td>\n",
       "      <td>6.998</td>\n",
       "      <td>45.8</td>\n",
       "      <td>6.0622</td>\n",
       "      <td>3</td>\n",
       "      <td>222</td>\n",
       "      <td>18.7</td>\n",
       "      <td>394.63</td>\n",
       "      <td>2.94</td>\n",
       "      <td>33.4</td>\n",
       "    </tr>\n",
       "    <tr>\n",
       "      <th>4</th>\n",
       "      <td>0.06905</td>\n",
       "      <td>0.0</td>\n",
       "      <td>2.18</td>\n",
       "      <td>0</td>\n",
       "      <td>0.458</td>\n",
       "      <td>7.147</td>\n",
       "      <td>54.2</td>\n",
       "      <td>6.0622</td>\n",
       "      <td>3</td>\n",
       "      <td>222</td>\n",
       "      <td>18.7</td>\n",
       "      <td>396.90</td>\n",
       "      <td>5.33</td>\n",
       "      <td>36.2</td>\n",
       "    </tr>\n",
       "  </tbody>\n",
       "</table>\n",
       "</div>"
      ],
      "text/plain": [
       "      crim    zn  indus  chas    nox     rm   age     dis  rad  tax  ptratio  \\\n",
       "0  0.00632  18.0   2.31     0  0.538  6.575  65.2  4.0900    1  296     15.3   \n",
       "1  0.02731   0.0   7.07     0  0.469  6.421  78.9  4.9671    2  242     17.8   \n",
       "2  0.02729   0.0   7.07     0  0.469  7.185  61.1  4.9671    2  242     17.8   \n",
       "3  0.03237   0.0   2.18     0  0.458  6.998  45.8  6.0622    3  222     18.7   \n",
       "4  0.06905   0.0   2.18     0  0.458  7.147  54.2  6.0622    3  222     18.7   \n",
       "\n",
       "        b  lstat  medv  \n",
       "0  396.90   4.98  24.0  \n",
       "1  396.90   9.14  21.6  \n",
       "2  392.83   4.03  34.7  \n",
       "3  394.63   2.94  33.4  \n",
       "4  396.90   5.33  36.2  "
      ]
     },
     "execution_count": 15,
     "metadata": {},
     "output_type": "execute_result"
    }
   ],
   "source": [
    "df[df['rm'] > 4].head()"
   ]
  },
  {
   "cell_type": "markdown",
   "id": "8d478630",
   "metadata": {
    "id": "GtGYWFP6seqN"
   },
   "source": [
    "Nếu chúng ta muốn kết hợp nhiều điều kiện thì dùng biểu thức logic `and` hoặc `or`. Ví dụ: Muốn lọc thêm điều kiện thuế suất trên 250 ngoài điều kiện số phòng thì ta làm như sau:"
   ]
  },
  {
   "cell_type": "code",
   "execution_count": 16,
   "id": "0ffb8af3",
   "metadata": {
    "colab": {
     "base_uri": "https://localhost:8080/",
     "height": 204
    },
    "id": "Q7Mky5hPs2RU",
    "outputId": "a20d47c3-24f4-441f-aae0-da37df8ad7f1"
   },
   "outputs": [
    {
     "data": {
      "text/html": [
       "<div>\n",
       "<style scoped>\n",
       "    .dataframe tbody tr th:only-of-type {\n",
       "        vertical-align: middle;\n",
       "    }\n",
       "\n",
       "    .dataframe tbody tr th {\n",
       "        vertical-align: top;\n",
       "    }\n",
       "\n",
       "    .dataframe thead th {\n",
       "        text-align: right;\n",
       "    }\n",
       "</style>\n",
       "<table border=\"1\" class=\"dataframe\">\n",
       "  <thead>\n",
       "    <tr style=\"text-align: right;\">\n",
       "      <th></th>\n",
       "      <th>crim</th>\n",
       "      <th>zn</th>\n",
       "      <th>indus</th>\n",
       "      <th>chas</th>\n",
       "      <th>nox</th>\n",
       "      <th>rm</th>\n",
       "      <th>age</th>\n",
       "      <th>dis</th>\n",
       "      <th>rad</th>\n",
       "      <th>tax</th>\n",
       "      <th>ptratio</th>\n",
       "      <th>b</th>\n",
       "      <th>lstat</th>\n",
       "      <th>medv</th>\n",
       "    </tr>\n",
       "  </thead>\n",
       "  <tbody>\n",
       "    <tr>\n",
       "      <th>0</th>\n",
       "      <td>0.00632</td>\n",
       "      <td>18.0</td>\n",
       "      <td>2.31</td>\n",
       "      <td>0</td>\n",
       "      <td>0.538</td>\n",
       "      <td>6.575</td>\n",
       "      <td>65.2</td>\n",
       "      <td>4.0900</td>\n",
       "      <td>1</td>\n",
       "      <td>296</td>\n",
       "      <td>15.3</td>\n",
       "      <td>396.90</td>\n",
       "      <td>4.98</td>\n",
       "      <td>24.0</td>\n",
       "    </tr>\n",
       "    <tr>\n",
       "      <th>6</th>\n",
       "      <td>0.08829</td>\n",
       "      <td>12.5</td>\n",
       "      <td>7.87</td>\n",
       "      <td>0</td>\n",
       "      <td>0.524</td>\n",
       "      <td>6.012</td>\n",
       "      <td>66.6</td>\n",
       "      <td>5.5605</td>\n",
       "      <td>5</td>\n",
       "      <td>311</td>\n",
       "      <td>15.2</td>\n",
       "      <td>395.60</td>\n",
       "      <td>12.43</td>\n",
       "      <td>22.9</td>\n",
       "    </tr>\n",
       "    <tr>\n",
       "      <th>7</th>\n",
       "      <td>0.14455</td>\n",
       "      <td>12.5</td>\n",
       "      <td>7.87</td>\n",
       "      <td>0</td>\n",
       "      <td>0.524</td>\n",
       "      <td>6.172</td>\n",
       "      <td>96.1</td>\n",
       "      <td>5.9505</td>\n",
       "      <td>5</td>\n",
       "      <td>311</td>\n",
       "      <td>15.2</td>\n",
       "      <td>396.90</td>\n",
       "      <td>19.15</td>\n",
       "      <td>27.1</td>\n",
       "    </tr>\n",
       "    <tr>\n",
       "      <th>8</th>\n",
       "      <td>0.21124</td>\n",
       "      <td>12.5</td>\n",
       "      <td>7.87</td>\n",
       "      <td>0</td>\n",
       "      <td>0.524</td>\n",
       "      <td>5.631</td>\n",
       "      <td>100.0</td>\n",
       "      <td>6.0821</td>\n",
       "      <td>5</td>\n",
       "      <td>311</td>\n",
       "      <td>15.2</td>\n",
       "      <td>386.63</td>\n",
       "      <td>29.93</td>\n",
       "      <td>16.5</td>\n",
       "    </tr>\n",
       "    <tr>\n",
       "      <th>9</th>\n",
       "      <td>0.17004</td>\n",
       "      <td>12.5</td>\n",
       "      <td>7.87</td>\n",
       "      <td>0</td>\n",
       "      <td>0.524</td>\n",
       "      <td>6.004</td>\n",
       "      <td>85.9</td>\n",
       "      <td>6.5921</td>\n",
       "      <td>5</td>\n",
       "      <td>311</td>\n",
       "      <td>15.2</td>\n",
       "      <td>386.71</td>\n",
       "      <td>17.10</td>\n",
       "      <td>18.9</td>\n",
       "    </tr>\n",
       "  </tbody>\n",
       "</table>\n",
       "</div>"
      ],
      "text/plain": [
       "      crim    zn  indus  chas    nox     rm    age     dis  rad  tax  ptratio  \\\n",
       "0  0.00632  18.0   2.31     0  0.538  6.575   65.2  4.0900    1  296     15.3   \n",
       "6  0.08829  12.5   7.87     0  0.524  6.012   66.6  5.5605    5  311     15.2   \n",
       "7  0.14455  12.5   7.87     0  0.524  6.172   96.1  5.9505    5  311     15.2   \n",
       "8  0.21124  12.5   7.87     0  0.524  5.631  100.0  6.0821    5  311     15.2   \n",
       "9  0.17004  12.5   7.87     0  0.524  6.004   85.9  6.5921    5  311     15.2   \n",
       "\n",
       "        b  lstat  medv  \n",
       "0  396.90   4.98  24.0  \n",
       "6  395.60  12.43  22.9  \n",
       "7  396.90  19.15  27.1  \n",
       "8  386.63  29.93  16.5  \n",
       "9  386.71  17.10  18.9  "
      ]
     },
     "execution_count": 16,
     "metadata": {},
     "output_type": "execute_result"
    }
   ],
   "source": [
    "df[(df['rm']>4) & (df['tax']>250)].head()"
   ]
  },
  {
   "cell_type": "markdown",
   "id": "e69057f6",
   "metadata": {
    "id": "tgUpVCMgtQKw"
   },
   "source": [
    "**Muốn lọc các cột theo định dạng dữ liệu thì như thế nào?**\n",
    "\n",
    "Ta dùng hàm `df.select_dtypes()` để lọc các cột theo định dạng dữ liệu. Những định dạng chính bao gồm `integer, float, object, boolean`. Ví dụ: Bên dưới chúng ta lọc các trường có định dạng dữ liệu là `float`."
   ]
  },
  {
   "cell_type": "code",
   "execution_count": 17,
   "id": "db2ae4a6",
   "metadata": {
    "colab": {
     "base_uri": "https://localhost:8080/",
     "height": 204
    },
    "id": "kZOkjAettlBF",
    "outputId": "e820d4cf-6b50-43a2-e83a-0c3d8322bb47"
   },
   "outputs": [
    {
     "data": {
      "text/html": [
       "<div>\n",
       "<style scoped>\n",
       "    .dataframe tbody tr th:only-of-type {\n",
       "        vertical-align: middle;\n",
       "    }\n",
       "\n",
       "    .dataframe tbody tr th {\n",
       "        vertical-align: top;\n",
       "    }\n",
       "\n",
       "    .dataframe thead th {\n",
       "        text-align: right;\n",
       "    }\n",
       "</style>\n",
       "<table border=\"1\" class=\"dataframe\">\n",
       "  <thead>\n",
       "    <tr style=\"text-align: right;\">\n",
       "      <th></th>\n",
       "      <th>crim</th>\n",
       "      <th>zn</th>\n",
       "      <th>indus</th>\n",
       "      <th>nox</th>\n",
       "      <th>rm</th>\n",
       "      <th>age</th>\n",
       "      <th>dis</th>\n",
       "      <th>ptratio</th>\n",
       "      <th>b</th>\n",
       "      <th>lstat</th>\n",
       "      <th>medv</th>\n",
       "    </tr>\n",
       "  </thead>\n",
       "  <tbody>\n",
       "    <tr>\n",
       "      <th>0</th>\n",
       "      <td>0.00632</td>\n",
       "      <td>18.0</td>\n",
       "      <td>2.31</td>\n",
       "      <td>0.538</td>\n",
       "      <td>6.575</td>\n",
       "      <td>65.2</td>\n",
       "      <td>4.0900</td>\n",
       "      <td>15.3</td>\n",
       "      <td>396.90</td>\n",
       "      <td>4.98</td>\n",
       "      <td>24.0</td>\n",
       "    </tr>\n",
       "    <tr>\n",
       "      <th>1</th>\n",
       "      <td>0.02731</td>\n",
       "      <td>0.0</td>\n",
       "      <td>7.07</td>\n",
       "      <td>0.469</td>\n",
       "      <td>6.421</td>\n",
       "      <td>78.9</td>\n",
       "      <td>4.9671</td>\n",
       "      <td>17.8</td>\n",
       "      <td>396.90</td>\n",
       "      <td>9.14</td>\n",
       "      <td>21.6</td>\n",
       "    </tr>\n",
       "    <tr>\n",
       "      <th>2</th>\n",
       "      <td>0.02729</td>\n",
       "      <td>0.0</td>\n",
       "      <td>7.07</td>\n",
       "      <td>0.469</td>\n",
       "      <td>7.185</td>\n",
       "      <td>61.1</td>\n",
       "      <td>4.9671</td>\n",
       "      <td>17.8</td>\n",
       "      <td>392.83</td>\n",
       "      <td>4.03</td>\n",
       "      <td>34.7</td>\n",
       "    </tr>\n",
       "    <tr>\n",
       "      <th>3</th>\n",
       "      <td>0.03237</td>\n",
       "      <td>0.0</td>\n",
       "      <td>2.18</td>\n",
       "      <td>0.458</td>\n",
       "      <td>6.998</td>\n",
       "      <td>45.8</td>\n",
       "      <td>6.0622</td>\n",
       "      <td>18.7</td>\n",
       "      <td>394.63</td>\n",
       "      <td>2.94</td>\n",
       "      <td>33.4</td>\n",
       "    </tr>\n",
       "    <tr>\n",
       "      <th>4</th>\n",
       "      <td>0.06905</td>\n",
       "      <td>0.0</td>\n",
       "      <td>2.18</td>\n",
       "      <td>0.458</td>\n",
       "      <td>7.147</td>\n",
       "      <td>54.2</td>\n",
       "      <td>6.0622</td>\n",
       "      <td>18.7</td>\n",
       "      <td>396.90</td>\n",
       "      <td>5.33</td>\n",
       "      <td>36.2</td>\n",
       "    </tr>\n",
       "  </tbody>\n",
       "</table>\n",
       "</div>"
      ],
      "text/plain": [
       "      crim    zn  indus    nox     rm   age     dis  ptratio       b  lstat  \\\n",
       "0  0.00632  18.0   2.31  0.538  6.575  65.2  4.0900     15.3  396.90   4.98   \n",
       "1  0.02731   0.0   7.07  0.469  6.421  78.9  4.9671     17.8  396.90   9.14   \n",
       "2  0.02729   0.0   7.07  0.469  7.185  61.1  4.9671     17.8  392.83   4.03   \n",
       "3  0.03237   0.0   2.18  0.458  6.998  45.8  6.0622     18.7  394.63   2.94   \n",
       "4  0.06905   0.0   2.18  0.458  7.147  54.2  6.0622     18.7  396.90   5.33   \n",
       "\n",
       "   medv  \n",
       "0  24.0  \n",
       "1  21.6  \n",
       "2  34.7  \n",
       "3  33.4  \n",
       "4  36.2  "
      ]
     },
     "execution_count": 17,
     "metadata": {},
     "output_type": "execute_result"
    }
   ],
   "source": [
    "df.select_dtypes('float').head()"
   ]
  },
  {
   "cell_type": "markdown",
   "id": "85125694",
   "metadata": {
    "id": "TWenj3EKzhYo"
   },
   "source": [
    "**Lọc các cột theo pattern của tên cột**\n",
    "\n",
    "Khi làm việc với dữ liệu lớn sẽ có những tình huống mà bạn bắt gặp các cột thuộc về cùng một nhóm và chúng có chung một pattern. Chẳng hạn như về age sẽ có `age_1, age_2, age_3`,.... Làm thế nào để bạn lọc ra được những biến này từ dữ liệu? Chúng ta sẽ dùng hàm filter. Đây là hàm cực kỳ tiện ích khi lọc cột từ những bộ dữ liệu lớn mà bạn sẽ thường xuyên sử dụng sau này."
   ]
  },
  {
   "cell_type": "code",
   "execution_count": 18,
   "id": "8dcf9c8c",
   "metadata": {
    "colab": {
     "base_uri": "https://localhost:8080/",
     "height": 204
    },
    "id": "7kK6Ne7X0O68",
    "outputId": "2b25e043-d51d-45b2-86b2-a5909305976e"
   },
   "outputs": [
    {
     "data": {
      "text/html": [
       "<div>\n",
       "<style scoped>\n",
       "    .dataframe tbody tr th:only-of-type {\n",
       "        vertical-align: middle;\n",
       "    }\n",
       "\n",
       "    .dataframe tbody tr th {\n",
       "        vertical-align: top;\n",
       "    }\n",
       "\n",
       "    .dataframe thead th {\n",
       "        text-align: right;\n",
       "    }\n",
       "</style>\n",
       "<table border=\"1\" class=\"dataframe\">\n",
       "  <thead>\n",
       "    <tr style=\"text-align: right;\">\n",
       "      <th></th>\n",
       "      <th>name</th>\n",
       "      <th>age_1</th>\n",
       "      <th>age_2</th>\n",
       "      <th>age_3</th>\n",
       "    </tr>\n",
       "  </thead>\n",
       "  <tbody>\n",
       "    <tr>\n",
       "      <th>0</th>\n",
       "      <td>a</td>\n",
       "      <td>1</td>\n",
       "      <td>3</td>\n",
       "      <td>2</td>\n",
       "    </tr>\n",
       "    <tr>\n",
       "      <th>1</th>\n",
       "      <td>b</td>\n",
       "      <td>2</td>\n",
       "      <td>5</td>\n",
       "      <td>5</td>\n",
       "    </tr>\n",
       "    <tr>\n",
       "      <th>2</th>\n",
       "      <td>c</td>\n",
       "      <td>3</td>\n",
       "      <td>7</td>\n",
       "      <td>2</td>\n",
       "    </tr>\n",
       "    <tr>\n",
       "      <th>3</th>\n",
       "      <td>d</td>\n",
       "      <td>4</td>\n",
       "      <td>9</td>\n",
       "      <td>5</td>\n",
       "    </tr>\n",
       "    <tr>\n",
       "      <th>4</th>\n",
       "      <td>e</td>\n",
       "      <td>5</td>\n",
       "      <td>10</td>\n",
       "      <td>6</td>\n",
       "    </tr>\n",
       "  </tbody>\n",
       "</table>\n",
       "</div>"
      ],
      "text/plain": [
       "  name  age_1  age_2  age_3\n",
       "0    a      1      3      2\n",
       "1    b      2      5      5\n",
       "2    c      3      7      2\n",
       "3    d      4      9      5\n",
       "4    e      5     10      6"
      ]
     },
     "execution_count": 18,
     "metadata": {},
     "output_type": "execute_result"
    }
   ],
   "source": [
    "df2 = pd.DataFrame({\n",
    "    'name':['a', 'b', 'c', 'd', 'e'],\n",
    "    'age_1':[1, 2, 3, 4, 5],\n",
    "    'age_2':[3, 5, 7, 9 , 10],\n",
    "    'age_3':[2, 5, 2, 5, 6]\n",
    "})\n",
    "\n",
    "df2.head()"
   ]
  },
  {
   "cell_type": "markdown",
   "id": "a615389e",
   "metadata": {
    "id": "JPh7n2Ty0l29"
   },
   "source": [
    "Lựa chọn các cột bắt đầu là `age` thông qua hàm filter."
   ]
  },
  {
   "cell_type": "code",
   "execution_count": 19,
   "id": "9bf613b3",
   "metadata": {
    "colab": {
     "base_uri": "https://localhost:8080/",
     "height": 204
    },
    "id": "KAukQpBs0ptf",
    "outputId": "1f076a3f-e340-48fb-9aff-e2f1b70ee70a"
   },
   "outputs": [
    {
     "data": {
      "text/html": [
       "<div>\n",
       "<style scoped>\n",
       "    .dataframe tbody tr th:only-of-type {\n",
       "        vertical-align: middle;\n",
       "    }\n",
       "\n",
       "    .dataframe tbody tr th {\n",
       "        vertical-align: top;\n",
       "    }\n",
       "\n",
       "    .dataframe thead th {\n",
       "        text-align: right;\n",
       "    }\n",
       "</style>\n",
       "<table border=\"1\" class=\"dataframe\">\n",
       "  <thead>\n",
       "    <tr style=\"text-align: right;\">\n",
       "      <th></th>\n",
       "      <th>age_1</th>\n",
       "      <th>age_2</th>\n",
       "      <th>age_3</th>\n",
       "    </tr>\n",
       "  </thead>\n",
       "  <tbody>\n",
       "    <tr>\n",
       "      <th>0</th>\n",
       "      <td>1</td>\n",
       "      <td>3</td>\n",
       "      <td>2</td>\n",
       "    </tr>\n",
       "    <tr>\n",
       "      <th>1</th>\n",
       "      <td>2</td>\n",
       "      <td>5</td>\n",
       "      <td>5</td>\n",
       "    </tr>\n",
       "    <tr>\n",
       "      <th>2</th>\n",
       "      <td>3</td>\n",
       "      <td>7</td>\n",
       "      <td>2</td>\n",
       "    </tr>\n",
       "    <tr>\n",
       "      <th>3</th>\n",
       "      <td>4</td>\n",
       "      <td>9</td>\n",
       "      <td>5</td>\n",
       "    </tr>\n",
       "    <tr>\n",
       "      <th>4</th>\n",
       "      <td>5</td>\n",
       "      <td>10</td>\n",
       "      <td>6</td>\n",
       "    </tr>\n",
       "  </tbody>\n",
       "</table>\n",
       "</div>"
      ],
      "text/plain": [
       "   age_1  age_2  age_3\n",
       "0      1      3      2\n",
       "1      2      5      5\n",
       "2      3      7      2\n",
       "3      4      9      5\n",
       "4      5     10      6"
      ]
     },
     "execution_count": 19,
     "metadata": {},
     "output_type": "execute_result"
    }
   ],
   "source": [
    "df2.filter(regex='^age', axis=1)"
   ]
  },
  {
   "cell_type": "markdown",
   "id": "93f65625",
   "metadata": {
    "id": "2IWsc4Sc1-w7"
   },
   "source": [
    "Trong pandas thì `axis=1` là làm việc với cột và `axis=0` là làm việc với dòng. Giá trị của `regex=^age` có nghĩa là lọc các cột có chuỗi ký tự là `age` đứng đầu."
   ]
  },
  {
   "cell_type": "markdown",
   "id": "e479d9b8",
   "metadata": {
    "id": "lBG6yLOp3ROI"
   },
   "source": [
    "## 2.2.3. Sort dữ liệu\n",
    "\n",
    "Trong nhiều trường hợp bạn sẽ cần sort dữ liệu theo chiều từ thấp lên cao hoặc từ cao xuống thấp để biết đâu là những quan sát nhỏ nhất và lớn nhất cũng như việc tạo ra một đồ thị có trend rõ ràng và thể hiện quan hệ tuyến tính giữa các biến theo trend.\n",
    "\n",
    "Để sort dữ liệu chúng ta sử dụng hàm `df.sort_values(.)`. Lựa chọn là `ascending = True` giúp sort theo thứ tự tăng dần, trường hợp `False` sẽ giảm dần.\n",
    "\n",
    "Giả sử bên dưới chúng ta cùng sort giá trị của căn nhà theo chiều giảm dần."
   ]
  },
  {
   "cell_type": "code",
   "execution_count": 20,
   "id": "0cfeda64",
   "metadata": {
    "colab": {
     "base_uri": "https://localhost:8080/",
     "height": 204
    },
    "deletable": true,
    "editable": true,
    "id": "tVOlfl66SzKe",
    "outputId": "20abdf6d-3405-4a7c-846e-3c75483c831f"
   },
   "outputs": [
    {
     "data": {
      "text/html": [
       "<div>\n",
       "<style scoped>\n",
       "    .dataframe tbody tr th:only-of-type {\n",
       "        vertical-align: middle;\n",
       "    }\n",
       "\n",
       "    .dataframe tbody tr th {\n",
       "        vertical-align: top;\n",
       "    }\n",
       "\n",
       "    .dataframe thead th {\n",
       "        text-align: right;\n",
       "    }\n",
       "</style>\n",
       "<table border=\"1\" class=\"dataframe\">\n",
       "  <thead>\n",
       "    <tr style=\"text-align: right;\">\n",
       "      <th></th>\n",
       "      <th>crim</th>\n",
       "      <th>zn</th>\n",
       "      <th>indus</th>\n",
       "      <th>chas</th>\n",
       "      <th>nox</th>\n",
       "      <th>rm</th>\n",
       "      <th>age</th>\n",
       "      <th>dis</th>\n",
       "      <th>rad</th>\n",
       "      <th>tax</th>\n",
       "      <th>ptratio</th>\n",
       "      <th>b</th>\n",
       "      <th>lstat</th>\n",
       "      <th>medv</th>\n",
       "    </tr>\n",
       "  </thead>\n",
       "  <tbody>\n",
       "    <tr>\n",
       "      <th>283</th>\n",
       "      <td>0.01501</td>\n",
       "      <td>90.0</td>\n",
       "      <td>1.21</td>\n",
       "      <td>1</td>\n",
       "      <td>0.401</td>\n",
       "      <td>7.923</td>\n",
       "      <td>24.8</td>\n",
       "      <td>5.8850</td>\n",
       "      <td>1</td>\n",
       "      <td>198</td>\n",
       "      <td>13.6</td>\n",
       "      <td>395.52</td>\n",
       "      <td>3.16</td>\n",
       "      <td>50.0</td>\n",
       "    </tr>\n",
       "    <tr>\n",
       "      <th>225</th>\n",
       "      <td>0.52693</td>\n",
       "      <td>0.0</td>\n",
       "      <td>6.20</td>\n",
       "      <td>0</td>\n",
       "      <td>0.504</td>\n",
       "      <td>8.725</td>\n",
       "      <td>83.0</td>\n",
       "      <td>2.8944</td>\n",
       "      <td>8</td>\n",
       "      <td>307</td>\n",
       "      <td>17.4</td>\n",
       "      <td>382.00</td>\n",
       "      <td>4.63</td>\n",
       "      <td>50.0</td>\n",
       "    </tr>\n",
       "    <tr>\n",
       "      <th>369</th>\n",
       "      <td>5.66998</td>\n",
       "      <td>0.0</td>\n",
       "      <td>18.10</td>\n",
       "      <td>1</td>\n",
       "      <td>0.631</td>\n",
       "      <td>6.683</td>\n",
       "      <td>96.8</td>\n",
       "      <td>1.3567</td>\n",
       "      <td>24</td>\n",
       "      <td>666</td>\n",
       "      <td>20.2</td>\n",
       "      <td>375.33</td>\n",
       "      <td>3.73</td>\n",
       "      <td>50.0</td>\n",
       "    </tr>\n",
       "    <tr>\n",
       "      <th>370</th>\n",
       "      <td>6.53876</td>\n",
       "      <td>0.0</td>\n",
       "      <td>18.10</td>\n",
       "      <td>1</td>\n",
       "      <td>0.631</td>\n",
       "      <td>7.016</td>\n",
       "      <td>97.5</td>\n",
       "      <td>1.2024</td>\n",
       "      <td>24</td>\n",
       "      <td>666</td>\n",
       "      <td>20.2</td>\n",
       "      <td>392.05</td>\n",
       "      <td>2.96</td>\n",
       "      <td>50.0</td>\n",
       "    </tr>\n",
       "    <tr>\n",
       "      <th>371</th>\n",
       "      <td>9.23230</td>\n",
       "      <td>0.0</td>\n",
       "      <td>18.10</td>\n",
       "      <td>0</td>\n",
       "      <td>0.631</td>\n",
       "      <td>6.216</td>\n",
       "      <td>100.0</td>\n",
       "      <td>1.1691</td>\n",
       "      <td>24</td>\n",
       "      <td>666</td>\n",
       "      <td>20.2</td>\n",
       "      <td>366.15</td>\n",
       "      <td>9.53</td>\n",
       "      <td>50.0</td>\n",
       "    </tr>\n",
       "  </tbody>\n",
       "</table>\n",
       "</div>"
      ],
      "text/plain": [
       "        crim    zn  indus  chas    nox     rm    age     dis  rad  tax  \\\n",
       "283  0.01501  90.0   1.21     1  0.401  7.923   24.8  5.8850    1  198   \n",
       "225  0.52693   0.0   6.20     0  0.504  8.725   83.0  2.8944    8  307   \n",
       "369  5.66998   0.0  18.10     1  0.631  6.683   96.8  1.3567   24  666   \n",
       "370  6.53876   0.0  18.10     1  0.631  7.016   97.5  1.2024   24  666   \n",
       "371  9.23230   0.0  18.10     0  0.631  6.216  100.0  1.1691   24  666   \n",
       "\n",
       "     ptratio       b  lstat  medv  \n",
       "283     13.6  395.52   3.16  50.0  \n",
       "225     17.4  382.00   4.63  50.0  \n",
       "369     20.2  375.33   3.73  50.0  \n",
       "370     20.2  392.05   2.96  50.0  \n",
       "371     20.2  366.15   9.53  50.0  "
      ]
     },
     "execution_count": 20,
     "metadata": {},
     "output_type": "execute_result"
    }
   ],
   "source": [
    "#Sort data\n",
    "df.sort_values('medv', ascending = False).head()"
   ]
  },
  {
   "cell_type": "markdown",
   "id": "a4d409e1",
   "metadata": {
    "id": "B8aY1uMg4wwM"
   },
   "source": [
    "chúng ta cũng có thể sort theo một nhóm các trường. Ví dụ để sort đồng thời giá trị của căn nhà và giá trị thuế suất thì ta truyền vào list các trường cần sort là `['medv', 'tax']`."
   ]
  },
  {
   "cell_type": "code",
   "execution_count": 21,
   "id": "e0d2f905",
   "metadata": {
    "colab": {
     "base_uri": "https://localhost:8080/",
     "height": 204
    },
    "id": "--W6U5kN46OH",
    "outputId": "142ba670-116a-4549-ee94-5e0f2e675faa"
   },
   "outputs": [
    {
     "data": {
      "text/html": [
       "<div>\n",
       "<style scoped>\n",
       "    .dataframe tbody tr th:only-of-type {\n",
       "        vertical-align: middle;\n",
       "    }\n",
       "\n",
       "    .dataframe tbody tr th {\n",
       "        vertical-align: top;\n",
       "    }\n",
       "\n",
       "    .dataframe thead th {\n",
       "        text-align: right;\n",
       "    }\n",
       "</style>\n",
       "<table border=\"1\" class=\"dataframe\">\n",
       "  <thead>\n",
       "    <tr style=\"text-align: right;\">\n",
       "      <th></th>\n",
       "      <th>crim</th>\n",
       "      <th>zn</th>\n",
       "      <th>indus</th>\n",
       "      <th>chas</th>\n",
       "      <th>nox</th>\n",
       "      <th>rm</th>\n",
       "      <th>age</th>\n",
       "      <th>dis</th>\n",
       "      <th>rad</th>\n",
       "      <th>tax</th>\n",
       "      <th>ptratio</th>\n",
       "      <th>b</th>\n",
       "      <th>lstat</th>\n",
       "      <th>medv</th>\n",
       "    </tr>\n",
       "  </thead>\n",
       "  <tbody>\n",
       "    <tr>\n",
       "      <th>368</th>\n",
       "      <td>4.89822</td>\n",
       "      <td>0.0</td>\n",
       "      <td>18.1</td>\n",
       "      <td>0</td>\n",
       "      <td>0.631</td>\n",
       "      <td>4.970</td>\n",
       "      <td>100.0</td>\n",
       "      <td>1.3325</td>\n",
       "      <td>24</td>\n",
       "      <td>666</td>\n",
       "      <td>20.2</td>\n",
       "      <td>375.52</td>\n",
       "      <td>3.26</td>\n",
       "      <td>50.0</td>\n",
       "    </tr>\n",
       "    <tr>\n",
       "      <th>369</th>\n",
       "      <td>5.66998</td>\n",
       "      <td>0.0</td>\n",
       "      <td>18.1</td>\n",
       "      <td>1</td>\n",
       "      <td>0.631</td>\n",
       "      <td>6.683</td>\n",
       "      <td>96.8</td>\n",
       "      <td>1.3567</td>\n",
       "      <td>24</td>\n",
       "      <td>666</td>\n",
       "      <td>20.2</td>\n",
       "      <td>375.33</td>\n",
       "      <td>3.73</td>\n",
       "      <td>50.0</td>\n",
       "    </tr>\n",
       "    <tr>\n",
       "      <th>370</th>\n",
       "      <td>6.53876</td>\n",
       "      <td>0.0</td>\n",
       "      <td>18.1</td>\n",
       "      <td>1</td>\n",
       "      <td>0.631</td>\n",
       "      <td>7.016</td>\n",
       "      <td>97.5</td>\n",
       "      <td>1.2024</td>\n",
       "      <td>24</td>\n",
       "      <td>666</td>\n",
       "      <td>20.2</td>\n",
       "      <td>392.05</td>\n",
       "      <td>2.96</td>\n",
       "      <td>50.0</td>\n",
       "    </tr>\n",
       "    <tr>\n",
       "      <th>371</th>\n",
       "      <td>9.23230</td>\n",
       "      <td>0.0</td>\n",
       "      <td>18.1</td>\n",
       "      <td>0</td>\n",
       "      <td>0.631</td>\n",
       "      <td>6.216</td>\n",
       "      <td>100.0</td>\n",
       "      <td>1.1691</td>\n",
       "      <td>24</td>\n",
       "      <td>666</td>\n",
       "      <td>20.2</td>\n",
       "      <td>366.15</td>\n",
       "      <td>9.53</td>\n",
       "      <td>50.0</td>\n",
       "    </tr>\n",
       "    <tr>\n",
       "      <th>372</th>\n",
       "      <td>8.26725</td>\n",
       "      <td>0.0</td>\n",
       "      <td>18.1</td>\n",
       "      <td>1</td>\n",
       "      <td>0.668</td>\n",
       "      <td>5.875</td>\n",
       "      <td>89.6</td>\n",
       "      <td>1.1296</td>\n",
       "      <td>24</td>\n",
       "      <td>666</td>\n",
       "      <td>20.2</td>\n",
       "      <td>347.88</td>\n",
       "      <td>8.88</td>\n",
       "      <td>50.0</td>\n",
       "    </tr>\n",
       "  </tbody>\n",
       "</table>\n",
       "</div>"
      ],
      "text/plain": [
       "        crim   zn  indus  chas    nox     rm    age     dis  rad  tax  \\\n",
       "368  4.89822  0.0   18.1     0  0.631  4.970  100.0  1.3325   24  666   \n",
       "369  5.66998  0.0   18.1     1  0.631  6.683   96.8  1.3567   24  666   \n",
       "370  6.53876  0.0   18.1     1  0.631  7.016   97.5  1.2024   24  666   \n",
       "371  9.23230  0.0   18.1     0  0.631  6.216  100.0  1.1691   24  666   \n",
       "372  8.26725  0.0   18.1     1  0.668  5.875   89.6  1.1296   24  666   \n",
       "\n",
       "     ptratio       b  lstat  medv  \n",
       "368     20.2  375.52   3.26  50.0  \n",
       "369     20.2  375.33   3.73  50.0  \n",
       "370     20.2  392.05   2.96  50.0  \n",
       "371     20.2  366.15   9.53  50.0  \n",
       "372     20.2  347.88   8.88  50.0  "
      ]
     },
     "execution_count": 21,
     "metadata": {},
     "output_type": "execute_result"
    }
   ],
   "source": [
    "df.sort_values(['medv', 'tax'], ascending = False).head()"
   ]
  },
  {
   "cell_type": "markdown",
   "id": "d4fc503a",
   "metadata": {
    "id": "6hs8u-KI58Em"
   },
   "source": [
    "## 2.2.4. Các hàm đối với một trường"
   ]
  },
  {
   "cell_type": "markdown",
   "id": "69e2615d",
   "metadata": {
    "id": "SLhCPegz9iot"
   },
   "source": [
    "### 2.2.4.1. Min, max, mean, meadian, sum\n",
    "\n",
    "Trên một trường dữ liệu của dataframe đã tích hợp sẵn các hàm tính toán như `min, max, mean, median, sum` để tính các giá trị đặc trưng cho từng trường."
   ]
  },
  {
   "cell_type": "code",
   "execution_count": 22,
   "id": "ef7eb617",
   "metadata": {
    "colab": {
     "base_uri": "https://localhost:8080/"
    },
    "deletable": true,
    "editable": true,
    "id": "8f1IvxVaSzKv",
    "outputId": "62fde870-3d84-434f-9a1e-a50589e29b4a"
   },
   "outputs": [
    {
     "name": "stdout",
     "output_type": "stream",
     "text": [
      "187 711 408.2371541501976 330.0 206568\n"
     ]
    }
   ],
   "source": [
    "# min, max, mean, median, sum\n",
    "print(df['tax'].min(), df['tax'].max(), df['tax'].mean(), df['tax'].median(), df['tax'].sum())"
   ]
  },
  {
   "cell_type": "markdown",
   "id": "2898c5e8",
   "metadata": {
    "id": "Q2br0ypm6yzR"
   },
   "source": [
    "### 2.2.4.2. Hàm cut\n",
    "\n",
    "Hàm cut giúp ta phân chia giá trị của một trường liên tục vào những khoảng theo ngưỡng cắt. Kết quả trả ra là nhãn của từng khoảng mà chúng ta khai báo."
   ]
  },
  {
   "cell_type": "code",
   "execution_count": 23,
   "id": "27202ad8",
   "metadata": {
    "colab": {
     "base_uri": "https://localhost:8080/",
     "height": 204
    },
    "id": "Ys2dkJAa61Tw",
    "outputId": "b5f0603d-147b-4c3c-c906-d00a3639f7b2"
   },
   "outputs": [
    {
     "data": {
      "text/html": [
       "<div>\n",
       "<style scoped>\n",
       "    .dataframe tbody tr th:only-of-type {\n",
       "        vertical-align: middle;\n",
       "    }\n",
       "\n",
       "    .dataframe tbody tr th {\n",
       "        vertical-align: top;\n",
       "    }\n",
       "\n",
       "    .dataframe thead th {\n",
       "        text-align: right;\n",
       "    }\n",
       "</style>\n",
       "<table border=\"1\" class=\"dataframe\">\n",
       "  <thead>\n",
       "    <tr style=\"text-align: right;\">\n",
       "      <th></th>\n",
       "      <th>crim</th>\n",
       "      <th>zn</th>\n",
       "      <th>indus</th>\n",
       "      <th>chas</th>\n",
       "      <th>nox</th>\n",
       "      <th>rm</th>\n",
       "      <th>age</th>\n",
       "      <th>dis</th>\n",
       "      <th>rad</th>\n",
       "      <th>tax</th>\n",
       "      <th>ptratio</th>\n",
       "      <th>b</th>\n",
       "      <th>lstat</th>\n",
       "      <th>medv</th>\n",
       "      <th>tax_labels</th>\n",
       "    </tr>\n",
       "  </thead>\n",
       "  <tbody>\n",
       "    <tr>\n",
       "      <th>54</th>\n",
       "      <td>0.01360</td>\n",
       "      <td>75.0</td>\n",
       "      <td>4.00</td>\n",
       "      <td>0</td>\n",
       "      <td>0.410</td>\n",
       "      <td>5.888</td>\n",
       "      <td>47.6</td>\n",
       "      <td>7.3197</td>\n",
       "      <td>3</td>\n",
       "      <td>469</td>\n",
       "      <td>21.1</td>\n",
       "      <td>396.90</td>\n",
       "      <td>14.80</td>\n",
       "      <td>18.9</td>\n",
       "      <td>high</td>\n",
       "    </tr>\n",
       "    <tr>\n",
       "      <th>111</th>\n",
       "      <td>0.10084</td>\n",
       "      <td>0.0</td>\n",
       "      <td>10.01</td>\n",
       "      <td>0</td>\n",
       "      <td>0.547</td>\n",
       "      <td>6.715</td>\n",
       "      <td>81.6</td>\n",
       "      <td>2.6775</td>\n",
       "      <td>6</td>\n",
       "      <td>432</td>\n",
       "      <td>17.8</td>\n",
       "      <td>395.59</td>\n",
       "      <td>10.16</td>\n",
       "      <td>22.8</td>\n",
       "      <td>high</td>\n",
       "    </tr>\n",
       "    <tr>\n",
       "      <th>112</th>\n",
       "      <td>0.12329</td>\n",
       "      <td>0.0</td>\n",
       "      <td>10.01</td>\n",
       "      <td>0</td>\n",
       "      <td>0.547</td>\n",
       "      <td>5.913</td>\n",
       "      <td>92.9</td>\n",
       "      <td>2.3534</td>\n",
       "      <td>6</td>\n",
       "      <td>432</td>\n",
       "      <td>17.8</td>\n",
       "      <td>394.95</td>\n",
       "      <td>16.21</td>\n",
       "      <td>18.8</td>\n",
       "      <td>high</td>\n",
       "    </tr>\n",
       "    <tr>\n",
       "      <th>113</th>\n",
       "      <td>0.22212</td>\n",
       "      <td>0.0</td>\n",
       "      <td>10.01</td>\n",
       "      <td>0</td>\n",
       "      <td>0.547</td>\n",
       "      <td>6.092</td>\n",
       "      <td>95.4</td>\n",
       "      <td>2.5480</td>\n",
       "      <td>6</td>\n",
       "      <td>432</td>\n",
       "      <td>17.8</td>\n",
       "      <td>396.90</td>\n",
       "      <td>17.09</td>\n",
       "      <td>18.7</td>\n",
       "      <td>high</td>\n",
       "    </tr>\n",
       "    <tr>\n",
       "      <th>114</th>\n",
       "      <td>0.14231</td>\n",
       "      <td>0.0</td>\n",
       "      <td>10.01</td>\n",
       "      <td>0</td>\n",
       "      <td>0.547</td>\n",
       "      <td>6.254</td>\n",
       "      <td>84.2</td>\n",
       "      <td>2.2565</td>\n",
       "      <td>6</td>\n",
       "      <td>432</td>\n",
       "      <td>17.8</td>\n",
       "      <td>388.74</td>\n",
       "      <td>10.45</td>\n",
       "      <td>18.5</td>\n",
       "      <td>high</td>\n",
       "    </tr>\n",
       "  </tbody>\n",
       "</table>\n",
       "</div>"
      ],
      "text/plain": [
       "        crim    zn  indus  chas    nox     rm   age     dis  rad  tax  \\\n",
       "54   0.01360  75.0   4.00     0  0.410  5.888  47.6  7.3197    3  469   \n",
       "111  0.10084   0.0  10.01     0  0.547  6.715  81.6  2.6775    6  432   \n",
       "112  0.12329   0.0  10.01     0  0.547  5.913  92.9  2.3534    6  432   \n",
       "113  0.22212   0.0  10.01     0  0.547  6.092  95.4  2.5480    6  432   \n",
       "114  0.14231   0.0  10.01     0  0.547  6.254  84.2  2.2565    6  432   \n",
       "\n",
       "     ptratio       b  lstat  medv tax_labels  \n",
       "54      21.1  396.90  14.80  18.9       high  \n",
       "111     17.8  395.59  10.16  22.8       high  \n",
       "112     17.8  394.95  16.21  18.8       high  \n",
       "113     17.8  396.90  17.09  18.7       high  \n",
       "114     17.8  388.74  10.45  18.5       high  "
      ]
     },
     "execution_count": 23,
     "metadata": {},
     "output_type": "execute_result"
    }
   ],
   "source": [
    "bins = [-999999, 250, 400, 999999]\n",
    "labels = ['low', 'normal', 'high']\n",
    "# low: -999999 <- 250\n",
    "# normal: 250 <- 400\n",
    "# high: 400 <- 999999\n",
    "df['tax_labels'] = pd.cut(df['tax'], bins=bins, labels=labels)\n",
    "df[df['tax_labels']=='high'].head()"
   ]
  },
  {
   "cell_type": "markdown",
   "id": "d15bdd33",
   "metadata": {
    "id": "fd-gKdLf9kZI"
   },
   "source": [
    "### 2.2.4.3. Hàm qcut\n",
    "\n",
    "Trong trường hợp chúng ta không muốn chia các bin dựa vào ngưỡng mà chỉ muốn khai báo số lượng bins và để cho hàm số tự quyết định ngưỡng để chia đều các quan sát vào các bins thì sử dụng hàm `pd.qcut(.)` (qcut là viết tắt của quantile cut). Bên dưới ta sẽ chia thành 3 bins (số bins sẽ được khai báo trong `q=3`) với labels tương ứng là `['low', 'normal', 'high']`"
   ]
  },
  {
   "cell_type": "code",
   "execution_count": 24,
   "id": "10aded3c",
   "metadata": {
    "colab": {
     "base_uri": "https://localhost:8080/"
    },
    "id": "16Qlc0JK9oGl",
    "outputId": "7932aafb-f481-439a-b9ac-1f1ce7e9f881"
   },
   "outputs": [
    {
     "data": {
      "text/plain": [
       "(array(['high', 'low', 'normal'], dtype=object), array([168, 172, 166]))"
      ]
     },
     "execution_count": 24,
     "metadata": {},
     "output_type": "execute_result"
    }
   ],
   "source": [
    "import numpy as np\n",
    "\n",
    "labels = ['low', 'normal', 'high']\n",
    "tax_labels = pd.qcut(df['tax'], q=3, labels=labels)\n",
    "np.unique(tax_labels, return_counts = True)"
   ]
  },
  {
   "cell_type": "markdown",
   "id": "c82d6ec1",
   "metadata": {
    "id": "xYUQzpmg-uyg"
   },
   "source": [
    "Trường hợp muốn xác định tỷ lệ phần trăm **luỹ kế** của các ngưỡng phân chia ta có thể khai báo q là list gồm các ngưỡng luỹ kế. Ví dụ bên dưới ta muốn chia làm ba khoảng giá trị, mỗi khoảng chiếm 33% thì ta khai báo ngưỡng luỹ kế `q = [0, 0.33, 0.66, 1]`"
   ]
  },
  {
   "cell_type": "markdown",
   "id": "d5bd3130",
   "metadata": {
    "id": "NdoooKORAJ82"
   },
   "source": [
    "### 2.2.4.4. Apply\n",
    "\n",
    "Apply sẽ giúp ta biến đổi giá trị của một trường theo một hàm số xác định trước. Hàm số biến đổi được áp dụng trong apply sẽ là một hàm `lamda`. Hàm lambda là một khái niệm rất quan trọng trong python, hàm số này có cú pháp dạng `lambda x: formula`.\n",
    "\n",
    "Phân tích kỹ hơn thì chúng ta thấy nó không có return. Điều này là phù hợp với ý nghĩa của hàm lambda vì nó không yêu cầu gía trị trả về ngay. Thực tế nó giống như một lời hứa sẽ thực hiện hàm đó tại thời điểm áp dụng một cách ngầm định bên trong một hàm khác (ở đây là hàm apply).\n",
    "\n",
    "Ví dụ bên dưới ta muốn nhân đôi giá trị của tax thì có thể sử dụng hàm apply với lambda như sau:"
   ]
  },
  {
   "cell_type": "code",
   "execution_count": 25,
   "id": "d0934075",
   "metadata": {
    "colab": {
     "base_uri": "https://localhost:8080/"
    },
    "id": "eLCcAq-BAZ6i",
    "outputId": "cec19196-41c3-478f-91c3-87116ce890c4"
   },
   "outputs": [
    {
     "data": {
      "text/plain": [
       "0    592\n",
       "1    484\n",
       "2    484\n",
       "3    444\n",
       "4    444\n",
       "Name: tax, dtype: int64"
      ]
     },
     "execution_count": 25,
     "metadata": {},
     "output_type": "execute_result"
    }
   ],
   "source": [
    "df['tax'].apply(lambda x: 2*x).head()"
   ]
  },
  {
   "cell_type": "markdown",
   "id": "86a9d239",
   "metadata": {
    "id": "o7_il3CCAz-p"
   },
   "source": [
    "Ta cũng có thể áp dụng cho nhiều trường một lúc. Khi đó cần khai báo `axis=1` để biết rằng ta đang áp dụng trên từng cột, nếu axis=0 thì sẽ áp dụng trên từng dòng."
   ]
  },
  {
   "cell_type": "code",
   "execution_count": 26,
   "id": "776dbf12",
   "metadata": {
    "colab": {
     "base_uri": "https://localhost:8080/",
     "height": 204
    },
    "id": "nlch5qPtBAcW",
    "outputId": "778712dc-8d49-4f39-a522-1cefeefc0455"
   },
   "outputs": [
    {
     "data": {
      "text/html": [
       "<div>\n",
       "<style scoped>\n",
       "    .dataframe tbody tr th:only-of-type {\n",
       "        vertical-align: middle;\n",
       "    }\n",
       "\n",
       "    .dataframe tbody tr th {\n",
       "        vertical-align: top;\n",
       "    }\n",
       "\n",
       "    .dataframe thead th {\n",
       "        text-align: right;\n",
       "    }\n",
       "</style>\n",
       "<table border=\"1\" class=\"dataframe\">\n",
       "  <thead>\n",
       "    <tr style=\"text-align: right;\">\n",
       "      <th></th>\n",
       "      <th>tax</th>\n",
       "      <th>medv</th>\n",
       "    </tr>\n",
       "  </thead>\n",
       "  <tbody>\n",
       "    <tr>\n",
       "      <th>0</th>\n",
       "      <td>592.0</td>\n",
       "      <td>48.0</td>\n",
       "    </tr>\n",
       "    <tr>\n",
       "      <th>1</th>\n",
       "      <td>484.0</td>\n",
       "      <td>43.2</td>\n",
       "    </tr>\n",
       "    <tr>\n",
       "      <th>2</th>\n",
       "      <td>484.0</td>\n",
       "      <td>69.4</td>\n",
       "    </tr>\n",
       "    <tr>\n",
       "      <th>3</th>\n",
       "      <td>444.0</td>\n",
       "      <td>66.8</td>\n",
       "    </tr>\n",
       "    <tr>\n",
       "      <th>4</th>\n",
       "      <td>444.0</td>\n",
       "      <td>72.4</td>\n",
       "    </tr>\n",
       "  </tbody>\n",
       "</table>\n",
       "</div>"
      ],
      "text/plain": [
       "     tax  medv\n",
       "0  592.0  48.0\n",
       "1  484.0  43.2\n",
       "2  484.0  69.4\n",
       "3  444.0  66.8\n",
       "4  444.0  72.4"
      ]
     },
     "execution_count": 26,
     "metadata": {},
     "output_type": "execute_result"
    }
   ],
   "source": [
    "df[['tax', 'medv']].apply(lambda x: 2*x, axis=1).head()"
   ]
  },
  {
   "cell_type": "markdown",
   "id": "929a73ed",
   "metadata": {
    "id": "q8QX2M-tCleA"
   },
   "source": [
    "### 2.2.4.5. Map\n",
    "\n",
    "Map là hàm giúp biến đổi giá trị của một biến sang giá trị mới dựa trên dictionary mà chúng ta áp dụng. Giá trị cũ sẽ là key và giá trị mới sẽ là value.\n",
    "\n",
    "Bên dưới ta sẽ map các giá trị của trường `df['tax_labels']` sang các giá trị tiếng Việt."
   ]
  },
  {
   "cell_type": "code",
   "execution_count": 27,
   "id": "23f6515f",
   "metadata": {
    "colab": {
     "base_uri": "https://localhost:8080/"
    },
    "id": "NfMuCbBNCzdk",
    "outputId": "b828dd0f-f3bf-4d54-dd52-fd9eef3d00d0"
   },
   "outputs": [
    {
     "data": {
      "text/plain": [
       "0      tb\n",
       "1    thap\n",
       "2    thap\n",
       "3    thap\n",
       "4    thap\n",
       "Name: tax_labels, dtype: category\n",
       "Categories (3, object): ['thap' < 'tb' < 'cao']"
      ]
     },
     "execution_count": 27,
     "metadata": {},
     "output_type": "execute_result"
    }
   ],
   "source": [
    "dict_tax = {\n",
    "      'low':'thap',\n",
    "      'normal':'tb',        \n",
    "      'high':'cao'\n",
    "    }\n",
    "    \n",
    "df['tax_labels'].map(dict_tax).head()"
   ]
  },
  {
   "cell_type": "markdown",
   "id": "333285d3",
   "metadata": {
    "id": "bzHoU7CWDbRi"
   },
   "source": [
    "## 2.2.5. Biểu đồ matplotlib trên pandas\n",
    "\n",
    "Chúng ta có thể nói rằng pandas rất mạnh vì nó đã wrap dường như toàn bộ các đồ thị cơ bản của matplotlib vào bên trong các hàm thành phần của pandas column. Do đó việc visualize trở nên vô cùng ngắn gọn, thậm chí là chỉ trên một dòng.\n",
    "\n",
    "Bên dưới chúng ta sẽ cùng lướt qua nhanh các đồ thị cơ bản khi visualize trên `pd.column`. Biến được áp dụng đồng nhất cho các đồ thị là `tax`.\n",
    "\n",
    "**1. biểu đồ line**"
   ]
  },
  {
   "cell_type": "code",
   "execution_count": 28,
   "id": "2661c834",
   "metadata": {
    "colab": {
     "base_uri": "https://localhost:8080/",
     "height": 282
    },
    "id": "-FHtcPvT_wiM",
    "outputId": "46d712d0-cf56-4825-d3f1-3371ba9820ff"
   },
   "outputs": [
    {
     "data": {
      "text/plain": [
       "<AxesSubplot:>"
      ]
     },
     "execution_count": 28,
     "metadata": {},
     "output_type": "execute_result"
    },
    {
     "data": {
      "image/png": "[encoded data removed]",
      "text/plain": [
       "<Figure size 432x288 with 1 Axes>"
      ]
     },
     "metadata": {
      "filenames": {
       "image/png": "/home/khanh/Documents/KhanhBlog/deepai-book/book/_build/jupyter_execute/ch_appendix/appendix_pandas_60_1.png"
      },
      "needs_background": "light"
     },
     "output_type": "display_data"
    }
   ],
   "source": [
    "df['tax'].plot()"
   ]
  },
  {
   "cell_type": "markdown",
   "id": "014a763c",
   "metadata": {
    "id": "qlV2PPNHGZYz"
   },
   "source": [
    "**2. Biểu đồ line kết hợp với point**"
   ]
  },
  {
   "cell_type": "code",
   "execution_count": 29,
   "id": "2cc674c5",
   "metadata": {
    "colab": {
     "base_uri": "https://localhost:8080/",
     "height": 282
    },
    "id": "1cTXZvGUGelF",
    "outputId": "da107429-101e-4044-e869-013dd7b2caa4"
   },
   "outputs": [
    {
     "data": {
      "text/plain": [
       "<AxesSubplot:>"
      ]
     },
     "execution_count": 29,
     "metadata": {},
     "output_type": "execute_result"
    },
    {
     "data": {
      "image/png": "[encoded data removed]",
      "text/plain": [
       "<Figure size 432x288 with 1 Axes>"
      ]
     },
     "metadata": {
      "filenames": {
       "image/png": "/home/khanh/Documents/KhanhBlog/deepai-book/book/_build/jupyter_execute/ch_appendix/appendix_pandas_62_1.png"
      },
      "needs_background": "light"
     },
     "output_type": "display_data"
    }
   ],
   "source": [
    "df['tax'].plot(marker='o')"
   ]
  },
  {
   "cell_type": "markdown",
   "id": "0e76026e",
   "metadata": {
    "id": "wvMU3iEyEbur"
   },
   "source": [
    "**3. Biểu đồ barchart**\n",
    "\n",
    "Biều đồ này được dùng phù hợp khi chúng ta muốn so sánh chênh lệch giữa các nhóm về mặt giá trị tuyệt đối."
   ]
  },
  {
   "cell_type": "code",
   "execution_count": 30,
   "id": "aac162a1",
   "metadata": {
    "colab": {
     "base_uri": "https://localhost:8080/",
     "height": 322
    },
    "id": "gKpHgzepE-of",
    "outputId": "f7467ebf-72dc-48ee-ad73-ca4c0f2b144b"
   },
   "outputs": [
    {
     "data": {
      "text/plain": [
       "<AxesSubplot:xlabel='tax_labels'>"
      ]
     },
     "execution_count": 30,
     "metadata": {},
     "output_type": "execute_result"
    },
    {
     "data": {
      "image/png": "[encoded data removed]",
      "text/plain": [
       "<Figure size 432x288 with 1 Axes>"
      ]
     },
     "metadata": {
      "filenames": {
       "image/png": "/home/khanh/Documents/KhanhBlog/deepai-book/book/_build/jupyter_execute/ch_appendix/appendix_pandas_64_1.png"
      },
      "needs_background": "light"
     },
     "output_type": "display_data"
    }
   ],
   "source": [
    "df_summary = df[['tax_labels', 'tax']].groupby('tax_labels').sum()\n",
    "df_summary.plot.bar()"
   ]
  },
  {
   "cell_type": "markdown",
   "id": "9ed35a10",
   "metadata": {
    "id": "Ah126m4pFcFE"
   },
   "source": [
    "Ở đây ta sẽ phải dùng thêm hàm groupby để tạo thành bảng thống kê tổng thuế theo `tax_labels` rồi mới vẽ biểu đồ. Khi quen thuộc bạn có thể viết gọn hai câu lệnh lại thành một line như sau:"
   ]
  },
  {
   "cell_type": "code",
   "execution_count": 31,
   "id": "a0b3ec74",
   "metadata": {
    "colab": {
     "base_uri": "https://localhost:8080/",
     "height": 322
    },
    "id": "PLKEBQH2FyVH",
    "outputId": "498c75ab-78d5-4bad-faff-508d08364235"
   },
   "outputs": [
    {
     "data": {
      "text/plain": [
       "<AxesSubplot:xlabel='tax_labels'>"
      ]
     },
     "execution_count": 31,
     "metadata": {},
     "output_type": "execute_result"
    },
    {
     "data": {
      "image/png": "[encoded data removed]",
      "text/plain": [
       "<Figure size 432x288 with 1 Axes>"
      ]
     },
     "metadata": {
      "filenames": {
       "image/png": "/home/khanh/Documents/KhanhBlog/deepai-book/book/_build/jupyter_execute/ch_appendix/appendix_pandas_66_1.png"
      },
      "needs_background": "light"
     },
     "output_type": "display_data"
    }
   ],
   "source": [
    "df[['tax_labels', 'tax']].groupby('tax_labels').sum().plot.bar()"
   ]
  },
  {
   "cell_type": "markdown",
   "id": "4809574e",
   "metadata": {
    "id": "FzUziXUMF2-B"
   },
   "source": [
    "**4. Biểu đồ pie**\n",
    "\n",
    "Đây là biểu đồ dùng để thể hiện giá trị phần trăm. Phù hợp khi so sánh giá trị tương đối giữa các nhóm."
   ]
  },
  {
   "cell_type": "code",
   "execution_count": 32,
   "id": "467cdc79",
   "metadata": {
    "colab": {
     "base_uri": "https://localhost:8080/",
     "height": 265
    },
    "id": "W6wAkAhtF592",
    "outputId": "ae7d7fe2-9c06-41fd-9396-03665b118a09"
   },
   "outputs": [
    {
     "data": {
      "text/plain": [
       "<AxesSubplot:ylabel='tax'>"
      ]
     },
     "execution_count": 32,
     "metadata": {},
     "output_type": "execute_result"
    },
    {
     "data": {
      "image/png": "[encoded data removed]",
      "text/plain": [
       "<Figure size 432x288 with 1 Axes>"
      ]
     },
     "metadata": {
      "filenames": {
       "image/png": "/home/khanh/Documents/KhanhBlog/deepai-book/book/_build/jupyter_execute/ch_appendix/appendix_pandas_68_1.png"
      }
     },
     "output_type": "display_data"
    }
   ],
   "source": [
    "df_summary['tax'].plot.pie(autopct = '%1.1f%%')"
   ]
  },
  {
   "cell_type": "markdown",
   "id": "fb9b791f",
   "metadata": {
    "id": "ZOq4DQnmHi8a"
   },
   "source": [
    "**5. Biểu đồ boxplot**\n",
    "\n",
    "Biểu đồ boxplot sẽ được sử dụng để quan sát phân phối của biến đối với các giá trị min, max và các ngưỡng phân vị 25%, 50%, 75%. Căn cứ vào boxplot ta có thể biết được khoảng biến thiên của biến rộng hay hẹp, biến phân phối lệch trái hay phải."
   ]
  },
  {
   "cell_type": "code",
   "execution_count": 33,
   "id": "ef5b4418",
   "metadata": {
    "colab": {
     "base_uri": "https://localhost:8080/",
     "height": 282
    },
    "id": "O4VRHviBHRgX",
    "outputId": "eb227d1a-2a31-4dba-8654-7b0e46e6ee35"
   },
   "outputs": [
    {
     "data": {
      "text/plain": [
       "<AxesSubplot:>"
      ]
     },
     "execution_count": 33,
     "metadata": {},
     "output_type": "execute_result"
    },
    {
     "data": {
      "image/png": "[encoded data removed]",
      "text/plain": [
       "<Figure size 432x288 with 1 Axes>"
      ]
     },
     "metadata": {
      "filenames": {
       "image/png": "/home/khanh/Documents/KhanhBlog/deepai-book/book/_build/jupyter_execute/ch_appendix/appendix_pandas_70_1.png"
      },
      "needs_background": "light"
     },
     "output_type": "display_data"
    }
   ],
   "source": [
    "df[['tax', 'age', 'b']].boxplot()"
   ]
  },
  {
   "cell_type": "markdown",
   "id": "da2c11b2",
   "metadata": {
    "id": "WkXiMgAtIlSE"
   },
   "source": [
    "**6. Biểu đồ area**\n",
    "\n",
    "Biểu đồ area cho ta biết diện tích nằm dưới đường biểu diễn và trên trục hoành."
   ]
  },
  {
   "cell_type": "code",
   "execution_count": 34,
   "id": "f2b6494d",
   "metadata": {
    "colab": {
     "base_uri": "https://localhost:8080/",
     "height": 297
    },
    "id": "XFjqMuzTIfyc",
    "outputId": "56afae84-0f70-4d3f-9563-9a4ad0cb20bd"
   },
   "outputs": [
    {
     "data": {
      "text/plain": [
       "<AxesSubplot:xlabel='tax_labels'>"
      ]
     },
     "execution_count": 34,
     "metadata": {},
     "output_type": "execute_result"
    },
    {
     "data": {
      "image/png": "[encoded data removed]",
      "text/plain": [
       "<Figure size 432x288 with 1 Axes>"
      ]
     },
     "metadata": {
      "filenames": {
       "image/png": "/home/khanh/Documents/KhanhBlog/deepai-book/book/_build/jupyter_execute/ch_appendix/appendix_pandas_72_1.png"
      },
      "needs_background": "light"
     },
     "output_type": "display_data"
    }
   ],
   "source": [
    "df_summary['tax'].plot.area()"
   ]
  },
  {
   "cell_type": "markdown",
   "id": "82d79bd0",
   "metadata": {
    "id": "IFztwZvSvtXl"
   },
   "source": [
    "# 2.3. Reshape dataframe trên pandas"
   ]
  },
  {
   "cell_type": "markdown",
   "id": "4e862be5",
   "metadata": {
    "id": "Jq65_kYsv2R9"
   },
   "source": [
    "## 2.3.1. Melt\n",
    "\n",
    "Hàm melt là hàm được lấy ý tưởng từ ngôn ngữ R. Hàm này sẽ làm cho bảng của chúng ta trở nên bớt cồng kềnh hơn bằng cách rút gọn nhiều measurements thành hai cột variable và value trong đó cột variable qui định loại measurement và value là giá trị của measurement. Bảng của bạn sẽ có ít cột hơn đáng kể nên trông giống như các cột measurement đang bị tan chảy vậy. Do đó nó có tên gọi là melt.\n",
    "\n",
    "Bạn sẽ dễ hình dung hơn những gì mình nói thông qua ví dụ bên dưới. Giả sử bảng của mình gồm Ho, Ten là các dimensions và `ChieuCao, CanNang, Tuoi, Diem` là những measurements."
   ]
  },
  {
   "cell_type": "code",
   "execution_count": 35,
   "id": "5fd80812",
   "metadata": {
    "colab": {
     "base_uri": "https://localhost:8080/",
     "height": 111
    },
    "id": "8l0VJfAgv7Vx",
    "outputId": "b0a9ec1b-a16b-47c4-ac93-1bb7b535f186"
   },
   "outputs": [
    {
     "data": {
      "text/html": [
       "<div>\n",
       "<style scoped>\n",
       "    .dataframe tbody tr th:only-of-type {\n",
       "        vertical-align: middle;\n",
       "    }\n",
       "\n",
       "    .dataframe tbody tr th {\n",
       "        vertical-align: top;\n",
       "    }\n",
       "\n",
       "    .dataframe thead th {\n",
       "        text-align: right;\n",
       "    }\n",
       "</style>\n",
       "<table border=\"1\" class=\"dataframe\">\n",
       "  <thead>\n",
       "    <tr style=\"text-align: right;\">\n",
       "      <th></th>\n",
       "      <th>Ho</th>\n",
       "      <th>Ten</th>\n",
       "      <th>ChieuCao</th>\n",
       "      <th>CanNang</th>\n",
       "      <th>Tuoi</th>\n",
       "      <th>Diem</th>\n",
       "    </tr>\n",
       "  </thead>\n",
       "  <tbody>\n",
       "    <tr>\n",
       "      <th>0</th>\n",
       "      <td>Pham</td>\n",
       "      <td>Cong</td>\n",
       "      <td>170</td>\n",
       "      <td>60</td>\n",
       "      <td>25</td>\n",
       "      <td>8.5</td>\n",
       "    </tr>\n",
       "    <tr>\n",
       "      <th>1</th>\n",
       "      <td>Nguyen</td>\n",
       "      <td>Dong</td>\n",
       "      <td>175</td>\n",
       "      <td>65</td>\n",
       "      <td>27</td>\n",
       "      <td>9.0</td>\n",
       "    </tr>\n",
       "  </tbody>\n",
       "</table>\n",
       "</div>"
      ],
      "text/plain": [
       "       Ho   Ten  ChieuCao  CanNang  Tuoi  Diem\n",
       "0    Pham  Cong       170       60    25   8.5\n",
       "1  Nguyen  Dong       175       65    27   9.0"
      ]
     },
     "execution_count": 35,
     "metadata": {},
     "output_type": "execute_result"
    }
   ],
   "source": [
    "df5 = pd.DataFrame({\n",
    "  'Ho':['Pham','Nguyen'],\n",
    "  'Ten' :['Cong', 'Dong'],\n",
    "  'ChieuCao':[170, 175],\n",
    "  'CanNang':[60, 65],\n",
    "  'Tuoi': [25, 27],\n",
    "  'Diem': [8.5, 9.0],\n",
    "})\n",
    "\n",
    "df5"
   ]
  },
  {
   "cell_type": "markdown",
   "id": "55ddc54a",
   "metadata": {
    "id": "IidWw-xpv94A"
   },
   "source": [
    "Ta nhận thấy `Ho, Ten` là những dimension, bây giờ ta sẽ giữ nguyên những trường này và làm tan chảy các cột."
   ]
  },
  {
   "cell_type": "code",
   "execution_count": 36,
   "id": "1f96ed0a",
   "metadata": {
    "colab": {
     "base_uri": "https://localhost:8080/",
     "height": 297
    },
    "id": "hbvbAXWRwDb4",
    "outputId": "dc59fb23-39d5-4b91-87ec-1c3f98fa5373"
   },
   "outputs": [
    {
     "data": {
      "text/html": [
       "<div>\n",
       "<style scoped>\n",
       "    .dataframe tbody tr th:only-of-type {\n",
       "        vertical-align: middle;\n",
       "    }\n",
       "\n",
       "    .dataframe tbody tr th {\n",
       "        vertical-align: top;\n",
       "    }\n",
       "\n",
       "    .dataframe thead th {\n",
       "        text-align: right;\n",
       "    }\n",
       "</style>\n",
       "<table border=\"1\" class=\"dataframe\">\n",
       "  <thead>\n",
       "    <tr style=\"text-align: right;\">\n",
       "      <th></th>\n",
       "      <th>Ho</th>\n",
       "      <th>Ten</th>\n",
       "      <th>variable</th>\n",
       "      <th>value</th>\n",
       "    </tr>\n",
       "  </thead>\n",
       "  <tbody>\n",
       "    <tr>\n",
       "      <th>0</th>\n",
       "      <td>Pham</td>\n",
       "      <td>Cong</td>\n",
       "      <td>ChieuCao</td>\n",
       "      <td>170.0</td>\n",
       "    </tr>\n",
       "    <tr>\n",
       "      <th>1</th>\n",
       "      <td>Nguyen</td>\n",
       "      <td>Dong</td>\n",
       "      <td>ChieuCao</td>\n",
       "      <td>175.0</td>\n",
       "    </tr>\n",
       "    <tr>\n",
       "      <th>2</th>\n",
       "      <td>Pham</td>\n",
       "      <td>Cong</td>\n",
       "      <td>CanNang</td>\n",
       "      <td>60.0</td>\n",
       "    </tr>\n",
       "    <tr>\n",
       "      <th>3</th>\n",
       "      <td>Nguyen</td>\n",
       "      <td>Dong</td>\n",
       "      <td>CanNang</td>\n",
       "      <td>65.0</td>\n",
       "    </tr>\n",
       "    <tr>\n",
       "      <th>4</th>\n",
       "      <td>Pham</td>\n",
       "      <td>Cong</td>\n",
       "      <td>Tuoi</td>\n",
       "      <td>25.0</td>\n",
       "    </tr>\n",
       "    <tr>\n",
       "      <th>5</th>\n",
       "      <td>Nguyen</td>\n",
       "      <td>Dong</td>\n",
       "      <td>Tuoi</td>\n",
       "      <td>27.0</td>\n",
       "    </tr>\n",
       "    <tr>\n",
       "      <th>6</th>\n",
       "      <td>Pham</td>\n",
       "      <td>Cong</td>\n",
       "      <td>Diem</td>\n",
       "      <td>8.5</td>\n",
       "    </tr>\n",
       "    <tr>\n",
       "      <th>7</th>\n",
       "      <td>Nguyen</td>\n",
       "      <td>Dong</td>\n",
       "      <td>Diem</td>\n",
       "      <td>9.0</td>\n",
       "    </tr>\n",
       "  </tbody>\n",
       "</table>\n",
       "</div>"
      ],
      "text/plain": [
       "       Ho   Ten  variable  value\n",
       "0    Pham  Cong  ChieuCao  170.0\n",
       "1  Nguyen  Dong  ChieuCao  175.0\n",
       "2    Pham  Cong   CanNang   60.0\n",
       "3  Nguyen  Dong   CanNang   65.0\n",
       "4    Pham  Cong      Tuoi   25.0\n",
       "5  Nguyen  Dong      Tuoi   27.0\n",
       "6    Pham  Cong      Diem    8.5\n",
       "7  Nguyen  Dong      Diem    9.0"
      ]
     },
     "execution_count": 36,
     "metadata": {},
     "output_type": "execute_result"
    }
   ],
   "source": [
    "df5.melt(['Ho', 'Ten'])"
   ]
  },
  {
   "cell_type": "markdown",
   "id": "06e6426b",
   "metadata": {
    "id": "ozZ0QLkTwB2Q"
   },
   "source": [
    "Ta nhận thấy bảng đã trở nên gọn gàng hơn khi các cột được đưa vào trường `variable` và giá trị của chúng được đưa vào `value`.\n",
    "\n",
    "Cách biến đổi `melt` sẽ phù hợp với các bảng đã phân chia sẵn dimension, measurement rõ ràng và số lượng measurements của bảng là lớn."
   ]
  },
  {
   "cell_type": "markdown",
   "id": "59ce7058",
   "metadata": {
    "id": "TA1WbKXRwN2B"
   },
   "source": [
    "## 2.3.2. Biến đổi Dummy\n",
    "\n",
    "Cách biến đổi dummy là một cách rất hiệu quả để biến đổi một biến category thành một one-hot véc tơ. Cụ thể cũng với bảng `df5` ở trên, ta nhận thấy biến `Ho` gồm hai giá trị là `Pham` và `Nguyen`. Chúng ta có thể tạo thành một one-hot vector sao cho nếu giá trị đầu tiên là 1 thì tương ứng với họ `Pham` và giá trị thứ hai là 1 thì họ `Nguyen` (chưa xét tới trường hợp tồn tại họ khác `Pham` và `Nguyen`). Thường thì bạn sẽ nghĩ đến sử dụng hàm [LabelBinarizer](https://scikit-learn.org/stable/modules/generated/sklearn.preprocessing.LabelBinarizer.html) của sklearn nhưng pandas cung cấp cho bạn một hàm đơn giản hơn để thực hiện việc này. Đó là `pd.get_dummies()`"
   ]
  },
  {
   "cell_type": "code",
   "execution_count": 37,
   "id": "f3ce4dd4",
   "metadata": {
    "colab": {
     "base_uri": "https://localhost:8080/",
     "height": 111
    },
    "id": "uqWHQ9YYwTGq",
    "outputId": "10a95cfb-f1f3-4372-94c7-a474874f406b"
   },
   "outputs": [
    {
     "data": {
      "text/html": [
       "<div>\n",
       "<style scoped>\n",
       "    .dataframe tbody tr th:only-of-type {\n",
       "        vertical-align: middle;\n",
       "    }\n",
       "\n",
       "    .dataframe tbody tr th {\n",
       "        vertical-align: top;\n",
       "    }\n",
       "\n",
       "    .dataframe thead th {\n",
       "        text-align: right;\n",
       "    }\n",
       "</style>\n",
       "<table border=\"1\" class=\"dataframe\">\n",
       "  <thead>\n",
       "    <tr style=\"text-align: right;\">\n",
       "      <th></th>\n",
       "      <th>ChieuCao</th>\n",
       "      <th>CanNang</th>\n",
       "      <th>Tuoi</th>\n",
       "      <th>Diem</th>\n",
       "      <th>Ho_Nguyen</th>\n",
       "      <th>Ho_Pham</th>\n",
       "      <th>Ten_Cong</th>\n",
       "      <th>Ten_Dong</th>\n",
       "    </tr>\n",
       "  </thead>\n",
       "  <tbody>\n",
       "    <tr>\n",
       "      <th>0</th>\n",
       "      <td>170</td>\n",
       "      <td>60</td>\n",
       "      <td>25</td>\n",
       "      <td>8.5</td>\n",
       "      <td>0</td>\n",
       "      <td>1</td>\n",
       "      <td>1</td>\n",
       "      <td>0</td>\n",
       "    </tr>\n",
       "    <tr>\n",
       "      <th>1</th>\n",
       "      <td>175</td>\n",
       "      <td>65</td>\n",
       "      <td>27</td>\n",
       "      <td>9.0</td>\n",
       "      <td>1</td>\n",
       "      <td>0</td>\n",
       "      <td>0</td>\n",
       "      <td>1</td>\n",
       "    </tr>\n",
       "  </tbody>\n",
       "</table>\n",
       "</div>"
      ],
      "text/plain": [
       "   ChieuCao  CanNang  Tuoi  Diem  Ho_Nguyen  Ho_Pham  Ten_Cong  Ten_Dong\n",
       "0       170       60    25   8.5          0        1         1         0\n",
       "1       175       65    27   9.0          1        0         0         1"
      ]
     },
     "execution_count": 37,
     "metadata": {},
     "output_type": "execute_result"
    }
   ],
   "source": [
    "pd.get_dummies(df5)"
   ]
  },
  {
   "cell_type": "markdown",
   "id": "df41b6c5",
   "metadata": {
    "id": "TqPAwMtkwWT6"
   },
   "source": [
    "Ta thấy hàm này sẽ tìm **toàn bộ** các biến là category (có định dạng trường là `object`) và tự động trải phẳng chúng. Khi đó các cột mới được tạo thành chính là `Ho_Nguyen`, `Ho_Pham` là những nhãn thuộc biến `Ho`. Giá trị của những trường này bằng 0 hoặc 1.\n",
    "\n",
    "Mặc dù có cú pháp cực kì đơn giản nhưng hàm `pd.get_dummies()` lại cực kì hữu ích đối với data scientist khi xây dựng mô hình mà bạn cần ghi nhớ."
   ]
  },
  {
   "cell_type": "markdown",
   "id": "8283fb00",
   "metadata": {
    "id": "7cUTQsxQuyGp"
   },
   "source": [
    "# 2.4. Thống kê theo nhóm trên pandas\n",
    "\n",
    "Khi làm việc với dữ liệu bảng chúng ta thường xuyên phải thống kê dữ liệu theo các nhóm để bắt dữ liệu tạo ra những thông tin insight hữu ích cho phân tích và ra quyết định. Ngoài ra những feature tốt, có sức mạnh phân loại và dự báo cao có thể được tạo thành từ việc thống kê dữ liệu theo nhóm. Quá trình thống kê và phân tích dữ liệu mặc dù tốn kém về mặt thời gian nhưng lại rất quan trọng đối với mô hình. Vì vậy chúng ta cần thực hiện chúng kỹ lưỡng và cần kết hợp giữa kỹ năng thống kê và kinh nghiệm thực tiễn.\n",
    "\n",
    "Ở mục 5 này chúng ta sẽ làm quen với hai câu lệnh kinh điển trong pandas được sử dụng nhiều trong thống kê theo nhóm trên pandas đó là `df.groupby()` và `pd.pivotable()`."
   ]
  },
  {
   "cell_type": "markdown",
   "id": "b7542e62",
   "metadata": {
    "id": "5Wp7x7Gpwe9d"
   },
   "source": [
    "## 2.4.1. df.groupby()\n",
    "\n",
    "groupby là câu lệnh cho phép bạn áp dụng những hàm số trên measurements dựa trên việc phân nhóm dữ liệu theo các dimensions.\n",
    "\n",
    "Nếu bạn chưa hiểu về khái niệm measurement và dimension thì mình có thể giải thích đơn giản là: measurement là những biến có thể cộng trừ nhân chia và đo đếm được còn dimension là những biến dùng để phân nhóm dữ liệu. Ví dụ chiều cao là một measurement có thể đo theo dimension là giới tính gồm các nhóm nam/nữ.\n",
    "\n",
    "Cú pháp của hàm `df.groupby()` khá đơn giản:\n",
    "\n",
    "```\n",
    "df.groupby(by=None, \n",
    "  ...\n",
    ")\n",
    "```\n",
    "\n",
    "Chúng ta cần xác định các chiều dimension trong `by`. Phía sau `groupby()` là một list các measurements mà ta cần áp dụng hàm lên trên những trường này."
   ]
  },
  {
   "cell_type": "code",
   "execution_count": 38,
   "id": "f20295a2",
   "metadata": {
    "colab": {
     "base_uri": "https://localhost:8080/"
    },
    "id": "pb8dGHWGBRpU",
    "outputId": "4d61b87d-fb5f-4330-a7b4-74e15570d013"
   },
   "outputs": [
    {
     "data": {
      "text/plain": [
       "tax_labels\n",
       "low        15221\n",
       "normal     73540\n",
       "high      117807\n",
       "Name: tax, dtype: int64"
      ]
     },
     "execution_count": 38,
     "metadata": {},
     "output_type": "execute_result"
    }
   ],
   "source": [
    "df.groupby('tax_labels')['tax'].sum()"
   ]
  },
  {
   "cell_type": "markdown",
   "id": "e1972a44",
   "metadata": {
    "id": "3b8CG_ZoBR4l"
   },
   "source": [
    "Theo cách trên thì ta chỉ áp dụng được với những hàm tính toán như `sum, avg, min, max` có sẵn trong dataframe. Nếu muốn sử dụng `groupby()` cho mọi biến đổi hàm chúng ta có thể dùng hàm `lambda` trong `apply()`."
   ]
  },
  {
   "cell_type": "code",
   "execution_count": 39,
   "id": "e32f315d",
   "metadata": {
    "colab": {
     "base_uri": "https://localhost:8080/"
    },
    "id": "OaIUHewz7067",
    "outputId": "6f178d3b-407e-4469-90de-dc65c24f49df"
   },
   "outputs": [
    {
     "data": {
      "text/plain": [
       "tax_labels\n",
       "low        15221\n",
       "normal     73540\n",
       "high      117807\n",
       "Name: tax, dtype: int64"
      ]
     },
     "execution_count": 39,
     "metadata": {},
     "output_type": "execute_result"
    }
   ],
   "source": [
    "df.groupby('tax_labels')['tax'].apply(lambda x: sum(x))"
   ]
  },
  {
   "cell_type": "markdown",
   "id": "de42eafa",
   "metadata": {
    "id": "b96HWU7gCYbe"
   },
   "source": [
    "Nếu muốn áp dụng tính toán cho nhiều measurements một lúc thì truyền vào một list các measurements. Chẳng hạn bên dưới ta truyền vào một list gồm `['tax', 'rm']`"
   ]
  },
  {
   "cell_type": "code",
   "execution_count": 40,
   "id": "4ab4f68c",
   "metadata": {
    "colab": {
     "base_uri": "https://localhost:8080/",
     "height": 173
    },
    "id": "knFc1LNM8Wbu",
    "outputId": "89ccf77d-1596-4f8d-f0a8-6de2d141c1c1"
   },
   "outputs": [
    {
     "data": {
      "text/html": [
       "<div>\n",
       "<style scoped>\n",
       "    .dataframe tbody tr th:only-of-type {\n",
       "        vertical-align: middle;\n",
       "    }\n",
       "\n",
       "    .dataframe tbody tr th {\n",
       "        vertical-align: top;\n",
       "    }\n",
       "\n",
       "    .dataframe thead th {\n",
       "        text-align: right;\n",
       "    }\n",
       "</style>\n",
       "<table border=\"1\" class=\"dataframe\">\n",
       "  <thead>\n",
       "    <tr style=\"text-align: right;\">\n",
       "      <th></th>\n",
       "      <th>tax</th>\n",
       "      <th>rm</th>\n",
       "    </tr>\n",
       "    <tr>\n",
       "      <th>tax_labels</th>\n",
       "      <th></th>\n",
       "      <th></th>\n",
       "    </tr>\n",
       "  </thead>\n",
       "  <tbody>\n",
       "    <tr>\n",
       "      <th>low</th>\n",
       "      <td>220.59420</td>\n",
       "      <td>6.52564</td>\n",
       "    </tr>\n",
       "    <tr>\n",
       "      <th>normal</th>\n",
       "      <td>310.29536</td>\n",
       "      <td>6.42074</td>\n",
       "    </tr>\n",
       "    <tr>\n",
       "      <th>high</th>\n",
       "      <td>589.03500</td>\n",
       "      <td>6.04020</td>\n",
       "    </tr>\n",
       "  </tbody>\n",
       "</table>\n",
       "</div>"
      ],
      "text/plain": [
       "                  tax       rm\n",
       "tax_labels                    \n",
       "low         220.59420  6.52564\n",
       "normal      310.29536  6.42074\n",
       "high        589.03500  6.04020"
      ]
     },
     "execution_count": 40,
     "metadata": {},
     "output_type": "execute_result"
    }
   ],
   "source": [
    "import numpy as np\n",
    "df.groupby('tax_labels')[['tax', 'rm']].apply(lambda x: np.mean(x))"
   ]
  },
  {
   "cell_type": "markdown",
   "id": "03dfeeac",
   "metadata": {
    "id": "W5m_klMu8gO0"
   },
   "source": [
    "Chúng ta cũng có thể tự định nghĩa các hàm được tuỳ biến theo ý muốn:"
   ]
  },
  {
   "cell_type": "code",
   "execution_count": 41,
   "id": "1e8e02f9",
   "metadata": {
    "colab": {
     "base_uri": "https://localhost:8080/"
    },
    "id": "nV8Tkyor8pf-",
    "outputId": "37edcfdd-4c0e-4003-8537-9785d20ff32a"
   },
   "outputs": [
    {
     "data": {
      "text/plain": [
       "tax_labels\n",
       "low       244.2\n",
       "normal    384.0\n",
       "high      666.0\n",
       "Name: tax, dtype: float64"
      ]
     },
     "execution_count": 41,
     "metadata": {},
     "output_type": "execute_result"
    }
   ],
   "source": [
    "# Tính quantile 90% của mỗi nhóm tax_labels.\n",
    "def quantile(x):\n",
    "  q_90 = np.quantile(x, 0.9)\n",
    "  return q_90\n",
    "\n",
    "df.groupby('tax_labels')['tax'].apply(lambda x: quantile(x))"
   ]
  },
  {
   "cell_type": "markdown",
   "id": "93539aa0",
   "metadata": {
    "id": "kJQxlYNL_DUi"
   },
   "source": [
    "Hoặc group theo nhiều chiều dữ liệu. Khi đó phải truyền vào `groupby()` một list các dimension."
   ]
  },
  {
   "cell_type": "code",
   "execution_count": 42,
   "id": "e49c8aa8",
   "metadata": {
    "colab": {
     "base_uri": "https://localhost:8080/"
    },
    "id": "LFK3VSBQ_IPL",
    "outputId": "18cebc78-3fb5-4dad-b1ba-f1f635325426"
   },
   "outputs": [
    {
     "data": {
      "text/plain": [
       "tax_labels  chas\n",
       "low         0       244.6\n",
       "            1       223.0\n",
       "normal      0       384.0\n",
       "            1       307.0\n",
       "high        0       666.0\n",
       "            1       666.0\n",
       "Name: tax, dtype: float64"
      ]
     },
     "execution_count": 42,
     "metadata": {},
     "output_type": "execute_result"
    }
   ],
   "source": [
    "df.groupby(['tax_labels', 'chas'])['tax'].apply(lambda x: quantile(x))"
   ]
  },
  {
   "cell_type": "markdown",
   "id": "dcfdde40",
   "metadata": {
    "id": "Bl6G2CX3C_xY"
   },
   "source": [
    "Ưu điểm của `groupby()` đó là nhanh gọn, dễ hiểu. Nhưng nhược điểm của `groupby()` đó là chúng ta chỉ có thể áp dụng cùng một biến đổi hàm số cho mọi measurements. Ở `pivot_table` bạn có thể tuỳ biến sâu hơn từng hàm đối với từng measurement nhưng cú pháp sẽ phức tạp hơn một chút."
   ]
  },
  {
   "cell_type": "markdown",
   "id": "43bd49b5",
   "metadata": {
    "id": "FLlbvbZMwdj3"
   },
   "source": [
    "## 2.4.2. Pivotable"
   ]
  },
  {
   "cell_type": "markdown",
   "id": "673bc51e",
   "metadata": {
    "id": "iQjXrj6uu-Q2"
   },
   "source": [
    "Pivot table là một công thức có ứng dụng rất quan trọng trong pandas. Nó giúp cho chúng ta thực hiện các thống kê trên các biến measurement theo các chiều dimension. \n",
    "\n",
    "Bạn sẽ hình dung ra cách áp dụng của `pivot_table()` thông qua ví dụ bên dưới."
   ]
  },
  {
   "cell_type": "code",
   "execution_count": 43,
   "id": "6b93b1d1",
   "metadata": {
    "colab": {
     "base_uri": "https://localhost:8080/",
     "height": 390
    },
    "id": "Ami93HxRu5Ab",
    "outputId": "0809a73f-9f1f-4ed0-b524-d059683b96a9"
   },
   "outputs": [
    {
     "data": {
      "text/html": [
       "<div>\n",
       "<style scoped>\n",
       "    .dataframe tbody tr th:only-of-type {\n",
       "        vertical-align: middle;\n",
       "    }\n",
       "\n",
       "    .dataframe tbody tr th {\n",
       "        vertical-align: top;\n",
       "    }\n",
       "\n",
       "    .dataframe thead tr th {\n",
       "        text-align: left;\n",
       "    }\n",
       "\n",
       "    .dataframe thead tr:last-of-type th {\n",
       "        text-align: right;\n",
       "    }\n",
       "</style>\n",
       "<table border=\"1\" class=\"dataframe\">\n",
       "  <thead>\n",
       "    <tr>\n",
       "      <th>tax_labels</th>\n",
       "      <th colspan=\"2\" halign=\"left\">low</th>\n",
       "      <th colspan=\"2\" halign=\"left\">normal</th>\n",
       "      <th colspan=\"2\" halign=\"left\">high</th>\n",
       "    </tr>\n",
       "    <tr>\n",
       "      <th>chas</th>\n",
       "      <th>0</th>\n",
       "      <th>1</th>\n",
       "      <th>0</th>\n",
       "      <th>1</th>\n",
       "      <th>0</th>\n",
       "      <th>1</th>\n",
       "    </tr>\n",
       "    <tr>\n",
       "      <th>rad</th>\n",
       "      <th></th>\n",
       "      <th></th>\n",
       "      <th></th>\n",
       "      <th></th>\n",
       "      <th></th>\n",
       "      <th></th>\n",
       "    </tr>\n",
       "  </thead>\n",
       "  <tbody>\n",
       "    <tr>\n",
       "      <th>1</th>\n",
       "      <td>241</td>\n",
       "      <td>198</td>\n",
       "      <td>4968</td>\n",
       "      <td>0</td>\n",
       "      <td>422</td>\n",
       "      <td>0</td>\n",
       "    </tr>\n",
       "    <tr>\n",
       "      <th>2</th>\n",
       "      <td>1800</td>\n",
       "      <td>0</td>\n",
       "      <td>4456</td>\n",
       "      <td>0</td>\n",
       "      <td>0</td>\n",
       "      <td>0</td>\n",
       "    </tr>\n",
       "    <tr>\n",
       "      <th>3</th>\n",
       "      <td>6424</td>\n",
       "      <td>446</td>\n",
       "      <td>1208</td>\n",
       "      <td>0</td>\n",
       "      <td>1273</td>\n",
       "      <td>0</td>\n",
       "    </tr>\n",
       "    <tr>\n",
       "      <th>4</th>\n",
       "      <td>2155</td>\n",
       "      <td>0</td>\n",
       "      <td>20434</td>\n",
       "      <td>2147</td>\n",
       "      <td>12222</td>\n",
       "      <td>0</td>\n",
       "    </tr>\n",
       "    <tr>\n",
       "      <th>5</th>\n",
       "      <td>2853</td>\n",
       "      <td>216</td>\n",
       "      <td>22175</td>\n",
       "      <td>828</td>\n",
       "      <td>9269</td>\n",
       "      <td>2821</td>\n",
       "    </tr>\n",
       "    <tr>\n",
       "      <th>6</th>\n",
       "      <td>0</td>\n",
       "      <td>0</td>\n",
       "      <td>5807</td>\n",
       "      <td>0</td>\n",
       "      <td>3888</td>\n",
       "      <td>0</td>\n",
       "    </tr>\n",
       "    <tr>\n",
       "      <th>7</th>\n",
       "      <td>888</td>\n",
       "      <td>0</td>\n",
       "      <td>4287</td>\n",
       "      <td>0</td>\n",
       "      <td>0</td>\n",
       "      <td>0</td>\n",
       "    </tr>\n",
       "    <tr>\n",
       "      <th>8</th>\n",
       "      <td>0</td>\n",
       "      <td>0</td>\n",
       "      <td>5695</td>\n",
       "      <td>1535</td>\n",
       "      <td>0</td>\n",
       "      <td>0</td>\n",
       "    </tr>\n",
       "    <tr>\n",
       "      <th>24</th>\n",
       "      <td>0</td>\n",
       "      <td>0</td>\n",
       "      <td>0</td>\n",
       "      <td>0</td>\n",
       "      <td>82584</td>\n",
       "      <td>5328</td>\n",
       "    </tr>\n",
       "  </tbody>\n",
       "</table>\n",
       "</div>"
      ],
      "text/plain": [
       "tax_labels   low      normal         high      \n",
       "chas           0    1      0     1      0     1\n",
       "rad                                            \n",
       "1            241  198   4968     0    422     0\n",
       "2           1800    0   4456     0      0     0\n",
       "3           6424  446   1208     0   1273     0\n",
       "4           2155    0  20434  2147  12222     0\n",
       "5           2853  216  22175   828   9269  2821\n",
       "6              0    0   5807     0   3888     0\n",
       "7            888    0   4287     0      0     0\n",
       "8              0    0   5695  1535      0     0\n",
       "24             0    0      0     0  82584  5328"
      ]
     },
     "execution_count": 43,
     "metadata": {},
     "output_type": "execute_result"
    }
   ],
   "source": [
    "import numpy as np\n",
    "\n",
    "pd.pivot_table(df, \n",
    "               columns = ['tax_labels', 'chas'], \n",
    "               index = ['rad'], \n",
    "               values = 'tax',\n",
    "               aggfunc = np.sum)"
   ]
  },
  {
   "cell_type": "markdown",
   "id": "8c4ac46e",
   "metadata": {
    "id": "YG1KoSPvvPZY"
   },
   "source": [
    "Bạn hình dung ra nội dung của bảng thống kê trên chứ?\n",
    "\n",
    "Bảng thống kê trên sẽ tính tổng số thuế thu được phân theo các cột là `tax_labels` và `chas` (tax_labels gồm low, normal và high và chas gồm 0-không bao bởi sông, 1-bao bởi sông).\n",
    "\n",
    "Các dòng lại được phân nhóm theo chỉ số mức độ tiếp cận đường cao tốc `rad` gồm các giá trị `1,2,3,4,5,6,7,8,24`.\n",
    "\n",
    "Như vậy ta có thể hình dung được trong công thức của pivot_table, các đối số của nó có ý nghĩa như sau:\n",
    "\n",
    "* `columns`: List các dimensions của cột mà chúng ta cần thống kê.\n",
    "* `index`: List các dimensions theo dòng mà chúng ta cần thống kê.\n",
    "* `values`: List các measurement chúng ta sử dụng để tính toán.\n",
    "* `aggfunc`: Qui định hàm số chúng ta sẽ dùng để biến đổi measurement. Trong ví dụ này chúng ta áp dụng hàm np.sum cho toán bộ các measurement."
   ]
  },
  {
   "cell_type": "markdown",
   "id": "846e2a6f",
   "metadata": {
    "id": "XZK_uq7RvT54"
   },
   "source": [
    "**Làm sao để qui định mỗi measurement một công thức?**\n",
    "\n",
    "Giả sử chúng ta cần tính thêm trung bình số phòng trên căn hộ. Tức là thêm trung bình của trường `rm` trong khi vẫn cần tính tổng của trường `tax`. Khi đó cần khai báo `aggfunc` dưới dạng một dictionary có key là tên của measurement và value là công thức của measurement."
   ]
  },
  {
   "cell_type": "code",
   "execution_count": 44,
   "id": "d040d76b",
   "metadata": {
    "colab": {
     "base_uri": "https://localhost:8080/",
     "height": 421
    },
    "id": "ySI68-shvUBM",
    "outputId": "5b04a30e-01a4-4f42-a592-e03a29cd2ad2"
   },
   "outputs": [
    {
     "data": {
      "text/html": [
       "<div>\n",
       "<style scoped>\n",
       "    .dataframe tbody tr th:only-of-type {\n",
       "        vertical-align: middle;\n",
       "    }\n",
       "\n",
       "    .dataframe tbody tr th {\n",
       "        vertical-align: top;\n",
       "    }\n",
       "\n",
       "    .dataframe thead tr th {\n",
       "        text-align: left;\n",
       "    }\n",
       "\n",
       "    .dataframe thead tr:last-of-type th {\n",
       "        text-align: right;\n",
       "    }\n",
       "</style>\n",
       "<table border=\"1\" class=\"dataframe\">\n",
       "  <thead>\n",
       "    <tr>\n",
       "      <th></th>\n",
       "      <th colspan=\"6\" halign=\"left\">rm</th>\n",
       "      <th colspan=\"6\" halign=\"left\">tax</th>\n",
       "    </tr>\n",
       "    <tr>\n",
       "      <th>tax_labels</th>\n",
       "      <th colspan=\"2\" halign=\"left\">low</th>\n",
       "      <th colspan=\"2\" halign=\"left\">normal</th>\n",
       "      <th colspan=\"2\" halign=\"left\">high</th>\n",
       "      <th colspan=\"2\" halign=\"left\">low</th>\n",
       "      <th colspan=\"2\" halign=\"left\">normal</th>\n",
       "      <th colspan=\"2\" halign=\"left\">high</th>\n",
       "    </tr>\n",
       "    <tr>\n",
       "      <th>chas</th>\n",
       "      <th>0</th>\n",
       "      <th>1</th>\n",
       "      <th>0</th>\n",
       "      <th>1</th>\n",
       "      <th>0</th>\n",
       "      <th>1</th>\n",
       "      <th>0</th>\n",
       "      <th>1</th>\n",
       "      <th>0</th>\n",
       "      <th>1</th>\n",
       "      <th>0</th>\n",
       "      <th>1</th>\n",
       "    </tr>\n",
       "    <tr>\n",
       "      <th>rad</th>\n",
       "      <th></th>\n",
       "      <th></th>\n",
       "      <th></th>\n",
       "      <th></th>\n",
       "      <th></th>\n",
       "      <th></th>\n",
       "      <th></th>\n",
       "      <th></th>\n",
       "      <th></th>\n",
       "      <th></th>\n",
       "      <th></th>\n",
       "      <th></th>\n",
       "    </tr>\n",
       "  </thead>\n",
       "  <tbody>\n",
       "    <tr>\n",
       "      <th>1</th>\n",
       "      <td>6.23000</td>\n",
       "      <td>7.9230</td>\n",
       "      <td>6.49553</td>\n",
       "      <td>NaN</td>\n",
       "      <td>6.54000</td>\n",
       "      <td>NaN</td>\n",
       "      <td>241</td>\n",
       "      <td>198</td>\n",
       "      <td>4968</td>\n",
       "      <td>0</td>\n",
       "      <td>422</td>\n",
       "      <td>0</td>\n",
       "    </tr>\n",
       "    <tr>\n",
       "      <th>2</th>\n",
       "      <td>6.08611</td>\n",
       "      <td>NaN</td>\n",
       "      <td>6.98827</td>\n",
       "      <td>NaN</td>\n",
       "      <td>NaN</td>\n",
       "      <td>NaN</td>\n",
       "      <td>1800</td>\n",
       "      <td>0</td>\n",
       "      <td>4456</td>\n",
       "      <td>0</td>\n",
       "      <td>0</td>\n",
       "      <td>0</td>\n",
       "    </tr>\n",
       "    <tr>\n",
       "      <th>3</th>\n",
       "      <td>6.44259</td>\n",
       "      <td>6.8055</td>\n",
       "      <td>6.38275</td>\n",
       "      <td>NaN</td>\n",
       "      <td>6.66600</td>\n",
       "      <td>NaN</td>\n",
       "      <td>6424</td>\n",
       "      <td>446</td>\n",
       "      <td>1208</td>\n",
       "      <td>0</td>\n",
       "      <td>1273</td>\n",
       "      <td>0</td>\n",
       "    </tr>\n",
       "    <tr>\n",
       "      <th>4</th>\n",
       "      <td>6.79033</td>\n",
       "      <td>NaN</td>\n",
       "      <td>6.10201</td>\n",
       "      <td>6.17875</td>\n",
       "      <td>5.96652</td>\n",
       "      <td>NaN</td>\n",
       "      <td>2155</td>\n",
       "      <td>0</td>\n",
       "      <td>20434</td>\n",
       "      <td>2147</td>\n",
       "      <td>12222</td>\n",
       "      <td>0</td>\n",
       "    </tr>\n",
       "    <tr>\n",
       "      <th>5</th>\n",
       "      <td>6.46277</td>\n",
       "      <td>7.6450</td>\n",
       "      <td>6.50922</td>\n",
       "      <td>6.07067</td>\n",
       "      <td>5.98217</td>\n",
       "      <td>6.44614</td>\n",
       "      <td>2853</td>\n",
       "      <td>216</td>\n",
       "      <td>22175</td>\n",
       "      <td>828</td>\n",
       "      <td>9269</td>\n",
       "      <td>2821</td>\n",
       "    </tr>\n",
       "    <tr>\n",
       "      <th>6</th>\n",
       "      <td>NaN</td>\n",
       "      <td>NaN</td>\n",
       "      <td>6.11888</td>\n",
       "      <td>NaN</td>\n",
       "      <td>6.07800</td>\n",
       "      <td>NaN</td>\n",
       "      <td>0</td>\n",
       "      <td>0</td>\n",
       "      <td>5807</td>\n",
       "      <td>0</td>\n",
       "      <td>3888</td>\n",
       "      <td>0</td>\n",
       "    </tr>\n",
       "    <tr>\n",
       "      <th>7</th>\n",
       "      <td>7.03025</td>\n",
       "      <td>NaN</td>\n",
       "      <td>6.53008</td>\n",
       "      <td>NaN</td>\n",
       "      <td>NaN</td>\n",
       "      <td>NaN</td>\n",
       "      <td>888</td>\n",
       "      <td>0</td>\n",
       "      <td>4287</td>\n",
       "      <td>0</td>\n",
       "      <td>0</td>\n",
       "      <td>0</td>\n",
       "    </tr>\n",
       "    <tr>\n",
       "      <th>8</th>\n",
       "      <td>NaN</td>\n",
       "      <td>NaN</td>\n",
       "      <td>7.02463</td>\n",
       "      <td>6.67020</td>\n",
       "      <td>NaN</td>\n",
       "      <td>NaN</td>\n",
       "      <td>0</td>\n",
       "      <td>0</td>\n",
       "      <td>5695</td>\n",
       "      <td>1535</td>\n",
       "      <td>0</td>\n",
       "      <td>0</td>\n",
       "    </tr>\n",
       "    <tr>\n",
       "      <th>24</th>\n",
       "      <td>NaN</td>\n",
       "      <td>NaN</td>\n",
       "      <td>NaN</td>\n",
       "      <td>NaN</td>\n",
       "      <td>5.98414</td>\n",
       "      <td>6.61137</td>\n",
       "      <td>0</td>\n",
       "      <td>0</td>\n",
       "      <td>0</td>\n",
       "      <td>0</td>\n",
       "      <td>82584</td>\n",
       "      <td>5328</td>\n",
       "    </tr>\n",
       "  </tbody>\n",
       "</table>\n",
       "</div>"
      ],
      "text/plain": [
       "                 rm                                               tax       \\\n",
       "tax_labels      low           normal              high            low        \n",
       "chas              0       1        0        1        0        1     0    1   \n",
       "rad                                                                          \n",
       "1           6.23000  7.9230  6.49553      NaN  6.54000      NaN   241  198   \n",
       "2           6.08611     NaN  6.98827      NaN      NaN      NaN  1800    0   \n",
       "3           6.44259  6.8055  6.38275      NaN  6.66600      NaN  6424  446   \n",
       "4           6.79033     NaN  6.10201  6.17875  5.96652      NaN  2155    0   \n",
       "5           6.46277  7.6450  6.50922  6.07067  5.98217  6.44614  2853  216   \n",
       "6               NaN     NaN  6.11888      NaN  6.07800      NaN     0    0   \n",
       "7           7.03025     NaN  6.53008      NaN      NaN      NaN   888    0   \n",
       "8               NaN     NaN  7.02463  6.67020      NaN      NaN     0    0   \n",
       "24              NaN     NaN      NaN      NaN  5.98414  6.61137     0    0   \n",
       "\n",
       "                                      \n",
       "tax_labels normal         high        \n",
       "chas            0     1      0     1  \n",
       "rad                                   \n",
       "1            4968     0    422     0  \n",
       "2            4456     0      0     0  \n",
       "3            1208     0   1273     0  \n",
       "4           20434  2147  12222     0  \n",
       "5           22175   828   9269  2821  \n",
       "6            5807     0   3888     0  \n",
       "7            4287     0      0     0  \n",
       "8            5695  1535      0     0  \n",
       "24              0     0  82584  5328  "
      ]
     },
     "execution_count": 44,
     "metadata": {},
     "output_type": "execute_result"
    }
   ],
   "source": [
    "pd.pivot_table(df, \n",
    "               columns = ['tax_labels', 'chas'], \n",
    "               index = ['rad'], \n",
    "               values = ['tax', 'rm'],\n",
    "               aggfunc = {\n",
    "                   'tax': np.sum,\n",
    "                   'rm': np.mean\n",
    "                   })"
   ]
  },
  {
   "cell_type": "markdown",
   "id": "3c949051",
   "metadata": {
    "id": "zdl_2mV1vcFR"
   },
   "source": [
    "Bảng của chúng ta đã tăng gấp đôi số cột. Dòng đầu tiên của bảng là `rm`, `tax` là những thông tin ứng với từng measurement.\n",
    "\n",
    "Bạn thấy đó, `pd.pivot_table()` hoàn toàn đơn giản và rất hiệu quả phải không nào?"
   ]
  },
  {
   "cell_type": "markdown",
   "id": "2619496f",
   "metadata": {
    "id": "ib1Fh5ZGUalg"
   },
   "source": [
    "# 2.5. Join, Merge và Concatenate bảng\n",
    "\n",
    "Những doanh nghiệp lớn thường tổ chức cơ sở dữ liệu dưới dạng những bảng dữ liệu có quan hệ. Những bảng này được liên kết với nhau bởi key dưới những quan hệ dữ liệu như one-to-one, many-to-one hoặc one-to-many. Những kiến trúc phổ biến trong data warehouse như `star schema` và `snowflake schema` sẽ giúp cho chúng ta nhanh chóng join các bảng lại với nhau để tạo ra những bảng raw data tổng hợp phục vụ cho các nhu cầu phân tích, thống kê và xây dựng mô hình.\n",
    "\n",
    "Ngoài ngôn ngữ SQL là công cụ chính để làm việc với những hệ cơ sở dữ liệu có quan hệ, Data scientist cũng cần nắm vững những kỹ năng liên kết join, merge và concatenate bảng trên pandas mà thông qua chương này mình sẽ giới thiệu tới các bạn."
   ]
  },
  {
   "cell_type": "markdown",
   "id": "ab8f21f3",
   "metadata": {
    "id": "-HRX_8rehFhQ"
   },
   "source": [
    "## 2.5.1. Các kiểu join\n",
    "\n",
    "Chúng ta có 4 kiểu join chính là `left join, right join, inner join, full join` được thể hiện qua biểu đồ venn bên dưới:\n",
    "\n",
    "![](https://www.dofactory.com/img/sql/sql-joins.png)\n",
    "\n",
    "Chúng ta có hai bảng bên trái và bên phải với những phần thông tin chung (giao nhau giữa hai vòng tròn) và riêng. Phần diện tích màu xanh lá cây là Kết quả của phép join. Chúng ta có thể hình dung kết quả của phép join đó là:\n",
    "\n",
    "* left join: Lấy bảng bên trái làm gốc và đưa thêm thông tin bảng bên phải nếu nó xuất hiện ở bảng bên trái.\n",
    "* right join: Tương tự như left join nhưng bảng bên phải sẽ làm gốc.\n",
    "* inner join: Lấy những thông tin mà xuất hiện **đồng thời** ở cả hai bảng.\n",
    "* full join: Lấy những thông tin xuất hiện ở **một trong hai** bảng.\n",
    "\n",
    "Bên dưới chúng ta cùng thực hành join."
   ]
  },
  {
   "cell_type": "code",
   "execution_count": 45,
   "id": "f53ae374",
   "metadata": {
    "colab": {
     "base_uri": "https://localhost:8080/",
     "height": 204
    },
    "id": "qYmppFhmiwC2",
    "outputId": "bfef8815-7053-4791-bfa1-7890e449e4ba"
   },
   "outputs": [
    {
     "data": {
      "text/html": [
       "<div>\n",
       "<style scoped>\n",
       "    .dataframe tbody tr th:only-of-type {\n",
       "        vertical-align: middle;\n",
       "    }\n",
       "\n",
       "    .dataframe tbody tr th {\n",
       "        vertical-align: top;\n",
       "    }\n",
       "\n",
       "    .dataframe thead th {\n",
       "        text-align: right;\n",
       "    }\n",
       "</style>\n",
       "<table border=\"1\" class=\"dataframe\">\n",
       "  <thead>\n",
       "    <tr style=\"text-align: right;\">\n",
       "      <th></th>\n",
       "      <th>ID</th>\n",
       "      <th>Name</th>\n",
       "      <th>Age</th>\n",
       "      <th>Province</th>\n",
       "    </tr>\n",
       "  </thead>\n",
       "  <tbody>\n",
       "    <tr>\n",
       "      <th>0</th>\n",
       "      <td>001</td>\n",
       "      <td>Pham Van Nghia</td>\n",
       "      <td>25</td>\n",
       "      <td>Nam Dinh</td>\n",
       "    </tr>\n",
       "    <tr>\n",
       "      <th>1</th>\n",
       "      <td>002</td>\n",
       "      <td>Tong Thuy Linh</td>\n",
       "      <td>26</td>\n",
       "      <td>Thanh Hoa</td>\n",
       "    </tr>\n",
       "    <tr>\n",
       "      <th>2</th>\n",
       "      <td>003</td>\n",
       "      <td>Le Van Dai</td>\n",
       "      <td>25</td>\n",
       "      <td>TP Ho Chi Minh</td>\n",
       "    </tr>\n",
       "    <tr>\n",
       "      <th>3</th>\n",
       "      <td>004</td>\n",
       "      <td>Tran Quang Nghia</td>\n",
       "      <td>23</td>\n",
       "      <td>Da Nang</td>\n",
       "    </tr>\n",
       "    <tr>\n",
       "      <th>4</th>\n",
       "      <td>005</td>\n",
       "      <td>Doan Thu Ha</td>\n",
       "      <td>22</td>\n",
       "      <td>Can Tho</td>\n",
       "    </tr>\n",
       "  </tbody>\n",
       "</table>\n",
       "</div>"
      ],
      "text/plain": [
       "    ID              Name  Age        Province\n",
       "0  001    Pham Van Nghia   25        Nam Dinh\n",
       "1  002    Tong Thuy Linh   26       Thanh Hoa\n",
       "2  003        Le Van Dai   25  TP Ho Chi Minh\n",
       "3  004  Tran Quang Nghia   23         Da Nang\n",
       "4  005       Doan Thu Ha   22         Can Tho"
      ]
     },
     "execution_count": 45,
     "metadata": {},
     "output_type": "execute_result"
    }
   ],
   "source": [
    "import pandas as pd\n",
    "\n",
    "df_sinhvien = pd.DataFrame({\n",
    "    'ID':['001', '002', '003', '004', '005'],\n",
    "    'Name':['Pham Van Nghia', 'Tong Thuy Linh', 'Le Van Dai', 'Tran Quang Nghia', 'Doan Thu Ha'],\n",
    "    'Age': [25, 26, 25, 23, 22],\n",
    "    'Province':['Nam Dinh', 'Thanh Hoa', 'TP Ho Chi Minh', 'Da Nang', 'Can Tho']  \n",
    "})\n",
    "\n",
    "df_sinhvien"
   ]
  },
  {
   "cell_type": "code",
   "execution_count": 46,
   "id": "08c1700f",
   "metadata": {
    "colab": {
     "base_uri": "https://localhost:8080/",
     "height": 204
    },
    "id": "4nVt3wevuCve",
    "outputId": "6019dea0-c87f-4f91-b4e5-5f98b1485e0f"
   },
   "outputs": [
    {
     "data": {
      "text/html": [
       "<div>\n",
       "<style scoped>\n",
       "    .dataframe tbody tr th:only-of-type {\n",
       "        vertical-align: middle;\n",
       "    }\n",
       "\n",
       "    .dataframe tbody tr th {\n",
       "        vertical-align: top;\n",
       "    }\n",
       "\n",
       "    .dataframe thead th {\n",
       "        text-align: right;\n",
       "    }\n",
       "</style>\n",
       "<table border=\"1\" class=\"dataframe\">\n",
       "  <thead>\n",
       "    <tr style=\"text-align: right;\">\n",
       "      <th></th>\n",
       "      <th>ID</th>\n",
       "      <th>Math</th>\n",
       "      <th>Physic</th>\n",
       "      <th>Chemistry</th>\n",
       "      <th>Province</th>\n",
       "    </tr>\n",
       "  </thead>\n",
       "  <tbody>\n",
       "    <tr>\n",
       "      <th>0</th>\n",
       "      <td>001</td>\n",
       "      <td>6.75</td>\n",
       "      <td>8.0</td>\n",
       "      <td>7.0</td>\n",
       "      <td>Nam Dinh</td>\n",
       "    </tr>\n",
       "    <tr>\n",
       "      <th>1</th>\n",
       "      <td>002</td>\n",
       "      <td>9.00</td>\n",
       "      <td>9.0</td>\n",
       "      <td>9.5</td>\n",
       "      <td>Thanh Hoa</td>\n",
       "    </tr>\n",
       "    <tr>\n",
       "      <th>2</th>\n",
       "      <td>003</td>\n",
       "      <td>8.00</td>\n",
       "      <td>9.0</td>\n",
       "      <td>7.5</td>\n",
       "      <td>TP Ho Chi Minh</td>\n",
       "    </tr>\n",
       "    <tr>\n",
       "      <th>3</th>\n",
       "      <td>006</td>\n",
       "      <td>7.00</td>\n",
       "      <td>8.5</td>\n",
       "      <td>9.0</td>\n",
       "      <td>Quang Nam</td>\n",
       "    </tr>\n",
       "    <tr>\n",
       "      <th>4</th>\n",
       "      <td>007</td>\n",
       "      <td>10.00</td>\n",
       "      <td>9.0</td>\n",
       "      <td>10.0</td>\n",
       "      <td>Nghe An</td>\n",
       "    </tr>\n",
       "  </tbody>\n",
       "</table>\n",
       "</div>"
      ],
      "text/plain": [
       "    ID   Math  Physic  Chemistry        Province\n",
       "0  001   6.75     8.0        7.0        Nam Dinh\n",
       "1  002   9.00     9.0        9.5       Thanh Hoa\n",
       "2  003   8.00     9.0        7.5  TP Ho Chi Minh\n",
       "3  006   7.00     8.5        9.0       Quang Nam\n",
       "4  007  10.00     9.0       10.0         Nghe An"
      ]
     },
     "execution_count": 46,
     "metadata": {},
     "output_type": "execute_result"
    }
   ],
   "source": [
    "df_score = pd.DataFrame({\n",
    "    'ID': ['001', '002', '003', '006', '007'],\n",
    "    'Math': [6.75, 9, 8, 7, 10],\n",
    "    'Physic': [8, 9, 9, 8.5, 9],\n",
    "    'Chemistry': [7, 9.5, 7.5, 9, 10],\n",
    "    'Province': ['Nam Dinh', 'Thanh Hoa', 'TP Ho Chi Minh', 'Quang Nam', 'Nghe An']\n",
    "})\n",
    "\n",
    "df_score"
   ]
  },
  {
   "cell_type": "markdown",
   "id": "ed7c6b66",
   "metadata": {
    "id": "12V9DejAvF18"
   },
   "source": [
    "## 2.5.2. Câu lệnh pd.merge()"
   ]
  },
  {
   "cell_type": "markdown",
   "id": "5bc7bb1e",
   "metadata": {
    "id": "0r31cXz1u4dV"
   },
   "source": [
    "Cú pháp chung của câu lện `pd.merge()` đó là:\n",
    "\n",
    "\n",
    "\n",
    "```\n",
    "pd.merge(\n",
    "    left,\n",
    "    right,\n",
    "    how=\"inner\",\n",
    "    on=None,\n",
    "    left_on=None,\n",
    "    right_on=None,\n",
    "    left_index=False,\n",
    "    right_index=False,\n",
    "    sort=True,\n",
    "    suffixes=(\"_x\", \"_y\"),\n",
    "    copy=True,\n",
    "    indicator=False,\n",
    "    validate=None,\n",
    ")\n",
    "```\n",
    "\n",
    "Trong đó một số trường quan trọng:\n",
    "\n",
    "* left: bảng bên trái\n",
    "* right: bảng bên phải\n",
    "* how: Phương pháp join gồm `left, right, inner, outer`\n",
    "* left_on: Trường ở bảng bên trái sử dụng để join\n",
    "* right_on: Trường ở bảng bên phải sử dụng để join\n",
    "* left_index: Mặc định là False. Nếu True, sử dụng row index ở bảng bên trái như là trường join.\n",
    "* right_index: Mặc định là False. Nếu True, sử dụng row index ở bảng bên phải như là trường join.\n",
    "* suffixes: Nếu hai bảng tồn tại các trường trùng nhau thì sử dụng suffix để phân biệt trường nào thuộc bảng nào. Mặc định là `('_x', '_y')`.\n",
    "\n",
    "Tiếp theo áp dụng câu lệnh trên để merge bảng sinh viên với điểm theo key là ID sinh viên.\n",
    "\n",
    "**inner join:** Theo cách này chỉ ID xuất hiện ở đồng thời hai bảng mới được lựa chọn."
   ]
  },
  {
   "cell_type": "code",
   "execution_count": 47,
   "id": "c6cd7f1c",
   "metadata": {
    "colab": {
     "base_uri": "https://localhost:8080/",
     "height": 142
    },
    "id": "3oyJHcBPu_Wt",
    "outputId": "496c8839-85d0-4710-96f0-94263d80d618"
   },
   "outputs": [
    {
     "data": {
      "text/html": [
       "<div>\n",
       "<style scoped>\n",
       "    .dataframe tbody tr th:only-of-type {\n",
       "        vertical-align: middle;\n",
       "    }\n",
       "\n",
       "    .dataframe tbody tr th {\n",
       "        vertical-align: top;\n",
       "    }\n",
       "\n",
       "    .dataframe thead th {\n",
       "        text-align: right;\n",
       "    }\n",
       "</style>\n",
       "<table border=\"1\" class=\"dataframe\">\n",
       "  <thead>\n",
       "    <tr style=\"text-align: right;\">\n",
       "      <th></th>\n",
       "      <th>ID</th>\n",
       "      <th>Name</th>\n",
       "      <th>Age</th>\n",
       "      <th>Province_Sv</th>\n",
       "      <th>Math</th>\n",
       "      <th>Physic</th>\n",
       "      <th>Chemistry</th>\n",
       "      <th>Province_Score</th>\n",
       "    </tr>\n",
       "  </thead>\n",
       "  <tbody>\n",
       "    <tr>\n",
       "      <th>0</th>\n",
       "      <td>001</td>\n",
       "      <td>Pham Van Nghia</td>\n",
       "      <td>25</td>\n",
       "      <td>Nam Dinh</td>\n",
       "      <td>6.75</td>\n",
       "      <td>8.0</td>\n",
       "      <td>7.0</td>\n",
       "      <td>Nam Dinh</td>\n",
       "    </tr>\n",
       "    <tr>\n",
       "      <th>1</th>\n",
       "      <td>002</td>\n",
       "      <td>Tong Thuy Linh</td>\n",
       "      <td>26</td>\n",
       "      <td>Thanh Hoa</td>\n",
       "      <td>9.00</td>\n",
       "      <td>9.0</td>\n",
       "      <td>9.5</td>\n",
       "      <td>Thanh Hoa</td>\n",
       "    </tr>\n",
       "    <tr>\n",
       "      <th>2</th>\n",
       "      <td>003</td>\n",
       "      <td>Le Van Dai</td>\n",
       "      <td>25</td>\n",
       "      <td>TP Ho Chi Minh</td>\n",
       "      <td>8.00</td>\n",
       "      <td>9.0</td>\n",
       "      <td>7.5</td>\n",
       "      <td>TP Ho Chi Minh</td>\n",
       "    </tr>\n",
       "  </tbody>\n",
       "</table>\n",
       "</div>"
      ],
      "text/plain": [
       "    ID            Name  Age     Province_Sv  Math  Physic  Chemistry  \\\n",
       "0  001  Pham Van Nghia   25        Nam Dinh  6.75     8.0        7.0   \n",
       "1  002  Tong Thuy Linh   26       Thanh Hoa  9.00     9.0        9.5   \n",
       "2  003      Le Van Dai   25  TP Ho Chi Minh  8.00     9.0        7.5   \n",
       "\n",
       "   Province_Score  \n",
       "0        Nam Dinh  \n",
       "1       Thanh Hoa  \n",
       "2  TP Ho Chi Minh  "
      ]
     },
     "execution_count": 47,
     "metadata": {},
     "output_type": "execute_result"
    }
   ],
   "source": [
    "pd.merge(df_sinhvien, df_score, \n",
    "         left_on='ID', \n",
    "         right_on='ID', \n",
    "         how='inner', \n",
    "         suffixes=['_Sv', '_Score'])"
   ]
  },
  {
   "cell_type": "markdown",
   "id": "33bb28d2",
   "metadata": {
    "id": "8yR-JK2O8Z_K"
   },
   "source": [
    "**left join:** Những ID xuất hiện ở bảng bên trái sẽ được lựa chọn."
   ]
  },
  {
   "cell_type": "code",
   "execution_count": 48,
   "id": "139219ac",
   "metadata": {
    "colab": {
     "base_uri": "https://localhost:8080/",
     "height": 204
    },
    "id": "4nz9MYqJ6xa_",
    "outputId": "73fca285-6b8a-4426-986d-a7444b6d56b6"
   },
   "outputs": [
    {
     "data": {
      "text/html": [
       "<div>\n",
       "<style scoped>\n",
       "    .dataframe tbody tr th:only-of-type {\n",
       "        vertical-align: middle;\n",
       "    }\n",
       "\n",
       "    .dataframe tbody tr th {\n",
       "        vertical-align: top;\n",
       "    }\n",
       "\n",
       "    .dataframe thead th {\n",
       "        text-align: right;\n",
       "    }\n",
       "</style>\n",
       "<table border=\"1\" class=\"dataframe\">\n",
       "  <thead>\n",
       "    <tr style=\"text-align: right;\">\n",
       "      <th></th>\n",
       "      <th>ID</th>\n",
       "      <th>Name</th>\n",
       "      <th>Age</th>\n",
       "      <th>Province_Sv</th>\n",
       "      <th>Math</th>\n",
       "      <th>Physic</th>\n",
       "      <th>Chemistry</th>\n",
       "      <th>Province_Score</th>\n",
       "    </tr>\n",
       "  </thead>\n",
       "  <tbody>\n",
       "    <tr>\n",
       "      <th>0</th>\n",
       "      <td>001</td>\n",
       "      <td>Pham Van Nghia</td>\n",
       "      <td>25</td>\n",
       "      <td>Nam Dinh</td>\n",
       "      <td>6.75</td>\n",
       "      <td>8.0</td>\n",
       "      <td>7.0</td>\n",
       "      <td>Nam Dinh</td>\n",
       "    </tr>\n",
       "    <tr>\n",
       "      <th>1</th>\n",
       "      <td>002</td>\n",
       "      <td>Tong Thuy Linh</td>\n",
       "      <td>26</td>\n",
       "      <td>Thanh Hoa</td>\n",
       "      <td>9.00</td>\n",
       "      <td>9.0</td>\n",
       "      <td>9.5</td>\n",
       "      <td>Thanh Hoa</td>\n",
       "    </tr>\n",
       "    <tr>\n",
       "      <th>2</th>\n",
       "      <td>003</td>\n",
       "      <td>Le Van Dai</td>\n",
       "      <td>25</td>\n",
       "      <td>TP Ho Chi Minh</td>\n",
       "      <td>8.00</td>\n",
       "      <td>9.0</td>\n",
       "      <td>7.5</td>\n",
       "      <td>TP Ho Chi Minh</td>\n",
       "    </tr>\n",
       "    <tr>\n",
       "      <th>3</th>\n",
       "      <td>004</td>\n",
       "      <td>Tran Quang Nghia</td>\n",
       "      <td>23</td>\n",
       "      <td>Da Nang</td>\n",
       "      <td>NaN</td>\n",
       "      <td>NaN</td>\n",
       "      <td>NaN</td>\n",
       "      <td>NaN</td>\n",
       "    </tr>\n",
       "    <tr>\n",
       "      <th>4</th>\n",
       "      <td>005</td>\n",
       "      <td>Doan Thu Ha</td>\n",
       "      <td>22</td>\n",
       "      <td>Can Tho</td>\n",
       "      <td>NaN</td>\n",
       "      <td>NaN</td>\n",
       "      <td>NaN</td>\n",
       "      <td>NaN</td>\n",
       "    </tr>\n",
       "  </tbody>\n",
       "</table>\n",
       "</div>"
      ],
      "text/plain": [
       "    ID              Name  Age     Province_Sv  Math  Physic  Chemistry  \\\n",
       "0  001    Pham Van Nghia   25        Nam Dinh  6.75     8.0        7.0   \n",
       "1  002    Tong Thuy Linh   26       Thanh Hoa  9.00     9.0        9.5   \n",
       "2  003        Le Van Dai   25  TP Ho Chi Minh  8.00     9.0        7.5   \n",
       "3  004  Tran Quang Nghia   23         Da Nang   NaN     NaN        NaN   \n",
       "4  005       Doan Thu Ha   22         Can Tho   NaN     NaN        NaN   \n",
       "\n",
       "   Province_Score  \n",
       "0        Nam Dinh  \n",
       "1       Thanh Hoa  \n",
       "2  TP Ho Chi Minh  \n",
       "3             NaN  \n",
       "4             NaN  "
      ]
     },
     "execution_count": 48,
     "metadata": {},
     "output_type": "execute_result"
    }
   ],
   "source": [
    "pd.merge(df_sinhvien, df_score, \n",
    "         left_on='ID', \n",
    "         right_on='ID', \n",
    "         how='left', \n",
    "         suffixes=['_Sv', '_Score'])"
   ]
  },
  {
   "cell_type": "markdown",
   "id": "6d97ab71",
   "metadata": {
    "id": "dbd8cW8r8lgA"
   },
   "source": [
    "**right join:** Những ID xuất hiện ở bảng bên phải sẽ được lựa chọn."
   ]
  },
  {
   "cell_type": "code",
   "execution_count": 49,
   "id": "592ebe81",
   "metadata": {
    "colab": {
     "base_uri": "https://localhost:8080/",
     "height": 204
    },
    "id": "0a6Yopq660Pq",
    "outputId": "bcaab6ea-feea-45a3-dc51-d053478b92c1"
   },
   "outputs": [
    {
     "data": {
      "text/html": [
       "<div>\n",
       "<style scoped>\n",
       "    .dataframe tbody tr th:only-of-type {\n",
       "        vertical-align: middle;\n",
       "    }\n",
       "\n",
       "    .dataframe tbody tr th {\n",
       "        vertical-align: top;\n",
       "    }\n",
       "\n",
       "    .dataframe thead th {\n",
       "        text-align: right;\n",
       "    }\n",
       "</style>\n",
       "<table border=\"1\" class=\"dataframe\">\n",
       "  <thead>\n",
       "    <tr style=\"text-align: right;\">\n",
       "      <th></th>\n",
       "      <th>ID</th>\n",
       "      <th>Name</th>\n",
       "      <th>Age</th>\n",
       "      <th>Province_Sv</th>\n",
       "      <th>Math</th>\n",
       "      <th>Physic</th>\n",
       "      <th>Chemistry</th>\n",
       "      <th>Province_Score</th>\n",
       "    </tr>\n",
       "  </thead>\n",
       "  <tbody>\n",
       "    <tr>\n",
       "      <th>0</th>\n",
       "      <td>001</td>\n",
       "      <td>Pham Van Nghia</td>\n",
       "      <td>25.0</td>\n",
       "      <td>Nam Dinh</td>\n",
       "      <td>6.75</td>\n",
       "      <td>8.0</td>\n",
       "      <td>7.0</td>\n",
       "      <td>Nam Dinh</td>\n",
       "    </tr>\n",
       "    <tr>\n",
       "      <th>1</th>\n",
       "      <td>002</td>\n",
       "      <td>Tong Thuy Linh</td>\n",
       "      <td>26.0</td>\n",
       "      <td>Thanh Hoa</td>\n",
       "      <td>9.00</td>\n",
       "      <td>9.0</td>\n",
       "      <td>9.5</td>\n",
       "      <td>Thanh Hoa</td>\n",
       "    </tr>\n",
       "    <tr>\n",
       "      <th>2</th>\n",
       "      <td>003</td>\n",
       "      <td>Le Van Dai</td>\n",
       "      <td>25.0</td>\n",
       "      <td>TP Ho Chi Minh</td>\n",
       "      <td>8.00</td>\n",
       "      <td>9.0</td>\n",
       "      <td>7.5</td>\n",
       "      <td>TP Ho Chi Minh</td>\n",
       "    </tr>\n",
       "    <tr>\n",
       "      <th>3</th>\n",
       "      <td>006</td>\n",
       "      <td>NaN</td>\n",
       "      <td>NaN</td>\n",
       "      <td>NaN</td>\n",
       "      <td>7.00</td>\n",
       "      <td>8.5</td>\n",
       "      <td>9.0</td>\n",
       "      <td>Quang Nam</td>\n",
       "    </tr>\n",
       "    <tr>\n",
       "      <th>4</th>\n",
       "      <td>007</td>\n",
       "      <td>NaN</td>\n",
       "      <td>NaN</td>\n",
       "      <td>NaN</td>\n",
       "      <td>10.00</td>\n",
       "      <td>9.0</td>\n",
       "      <td>10.0</td>\n",
       "      <td>Nghe An</td>\n",
       "    </tr>\n",
       "  </tbody>\n",
       "</table>\n",
       "</div>"
      ],
      "text/plain": [
       "    ID            Name   Age     Province_Sv   Math  Physic  Chemistry  \\\n",
       "0  001  Pham Van Nghia  25.0        Nam Dinh   6.75     8.0        7.0   \n",
       "1  002  Tong Thuy Linh  26.0       Thanh Hoa   9.00     9.0        9.5   \n",
       "2  003      Le Van Dai  25.0  TP Ho Chi Minh   8.00     9.0        7.5   \n",
       "3  006             NaN   NaN             NaN   7.00     8.5        9.0   \n",
       "4  007             NaN   NaN             NaN  10.00     9.0       10.0   \n",
       "\n",
       "   Province_Score  \n",
       "0        Nam Dinh  \n",
       "1       Thanh Hoa  \n",
       "2  TP Ho Chi Minh  \n",
       "3       Quang Nam  \n",
       "4         Nghe An  "
      ]
     },
     "execution_count": 49,
     "metadata": {},
     "output_type": "execute_result"
    }
   ],
   "source": [
    "pd.merge(df_sinhvien, df_score, \n",
    "         left_on='ID', \n",
    "         right_on='ID', \n",
    "         how='right', \n",
    "         suffixes=['_Sv', '_Score'])"
   ]
  },
  {
   "cell_type": "markdown",
   "id": "9143b036",
   "metadata": {
    "id": "cGdztfOO8qIH"
   },
   "source": [
    "**outer join:** Tất cả ID xuất hiện ở bảng bên trái hoặc bảng bên phải sẽ được lựa chọn."
   ]
  },
  {
   "cell_type": "code",
   "execution_count": 50,
   "id": "ef0aa093",
   "metadata": {
    "colab": {
     "base_uri": "https://localhost:8080/",
     "height": 266
    },
    "id": "nrkLh4-o63fD",
    "outputId": "a704cbd3-94e2-4c27-f811-34fdc5400df0"
   },
   "outputs": [
    {
     "data": {
      "text/html": [
       "<div>\n",
       "<style scoped>\n",
       "    .dataframe tbody tr th:only-of-type {\n",
       "        vertical-align: middle;\n",
       "    }\n",
       "\n",
       "    .dataframe tbody tr th {\n",
       "        vertical-align: top;\n",
       "    }\n",
       "\n",
       "    .dataframe thead th {\n",
       "        text-align: right;\n",
       "    }\n",
       "</style>\n",
       "<table border=\"1\" class=\"dataframe\">\n",
       "  <thead>\n",
       "    <tr style=\"text-align: right;\">\n",
       "      <th></th>\n",
       "      <th>ID</th>\n",
       "      <th>Name</th>\n",
       "      <th>Age</th>\n",
       "      <th>Province_Sv</th>\n",
       "      <th>Math</th>\n",
       "      <th>Physic</th>\n",
       "      <th>Chemistry</th>\n",
       "      <th>Province_Score</th>\n",
       "    </tr>\n",
       "  </thead>\n",
       "  <tbody>\n",
       "    <tr>\n",
       "      <th>0</th>\n",
       "      <td>001</td>\n",
       "      <td>Pham Van Nghia</td>\n",
       "      <td>25.0</td>\n",
       "      <td>Nam Dinh</td>\n",
       "      <td>6.75</td>\n",
       "      <td>8.0</td>\n",
       "      <td>7.0</td>\n",
       "      <td>Nam Dinh</td>\n",
       "    </tr>\n",
       "    <tr>\n",
       "      <th>1</th>\n",
       "      <td>002</td>\n",
       "      <td>Tong Thuy Linh</td>\n",
       "      <td>26.0</td>\n",
       "      <td>Thanh Hoa</td>\n",
       "      <td>9.00</td>\n",
       "      <td>9.0</td>\n",
       "      <td>9.5</td>\n",
       "      <td>Thanh Hoa</td>\n",
       "    </tr>\n",
       "    <tr>\n",
       "      <th>2</th>\n",
       "      <td>003</td>\n",
       "      <td>Le Van Dai</td>\n",
       "      <td>25.0</td>\n",
       "      <td>TP Ho Chi Minh</td>\n",
       "      <td>8.00</td>\n",
       "      <td>9.0</td>\n",
       "      <td>7.5</td>\n",
       "      <td>TP Ho Chi Minh</td>\n",
       "    </tr>\n",
       "    <tr>\n",
       "      <th>3</th>\n",
       "      <td>004</td>\n",
       "      <td>Tran Quang Nghia</td>\n",
       "      <td>23.0</td>\n",
       "      <td>Da Nang</td>\n",
       "      <td>NaN</td>\n",
       "      <td>NaN</td>\n",
       "      <td>NaN</td>\n",
       "      <td>NaN</td>\n",
       "    </tr>\n",
       "    <tr>\n",
       "      <th>4</th>\n",
       "      <td>005</td>\n",
       "      <td>Doan Thu Ha</td>\n",
       "      <td>22.0</td>\n",
       "      <td>Can Tho</td>\n",
       "      <td>NaN</td>\n",
       "      <td>NaN</td>\n",
       "      <td>NaN</td>\n",
       "      <td>NaN</td>\n",
       "    </tr>\n",
       "    <tr>\n",
       "      <th>5</th>\n",
       "      <td>006</td>\n",
       "      <td>NaN</td>\n",
       "      <td>NaN</td>\n",
       "      <td>NaN</td>\n",
       "      <td>7.00</td>\n",
       "      <td>8.5</td>\n",
       "      <td>9.0</td>\n",
       "      <td>Quang Nam</td>\n",
       "    </tr>\n",
       "    <tr>\n",
       "      <th>6</th>\n",
       "      <td>007</td>\n",
       "      <td>NaN</td>\n",
       "      <td>NaN</td>\n",
       "      <td>NaN</td>\n",
       "      <td>10.00</td>\n",
       "      <td>9.0</td>\n",
       "      <td>10.0</td>\n",
       "      <td>Nghe An</td>\n",
       "    </tr>\n",
       "  </tbody>\n",
       "</table>\n",
       "</div>"
      ],
      "text/plain": [
       "    ID              Name   Age     Province_Sv   Math  Physic  Chemistry  \\\n",
       "0  001    Pham Van Nghia  25.0        Nam Dinh   6.75     8.0        7.0   \n",
       "1  002    Tong Thuy Linh  26.0       Thanh Hoa   9.00     9.0        9.5   \n",
       "2  003        Le Van Dai  25.0  TP Ho Chi Minh   8.00     9.0        7.5   \n",
       "3  004  Tran Quang Nghia  23.0         Da Nang    NaN     NaN        NaN   \n",
       "4  005       Doan Thu Ha  22.0         Can Tho    NaN     NaN        NaN   \n",
       "5  006               NaN   NaN             NaN   7.00     8.5        9.0   \n",
       "6  007               NaN   NaN             NaN  10.00     9.0       10.0   \n",
       "\n",
       "   Province_Score  \n",
       "0        Nam Dinh  \n",
       "1       Thanh Hoa  \n",
       "2  TP Ho Chi Minh  \n",
       "3             NaN  \n",
       "4             NaN  \n",
       "5       Quang Nam  \n",
       "6         Nghe An  "
      ]
     },
     "execution_count": 50,
     "metadata": {},
     "output_type": "execute_result"
    }
   ],
   "source": [
    "pd.merge(df_sinhvien, df_score, \n",
    "         left_on='ID', \n",
    "         right_on='ID', \n",
    "         how='outer', \n",
    "         suffixes=['_Sv', '_Score'])"
   ]
  },
  {
   "cell_type": "markdown",
   "id": "33990f1b",
   "metadata": {
    "id": "YbXlsQ4T5xkj"
   },
   "source": [
    "## 2.5.3. df.join()\n",
    "\n",
    "DataFrame có một hàm là hàm _join()_ có chức năng tương đương với merge, dùng để liên kết bảng theo các keys."
   ]
  },
  {
   "cell_type": "code",
   "execution_count": 51,
   "id": "3483ab33",
   "metadata": {
    "colab": {
     "base_uri": "https://localhost:8080/",
     "height": 204
    },
    "id": "TW4nX7pcTvN3",
    "outputId": "d67a36a6-86dd-401b-d52e-58dfdf644999"
   },
   "outputs": [
    {
     "data": {
      "text/html": [
       "<div>\n",
       "<style scoped>\n",
       "    .dataframe tbody tr th:only-of-type {\n",
       "        vertical-align: middle;\n",
       "    }\n",
       "\n",
       "    .dataframe tbody tr th {\n",
       "        vertical-align: top;\n",
       "    }\n",
       "\n",
       "    .dataframe thead th {\n",
       "        text-align: right;\n",
       "    }\n",
       "</style>\n",
       "<table border=\"1\" class=\"dataframe\">\n",
       "  <thead>\n",
       "    <tr style=\"text-align: right;\">\n",
       "      <th></th>\n",
       "      <th>ID_Sv</th>\n",
       "      <th>Name</th>\n",
       "      <th>Age</th>\n",
       "      <th>Province_Sv</th>\n",
       "      <th>ID_Score</th>\n",
       "      <th>Math</th>\n",
       "      <th>Physic</th>\n",
       "      <th>Chemistry</th>\n",
       "      <th>Province_Score</th>\n",
       "    </tr>\n",
       "  </thead>\n",
       "  <tbody>\n",
       "    <tr>\n",
       "      <th>0</th>\n",
       "      <td>001</td>\n",
       "      <td>Pham Van Nghia</td>\n",
       "      <td>25</td>\n",
       "      <td>Nam Dinh</td>\n",
       "      <td>001</td>\n",
       "      <td>6.75</td>\n",
       "      <td>8.0</td>\n",
       "      <td>7.0</td>\n",
       "      <td>Nam Dinh</td>\n",
       "    </tr>\n",
       "    <tr>\n",
       "      <th>1</th>\n",
       "      <td>002</td>\n",
       "      <td>Tong Thuy Linh</td>\n",
       "      <td>26</td>\n",
       "      <td>Thanh Hoa</td>\n",
       "      <td>002</td>\n",
       "      <td>9.00</td>\n",
       "      <td>9.0</td>\n",
       "      <td>9.5</td>\n",
       "      <td>Thanh Hoa</td>\n",
       "    </tr>\n",
       "    <tr>\n",
       "      <th>2</th>\n",
       "      <td>003</td>\n",
       "      <td>Le Van Dai</td>\n",
       "      <td>25</td>\n",
       "      <td>TP Ho Chi Minh</td>\n",
       "      <td>003</td>\n",
       "      <td>8.00</td>\n",
       "      <td>9.0</td>\n",
       "      <td>7.5</td>\n",
       "      <td>TP Ho Chi Minh</td>\n",
       "    </tr>\n",
       "    <tr>\n",
       "      <th>3</th>\n",
       "      <td>004</td>\n",
       "      <td>Tran Quang Nghia</td>\n",
       "      <td>23</td>\n",
       "      <td>Da Nang</td>\n",
       "      <td>006</td>\n",
       "      <td>7.00</td>\n",
       "      <td>8.5</td>\n",
       "      <td>9.0</td>\n",
       "      <td>Quang Nam</td>\n",
       "    </tr>\n",
       "    <tr>\n",
       "      <th>4</th>\n",
       "      <td>005</td>\n",
       "      <td>Doan Thu Ha</td>\n",
       "      <td>22</td>\n",
       "      <td>Can Tho</td>\n",
       "      <td>007</td>\n",
       "      <td>10.00</td>\n",
       "      <td>9.0</td>\n",
       "      <td>10.0</td>\n",
       "      <td>Nghe An</td>\n",
       "    </tr>\n",
       "  </tbody>\n",
       "</table>\n",
       "</div>"
      ],
      "text/plain": [
       "  ID_Sv              Name  Age     Province_Sv ID_Score   Math  Physic  \\\n",
       "0   001    Pham Van Nghia   25        Nam Dinh      001   6.75     8.0   \n",
       "1   002    Tong Thuy Linh   26       Thanh Hoa      002   9.00     9.0   \n",
       "2   003        Le Van Dai   25  TP Ho Chi Minh      003   8.00     9.0   \n",
       "3   004  Tran Quang Nghia   23         Da Nang      006   7.00     8.5   \n",
       "4   005       Doan Thu Ha   22         Can Tho      007  10.00     9.0   \n",
       "\n",
       "   Chemistry  Province_Score  \n",
       "0        7.0        Nam Dinh  \n",
       "1        9.5       Thanh Hoa  \n",
       "2        7.5  TP Ho Chi Minh  \n",
       "3        9.0       Quang Nam  \n",
       "4       10.0         Nghe An  "
      ]
     },
     "execution_count": 51,
     "metadata": {},
     "output_type": "execute_result"
    }
   ],
   "source": [
    "df_sinhvien.join(df_score, lsuffix='_Sv', rsuffix='_Score')"
   ]
  },
  {
   "cell_type": "markdown",
   "id": "cf5c0112",
   "metadata": {
    "id": "CYwulae8UOo8"
   },
   "source": [
    "Mặc định bảng sẽ join theo index của dòng, các đối số lsuffix` và `rsuffix`lần lượt được sử dụng để qui định hậu tố (_suffix_) cho bảng bên trái và bảng bên phải nếu xuất hiện trường trùng tên.\n",
    "\n",
    "Nếu muốn thực hiện hàm `join()` theo một trường nào đó, chúng ta phải thiết lập index cho bảng là trường cần join rồi sau đó mới thực hiện join. Ví dụ bạn cần join theo ID:"
   ]
  },
  {
   "cell_type": "code",
   "execution_count": 52,
   "id": "0bef3dc2",
   "metadata": {
    "colab": {
     "base_uri": "https://localhost:8080/",
     "height": 235
    },
    "id": "MltNbc7CU7sf",
    "outputId": "7955922b-736e-4a9e-f2e4-111f9c319f2e"
   },
   "outputs": [
    {
     "data": {
      "text/html": [
       "<div>\n",
       "<style scoped>\n",
       "    .dataframe tbody tr th:only-of-type {\n",
       "        vertical-align: middle;\n",
       "    }\n",
       "\n",
       "    .dataframe tbody tr th {\n",
       "        vertical-align: top;\n",
       "    }\n",
       "\n",
       "    .dataframe thead th {\n",
       "        text-align: right;\n",
       "    }\n",
       "</style>\n",
       "<table border=\"1\" class=\"dataframe\">\n",
       "  <thead>\n",
       "    <tr style=\"text-align: right;\">\n",
       "      <th></th>\n",
       "      <th>Name</th>\n",
       "      <th>Age</th>\n",
       "      <th>Province_Sv</th>\n",
       "      <th>Math</th>\n",
       "      <th>Physic</th>\n",
       "      <th>Chemistry</th>\n",
       "      <th>Province_Score</th>\n",
       "    </tr>\n",
       "    <tr>\n",
       "      <th>ID</th>\n",
       "      <th></th>\n",
       "      <th></th>\n",
       "      <th></th>\n",
       "      <th></th>\n",
       "      <th></th>\n",
       "      <th></th>\n",
       "      <th></th>\n",
       "    </tr>\n",
       "  </thead>\n",
       "  <tbody>\n",
       "    <tr>\n",
       "      <th>001</th>\n",
       "      <td>Pham Van Nghia</td>\n",
       "      <td>25</td>\n",
       "      <td>Nam Dinh</td>\n",
       "      <td>6.75</td>\n",
       "      <td>8.0</td>\n",
       "      <td>7.0</td>\n",
       "      <td>Nam Dinh</td>\n",
       "    </tr>\n",
       "    <tr>\n",
       "      <th>002</th>\n",
       "      <td>Tong Thuy Linh</td>\n",
       "      <td>26</td>\n",
       "      <td>Thanh Hoa</td>\n",
       "      <td>9.00</td>\n",
       "      <td>9.0</td>\n",
       "      <td>9.5</td>\n",
       "      <td>Thanh Hoa</td>\n",
       "    </tr>\n",
       "    <tr>\n",
       "      <th>003</th>\n",
       "      <td>Le Van Dai</td>\n",
       "      <td>25</td>\n",
       "      <td>TP Ho Chi Minh</td>\n",
       "      <td>8.00</td>\n",
       "      <td>9.0</td>\n",
       "      <td>7.5</td>\n",
       "      <td>TP Ho Chi Minh</td>\n",
       "    </tr>\n",
       "    <tr>\n",
       "      <th>004</th>\n",
       "      <td>Tran Quang Nghia</td>\n",
       "      <td>23</td>\n",
       "      <td>Da Nang</td>\n",
       "      <td>NaN</td>\n",
       "      <td>NaN</td>\n",
       "      <td>NaN</td>\n",
       "      <td>NaN</td>\n",
       "    </tr>\n",
       "    <tr>\n",
       "      <th>005</th>\n",
       "      <td>Doan Thu Ha</td>\n",
       "      <td>22</td>\n",
       "      <td>Can Tho</td>\n",
       "      <td>NaN</td>\n",
       "      <td>NaN</td>\n",
       "      <td>NaN</td>\n",
       "      <td>NaN</td>\n",
       "    </tr>\n",
       "  </tbody>\n",
       "</table>\n",
       "</div>"
      ],
      "text/plain": [
       "                 Name  Age     Province_Sv  Math  Physic  Chemistry  \\\n",
       "ID                                                                    \n",
       "001    Pham Van Nghia   25        Nam Dinh  6.75     8.0        7.0   \n",
       "002    Tong Thuy Linh   26       Thanh Hoa  9.00     9.0        9.5   \n",
       "003        Le Van Dai   25  TP Ho Chi Minh  8.00     9.0        7.5   \n",
       "004  Tran Quang Nghia   23         Da Nang   NaN     NaN        NaN   \n",
       "005       Doan Thu Ha   22         Can Tho   NaN     NaN        NaN   \n",
       "\n",
       "     Province_Score  \n",
       "ID                   \n",
       "001        Nam Dinh  \n",
       "002       Thanh Hoa  \n",
       "003  TP Ho Chi Minh  \n",
       "004             NaN  \n",
       "005             NaN  "
      ]
     },
     "execution_count": 52,
     "metadata": {},
     "output_type": "execute_result"
    }
   ],
   "source": [
    "# Thiết lập index\n",
    "df_sinhvien.set_index('ID', inplace = True)\n",
    "df_score.set_index('ID', inplace = True)\n",
    "\n",
    "# Join bảng\n",
    "df_sinhvien.join(df_score, lsuffix='_Sv', rsuffix='_Score')"
   ]
  },
  {
   "cell_type": "code",
   "execution_count": 53,
   "id": "08b2dfd1",
   "metadata": {
    "id": "NMuMkWo9MO5s"
   },
   "outputs": [],
   "source": [
    "# reset lại index\n",
    "df_sinhvien.reset_index('ID', inplace = True)\n",
    "df_score.reset_index('ID', inplace = True)"
   ]
  },
  {
   "cell_type": "markdown",
   "id": "ea269aa9",
   "metadata": {
    "id": "68m8u-a5fvQa"
   },
   "source": [
    "## 2.5.4. Câu lệnh pd.concat()\n",
    "\n",
    "Câu lệnh `pd.concat()` được sử dụng để nối hai bảng theo dòng hoặc theo cột. Đây là câu lệnh được sử dụng khá phổ biến để tạo bảng tổng hợp từ các bảng dữ liệu nhỏ. Một ví dụ khá cụ thể đó là trong package [vnquant](https://github.com/phamdinhkhanh/vnquant) dữ liệu mỗi mã chứng khoán sẽ bị phân trang. Nếu download lần lượt trừng trang thì sẽ lâu, do đó để tăng tốc thì chúng ta sẽ download song song nhiều trang một lúc và sử dụng lệnh `pd.concat()` để nối dữ liệu thành một bảng chính.\n",
    "\n",
    "Cú pháp chung của lệnh `pd.concat()` sẽ như sau:\n",
    "\n",
    "```\n",
    "pd.concat(\n",
    "  objs, \n",
    "  axis=0, \n",
    "  join='outer', \n",
    "  ignore_index=False, \n",
    "  keys=None, \n",
    "  levels=None, \n",
    "  names=None, \n",
    "  verify_integrity=False, \n",
    "  sort=False, \n",
    "  copy=True\n",
    ")\n",
    "```\n",
    "\n",
    "Trong đó:\n",
    "\n",
    "* objs: Là list các bảng cần concanate.\n",
    "* axis: Mặc đinh là 0, nối theo dòng. Trái lại là 1 nếu nối theo cột.\n",
    "* join: `inner` chỉ lấy các dòng hoặc cột có cùng index; `outer` lấy cả các dòng hoặc cột khác index.\n",
    "\n",
    "\n",
    "**Nếu muốn nối theo dòng thì làm thế nào?**\n",
    "\n",
    "Để nối hai bảng theo dòng thì ta sẽ để `axis=0`, đây là giá trị mặc định của đối số này trong `pd.concat()`.\n",
    "\n",
    "Nếu chúng ta muốn nối hai bảng theo dòng và chỉ lấy trường thông tin mà cả hai bảng đều có thì cần thiết lập `join='inner'`."
   ]
  },
  {
   "cell_type": "code",
   "execution_count": 54,
   "id": "29fedf01",
   "metadata": {
    "colab": {
     "base_uri": "https://localhost:8080/",
     "height": 359
    },
    "id": "3ulMhhMHg0L7",
    "outputId": "11ccf65d-44fc-4425-e12f-be7d82422e98"
   },
   "outputs": [
    {
     "data": {
      "text/html": [
       "<div>\n",
       "<style scoped>\n",
       "    .dataframe tbody tr th:only-of-type {\n",
       "        vertical-align: middle;\n",
       "    }\n",
       "\n",
       "    .dataframe tbody tr th {\n",
       "        vertical-align: top;\n",
       "    }\n",
       "\n",
       "    .dataframe thead th {\n",
       "        text-align: right;\n",
       "    }\n",
       "</style>\n",
       "<table border=\"1\" class=\"dataframe\">\n",
       "  <thead>\n",
       "    <tr style=\"text-align: right;\">\n",
       "      <th></th>\n",
       "      <th>ID</th>\n",
       "      <th>Province</th>\n",
       "    </tr>\n",
       "  </thead>\n",
       "  <tbody>\n",
       "    <tr>\n",
       "      <th>0</th>\n",
       "      <td>001</td>\n",
       "      <td>Nam Dinh</td>\n",
       "    </tr>\n",
       "    <tr>\n",
       "      <th>1</th>\n",
       "      <td>002</td>\n",
       "      <td>Thanh Hoa</td>\n",
       "    </tr>\n",
       "    <tr>\n",
       "      <th>2</th>\n",
       "      <td>003</td>\n",
       "      <td>TP Ho Chi Minh</td>\n",
       "    </tr>\n",
       "    <tr>\n",
       "      <th>3</th>\n",
       "      <td>004</td>\n",
       "      <td>Da Nang</td>\n",
       "    </tr>\n",
       "    <tr>\n",
       "      <th>4</th>\n",
       "      <td>005</td>\n",
       "      <td>Can Tho</td>\n",
       "    </tr>\n",
       "    <tr>\n",
       "      <th>0</th>\n",
       "      <td>001</td>\n",
       "      <td>Nam Dinh</td>\n",
       "    </tr>\n",
       "    <tr>\n",
       "      <th>1</th>\n",
       "      <td>002</td>\n",
       "      <td>Thanh Hoa</td>\n",
       "    </tr>\n",
       "    <tr>\n",
       "      <th>2</th>\n",
       "      <td>003</td>\n",
       "      <td>TP Ho Chi Minh</td>\n",
       "    </tr>\n",
       "    <tr>\n",
       "      <th>3</th>\n",
       "      <td>006</td>\n",
       "      <td>Quang Nam</td>\n",
       "    </tr>\n",
       "    <tr>\n",
       "      <th>4</th>\n",
       "      <td>007</td>\n",
       "      <td>Nghe An</td>\n",
       "    </tr>\n",
       "  </tbody>\n",
       "</table>\n",
       "</div>"
      ],
      "text/plain": [
       "    ID        Province\n",
       "0  001        Nam Dinh\n",
       "1  002       Thanh Hoa\n",
       "2  003  TP Ho Chi Minh\n",
       "3  004         Da Nang\n",
       "4  005         Can Tho\n",
       "0  001        Nam Dinh\n",
       "1  002       Thanh Hoa\n",
       "2  003  TP Ho Chi Minh\n",
       "3  006       Quang Nam\n",
       "4  007         Nghe An"
      ]
     },
     "execution_count": 54,
     "metadata": {},
     "output_type": "execute_result"
    }
   ],
   "source": [
    "pd.concat([df_sinhvien, df_score], \n",
    "          axis=0,\n",
    "          join='inner')"
   ]
  },
  {
   "cell_type": "markdown",
   "id": "d24c4c23",
   "metadata": {
    "id": "1qfMF-t2j67F"
   },
   "source": [
    "Ta cũng có thể nối hai bảng theo dòng và lấy tất cả các trường thông tin ở cả hai bảng thì sẽ thiết lập `join='outer'`. Đây là giá trị mặc định của đối số này. Giá trị `NaN` tự động được fill đối với những thông tin không có."
   ]
  },
  {
   "cell_type": "code",
   "execution_count": 55,
   "id": "a9599779",
   "metadata": {
    "colab": {
     "base_uri": "https://localhost:8080/",
     "height": 359
    },
    "id": "gZfhnSgpj0LA",
    "outputId": "6ea298ab-66ec-47af-82f1-d7f269ae751c"
   },
   "outputs": [
    {
     "data": {
      "text/html": [
       "<div>\n",
       "<style scoped>\n",
       "    .dataframe tbody tr th:only-of-type {\n",
       "        vertical-align: middle;\n",
       "    }\n",
       "\n",
       "    .dataframe tbody tr th {\n",
       "        vertical-align: top;\n",
       "    }\n",
       "\n",
       "    .dataframe thead th {\n",
       "        text-align: right;\n",
       "    }\n",
       "</style>\n",
       "<table border=\"1\" class=\"dataframe\">\n",
       "  <thead>\n",
       "    <tr style=\"text-align: right;\">\n",
       "      <th></th>\n",
       "      <th>ID</th>\n",
       "      <th>Name</th>\n",
       "      <th>Age</th>\n",
       "      <th>Province</th>\n",
       "      <th>Math</th>\n",
       "      <th>Physic</th>\n",
       "      <th>Chemistry</th>\n",
       "    </tr>\n",
       "  </thead>\n",
       "  <tbody>\n",
       "    <tr>\n",
       "      <th>0</th>\n",
       "      <td>001</td>\n",
       "      <td>Pham Van Nghia</td>\n",
       "      <td>25.0</td>\n",
       "      <td>Nam Dinh</td>\n",
       "      <td>NaN</td>\n",
       "      <td>NaN</td>\n",
       "      <td>NaN</td>\n",
       "    </tr>\n",
       "    <tr>\n",
       "      <th>1</th>\n",
       "      <td>002</td>\n",
       "      <td>Tong Thuy Linh</td>\n",
       "      <td>26.0</td>\n",
       "      <td>Thanh Hoa</td>\n",
       "      <td>NaN</td>\n",
       "      <td>NaN</td>\n",
       "      <td>NaN</td>\n",
       "    </tr>\n",
       "    <tr>\n",
       "      <th>2</th>\n",
       "      <td>003</td>\n",
       "      <td>Le Van Dai</td>\n",
       "      <td>25.0</td>\n",
       "      <td>TP Ho Chi Minh</td>\n",
       "      <td>NaN</td>\n",
       "      <td>NaN</td>\n",
       "      <td>NaN</td>\n",
       "    </tr>\n",
       "    <tr>\n",
       "      <th>3</th>\n",
       "      <td>004</td>\n",
       "      <td>Tran Quang Nghia</td>\n",
       "      <td>23.0</td>\n",
       "      <td>Da Nang</td>\n",
       "      <td>NaN</td>\n",
       "      <td>NaN</td>\n",
       "      <td>NaN</td>\n",
       "    </tr>\n",
       "    <tr>\n",
       "      <th>4</th>\n",
       "      <td>005</td>\n",
       "      <td>Doan Thu Ha</td>\n",
       "      <td>22.0</td>\n",
       "      <td>Can Tho</td>\n",
       "      <td>NaN</td>\n",
       "      <td>NaN</td>\n",
       "      <td>NaN</td>\n",
       "    </tr>\n",
       "    <tr>\n",
       "      <th>0</th>\n",
       "      <td>001</td>\n",
       "      <td>NaN</td>\n",
       "      <td>NaN</td>\n",
       "      <td>Nam Dinh</td>\n",
       "      <td>6.75</td>\n",
       "      <td>8.0</td>\n",
       "      <td>7.0</td>\n",
       "    </tr>\n",
       "    <tr>\n",
       "      <th>1</th>\n",
       "      <td>002</td>\n",
       "      <td>NaN</td>\n",
       "      <td>NaN</td>\n",
       "      <td>Thanh Hoa</td>\n",
       "      <td>9.00</td>\n",
       "      <td>9.0</td>\n",
       "      <td>9.5</td>\n",
       "    </tr>\n",
       "    <tr>\n",
       "      <th>2</th>\n",
       "      <td>003</td>\n",
       "      <td>NaN</td>\n",
       "      <td>NaN</td>\n",
       "      <td>TP Ho Chi Minh</td>\n",
       "      <td>8.00</td>\n",
       "      <td>9.0</td>\n",
       "      <td>7.5</td>\n",
       "    </tr>\n",
       "    <tr>\n",
       "      <th>3</th>\n",
       "      <td>006</td>\n",
       "      <td>NaN</td>\n",
       "      <td>NaN</td>\n",
       "      <td>Quang Nam</td>\n",
       "      <td>7.00</td>\n",
       "      <td>8.5</td>\n",
       "      <td>9.0</td>\n",
       "    </tr>\n",
       "    <tr>\n",
       "      <th>4</th>\n",
       "      <td>007</td>\n",
       "      <td>NaN</td>\n",
       "      <td>NaN</td>\n",
       "      <td>Nghe An</td>\n",
       "      <td>10.00</td>\n",
       "      <td>9.0</td>\n",
       "      <td>10.0</td>\n",
       "    </tr>\n",
       "  </tbody>\n",
       "</table>\n",
       "</div>"
      ],
      "text/plain": [
       "    ID              Name   Age        Province   Math  Physic  Chemistry\n",
       "0  001    Pham Van Nghia  25.0        Nam Dinh    NaN     NaN        NaN\n",
       "1  002    Tong Thuy Linh  26.0       Thanh Hoa    NaN     NaN        NaN\n",
       "2  003        Le Van Dai  25.0  TP Ho Chi Minh    NaN     NaN        NaN\n",
       "3  004  Tran Quang Nghia  23.0         Da Nang    NaN     NaN        NaN\n",
       "4  005       Doan Thu Ha  22.0         Can Tho    NaN     NaN        NaN\n",
       "0  001               NaN   NaN        Nam Dinh   6.75     8.0        7.0\n",
       "1  002               NaN   NaN       Thanh Hoa   9.00     9.0        9.5\n",
       "2  003               NaN   NaN  TP Ho Chi Minh   8.00     9.0        7.5\n",
       "3  006               NaN   NaN       Quang Nam   7.00     8.5        9.0\n",
       "4  007               NaN   NaN         Nghe An  10.00     9.0       10.0"
      ]
     },
     "execution_count": 55,
     "metadata": {},
     "output_type": "execute_result"
    }
   ],
   "source": [
    "pd.concat([df_sinhvien, df_score], \n",
    "          axis=0, \n",
    "          join='outer')"
   ]
  },
  {
   "cell_type": "markdown",
   "id": "5240cd91",
   "metadata": {
    "id": "dAr-h-fUit61"
   },
   "source": [
    "**Làm sao để nối theo cột**\n",
    "\n",
    "Để nối theo cột thì khai báo `axis=1`."
   ]
  },
  {
   "cell_type": "code",
   "execution_count": 56,
   "id": "06d3d156",
   "metadata": {
    "colab": {
     "base_uri": "https://localhost:8080/",
     "height": 204
    },
    "id": "FuUXCkCFijDJ",
    "outputId": "738448a0-1a3c-4e67-9318-bd4a4cc5f1eb"
   },
   "outputs": [
    {
     "data": {
      "text/html": [
       "<div>\n",
       "<style scoped>\n",
       "    .dataframe tbody tr th:only-of-type {\n",
       "        vertical-align: middle;\n",
       "    }\n",
       "\n",
       "    .dataframe tbody tr th {\n",
       "        vertical-align: top;\n",
       "    }\n",
       "\n",
       "    .dataframe thead th {\n",
       "        text-align: right;\n",
       "    }\n",
       "</style>\n",
       "<table border=\"1\" class=\"dataframe\">\n",
       "  <thead>\n",
       "    <tr style=\"text-align: right;\">\n",
       "      <th></th>\n",
       "      <th>ID</th>\n",
       "      <th>Name</th>\n",
       "      <th>Age</th>\n",
       "      <th>Province</th>\n",
       "      <th>ID</th>\n",
       "      <th>Math</th>\n",
       "      <th>Physic</th>\n",
       "      <th>Chemistry</th>\n",
       "      <th>Province</th>\n",
       "    </tr>\n",
       "  </thead>\n",
       "  <tbody>\n",
       "    <tr>\n",
       "      <th>0</th>\n",
       "      <td>001</td>\n",
       "      <td>Pham Van Nghia</td>\n",
       "      <td>25</td>\n",
       "      <td>Nam Dinh</td>\n",
       "      <td>001</td>\n",
       "      <td>6.75</td>\n",
       "      <td>8.0</td>\n",
       "      <td>7.0</td>\n",
       "      <td>Nam Dinh</td>\n",
       "    </tr>\n",
       "    <tr>\n",
       "      <th>1</th>\n",
       "      <td>002</td>\n",
       "      <td>Tong Thuy Linh</td>\n",
       "      <td>26</td>\n",
       "      <td>Thanh Hoa</td>\n",
       "      <td>002</td>\n",
       "      <td>9.00</td>\n",
       "      <td>9.0</td>\n",
       "      <td>9.5</td>\n",
       "      <td>Thanh Hoa</td>\n",
       "    </tr>\n",
       "    <tr>\n",
       "      <th>2</th>\n",
       "      <td>003</td>\n",
       "      <td>Le Van Dai</td>\n",
       "      <td>25</td>\n",
       "      <td>TP Ho Chi Minh</td>\n",
       "      <td>003</td>\n",
       "      <td>8.00</td>\n",
       "      <td>9.0</td>\n",
       "      <td>7.5</td>\n",
       "      <td>TP Ho Chi Minh</td>\n",
       "    </tr>\n",
       "    <tr>\n",
       "      <th>3</th>\n",
       "      <td>004</td>\n",
       "      <td>Tran Quang Nghia</td>\n",
       "      <td>23</td>\n",
       "      <td>Da Nang</td>\n",
       "      <td>006</td>\n",
       "      <td>7.00</td>\n",
       "      <td>8.5</td>\n",
       "      <td>9.0</td>\n",
       "      <td>Quang Nam</td>\n",
       "    </tr>\n",
       "    <tr>\n",
       "      <th>4</th>\n",
       "      <td>005</td>\n",
       "      <td>Doan Thu Ha</td>\n",
       "      <td>22</td>\n",
       "      <td>Can Tho</td>\n",
       "      <td>007</td>\n",
       "      <td>10.00</td>\n",
       "      <td>9.0</td>\n",
       "      <td>10.0</td>\n",
       "      <td>Nghe An</td>\n",
       "    </tr>\n",
       "  </tbody>\n",
       "</table>\n",
       "</div>"
      ],
      "text/plain": [
       "    ID              Name  Age        Province   ID   Math  Physic  Chemistry  \\\n",
       "0  001    Pham Van Nghia   25        Nam Dinh  001   6.75     8.0        7.0   \n",
       "1  002    Tong Thuy Linh   26       Thanh Hoa  002   9.00     9.0        9.5   \n",
       "2  003        Le Van Dai   25  TP Ho Chi Minh  003   8.00     9.0        7.5   \n",
       "3  004  Tran Quang Nghia   23         Da Nang  006   7.00     8.5        9.0   \n",
       "4  005       Doan Thu Ha   22         Can Tho  007  10.00     9.0       10.0   \n",
       "\n",
       "         Province  \n",
       "0        Nam Dinh  \n",
       "1       Thanh Hoa  \n",
       "2  TP Ho Chi Minh  \n",
       "3       Quang Nam  \n",
       "4         Nghe An  "
      ]
     },
     "execution_count": 56,
     "metadata": {},
     "output_type": "execute_result"
    }
   ],
   "source": [
    "pd.concat([df_sinhvien, df_score], \n",
    "          axis=1)"
   ]
  },
  {
   "cell_type": "markdown",
   "id": "92cdf1a7",
   "metadata": {
    "id": "fV3f6ZcqmKQQ"
   },
   "source": [
    "Khi đó các dòng sẽ được liên kết theo row index ở mỗi bảng. Nếu chúng ta muốn các dòng được liên kết theo một trường nào đó như 'ID' thì cần `set_index()` là trường đó trước khi nối."
   ]
  },
  {
   "cell_type": "code",
   "execution_count": 57,
   "id": "ff88b48c",
   "metadata": {
    "colab": {
     "base_uri": "https://localhost:8080/",
     "height": 266
    },
    "id": "Bh6tzuQvmSZn",
    "outputId": "ae53a1c7-e7d8-495e-8aeb-be78b1b3b15f"
   },
   "outputs": [
    {
     "data": {
      "text/html": [
       "<div>\n",
       "<style scoped>\n",
       "    .dataframe tbody tr th:only-of-type {\n",
       "        vertical-align: middle;\n",
       "    }\n",
       "\n",
       "    .dataframe tbody tr th {\n",
       "        vertical-align: top;\n",
       "    }\n",
       "\n",
       "    .dataframe thead th {\n",
       "        text-align: right;\n",
       "    }\n",
       "</style>\n",
       "<table border=\"1\" class=\"dataframe\">\n",
       "  <thead>\n",
       "    <tr style=\"text-align: right;\">\n",
       "      <th></th>\n",
       "      <th>Name</th>\n",
       "      <th>Age</th>\n",
       "      <th>Province</th>\n",
       "      <th>Math</th>\n",
       "      <th>Physic</th>\n",
       "      <th>Chemistry</th>\n",
       "      <th>Province</th>\n",
       "    </tr>\n",
       "    <tr>\n",
       "      <th>ID</th>\n",
       "      <th></th>\n",
       "      <th></th>\n",
       "      <th></th>\n",
       "      <th></th>\n",
       "      <th></th>\n",
       "      <th></th>\n",
       "      <th></th>\n",
       "    </tr>\n",
       "  </thead>\n",
       "  <tbody>\n",
       "    <tr>\n",
       "      <th>001</th>\n",
       "      <td>Pham Van Nghia</td>\n",
       "      <td>25.0</td>\n",
       "      <td>Nam Dinh</td>\n",
       "      <td>6.75</td>\n",
       "      <td>8.0</td>\n",
       "      <td>7.0</td>\n",
       "      <td>Nam Dinh</td>\n",
       "    </tr>\n",
       "    <tr>\n",
       "      <th>002</th>\n",
       "      <td>Tong Thuy Linh</td>\n",
       "      <td>26.0</td>\n",
       "      <td>Thanh Hoa</td>\n",
       "      <td>9.00</td>\n",
       "      <td>9.0</td>\n",
       "      <td>9.5</td>\n",
       "      <td>Thanh Hoa</td>\n",
       "    </tr>\n",
       "    <tr>\n",
       "      <th>003</th>\n",
       "      <td>Le Van Dai</td>\n",
       "      <td>25.0</td>\n",
       "      <td>TP Ho Chi Minh</td>\n",
       "      <td>8.00</td>\n",
       "      <td>9.0</td>\n",
       "      <td>7.5</td>\n",
       "      <td>TP Ho Chi Minh</td>\n",
       "    </tr>\n",
       "    <tr>\n",
       "      <th>004</th>\n",
       "      <td>Tran Quang Nghia</td>\n",
       "      <td>23.0</td>\n",
       "      <td>Da Nang</td>\n",
       "      <td>NaN</td>\n",
       "      <td>NaN</td>\n",
       "      <td>NaN</td>\n",
       "      <td>NaN</td>\n",
       "    </tr>\n",
       "    <tr>\n",
       "      <th>005</th>\n",
       "      <td>Doan Thu Ha</td>\n",
       "      <td>22.0</td>\n",
       "      <td>Can Tho</td>\n",
       "      <td>NaN</td>\n",
       "      <td>NaN</td>\n",
       "      <td>NaN</td>\n",
       "      <td>NaN</td>\n",
       "    </tr>\n",
       "    <tr>\n",
       "      <th>006</th>\n",
       "      <td>NaN</td>\n",
       "      <td>NaN</td>\n",
       "      <td>NaN</td>\n",
       "      <td>7.00</td>\n",
       "      <td>8.5</td>\n",
       "      <td>9.0</td>\n",
       "      <td>Quang Nam</td>\n",
       "    </tr>\n",
       "    <tr>\n",
       "      <th>007</th>\n",
       "      <td>NaN</td>\n",
       "      <td>NaN</td>\n",
       "      <td>NaN</td>\n",
       "      <td>10.00</td>\n",
       "      <td>9.0</td>\n",
       "      <td>10.0</td>\n",
       "      <td>Nghe An</td>\n",
       "    </tr>\n",
       "  </tbody>\n",
       "</table>\n",
       "</div>"
      ],
      "text/plain": [
       "                 Name   Age        Province   Math  Physic  Chemistry  \\\n",
       "ID                                                                      \n",
       "001    Pham Van Nghia  25.0        Nam Dinh   6.75     8.0        7.0   \n",
       "002    Tong Thuy Linh  26.0       Thanh Hoa   9.00     9.0        9.5   \n",
       "003        Le Van Dai  25.0  TP Ho Chi Minh   8.00     9.0        7.5   \n",
       "004  Tran Quang Nghia  23.0         Da Nang    NaN     NaN        NaN   \n",
       "005       Doan Thu Ha  22.0         Can Tho    NaN     NaN        NaN   \n",
       "006               NaN   NaN             NaN   7.00     8.5        9.0   \n",
       "007               NaN   NaN             NaN  10.00     9.0       10.0   \n",
       "\n",
       "           Province  \n",
       "ID                   \n",
       "001        Nam Dinh  \n",
       "002       Thanh Hoa  \n",
       "003  TP Ho Chi Minh  \n",
       "004             NaN  \n",
       "005             NaN  \n",
       "006       Quang Nam  \n",
       "007         Nghe An  "
      ]
     },
     "execution_count": 57,
     "metadata": {},
     "output_type": "execute_result"
    }
   ],
   "source": [
    "pd.concat([df_sinhvien.set_index('ID'), df_score.set_index('ID')], \n",
    "          axis=1)"
   ]
  },
  {
   "cell_type": "markdown",
   "id": "2695da47",
   "metadata": {
    "id": "EXKns_HYol4w"
   },
   "source": [
    "Nếu ta chỉ muốn các dòng mà ID xuất hiện ở cả hai bảng thì thêm `join='inner'`."
   ]
  },
  {
   "cell_type": "code",
   "execution_count": 58,
   "id": "aa68d30e",
   "metadata": {
    "colab": {
     "base_uri": "https://localhost:8080/",
     "height": 204
    },
    "id": "LNX6HRxdnh2m",
    "outputId": "d5d06a40-c8aa-49a9-e8a6-993d9dff52d1"
   },
   "outputs": [
    {
     "data": {
      "text/html": [
       "<div>\n",
       "<style scoped>\n",
       "    .dataframe tbody tr th:only-of-type {\n",
       "        vertical-align: middle;\n",
       "    }\n",
       "\n",
       "    .dataframe tbody tr th {\n",
       "        vertical-align: top;\n",
       "    }\n",
       "\n",
       "    .dataframe thead th {\n",
       "        text-align: right;\n",
       "    }\n",
       "</style>\n",
       "<table border=\"1\" class=\"dataframe\">\n",
       "  <thead>\n",
       "    <tr style=\"text-align: right;\">\n",
       "      <th></th>\n",
       "      <th>ID</th>\n",
       "      <th>Name</th>\n",
       "      <th>Age</th>\n",
       "      <th>Province</th>\n",
       "      <th>ID</th>\n",
       "      <th>Math</th>\n",
       "      <th>Physic</th>\n",
       "      <th>Chemistry</th>\n",
       "      <th>Province</th>\n",
       "    </tr>\n",
       "  </thead>\n",
       "  <tbody>\n",
       "    <tr>\n",
       "      <th>0</th>\n",
       "      <td>001</td>\n",
       "      <td>Pham Van Nghia</td>\n",
       "      <td>25</td>\n",
       "      <td>Nam Dinh</td>\n",
       "      <td>001</td>\n",
       "      <td>6.75</td>\n",
       "      <td>8.0</td>\n",
       "      <td>7.0</td>\n",
       "      <td>Nam Dinh</td>\n",
       "    </tr>\n",
       "    <tr>\n",
       "      <th>1</th>\n",
       "      <td>002</td>\n",
       "      <td>Tong Thuy Linh</td>\n",
       "      <td>26</td>\n",
       "      <td>Thanh Hoa</td>\n",
       "      <td>002</td>\n",
       "      <td>9.00</td>\n",
       "      <td>9.0</td>\n",
       "      <td>9.5</td>\n",
       "      <td>Thanh Hoa</td>\n",
       "    </tr>\n",
       "    <tr>\n",
       "      <th>2</th>\n",
       "      <td>003</td>\n",
       "      <td>Le Van Dai</td>\n",
       "      <td>25</td>\n",
       "      <td>TP Ho Chi Minh</td>\n",
       "      <td>003</td>\n",
       "      <td>8.00</td>\n",
       "      <td>9.0</td>\n",
       "      <td>7.5</td>\n",
       "      <td>TP Ho Chi Minh</td>\n",
       "    </tr>\n",
       "    <tr>\n",
       "      <th>3</th>\n",
       "      <td>004</td>\n",
       "      <td>Tran Quang Nghia</td>\n",
       "      <td>23</td>\n",
       "      <td>Da Nang</td>\n",
       "      <td>006</td>\n",
       "      <td>7.00</td>\n",
       "      <td>8.5</td>\n",
       "      <td>9.0</td>\n",
       "      <td>Quang Nam</td>\n",
       "    </tr>\n",
       "    <tr>\n",
       "      <th>4</th>\n",
       "      <td>005</td>\n",
       "      <td>Doan Thu Ha</td>\n",
       "      <td>22</td>\n",
       "      <td>Can Tho</td>\n",
       "      <td>007</td>\n",
       "      <td>10.00</td>\n",
       "      <td>9.0</td>\n",
       "      <td>10.0</td>\n",
       "      <td>Nghe An</td>\n",
       "    </tr>\n",
       "  </tbody>\n",
       "</table>\n",
       "</div>"
      ],
      "text/plain": [
       "    ID              Name  Age        Province   ID   Math  Physic  Chemistry  \\\n",
       "0  001    Pham Van Nghia   25        Nam Dinh  001   6.75     8.0        7.0   \n",
       "1  002    Tong Thuy Linh   26       Thanh Hoa  002   9.00     9.0        9.5   \n",
       "2  003        Le Van Dai   25  TP Ho Chi Minh  003   8.00     9.0        7.5   \n",
       "3  004  Tran Quang Nghia   23         Da Nang  006   7.00     8.5        9.0   \n",
       "4  005       Doan Thu Ha   22         Can Tho  007  10.00     9.0       10.0   \n",
       "\n",
       "         Province  \n",
       "0        Nam Dinh  \n",
       "1       Thanh Hoa  \n",
       "2  TP Ho Chi Minh  \n",
       "3       Quang Nam  \n",
       "4         Nghe An  "
      ]
     },
     "execution_count": 58,
     "metadata": {},
     "output_type": "execute_result"
    }
   ],
   "source": [
    "pd.concat([df_sinhvien, df_score], \n",
    "          axis=1,\n",
    "          join='inner')"
   ]
  },
  {
   "cell_type": "markdown",
   "id": "5071d046",
   "metadata": {
    "id": "hHXTjmbgJbg1"
   },
   "source": [
    "## 2.5.5. append()\n",
    "\n",
    "Ngoài câu lệnh `pd.concat()` thì bản thân một dataframe cũng có hàm `append()` được sử dụng để nối bảng **Theo dòng**."
   ]
  },
  {
   "cell_type": "code",
   "execution_count": 59,
   "id": "f40b8e26",
   "metadata": {
    "colab": {
     "base_uri": "https://localhost:8080/",
     "height": 359
    },
    "id": "9duxCNqdw7gN",
    "outputId": "9c6fe2cc-e685-42f6-acd0-12cd6e9edf30"
   },
   "outputs": [
    {
     "data": {
      "text/html": [
       "<div>\n",
       "<style scoped>\n",
       "    .dataframe tbody tr th:only-of-type {\n",
       "        vertical-align: middle;\n",
       "    }\n",
       "\n",
       "    .dataframe tbody tr th {\n",
       "        vertical-align: top;\n",
       "    }\n",
       "\n",
       "    .dataframe thead th {\n",
       "        text-align: right;\n",
       "    }\n",
       "</style>\n",
       "<table border=\"1\" class=\"dataframe\">\n",
       "  <thead>\n",
       "    <tr style=\"text-align: right;\">\n",
       "      <th></th>\n",
       "      <th>ID</th>\n",
       "      <th>Name</th>\n",
       "      <th>Age</th>\n",
       "      <th>Province</th>\n",
       "      <th>Math</th>\n",
       "      <th>Physic</th>\n",
       "      <th>Chemistry</th>\n",
       "    </tr>\n",
       "  </thead>\n",
       "  <tbody>\n",
       "    <tr>\n",
       "      <th>0</th>\n",
       "      <td>001</td>\n",
       "      <td>Pham Van Nghia</td>\n",
       "      <td>25.0</td>\n",
       "      <td>Nam Dinh</td>\n",
       "      <td>NaN</td>\n",
       "      <td>NaN</td>\n",
       "      <td>NaN</td>\n",
       "    </tr>\n",
       "    <tr>\n",
       "      <th>1</th>\n",
       "      <td>002</td>\n",
       "      <td>Tong Thuy Linh</td>\n",
       "      <td>26.0</td>\n",
       "      <td>Thanh Hoa</td>\n",
       "      <td>NaN</td>\n",
       "      <td>NaN</td>\n",
       "      <td>NaN</td>\n",
       "    </tr>\n",
       "    <tr>\n",
       "      <th>2</th>\n",
       "      <td>003</td>\n",
       "      <td>Le Van Dai</td>\n",
       "      <td>25.0</td>\n",
       "      <td>TP Ho Chi Minh</td>\n",
       "      <td>NaN</td>\n",
       "      <td>NaN</td>\n",
       "      <td>NaN</td>\n",
       "    </tr>\n",
       "    <tr>\n",
       "      <th>3</th>\n",
       "      <td>004</td>\n",
       "      <td>Tran Quang Nghia</td>\n",
       "      <td>23.0</td>\n",
       "      <td>Da Nang</td>\n",
       "      <td>NaN</td>\n",
       "      <td>NaN</td>\n",
       "      <td>NaN</td>\n",
       "    </tr>\n",
       "    <tr>\n",
       "      <th>4</th>\n",
       "      <td>005</td>\n",
       "      <td>Doan Thu Ha</td>\n",
       "      <td>22.0</td>\n",
       "      <td>Can Tho</td>\n",
       "      <td>NaN</td>\n",
       "      <td>NaN</td>\n",
       "      <td>NaN</td>\n",
       "    </tr>\n",
       "    <tr>\n",
       "      <th>0</th>\n",
       "      <td>001</td>\n",
       "      <td>NaN</td>\n",
       "      <td>NaN</td>\n",
       "      <td>Nam Dinh</td>\n",
       "      <td>6.75</td>\n",
       "      <td>8.0</td>\n",
       "      <td>7.0</td>\n",
       "    </tr>\n",
       "    <tr>\n",
       "      <th>1</th>\n",
       "      <td>002</td>\n",
       "      <td>NaN</td>\n",
       "      <td>NaN</td>\n",
       "      <td>Thanh Hoa</td>\n",
       "      <td>9.00</td>\n",
       "      <td>9.0</td>\n",
       "      <td>9.5</td>\n",
       "    </tr>\n",
       "    <tr>\n",
       "      <th>2</th>\n",
       "      <td>003</td>\n",
       "      <td>NaN</td>\n",
       "      <td>NaN</td>\n",
       "      <td>TP Ho Chi Minh</td>\n",
       "      <td>8.00</td>\n",
       "      <td>9.0</td>\n",
       "      <td>7.5</td>\n",
       "    </tr>\n",
       "    <tr>\n",
       "      <th>3</th>\n",
       "      <td>006</td>\n",
       "      <td>NaN</td>\n",
       "      <td>NaN</td>\n",
       "      <td>Quang Nam</td>\n",
       "      <td>7.00</td>\n",
       "      <td>8.5</td>\n",
       "      <td>9.0</td>\n",
       "    </tr>\n",
       "    <tr>\n",
       "      <th>4</th>\n",
       "      <td>007</td>\n",
       "      <td>NaN</td>\n",
       "      <td>NaN</td>\n",
       "      <td>Nghe An</td>\n",
       "      <td>10.00</td>\n",
       "      <td>9.0</td>\n",
       "      <td>10.0</td>\n",
       "    </tr>\n",
       "  </tbody>\n",
       "</table>\n",
       "</div>"
      ],
      "text/plain": [
       "    ID              Name   Age        Province   Math  Physic  Chemistry\n",
       "0  001    Pham Van Nghia  25.0        Nam Dinh    NaN     NaN        NaN\n",
       "1  002    Tong Thuy Linh  26.0       Thanh Hoa    NaN     NaN        NaN\n",
       "2  003        Le Van Dai  25.0  TP Ho Chi Minh    NaN     NaN        NaN\n",
       "3  004  Tran Quang Nghia  23.0         Da Nang    NaN     NaN        NaN\n",
       "4  005       Doan Thu Ha  22.0         Can Tho    NaN     NaN        NaN\n",
       "0  001               NaN   NaN        Nam Dinh   6.75     8.0        7.0\n",
       "1  002               NaN   NaN       Thanh Hoa   9.00     9.0        9.5\n",
       "2  003               NaN   NaN  TP Ho Chi Minh   8.00     9.0        7.5\n",
       "3  006               NaN   NaN       Quang Nam   7.00     8.5        9.0\n",
       "4  007               NaN   NaN         Nghe An  10.00     9.0       10.0"
      ]
     },
     "execution_count": 59,
     "metadata": {},
     "output_type": "execute_result"
    }
   ],
   "source": [
    "df_sinhvien.append(df_score)"
   ]
  },
  {
   "cell_type": "markdown",
   "id": "f85b3418",
   "metadata": {
    "id": "wiklzVHlx9d3"
   },
   "source": [
    "Câu lệnh này sẽ thường được sử dụng trong tình huống bạn muốn tạo bảng tổng hợp từ nhiều bảng con có cùng cấu trúc.\n",
    "\n",
    "Ví dụ: Bạn muốn tạo ra một bảng về lợi tức chứng khoán của toàn bộ các ngành từ số liệu chứng khoán của từng ngành."
   ]
  },
  {
   "cell_type": "code",
   "execution_count": 60,
   "id": "06e3705b",
   "metadata": {
    "colab": {
     "base_uri": "https://localhost:8080/",
     "height": 204
    },
    "id": "2mlKCdfixKy7",
    "outputId": "c27a6c6d-c529-4b77-a604-9b4291ce30f0"
   },
   "outputs": [
    {
     "data": {
      "text/html": [
       "<div>\n",
       "<style scoped>\n",
       "    .dataframe tbody tr th:only-of-type {\n",
       "        vertical-align: middle;\n",
       "    }\n",
       "\n",
       "    .dataframe tbody tr th {\n",
       "        vertical-align: top;\n",
       "    }\n",
       "\n",
       "    .dataframe thead th {\n",
       "        text-align: right;\n",
       "    }\n",
       "</style>\n",
       "<table border=\"1\" class=\"dataframe\">\n",
       "  <thead>\n",
       "    <tr style=\"text-align: right;\">\n",
       "      <th></th>\n",
       "      <th>Nganh</th>\n",
       "      <th>Interest</th>\n",
       "    </tr>\n",
       "  </thead>\n",
       "  <tbody>\n",
       "    <tr>\n",
       "      <th>0</th>\n",
       "      <td>d</td>\n",
       "      <td>-0.00278</td>\n",
       "    </tr>\n",
       "    <tr>\n",
       "      <th>1</th>\n",
       "      <td>v</td>\n",
       "      <td>-0.00396</td>\n",
       "    </tr>\n",
       "    <tr>\n",
       "      <th>2</th>\n",
       "      <td>p</td>\n",
       "      <td>0.00982</td>\n",
       "    </tr>\n",
       "    <tr>\n",
       "      <th>3</th>\n",
       "      <td>e</td>\n",
       "      <td>0.00042</td>\n",
       "    </tr>\n",
       "    <tr>\n",
       "      <th>4</th>\n",
       "      <td>e</td>\n",
       "      <td>-0.00710</td>\n",
       "    </tr>\n",
       "  </tbody>\n",
       "</table>\n",
       "</div>"
      ],
      "text/plain": [
       "  Nganh  Interest\n",
       "0     d  -0.00278\n",
       "1     v  -0.00396\n",
       "2     p   0.00982\n",
       "3     e   0.00042\n",
       "4     e  -0.00710"
      ]
     },
     "execution_count": 60,
     "metadata": {},
     "output_type": "execute_result"
    }
   ],
   "source": [
    "import numpy as np\n",
    "import random\n",
    "import string\n",
    "\n",
    "df_chungkhoan = pd.DataFrame(columns = ['Nganh', 'Interest'])\n",
    "\n",
    "for i in range(5):\n",
    "  r = np.random.uniform(-0.01, 0.01)\n",
    "  nganh = random.choice(string.ascii_lowercase)\n",
    "  df_sector = pd.DataFrame({'Nganh': [nganh], 'Interest': [r]}, index=[i])\n",
    "  df_chungkhoan = df_chungkhoan.append(df_sector)\n",
    "\n",
    "df_chungkhoan"
   ]
  },
  {
   "cell_type": "markdown",
   "id": "c079f6d0",
   "metadata": {
    "deletable": true,
    "editable": true,
    "id": "1M9TueqrSzRk"
   },
   "source": [
    "# 2.6. Kết nối SQL\n",
    "\n",
    "Đối với những data scientist làm việc trong những doanh nghiệp quản lý dữ liệu trên data warehouse như Ngân Hàng, công ty Chứng Khoán, Bảo Hiểm thì thường xuyên phải kết nối SQL để truy vấn dữ liệu. Python có rất nhiều các packages cung cấp instance connection tới SQL cũng như biến đổi data trên cú pháp của SQL. Mình sẽ không thể giới thiệu hết toàn bộ những packages này mà sẽ giới thiệu tới các bạn hai packages phổ biến nhất đó là:\n",
    "\n",
    "**sqlalchemy**\n",
    "\n",
    "Đây là một pakage cho phép chúng ta kết nối và truy vấn trên những dữ liệu SQL một cách trực tiếp theo mô hình server-client side. Chúng ta sẽ phải khai báo một số thông tin quan trọng để khởi tạo kết nối như:\n",
    "\n",
    "* Tên server là gì?\n",
    "* Tên database trong server cần truy vấn.\n",
    "* port: Cổng kết nối, thường mặc định của MSSQL là 1443.\n",
    "* username: Tên user.\n",
    "* password: Mật khẩu truy cập.\n",
    "\n",
    "**Chú ý**: Ở phần ví dụ thực hành liên quan tới SQL thì mỗi máy sẽ có một cấu hình khác nhau. Để thực hành được code bên dưới trước tiên máy tính của bạn cần cài SQL Server và có sẵn những database trong server.\n",
    "\n",
    "Bạn sẽ cần khai báo đúng các trường cấu hình truy cập trong `DB` và tên bảng tại `TableName`.\n",
    "\n",
    "Nếu bạn thực hành bị lỗi các ví dụ tại mục 3 này, hãy tạm thời bỏ qua chúng."
   ]
  },
  {
   "cell_type": "code",
   "execution_count": 61,
   "id": "55b6fa0b",
   "metadata": {
    "class": "no-execute",
    "deletable": true,
    "editable": true,
    "id": "JNqJK60rSzRn"
   },
   "outputs": [
    {
     "name": "stdout",
     "output_type": "stream",
     "text": [
      "skipping\n"
     ]
    }
   ],
   "source": [
    "%%script echo skipping\n",
    "\n",
    "from sqlalchemy import create_engine, MetaData, Table, select, engine\n",
    "# Create parameters\n",
    "TableName = 'WorkOrder'\n",
    "\n",
    "DB = {\n",
    "    'drivername': 'mssql+pyodbc',\n",
    "    'servername': 'LAPTOPTCC-PC',\n",
    "    #'port': '1443',\n",
    "    #'username': '',\n",
    "    #'password': '',\n",
    "    'database': 'TestDB',\n",
    "    'driver': 'SQL Server Native Client 11.0',\n",
    "    'trusted_connection': 'yes',\n",
    "    'legacy_schema_aliasing': False\n",
    "}\n",
    "\n",
    "# Create the connection\n",
    "engine = create_engine(DB['drivername'] + '://' + DB['servername'] + '/' + DB['database'] + '?' + 'driver=' + DB['driver'] \n",
    "+ ';' + 'trusted_connection=' + DB['trusted_connection'], legacy_schema_aliasing=DB['legacy_schema_aliasing'])\n",
    "\n",
    "conn = engine.connect()\n",
    "\n",
    "# Required for querying tables\n",
    "metadata = MetaData(conn)\n",
    "\n",
    "#Table to query\n",
    "tbl = Table(TableName, metadata, autoload = True, schema = 'dbo')\n",
    "# tbl.create(checkfirst = True)\n",
    "\n",
    "#select all\n",
    "sql = tbl.select()\n",
    "\n",
    "#run sql code\n",
    "result = conn.execute(sql)\n",
    "\n",
    "df3 = pd.DataFrame(data = list(result), columns = result.keys())\n",
    "df3.head()"
   ]
  },
  {
   "cell_type": "markdown",
   "id": "037b3850",
   "metadata": {
    "id": "CofxsxPtkSnQ"
   },
   "source": [
    "Sau khi sử dụng connection thì chúng ta nhớ đóng lại connection để giải phóng memory và port."
   ]
  },
  {
   "cell_type": "code",
   "execution_count": 62,
   "id": "a699b3b8",
   "metadata": {
    "class": "no-execute",
    "deletable": true,
    "editable": true,
    "id": "QV-ZbvMASzR0"
   },
   "outputs": [
    {
     "name": "stdout",
     "output_type": "stream",
     "text": [
      "skipping\n"
     ]
    }
   ],
   "source": [
    "%%script echo skipping\n",
    "\n",
    "#close connection to free memory\n",
    "conn.close()"
   ]
  },
  {
   "cell_type": "markdown",
   "id": "12fa80d0",
   "metadata": {
    "id": "MYdLXbZ7kZv0"
   },
   "source": [
    "Chúng ta cũng có thể thực thi các lệnh của SQL thông qua engine SQL mà chúng ta đã khởi tạo. Kết quả sẽ được truy vấn và tính toán trực tiếp từ server trả về  như câu lệnh ta yêu cầu."
   ]
  },
  {
   "cell_type": "code",
   "execution_count": 63,
   "id": "713d5629",
   "metadata": {
    "class": "no-execute",
    "deletable": true,
    "editable": true,
    "id": "9sOBrCjcSzSA"
   },
   "outputs": [
    {
     "name": "stdout",
     "output_type": "stream",
     "text": [
      "skipping\n"
     ]
    }
   ],
   "source": [
    "%%script echo skipping\n",
    "\n",
    "#another way, use read_sql_query() function from pandas. This function use directly engine without initialize connection\n",
    "pd.read_sql_query(\"SELECT TOP 5 * FROM WorkOrder\", engine)"
   ]
  },
  {
   "cell_type": "markdown",
   "id": "27e54955",
   "metadata": {
    "deletable": true,
    "editable": true,
    "id": "LVAczueISzSI"
   },
   "source": [
    "**pyodbc**\n",
    "\n",
    "Đây là package được thiết kế riêng để truy vấn trên những hệ cơ sở dữ liệu sử dụng kết nối ODBC của Microsoft."
   ]
  },
  {
   "cell_type": "code",
   "execution_count": 64,
   "id": "72e79ec1",
   "metadata": {
    "class": "no-execute",
    "id": "GTA2MpbXldKG"
   },
   "outputs": [
    {
     "name": "stdout",
     "output_type": "stream",
     "text": [
      "skipping\n"
     ]
    }
   ],
   "source": [
    "%%script echo skipping\n",
    "\n",
    "import pandas.io.sql\n",
    "import pyodbc\n",
    "\n",
    "server = 'LAPTOPTCC-PC'\n",
    "db = 'AdventureWorks'\n",
    "\n",
    "#create connection\n",
    "conn = pyodbc.connect('DRIVER={SQL Server};SERVER=' \n",
    "                      + DB['servername']\n",
    "                      + ';DATABASE=' \n",
    "                      + DB['database'] \n",
    "                      + ';Trusted_Connection=yes')"
   ]
  },
  {
   "cell_type": "markdown",
   "id": "1f97ea4b",
   "metadata": {
    "id": "VpUuNkFklemN"
   },
   "source": [
    "Sau khi khởi tạo kết nối thì ta cũng có thể sử dụng các câu lệnh của SQL như thông thường để truy vấn và tính toán thông tin như bên dưới:"
   ]
  },
  {
   "cell_type": "code",
   "execution_count": 65,
   "id": "1cc0f406",
   "metadata": {
    "class": "no-execute",
    "deletable": true,
    "editable": true,
    "id": "3b6ltxYVSzSK"
   },
   "outputs": [
    {
     "name": "stdout",
     "output_type": "stream",
     "text": [
      "skipping\n"
     ]
    }
   ],
   "source": [
    "%%script echo skipping\n",
    "\n",
    "#query db\n",
    "sql = \"\"\"SELECT * FROM WorkOrder\"\"\"\n",
    "\n",
    "df4 = pandas.io.sql.read_sql(sql, conn)\n",
    "df4.head()"
   ]
  },
  {
   "cell_type": "markdown",
   "id": "7bf81efc",
   "metadata": {
    "id": "7xMOcaU-l0qf"
   },
   "source": [
    "**Cursor cho SQL**\n",
    "\n",
    "Cursor là một con trỏ dẫn tới một vùng nhớ mà lưu trữ dữ liệu. Sử dụng cursor sẽ giúp ta tiết kiệm bộ nhớ vì chúng ta không phải phân bổ bộ nhớ cho dữ liệu ngay mà chỉ sử dụng địa chỉ để trỏ tới dữ liệu. Cursor được sử dụng phổ biến trong SQL đặc biệt là trong các vòng for. Trong `pyodbc` chúng ta sẽ sử dụng `cursor()` trong vòng for để duyệt qua các dòng như bên dưới:"
   ]
  },
  {
   "cell_type": "code",
   "execution_count": 66,
   "id": "bea03917",
   "metadata": {
    "class": "no-execute",
    "id": "2fEuPIC6l8iu"
   },
   "outputs": [
    {
     "name": "stdout",
     "output_type": "stream",
     "text": [
      "skipping\n"
     ]
    }
   ],
   "source": [
    "%%script echo skipping\n",
    "\n",
    "import pyodbc\n",
    "\n",
    "con = pyodbc.connect(\"DRIVER={SQL Server};\"\n",
    "                     \"SERVER=LAPTOPTCC-PC;\"\n",
    "                     \"DATASET=AdventureWorksDW2012;\"\n",
    "                     \"Trusted_Connection=yes;\")\n",
    "cursor = con.cursor()\n",
    "\n",
    "cursor.execute(\"SELECT TOP 10 * FROM AdventureWorksDW2012.dbo.DimCustomer\")\n",
    "\n",
    "for row in cursor.fetchall():\n",
    "    print('row = ', row)"
   ]
  },
  {
   "cell_type": "markdown",
   "id": "03c86926",
   "metadata": {
    "id": "RNLHTkygGw6c"
   },
   "source": [
    "# 2.7. Tổng kết\n",
    "\n",
    "Qua bài hướng dẫn này bạn đã được làm quen với những chức năng của pandas trong phân tích, xử lý và biến đổi dữ liệu. Tổng kết lại chúng ta đã đi qua các mục:\n",
    "\n",
    "* Cách đọc, lưu và khởi tạo dataframe\n",
    "* Thao tác dữ liệu trên dataframe: truy cập bảng, sort, filter và các hàm cơ bản trên dataframe.\n",
    "* Thay đổi shape của bảng qua melt và dummy.\n",
    "* Thống kê theo groupby và pivot_table.\n",
    "* Các lệnh join, merge, concatenate bảng.\n",
    "* Kết nối với dữ liệu SQL.\n",
    "\n",
    "Những kiến thức trên không cover hết toàn bộ về pandas nhưng là những kiến thức hay dùng nên bạn đọc cần nắm vững.\n",
    "\n",
    "Tiếp theo là bài tập thực hành cho bài viết này."
   ]
  },
  {
   "cell_type": "markdown",
   "id": "28d7d6a6",
   "metadata": {
    "id": "E79OeAJKG2dl"
   },
   "source": [
    "# 2.8. Bài tập\n",
    "\n",
    "Sử dụng bộ dữ liệu [Churn Customer](https://raw.githubusercontent.com/phamdinhkhanh/datasets/master/Churn_Modelling.csv) bạn hãy.\n",
    "\n",
    "1. Đọc dữ liệu từ file csv, có phần header là row thứ nhất và index là trường RowNumber.\n",
    "2. Thống kê mô tả đối với các trường trong bảng dữ liệu này.\n",
    "3. Tính trung bình điểm `CreditScore` theo `Geography`.\n",
    "4. Phân đều `Age` thành 5 nhóm độ tuổi sao cho mỗi nhóm chiếm 20% số quan sát.\n",
    "5. Vẽ biểu đồ barchart thống kê số lượng khách hàng theo nhóm độ tuổi vừa tạo được."
   ]
  },
  {
   "cell_type": "markdown",
   "id": "9c347c15",
   "metadata": {
    "id": "q8C2zYneG4pc"
   },
   "source": [
    "# 2.9. Tài liệu"
   ]
  },
  {
   "cell_type": "markdown",
   "id": "37199a50",
   "metadata": {
    "id": "zmnEQAxMtBPb"
   },
   "source": [
    "1. [pandas-docs](https://pandas.pydata.org/pandas-docs/stable/user_guide/options.html)\n",
    "2. [pandas-tutorial w3school](https://www.w3schools.com/python/pandas/default.asp)\n",
    "3. [pandas introduction - pandas.pydata.org](https://pandas.pydata.org/pandas-docs/stable/getting_started/intro_tutorials/index.html)\n",
    "4. [pandas dataframe - pandas.pydata.org](https://pandas.pydata.org/docs/reference/frame.html)"
   ]
  }
 ],
 "metadata": {
  "jupytext": {
   "text_representation": {
    "extension": ".md",
    "format_name": "myst",
    "format_version": 0.12,
    "jupytext_version": "1.8.2"
   }
  },
  "kernelspec": {
   "display_name": "Python 3",
   "name": "python3"
  },
  "language_info": {
   "codemirror_mode": {
    "name": "ipython",
    "version": 3
   },
   "file_extension": ".py",
   "mimetype": "text/x-python",
   "name": "python",
   "nbconvert_exporter": "python",
   "pygments_lexer": "ipython3",
   "version": "3.9.7"
  },
  "source_map": [
   11,
   21,
   28,
   54,
   68,
   90,
   94,
   100,
   123,
   137,
   145,
   149,
   153,
   163,
   167,
   180,
   184,
   198,
   204,
   217,
   221,
   231,
   243,
   255,
   267,
   271,
   283,
   289,
   300,
   304,
   316,
   322,
   333,
   337,
   348,
   354,
   365,
   371,
   389,
   393,
   404,
   408,
   418,
   432,
   436,
   447,
   451,
   457,
   470,
   476,
   493,
   499,
   513,
   517,
   527,
   537,
   541,
   552,
   560,
   576,
   586,
   597,
   601,
   612,
   618,
   630,
   634,
   645,
   651,
   662,
   668,
   679,
   685,
   696,
   700,
   708,
   728,
   732,
   743,
   749,
   755,
   766,
   772,
   780,
   798,
   808,
   812,
   822,
   826,
   838,
   842,
   857,
   861,
   871,
   875,
   879,
   886,
   903,
   918,
   924,
   942,
   948,
   957,
   974,
   994,
   1013,
   1017,
   1056,
   1071,
   1075,
   1090,
   1094,
   1109,
   1113,
   1128,
   1134,
   1145,
   1151,
   1167,
   1175,
   1211,
   1224,
   1228,
   1241,
   1247,
   1259,
   1263,
   1275,
   1279,
   1292,
   1298,
   1309,
   1315,
   1338,
   1360,
   1406,
   1410,
   1421,
   1425,
   1436,
   1442,
   1461,
   1465,
   1479,
   1485,
   1504,
   1522,
   1534,
   1538
  ]
 },
 "nbformat": 4,
 "nbformat_minor": 5
}