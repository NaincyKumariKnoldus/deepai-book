{
 "cells": [
  {
   "cell_type": "markdown",
   "id": "06a6bc76",
   "metadata": {},
   "source": [
    "# Bảng thuật ngữ\n",
    "\n",
    "Bên dưới là bảng các thuật ngữ kèm theo ý nghĩa được sử dụng trong cuốn sách. Các thuật ngữ này có thể được dịch ra Tiếng Việt hoặc giữa nguyên gốc Tiếng Anh kèm theo giải thích ý nghĩa nếu không tìm được dịch nghĩa Tiếng Việt phù hợp.\n",
    "\n",
    "| Thuật ngữ     | Dịch nghĩa | Ý nghĩa |\n",
    "| ----------- | ----------- | ----------- |\n",
    "| overfitting | quá khớp | mô hình có độ chính xác cao trên tập train và kém trên tập validation, test |\n",
    "| underfitting | vị khớp | mô hình có độ chính xác thấp trên cả tập train, validation và test |\n",
    "| gradient | giữ nguyên | là đạo hàm bậc một của một hàm số theo một véc tơ hoặc ma trận, gradient là đạo hàm của hàm số theo nhiều chiều |\n",
    "\n",
    "Bạn có thể cập nhật bảng thuật ngữ tại [grossary](https://github.com/phamdinhkhanh/deepai-book/blob/main/book/grossary.md)"
   ]
  }
 ],
 "metadata": {
  "jupytext": {
   "text_representation": {
    "extension": ".md",
    "format_name": "myst",
    "format_version": 0.12,
    "jupytext_version": "1.8.2"
   }
  },
  "kernelspec": {
   "display_name": "Python 3",
   "language": "python",
   "name": "python3"
  },
  "language_info": {
   "codemirror_mode": {
    "name": "ipython",
    "version": 3
   },
   "file_extension": ".py",
   "mimetype": "text/x-python",
   "name": "python",
   "nbconvert_exporter": "python",
   "pygments_lexer": "ipython3",
   "version": "3.9.7"
  },
  "source_map": [
   12
  ]
 },
 "nbformat": 4,
 "nbformat_minor": 5
}