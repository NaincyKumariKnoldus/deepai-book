{
 "cells": [
  {
   "cell_type": "markdown",
   "id": "91ae875e",
   "metadata": {
    "id": "vjnX-vIp7YV9"
   },
   "source": [
    "# 13. k-Means Clustering\n",
    "\n",
    "k-Means là một thuật toán rất đơn giản nhưng có rất nhiều ứng dụng trong thực tiễn. Một số ứng dụng của thuật toán này có thể kể đến như:\n",
    "\n",
    "1. Phân khúc khách hàng trong kinh doanh\n",
    "2. Phân tích gen trong y khoa\n",
    "3. Sử dụng trong các bài toán Image segmentation \n",
    "4. Nén hình ảnh.\n",
    "5. Phát hiện tế bào ung thư.\n",
    "6. Phát hiện bất thường (_anomaly detection_).\n",
    "\n",
    "\n",
    "Trong thuật toán k-Means chúng ta được cung cấp một tập dữ liệu đầu vào $\\{\\mathbf{x}_1, \\mathbf{x}_2, \\dots, \\mathbf{x}_n \\}$, trong đó $\\mathbf{x} \\in \\mathbb{R}^{d}$ và phân cụm chúng vào những nhóm dữ liệu có tính chất chung. Điểm đặc biệt của tập dữ liệu này là chúng hoàn toàn chưa được gán nhãn. Như vậy k-Means là một thuật toán thuộc lớp các mô hình học không giám sát (_Unsupervised Learning_). Hãy cùng tìm hiểu thuật toán k-Means qua bài viết này."
   ]
  }
 ],
 "metadata": {
  "jupytext": {
   "text_representation": {
    "extension": ".md",
    "format_name": "myst",
    "format_version": 0.12,
    "jupytext_version": "1.8.2"
   }
  },
  "kernelspec": {
   "display_name": "Python 3",
   "name": "python3"
  },
  "language_info": {
   "codemirror_mode": {
    "name": "ipython",
    "version": 3
   },
   "file_extension": ".py",
   "mimetype": "text/x-python",
   "name": "python",
   "nbconvert_exporter": "python",
   "pygments_lexer": "ipython3",
   "version": "3.9.7"
  },
  "source_map": [
   13
  ]
 },
 "nbformat": 4,
 "nbformat_minor": 5
}