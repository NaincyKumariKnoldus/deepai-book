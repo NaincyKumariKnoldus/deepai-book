{
 "cells": [
  {
   "cell_type": "markdown",
   "id": "3b4455ba",
   "metadata": {
    "id": "SDvD6nAQiTlv"
   },
   "source": [
    "Thuật ngữ:\n",
    "\n",
    "* cây quyết định: decision tree\n",
    "* node gốc: root node\n",
    "* node lá: leaf node\n",
    "* thông tin entropy: information entropy\n",
    "* chỉ số gini: gini index\n",
    "* thuần khiết: purity\n",
    "* vẩn đục: impurity\n",
    "\n",
    "\n",
    "\n",
    "\n",
    "# 8. Khái niệm về cây quyết định\n",
    "\n",
    "Trong cuộc sống có rất nhiều tình huống chúng ta quan sát, suy nghĩ và ra quyết định bằng cách đặt câu hỏi. Xuất phát từ đó, trong Machine Learning có một mô hình được thiết kế dưới dạng các câu hỏi, mà ở đó các câu hỏi được sắp xếp dưới dạng cây. Đó chính là mô hình cây quyết định mà chúng ta sẽ tìm hiểu trong bài viết này. \n",
    "\n",
    "Vậy cây quyết định là gì? Bản chất của cây quyết định là một đồ thị có hướng được sử dụng cho việc ra quyết định. Lấy ví dụ, sau khi biết điểm thi tốt nghiệp THPT, bạn muốn xây dựng một chiến lược đăng kí ngành học bằng một loạt các lựa chọn:\n",
    "\n",
    "* Nếu tổng ba môn của bạn là lớn hơn 28.5 bạn sẽ nộp vào ngành CNTT. \n",
    "* Trái lại, nếu điểm thi của bạn nhỏ hơn hoặc bằng 28.5 thì vẫn còn cơ hội cho bạn nếu điểm Toán cao vì điểm Toán có hệ số nhân là 2. Do đó bạn quyết định vẫn lựa chọn CNTT nếu điểm Toán được 10. Trường hợp còn lại bạn đăng ký vào ngành KTĐTVT.\n",
    "\n",
    "Tập hợp các câu hỏi và lựa chọn của bạn có thể ở trên được khái quát thành một cây quyết định:\n",
    "\n",
    "![](https://imgur.com/7JRSLF4.png)"
   ]
  },
  {
   "cell_type": "markdown",
   "id": "2b4e8775",
   "metadata": {
    "id": "j8AjAsFjvj3A"
   },
   "source": [
    "Cây quyết định ở sơ đồ trên còn được gọi là cây quyết định nhị phân vì một câu hỏi chỉ có hai phương án là True hoặc False. Trên thực tế có thể có những dạng cây quyết định khác nhiều hơn hai phương án cho một câu hỏi.\n",
    "\n",
    "chúng ta có một số khái niệm liên quan tới _cây quyết định_:\n",
    "\n",
    "* node gốc (_root node_): Là node ở vị trí đầu tiên của cây quyết định. Mọi phương án đều bắt nguồn từ node này. Ở ví dụ trên là (Tổng điểm >= 28.5)\n",
    "\n",
    "* node cha (_parent node_): Là node mà có thể rẽ nhánh xuống những node khác bên dưới. Node bên dưới được gọi là node con.\n",
    "\n",
    "* node con (_child node_): Là những node tồn tại node cha.\n",
    "\n",
    "* node lá (_leaf node_): Là node cuối cùng của một quyết định. Tại đây chúng ta thu được kết quả dự báo. Node lá ở vị trí cuối cùng nên sẽ không có node con.\n",
    "\n",
    "* node quyết định (_non-leaf node_): Những node khác node lá.\n",
    "\n",
    "Từ sơ đồ cây quyết định ở trên, chúng ta nhận thấy một cây quyết định được cấu tạo bởi **node và cạnh**. Tại mỗi node là một câu hỏi (chính là các hình chữ nhật bo góc) dạng yes/no được đặt ra đối với một biến đầu vào. Tuỳ thuộc vào đáp án mà tiếp theo bạn sẽ rẽ sang nhánh True hoặc False. Cứ tiếp tục thực hiện rẽ nhánh như vậy một cách truy hồi cho đến khi thu được câu trả lời tại node cuối cùng.\n",
    "\n",
    "_Lưu ý:_ Trong sklearn khi sử dụng thuật toán CART thì chúng ta xây dựng một cây nhị phân mà mỗi _node không phải lá_ chỉ gồm 2 _node con_. Trong khi đó các _cây quyết định_ (_decision tree_) sử dụng thuật toán ID3 có thể có nhiều hơn 2 _node con_."
   ]
  }
 ],
 "metadata": {
  "jupytext": {
   "text_representation": {
    "extension": ".md",
    "format_name": "myst",
    "format_version": 0.12,
    "jupytext_version": "1.8.2"
   }
  },
  "kernelspec": {
   "display_name": "Python 3",
   "language": "python",
   "name": "python3"
  },
  "language_info": {
   "codemirror_mode": {
    "name": "ipython",
    "version": 3
   },
   "file_extension": ".py",
   "mimetype": "text/x-python",
   "name": "python",
   "nbconvert_exporter": "python",
   "pygments_lexer": "ipython3",
   "version": "3.9.7"
  },
  "source_map": [
   14,
   43
  ]
 },
 "nbformat": 4,
 "nbformat_minor": 5
}