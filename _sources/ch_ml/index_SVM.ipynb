{
 "cells": [
  {
   "cell_type": "markdown",
   "id": "0ecdbb7d",
   "metadata": {
    "id": "FM-smOg--iku"
   },
   "source": [
    "Thuật ngữ:\n",
    "\n",
    "* Tập hỗ trợ: support vector\n",
    "* Hàm mất mát: loss function\n",
    "* Không gian cao chiều: high dimensional space\n",
    "* Đường biên: boundary\n",
    "* Lề: margin\n",
    "* Phân loại đường biên cứng SVM: hard margin SVM\n",
    "* Phân loại đường biên mềm SVM: soft margin SVM\n",
    "* Quá khớp: overfitting\n",
    "* Bài toán gốc: primal problem\n",
    "* Đối ngẫu: duality\n",
    "* Bài toán đối ngẫu: duality problem\n",
    "* Đối ngẫu mạnh: strong duality\n",
    "* Hàm quyết định: decision function\n",
    "* Hàm kernel: kernel function\n",
    "* Phân tuyến: linear seperable\n",
    "* Điểm hỗ trợ: support points\n",
    "* véc tơ hỗ trợ: support vector\n",
    "* Hàm đối ngẫu Lagrange: Lagrange Dual Function\n",
    "* Hàm biến đổi phi tuyến: non-linear transformation function\n",
    "* Tạo lập đặc trưng đa thức: Polynormial Features"
   ]
  },
  {
   "cell_type": "markdown",
   "id": "e10b737a",
   "metadata": {
    "id": "xMf2jaTkDMYv"
   },
   "source": [
    "# 7. Giới thiệu về SVM\n",
    "\n",
    "SVM là viết tắt của cụm từ _support vector machine_. Đây là một thuật toán khá hiệu quả trong lớp các bài toán phân loại nhị phân và dự báo của học có giám sát. Thuật toán này có ưu điểm là hoạt động tốt đối với những mẫu dữ liệu có kích thước lớn và thường mang lại kết quả vượt trội so với lớp các thuật toán khác trong học có giám sát. \n",
    "\n",
    "Ưu điểm của SVM đó là:\n",
    "\n",
    "* Đây là thuật toán hoạt động hiệu quả với không gian cao chiều (_high dimensional spaces_).\n",
    "\n",
    "* Thuật toán tiêu tốn ít bộ nhớ vì chỉ sử dụng các điểm trong _tập hỗ trợ_ để dự báo trong _hàm quyết định_.\n",
    "\n",
    "* Chúng ta có thể tạo ra nhiều _hàm quyết định_ từ những hàm kernel khác nhau. Thậm chí sử dụng đúng kernel có thể giúp cải thiện thuật toán lên đáng kể.\n",
    "\n",
    "Chính vì tính hiệu quả mà SVM thường được áp dụng nhiều trong các tác vụ phân loại và dự báo, cũng như được nhiều công ty ứng dụng và triển khai trên môi trường production. Chúng ta có thể liệt kê một số ứng dụng của thuật toán SVM đó là:\n",
    "\n",
    "* Mô hình chuẩn đoán bệnh. Dựa vào biến mục tiêu là những chỉ số xét nghiệm lâm sàng, thuật toán đưa ra dự báo về một số bệnh như tiểu đường, suy thận, máu nhiễm mỡ,....\n",
    "\n",
    "* Trước khi thuật toán CNN và Deep Learning bùng nổ thì SVM là lớp mô hình cực kì phổ biến trong phân loại ảnh.\n",
    "\n",
    "* Mô hình phân loại tin tức. Xác định chủ đề của một đoạn văn bản, phân loại cảm xúc văn bản, phân loại thư rác.\n",
    "\n",
    "* Mô hình phát hiện gian lận.\n",
    "\n",
    "Trong bài viết này chúng ta sẽ cùng tìm hiểu về nội dung của mô hình SVM."
   ]
  }
 ],
 "metadata": {
  "jupytext": {
   "text_representation": {
    "extension": ".md",
    "format_name": "myst",
    "format_version": 0.12,
    "jupytext_version": "1.8.2"
   }
  },
  "kernelspec": {
   "display_name": "Python 3",
   "name": "python3"
  },
  "language_info": {
   "codemirror_mode": {
    "name": "ipython",
    "version": 3
   },
   "file_extension": ".py",
   "mimetype": "text/x-python",
   "name": "python",
   "nbconvert_exporter": "python",
   "pygments_lexer": "ipython3",
   "version": "3.9.7"
  },
  "source_map": [
   14,
   39
  ]
 },
 "nbformat": 4,
 "nbformat_minor": 5
}