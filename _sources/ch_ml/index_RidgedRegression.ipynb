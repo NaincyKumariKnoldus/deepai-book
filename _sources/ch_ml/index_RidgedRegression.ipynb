{
 "cells": [
  {
   "cell_type": "markdown",
   "id": "917f522e",
   "metadata": {
    "id": "9CXjGT8ppQIn"
   },
   "source": [
    "# 2.2. Hồi qui Ridge và Lasso\n",
    "\n",
    "Mục tiêu của bài viết này là giúp chúng ta hiểu về mô hình hồi qui `Ridge` và mô hình hồi qui `Lasso`. Giả định bạn đang xây dựng mô hình hồi qui tuyến tính nhưng thật không may mắn, mô hình của bạn gặp hiện tượng _quá khớp_ (_overfitting_). Khi đó bạn có thể nghĩ đến một số ý tưởng:\n",
    "\n",
    "* Giảm bớt số lượng biến đầu vào.\n",
    "* Loại bỏ outliers.\n",
    "* Xử lý các trường hợp dữ liệu bị khuyết.\n",
    "* Thu thập thêm dữ liệu huấn luyện.\n",
    "* Thay đổi lớp mô hình.\n",
    "\n",
    "...\n",
    "\n",
    "Có khá nhiều ý tưởng cho bạn thử nghiệm, một trong số chúng có thể giúp bạn khắc phục hiện tượng _quá khớp_. Đa phần các kĩ thuật đều liệu quan tới xử lý dữ liệu đầu vào một cách thủ công và cần phải cân nhắc trước khi đưa ra một quyết định thay đổi dữ liệu đầu vào.\n",
    "\n",
    "Nhưng có một phương pháp khá hiệu quả giúp khắc phục tức thời hiện tượng _quá khớp_ mà không đòi hỏi chúng ta phải thay đổi dữ liệu. Đó chính là hồi qui _Ridge_ và _Lasso_ mà chúng ta sẽ tìm hiểu trong bài viết này.\n",
    "\n",
    "Vậy thì _Ridge_ và _Lasso_ là những mô hình như thế nào? Vì sao chúng lại khắc phục được hiện tượng _quá khớp_?\n",
    "\n",
    "Một cách khách quan, _Ridge_ và _Lasso_ là những biến thể của _hồi qui tuyến tính_ mà ở đó chúng ta thay đổi hàm _mất mát_ MSE để kiểm soát độ lớn của tham số huấn luyện nhằm giảm thiểu hiện tượng _quá khớp_ trong các bài toán dự báo của học có giám sát. Qua bài viết này bạn sẽ được tìm hiểu:\n",
    "\n",
    "* Lý thuyết đằng sau hai lớp mô hình là gì?\n",
    "* Lời giải cho bài toán tối ưu.\n",
    "* Đặc điểm của nghiệm trả về.\n",
    "* Cách lựa chọn _hệ số nhân_ $\\alpha$ của _thành phần điều chuẩn_ cho những mô hình này."
   ]
  }
 ],
 "metadata": {
  "jupytext": {
   "text_representation": {
    "extension": ".md",
    "format_name": "myst",
    "format_version": 0.12,
    "jupytext_version": "1.8.2"
   }
  },
  "kernelspec": {
   "display_name": "Python 3",
   "name": "python3"
  },
  "language_info": {
   "codemirror_mode": {
    "name": "ipython",
    "version": 3
   },
   "file_extension": ".py",
   "mimetype": "text/x-python",
   "name": "python",
   "nbconvert_exporter": "python",
   "pygments_lexer": "ipython3",
   "version": "3.9.7"
  },
  "source_map": [
   13
  ]
 },
 "nbformat": 4,
 "nbformat_minor": 5
}