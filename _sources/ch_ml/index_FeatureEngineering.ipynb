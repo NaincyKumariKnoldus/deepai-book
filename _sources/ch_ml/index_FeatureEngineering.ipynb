{
 "cells": [
  {
   "cell_type": "markdown",
   "id": "159367cc",
   "metadata": {
    "id": "fdcXLAN32DzJ"
   },
   "source": [
    "Thuật ngữ:\n",
    "\n",
    "* Feature Extraction: Trích lọc đặc trưng\n",
    "* Feature Transformation: Biến đổi đặc trưng\n",
    "* Feature Selection: Lựa chọn đặc trưng\n",
    "* Bag of words: Phương pháp túi từ\n",
    "* Standardization: Phương pháp chuẩn hoá"
   ]
  },
  {
   "cell_type": "markdown",
   "id": "2e8b9631",
   "metadata": {
    "id": "MiLiAOlKasvd"
   },
   "source": [
    "# 11. Giới thiệu về feature engineering"
   ]
  },
  {
   "cell_type": "markdown",
   "id": "8ec23467",
   "metadata": {
    "id": "IhfMjpQVlcvt"
   },
   "source": [
    "Nếu như mô hình học máy là cỗ máy sản xuất thì dữ liệu được ví như nguyên liệu và kết quả dự báo là sản phẩm. Một trong những cách để cải thiện sản phẩm đó là chuẩn bị nguyên liệu tốt. Thông qua _Feature Engineering_ chúng ta có thể tạo ra những đặc trưng đầu vào tốt giúp huấn luyện mô hình phân loại hoặc dự báo với độ chính xác cao, sai số thấp. Chính vì vậy các kĩ thuật _Feature Engineering_ đóng một vai trò rất quan trọng khi xây dựng và huấn luyện mô hình. Cùng theo dõi một số người nổi tiếng đã nói về tầm quan trọng của Feature Engineering:\n",
    "\n",
    "\"Feature engineering is the art part of data science.\"\n",
    "> _Sergey Yurgenson, former #1 ranked global competitive data scientist on Kaggle_\n",
    "\n",
    "Tức là _Feature Engineering_ là một phần nghệ thuật của khoa học dữ liệu.\n",
    "\n",
    "\"Coming up with features is difficult, time-consuming, [and] requires expert knowledge.\" \n",
    "\n",
    "> _Andrew Ng, chief scientist of Baidu, co-chairman and co-founder of Coursera, and adjunct professor at Stanford University_\n",
    "\n",
    "Tạm dịch: Nghĩ ra đặc trưng rất khó, tiêu tốn nhiều thời gian và đòi hỏi hiểu biết chuyên môn.\n",
    "\n",
    "Đối với các lớp mô hình _Deep Learning_ thì quá trình _Feature Engineering_ được thực hiện tự động thông qua một kiến trúc _end-to-end_. Trong khi các mô hình _Machine Learning_ truyền thống thì chúng ta phải tạo lập đặc trưng bằng những phương pháp thủ công.\n",
    "\n",
    "Qua bài viết này chúng ta cùng tìm hiều thêm các phương pháp chính trong _Feature Engineering_ bao gồm:"
   ]
  }
 ],
 "metadata": {
  "jupytext": {
   "text_representation": {
    "extension": ".md",
    "format_name": "myst",
    "format_version": 0.12,
    "jupytext_version": "1.8.2"
   }
  },
  "kernelspec": {
   "display_name": "Python 3",
   "name": "python3"
  },
  "language_info": {
   "codemirror_mode": {
    "name": "ipython",
    "version": 3
   },
   "file_extension": ".py",
   "mimetype": "text/x-python",
   "name": "python",
   "nbconvert_exporter": "python",
   "pygments_lexer": "ipython3",
   "version": "3.9.7"
  },
  "source_map": [
   13,
   23,
   27
  ]
 },
 "nbformat": 4,
 "nbformat_minor": 5
}