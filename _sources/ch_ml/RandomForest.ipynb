{
 "cells": [
  {
   "cell_type": "markdown",
   "id": "fdf1a6dd",
   "metadata": {},
   "source": [
    "# 9.1. Ý tưởng của mô hình rừng cây\n",
    "\n",
    "Mô hình _rừng cây_ được huấn luyện dựa trên sự phối hợp giữa luật _kết hợp_ (_ensembling_) và quá trình _lấy mẫu tái lặp_ (_boostrapping_). Cụ thể thuật toán này tạo ra **nhiều cây quyết định** mà mỗi cây quyết định được huấn luyện dựa trên **nhiều mẫu con** khác nhau và kết quả dự báo là _bầu cử_ (_voting_) từ toàn bộ những cây quyết định. Như vậy một kết quả dự báo được tổng hợp từ nhiều mô hình nên kết quả của chúng sẽ không bị chệch. Đồng thời kết hợp kết quả dự báo từ nhiều mô hình sẽ có phương sai nhỏ hơn so với chỉ một mô hình. Điều này giúp cho mô hình khắc phục được hiện tượng _quá khớp_. Ta sẽ bàn kỹ hơn điều này ở chương bên dưới.\n",
    "\n",
    "Tiếp theo chúng ta sẽ tìm hiểu về luật _kết hợp_ và _lấy mẫu tái lặp_ trong mô hình rừng cây, và những điểm then chốt trong quá trình huấn luyện mô hình _rừng cây_."
   ]
  },
  {
   "cell_type": "markdown",
   "id": "02c85ca9",
   "metadata": {
    "id": "05TcPGV-R-bO"
   },
   "source": [
    "## 9.1.1. Mô hình kết hợp (_ensemble model_)\n",
    "\n",
    "Giả định rằng bạn đang xây dựng mô hình phân loại nhị phân ảnh chó và mèo lần lượt tương ứng với hai nhãn 0 và 1. Với một hình ảnh cụ thể, nếu chỉ sử dụng một mô hình duy nhất thì kết quả dự báo trả về có xác suất thuộc về nhãn mèo chỉ là 0.6. Đây là một xác suất không quá cao nên bạn không chắc chắn hình ảnh của của mình là mèo.\n",
    "\n",
    "Bởi vì không chắc chắn, bạn muốn tham vấn kết quả từ nhiều mô hình hơn. Chính vì vậy bạn quyết định xây dựng 9 mô hình khác nhau và tiến hành _bầu cử_ kết quả trả về giữa chúng. Do đây là một trường hợp khó phát hiện, chẳng hạn ảnh bị nhoè và con vật đang núp dưới một gốc cây nên các mô hình đều dự báo xác suất không quá gần 1. Nhưng bất ngờ đó là trong kết quả trả về từ 9 mô hình thì có **8 mô hình** dự báo nhãn 1 và **1 mô hình** dự báo nhãn 0. Như vậy căn cứ vào kết quả _bầu cử_ bạn có thể tin cậy rằng nhãn dự báo cho bức ảnh là mèo là đúng.\n",
    "\n",
    "![](https://imgur.com/TGEOokD.jpeg)\n",
    "\n",
    "Ở trên là ý tưởng của mô hình kết hợp cho tác vụ phân loại ảnh chó và mèo. Thông thường những kết quả từ mô hình kết hợp sẽ tốt hơn so với chỉ sử dụng một mô hình bởi chúng ta đang vận dụng trí thông minh đám đông (_wisdom of the crowd_). Điều này đã được kiểm chứng ở nhiều lớp mô hình khác nhau trong thực nghiệm.\n",
    "\n",
    "Trên sklearn chúng ta có thể xây dựng một mô hình bầu cử thông qua class `sklearn.ensemble.VotingClassifier`."
   ]
  },
  {
   "cell_type": "code",
   "execution_count": 1,
   "id": "4bc2f6b9",
   "metadata": {
    "id": "8cXe5AiEXFYr"
   },
   "outputs": [],
   "source": [
    "from sklearn.linear_model import LogisticRegression\n",
    "from sklearn.svm import SVC\n",
    "from sklearn.tree import DecisionTreeClassifier\n",
    "from sklearn.ensemble import VotingClassifier\n",
    "from sklearn.model_selection import RepeatedStratifiedKFold\n",
    "from sklearn.model_selection import cross_val_score\n",
    "from sklearn.metrics import accuracy_score\n",
    "from sklearn.datasets import load_iris\n",
    "from sklearn.datasets import make_blobs\n",
    "import numpy as np\n",
    "\n",
    "# Load the dataset \n",
    "iris = load_iris()\n",
    "X = iris.data\n",
    "y = iris.target == 1\n",
    "\n",
    "# Three model in ensemble learning\n",
    "log_clf = LogisticRegression()\n",
    "svm_clf = SVC()\n",
    "tree_clf = DecisionTreeClassifier(max_depth=3)\n",
    "\n",
    "voting_clf = VotingClassifier(\n",
    "  estimators=[('lr', log_clf), ('svc', svm_clf), ('tree_clf', tree_clf)],\n",
    "  voting='hard'\n",
    ")\n",
    "\n",
    "cv = RepeatedStratifiedKFold(n_splits=3, n_repeats=5, random_state=1)"
   ]
  },
  {
   "cell_type": "code",
   "execution_count": 2,
   "id": "ddb65491",
   "metadata": {
    "colab": {
     "base_uri": "https://localhost:8080/"
    },
    "id": "By6OJvCyZqsb",
    "outputId": "d992c049-9d4b-432e-8613-47bf2c0ac4e2"
   },
   "outputs": [
    {
     "name": "stdout",
     "output_type": "stream",
     "text": [
      "Logistic Regression Mean Accuracy: 0.713\n",
      "SVM Mean Mean Accuracy: 0.941\n",
      "DecisionTree Classifier Mean Accuracy: 0.949\n"
     ]
    }
   ],
   "source": [
    "# Đánh giá mô hình trên từng mô hình đơn lẻ\n",
    "scores = cross_val_score(log_clf, X, y, scoring='accuracy', cv=cv, n_jobs=-1)\n",
    "print('Logistic Regression Mean Accuracy: {:.03f}'.format(np.mean(scores)))\n",
    "scores = cross_val_score(svm_clf, X, y, scoring='accuracy', cv=cv, n_jobs=-1)\n",
    "print('SVM Mean Mean Accuracy: {:.03f}'.format(np.mean(scores)))\n",
    "scores = cross_val_score(tree_clf, X, y, scoring='accuracy', cv=cv, n_jobs=-1)\n",
    "print('DecisionTree Classifier Mean Accuracy: {:.03f}'.format(np.mean(scores)))"
   ]
  },
  {
   "cell_type": "code",
   "execution_count": 3,
   "id": "c2da8d04",
   "metadata": {
    "colab": {
     "base_uri": "https://localhost:8080/"
    },
    "id": "LLf0buEmZWvf",
    "outputId": "6c40c1fd-0bda-4996-adee-ab3c6ed49a1f"
   },
   "outputs": [
    {
     "name": "stdout",
     "output_type": "stream",
     "text": [
      "Voting Classifier Mean Accuracy: 0.949\n"
     ]
    }
   ],
   "source": [
    "# Đánh giá mô hình trên mô hình kết hợp\n",
    "scores = cross_val_score(voting_clf, X, y, scoring='accuracy', cv=cv, n_jobs=-1)\n",
    "print('Voting Classifier Mean Accuracy: {:.03f}'.format(np.mean(scores)))"
   ]
  },
  {
   "cell_type": "markdown",
   "id": "14fd1765",
   "metadata": {
    "id": "3BOVd_R4d98j"
   },
   "source": [
    "Chúng ta nhận thấy rằng trong ví dụ trên thì mô hình kết hợp có độ chính xác cao nhất so với toàn bộ các mô hình đơn lẻ khác (lưu ý kết quả có thể khác nhau ở mỗi lần chạy nhưng hầu hết các trường hợp đều cho mô hình kết hợp là chính xác nhất). Thậm chí khác biệt của nó so với mô hình kém nhất là `LogisticRegression` lên tới gần 0.24. Đây là một mức độ cải thiện rất cao."
   ]
  },
  {
   "cell_type": "markdown",
   "id": "f31d48a2",
   "metadata": {
    "id": "K11an69uXiZ6"
   },
   "source": [
    "## 9.1.2. Lấý mẫu tái lập (_boostrapping_)\n",
    "\n",
    "Giả định dữ liệu huấn luyện mô hình là một tập $\\mathcal{D} = \\{(x_1, y_1), (x_2, y_2), \\dots, (x_N, y_N)\\}$ bao gồm $N$ quan sát. Thuật toán _rừng cây_ sẽ sử dụng phương pháp _lấy mẫu tái lập_ để tạo thành $B$ tập dữ liệu con. Quá trình _lấy mẫu tái lập_ này còn gọi là bỏ túi (_bagging_). Tức là chúng ta sẽ thực hiện $M$ lượt nhặt các mẫu từ tổng thể và bỏ vào túi để tạo thành tập $\\mathcal{B}_i=\\{(x_1^{(i)}, y_1^{(i)}), (x_2^{(i)}, y_2^{(i)}), \\dots, (x_M^{(i)}, y_M^{(i)})\\}$. Tập $\\mathcal{B}_i$ cho phép các phần tử được lặp lại. Như vậy sẽ tồn tại những quan sát thuộc $\\mathcal{D}$ nhưng không thuộc $\\mathcal{B}_i$. Đây là những quan sát chưa được bỏ vào túi và chúng ta gọi chúng là _nằm ngoài túi_ (_out of bag_).\n",
    "\n",
    "![](https://imgur.com/hpOFHo3.jpeg)\n",
    "\n",
    "Với mỗi tập dữ liệu $\\mathcal{B}_i$ chúng ta xây dựng một mô hình _cây quyết định_ và trả về kết quả dự báo là $\\hat{y}_j^{(i)} = f_i(\\mathbf{x}_j)$. Trong đó $\\hat{y}_j^{(i)}$ là dự báo của quan sát thứ $j$ từ mô hình thứ $(i)$, $\\mathbf{x}_j$ là giá trị véc tơ đầu vào, $f_i(.)$ là hàm dự báo của mô hình thứ $i$. Mô hình dự báo từ cây quyết định là giá trị trung bình hoặc bầu cử của $B$ cây quyết định.\n",
    "\n",
    "* Đối với mô hình dự báo: Chúng ta tính giá trị trung bình của các dự báo từ mô hình con.\n",
    "\n",
    "$$\\hat{y}_j = \\frac{1}{B} \\sum_{i=1}^{B} \\hat{y}_j^{(i)}$$\n",
    "\n",
    "* Đối với mô hình phân loại: Chúng ta thực hiện _bầu cử_ từ các mô hình con để chọn ra nhãn dự báo có tần suất lớn nhất.\n",
    "\n",
    "$$\\hat{y}_j = \\arg \\max_{c} \\sum_{i=1}^{B} p(\\hat{y_j}^{(i)} = c)$$\n",
    "\n",
    "Như vậy phương sai của mô hình trong trường hợp đối với bài toán dự báo:\n",
    "\n",
    "$$\\begin{eqnarray}\\sigma_{\\hat{y}}^2 & = & \\text{Var}(\\frac{1}{B}\\sum_{i=1}^{B} \\hat{y}^{(i)})\\\\\n",
    "& = & \\frac{1}{B^2} [\\sum_{i=1}^{B} \\text{Var}(\\hat{y}^{(i)}) + 2 \\sum_{1 \\leq m < n \\leq B}\\text{cov}(y^{(m)}, y^{(n)}) ]\n",
    "\\end{eqnarray}$$\n",
    "\n",
    "Do kết quả của mô hình con $A$ không chịu ảnh hưởng hoặc phụ thuộc vào mô hình con $B$ nên ta có thể giả định kết quả dự báo từ các mô hình là hoàn toàn độc lập nhau. Tức là ta có $\\text{cov}(y^{(m)}, y^{(n)}) = 0, ~~\\forall{1 \\leq \\ m < n \\leq B}$. Đồng thời giả định chất lượng các mô hình là đồng đều, được thể hiện qua phương sai dự báo là đồng nhất  $\\text{Var}(\\hat{y}^{(i)}) = \\sigma^2, ~~\\forall i=\\overline{1, B}$. Từ đó suy ra:\n",
    "\n",
    "$$\\begin{eqnarray}\\sigma_{\\hat{y}}^2 & = & \\frac{1}{B^2} [\\sum_{i=1}^{B} \\text{Var}(\\hat{y}^{(i)})] \\\\\n",
    "& = & \\frac{1}{B^2} B \\sigma^2 = \\frac{1}{B} \\sigma^2\n",
    "\\end{eqnarray}$$\n",
    "\n",
    "Như vậy nếu sử dụng dự báo là trung bình kết hợp từ nhiều mô hình cây quyết định thì phương sai có thể giảm $B$ lần so với chỉ sử dụng một mô hình duy nhất. Trong một mô hình _rừng cây_, số lượng các _cây quyết định_ là rất lớn. Do đó phương sai dự báo từ mô hình có thể giảm gấp nhiều lần và tạo ra một dự báo ổn định hơn. \n",
    "\n",
    "Trên sklearn chúng ta sử dụng module `sklearn.ensemble.BaggingClassifier` để áp dụng thuật toán bỏ túi. Bên dưới là ví dụ về quá trình bỏ túi sử dụng 200 mô hình cây quyết định khác nhau. Mỗi mô hình được xây dựng dựa trên 100 mẫu dữ liệu đầu vào được lựa chọn một cách ngẫu nhiên. Khi chúng ta lựa chọn `boostrap=True` thì mô hình sẽ sử dụng phương pháp chọn mẫu có lặp lại trái lại thì quá trình lấy mẫu không cho phép các quan sát được lặp lại (hay còn gọi là phương pháp lấy mẫu _pasting_)."
   ]
  },
  {
   "cell_type": "code",
   "execution_count": 4,
   "id": "19deb0e9",
   "metadata": {
    "colab": {
     "base_uri": "https://localhost:8080/"
    },
    "id": "4JEVq3utRnzW",
    "outputId": "908b41b6-7642-4dd5-c812-897626342240"
   },
   "outputs": [
    {
     "name": "stdout",
     "output_type": "stream",
     "text": [
      "Logistic Regression Mean Accuracy: 0.949\n"
     ]
    }
   ],
   "source": [
    "from sklearn.ensemble import BaggingClassifier\n",
    "from sklearn.tree import DecisionTreeClassifier\n",
    "\n",
    "bag_clf = BaggingClassifier(\n",
    "  DecisionTreeClassifier(), \n",
    "  n_estimators=200,\n",
    "  max_samples=100, \n",
    "  bootstrap=True, \n",
    "  n_jobs=-1\n",
    ")\n",
    "\n",
    "bag_clf.fit(X, y)\n",
    "\n",
    "scores = cross_val_score(bag_clf, X, y, scoring='accuracy', cv=cv, n_jobs=-1)\n",
    "print('Logistic Regression Mean Accuracy: {:.03f}'.format(np.mean(scores)))"
   ]
  },
  {
   "cell_type": "markdown",
   "id": "66cc8ff5",
   "metadata": {
    "id": "UxpWKLadQrFk"
   },
   "source": [
    "Ta có thể thấy khi sử dụng _bỏ túi_ thì độ chính xác của mô hình đã cải thiện được 0.002 điểm so với chỉ sử dụng mô hình kết hợp trên một bộ dữ liệu duy nhất."
   ]
  },
  {
   "cell_type": "markdown",
   "id": "cd2e6434",
   "metadata": {
    "id": "plnl5rTTR7Wg"
   },
   "source": [
    "## 9.1.3. Đánh giá mô hình dựa trên _mẫu nằm ngoài túi_ (_out of bag_)\n",
    "\n",
    "Phương pháp bỏ túi cho phép lấy mẫu lặp lại các quan sát trên tập huấn luyện nên sẽ có một lượng lớn những quan sát chưa được đưa vào các tập huấn luyện con. Tập hợp những mẫu này gọi là _mẫu nằm ngoài túi_ (_out of bag_), được viết tắt là _oob_. Những dữ liệu này được lựa chọn ngẫu nhiên, độc lập và hoàn toàn không được học từ mô hình nên có thể được sử dụng để đánh giá mô hình tương đương với một _tập kiểm tra_. Trong `sklearn.ensemble.BaggingClassifier` chúng ta sử dụng thêm tuỳ chọn `oob_score=True` để đánh giá mô hình dựa trên các mẫu oob."
   ]
  },
  {
   "cell_type": "code",
   "execution_count": 5,
   "id": "9db61c60",
   "metadata": {
    "colab": {
     "base_uri": "https://localhost:8080/"
    },
    "id": "_gu1pDr7OJ_W",
    "outputId": "479b3d0b-07f8-4d4f-ea9c-9dc6e00c1432"
   },
   "outputs": [
    {
     "name": "stdout",
     "output_type": "stream",
     "text": [
      "Out of bag accuracy:  0.96\n"
     ]
    }
   ],
   "source": [
    "from sklearn.ensemble import BaggingClassifier\n",
    "from sklearn.tree import DecisionTreeClassifier\n",
    "from sklearn.metrics import accuracy_score\n",
    "\n",
    "idx = np.arange(X.shape[0])\n",
    "np.random.seed(0)\n",
    "np.random.shuffle(idx)\n",
    "\n",
    "idx_train = idx[:100]\n",
    "idx_test = idx[100:]\n",
    "\n",
    "X_train, y_train = X[idx_train, :], y[idx_train]\n",
    "X_test, y_test = X[idx_test, :], y[idx_test]\n",
    "\n",
    "bag_clf = BaggingClassifier(\n",
    "  DecisionTreeClassifier(), \n",
    "  n_estimators=200,\n",
    "  max_samples=100, \n",
    "  bootstrap=True,\n",
    "  oob_score=True, \n",
    "  n_jobs=-1\n",
    ")\n",
    "\n",
    "bag_clf.fit(X_train, y_train)\n",
    "print('Out of bag accuracy: ', bag_clf.oob_score_)"
   ]
  },
  {
   "cell_type": "markdown",
   "id": "4ddc9aa7",
   "metadata": {
    "id": "bbC9LxEER4z6"
   },
   "source": [
    "Đánh giá từ các quan sát oob cho thấy mô hình đạt được độ chính xác là `96.0%`. Còn trên tập kiểm tra độ chính xác đạt được là:"
   ]
  },
  {
   "cell_type": "code",
   "execution_count": 6,
   "id": "be870e7a",
   "metadata": {
    "colab": {
     "base_uri": "https://localhost:8080/"
    },
    "id": "CZFo-vsuTTrv",
    "outputId": "dfd94af4-8777-489f-aa14-1b2d04bef09c"
   },
   "outputs": [
    {
     "name": "stdout",
     "output_type": "stream",
     "text": [
      "Out of bag accuracy:  0.96\n"
     ]
    }
   ],
   "source": [
    "y_pred = bag_clf.predict(X_test)\n",
    "print('Out of bag accuracy: ', accuracy_score(y_pred, y_test))"
   ]
  },
  {
   "cell_type": "markdown",
   "id": "1c147985",
   "metadata": {
    "id": "cp5AfSmrUnyZ"
   },
   "source": [
    "Như vậy kết quả đánh giá từ các mẫu _oob_ và tập kiểm tra là gần như bằng nhau. Bởi bản chất đây là những quan sát độc lập mà mô hình chưa được học. Về cơ bản thì nó cũng tương tự như những quan sát trên tập kiểm tra. Khi đánh giá mô hình dựa trên tập _oob_ sẽ tạo ra một kết quả khá khách quan giúp nhận biết hiện tượng _quá khớp_."
   ]
  },
  {
   "cell_type": "markdown",
   "id": "d42c4a50",
   "metadata": {
    "id": "UhsYuE2GYZf4"
   },
   "source": [
    "## 9.1.4. Mô hình rừng cây\n",
    "\n",
    "Mô hình rừng cây sẽ áp dụng cả hai phương pháp _học kết hợp_ (_ensemble learning_) và _lấy mẫu tái lập_ (_boostrapping_). Thứ tự của quá trình tạo thành một mô hình rừng cây như sau:\n",
    "\n",
    "![](https://imgur.com/XdXbFfs.jpeg)\n",
    "\n",
    "\n",
    "1. Lấy mẫu tái lập một cách ngẫu nhiên từ tập huấn luyện để tạo thành một tập dữ liệu con.\n",
    "\n",
    "2. Lựa chọn ra ngẫu nhiên $d$ biến và xây dựng mô hình cây quyết định dựa trên những biến này và tập dữ liệu con ở bước 1. Chúng ta sẽ xây dựng nhiều cây quyết định nên bước 1 và 2 sẽ lặp lại nhiều lần.\n",
    "\n",
    "3. Thực hiện _bầu cử_ hoặc lấy _trung bình_ giữa các cây quyết định để đưa ra dự báo.\n",
    "\n",
    "Kết quả dự báo từ mô hình _rừng cây_ là sự kết hợp của nhiều cây quyết định nên chúng tận dụng được trí thông minh đám đông và giúp cải thiện độ chính xác so với chỉ sử dụng một mô hình _cây quyết định_. \n",
    "\n",
    "Nếu như mô hình cây quyết định thường bị nhạy cảm với dữ liệu _ngoại lai_ (_outlier_) thì mô hình _rừng cây_ được huấn luyện trên nhiều tập dữ liệu con khác nhau, trong đó có những tập được loại bỏ dữ liệu _ngoại lai_, điều này giúp cho mô hình ít bị nhạy cảm với dữ liệu _ngoại lai_ hơn. \n",
    "\n",
    "Sự kết hợp giữa các cây quyết định giúp cho kết quả ít bị chệch và phương sai giảm. Như vậy chúng ta giảm thiểu được hiện tượng _quá khớp_ ở mô hình rừng cây, một điều mà mô hình _cây quyết định_ thường xuyên gặp phải. \n",
    "\n",
    "Cuối cùng các bộ dữ liệu được sử dụng từ những cây quyết định đều xuất phát từ dữ liệu huấn luyện nên quy luật học được giữa các cây quyết định sẽ gần tương tự như nhau và tổng hợp kết quả giữa chúng không có xu hướng _bị chệch_."
   ]
  },
  {
   "cell_type": "markdown",
   "id": "871f53df",
   "metadata": {
    "id": "OgxlAKCyg1uS"
   },
   "source": [
    "# 9.2. Huấn luyện mô hình rừng cây\n",
    "\n",
    "Để huẩn luyện mô hình rừng cây cho bài toán phân loại chúng ta sử dụng class [sklearn.ensemble.RandomForestClassifier](https://scikit-learn.org/stable/modules/generated/sklearn.ensemble.RandomForestClassifier.html) và cho bài toán dự báo là class [sklearn.ensemble.RandomForestRegressor](https://scikit-learn.org/stable/modules/generated/sklearn.ensemble.RandomForestRegressor.html). Hai class trên có các tham số có ý nghĩa tương tự nhau nên chúng ta sẽ đề cập đến `RandomForestClassifier`.\n",
    "\n",
    "```\n",
    "RandomForestClassifier(*,\n",
    "n_estimators=100,\n",
    "criterion='gini', \n",
    "max_depth=None, \n",
    "min_samples_split=2, \n",
    "min_samples_leaf=1, \n",
    "max_features=None,\n",
    "max_leaf_nodes=None, \n",
    "min_impurity_decrease=0.0, \n",
    "min_impurity_split=None,\n",
    "bootstrap=True, \n",
    "oob_score=False,\n",
    "max_samples=None\n",
    ")\n",
    "```\n",
    "\n",
    "Bản chất của mô hình rừng cây là sự kết hợp giữa nhiều cây quyết định được huấn luyện theo phương pháp _lấy mẫu tái lập_. Do đó các tham số của nó sẽ lấy các tham số thiết lập cây quyết định từ class `DecisionTreeClassifier` và tham số tạo mẫu dữ liệu từ `BaggingClassifier`. Đối với các tham số của mô hình _cây quyết định_, các bạn có thể xem giải thích ý nghĩa tại [tuning siêu tham số cho mô hình cây quyết định](https://phamdinhkhanh.github.io/deepai-book/ch_ml/DecisionTree.html#8.10). Ba tham số cho thiết lập mẫu dữ liệu bao gồm `n_estimators`, `bootstrap`, `oob_score` và `max_samples`. Trong đó:\n",
    "\n",
    "\n",
    "* `n_estimators` là số lượng các cây quyết định được sử dụng trong mô hình rừng cây.\n",
    "* `bootstrap=True` tương ứng với sử dụng phương pháp _lấy mẫu tái lập_ khi xây dựng các cây quyết định. Trái lại thì chúng ta sử dụng toàn bộ dữ liệu. Lưu ý rằng ở đây do chúng ta đã lựa chọn ngẫu nhiên ra $d$ biến khi xây dựng cây quyết định nên dù sử dụng chung một tập dữ liệu thì các cây quyết định vẫn khác nhau. \n",
    "\n",
    "* `oob_score` chỉ có hiệu lực khi sử dụng khi sử dụng `boostrap`. Nếu `oob_score=True` thì sẽ tính toán thêm điểm số trên các _mẫu nằm ngoài túi_.\n",
    "\n",
    "* `max_samples` là số lượng mẫu được sử dụng để huấn luyện mô hình cây quyết định. Mặc định `max_samples=None` thì chúng ta lấy ra các mẫu con có kích thước bằng với tập huấn luyện.\n",
    "\n",
    "Bên dưới là một ví dụ huấn luyện mô hình _rừng cây_."
   ]
  },
  {
   "cell_type": "code",
   "execution_count": 7,
   "id": "7d5accc8",
   "metadata": {
    "colab": {
     "base_uri": "https://localhost:8080/"
    },
    "id": "3_gYuXM8li9u",
    "outputId": "cc2d2d50-2f64-46ad-dd0e-23fdda2f7026"
   },
   "outputs": [
    {
     "name": "stdout",
     "output_type": "stream",
     "text": [
      "RandomForest Accuracy: 0.940\n"
     ]
    }
   ],
   "source": [
    "from sklearn.pipeline import Pipeline\n",
    "from sklearn.ensemble import RandomForestClassifier\n",
    "from sklearn.metrics import accuracy_score\n",
    "\n",
    "# Huấn luyện mô hình trên tập train\n",
    "rdf_clf = RandomForestClassifier(\n",
    "    max_depth = 3,\n",
    "    max_leaf_nodes = 16,\n",
    "    min_samples_split = 10,\n",
    "    min_samples_leaf = 10\n",
    ")\n",
    "\n",
    "rdf_clf.fit(X_train, y_train)\n",
    "\n",
    "# Dự báo trên tập test\n",
    "y_pred = rdf_clf.predict(X_test)\n",
    "scores = accuracy_score(y_pred, y_test)\n",
    "print('RandomForest Accuracy: {:.03f}'.format(scores))"
   ]
  },
  {
   "cell_type": "markdown",
   "id": "7bdd94d0",
   "metadata": {
    "id": "p5Eb4pBgtX0h"
   },
   "source": [
    "# 9.3. Đánh giá mức độ quan trọng của biến\n",
    "\n",
    "Khi đánh giá mức độ quan trọng của một biến, mô hình _rừng cây_ là một lựa chọn nhanh gọn và tiện ích.\n",
    "\n",
    "Chúng ta để ý thấy rằng những biến càng quan trọng thì càng gần _node gốc_ trong mô hình cây quyết định. Như vậy tính trung bình giá trị vị trí độ sâu của các biến xuất hiện trong toàn bộ các _cây quyết định_ của mô hình _rừng cây_ chúng ta hoàn toàn có thể xếp hạng được khá chuẩn xác biến nào có mức độ quan trọng hơn."
   ]
  },
  {
   "cell_type": "code",
   "execution_count": 8,
   "id": "2b0dd893",
   "metadata": {
    "colab": {
     "base_uri": "https://localhost:8080/",
     "height": 173
    },
    "id": "aYhG3NH_xsDk",
    "outputId": "52424143-2432-4e49-ffd3-a996275c56e0"
   },
   "outputs": [
    {
     "data": {
      "text/html": [
       "<div>\n",
       "<style scoped>\n",
       "    .dataframe tbody tr th:only-of-type {\n",
       "        vertical-align: middle;\n",
       "    }\n",
       "\n",
       "    .dataframe tbody tr th {\n",
       "        vertical-align: top;\n",
       "    }\n",
       "\n",
       "    .dataframe thead th {\n",
       "        text-align: right;\n",
       "    }\n",
       "</style>\n",
       "<table border=\"1\" class=\"dataframe\">\n",
       "  <thead>\n",
       "    <tr style=\"text-align: right;\">\n",
       "      <th></th>\n",
       "      <th>features</th>\n",
       "      <th>importance</th>\n",
       "    </tr>\n",
       "  </thead>\n",
       "  <tbody>\n",
       "    <tr>\n",
       "      <th>3</th>\n",
       "      <td>petal width (cm)</td>\n",
       "      <td>0.464741</td>\n",
       "    </tr>\n",
       "    <tr>\n",
       "      <th>2</th>\n",
       "      <td>petal length (cm)</td>\n",
       "      <td>0.417541</td>\n",
       "    </tr>\n",
       "    <tr>\n",
       "      <th>0</th>\n",
       "      <td>sepal length (cm)</td>\n",
       "      <td>0.064457</td>\n",
       "    </tr>\n",
       "    <tr>\n",
       "      <th>1</th>\n",
       "      <td>sepal width (cm)</td>\n",
       "      <td>0.053261</td>\n",
       "    </tr>\n",
       "  </tbody>\n",
       "</table>\n",
       "</div>"
      ],
      "text/plain": [
       "            features  importance\n",
       "3   petal width (cm)    0.464741\n",
       "2  petal length (cm)    0.417541\n",
       "0  sepal length (cm)    0.064457\n",
       "1   sepal width (cm)    0.053261"
      ]
     },
     "execution_count": 8,
     "metadata": {},
     "output_type": "execute_result"
    }
   ],
   "source": [
    "import pandas as pd\n",
    "\n",
    "pd.DataFrame({'features': iris.feature_names, 'importance':rdf_clf.feature_importances_}).sort_values('importance', ascending=False)"
   ]
  },
  {
   "cell_type": "markdown",
   "id": "d797f014",
   "metadata": {
    "id": "EbZ8WYUq9KpE"
   },
   "source": [
    "Như vậy trong bộ dữ liệu iris thì `petal width` và `petal length` là những biến quan trọng nhất trong việc phân loại loài hoa `versicolor` với những loài hoa khác. Các biến `sepal length` và `sepal width` thì mức độ quan trọng là không đáng kể."
   ]
  },
  {
   "cell_type": "markdown",
   "id": "290070bd",
   "metadata": {
    "id": "6BWnbaX294zq"
   },
   "source": [
    "# 9.4. Tổng kết\n",
    "\n",
    "Qua bài viết này các bạn đã hiểu về bản chất của mô hình _rừng cây_ là sự kết hợp giữa nhiều mô hình _cây quyết định_ được huấn luyện trên các tập dữ liệu khác nhau được rút ra từ tập huấn luyện. Mô hình rừng cây có ưu điểm đó là giảm thiểu được hiện tượng _quá khớp_ do có phương sai thấp và ít bị ảnh hưởng bởi nhiễu như mô hình _cây quyết định_. Khi huấn luyện mô hình, mô hình _rừng cây_ cũng giúp chúng ta đánh giá nhanh tầm quan trọng của các biến đối với việc phân loại. Điều này cực kì hữu ích đối với những bộ dữ liệu có số chiều lớn."
   ]
  },
  {
   "cell_type": "markdown",
   "id": "a86d1176",
   "metadata": {
    "id": "-186pgtp_Vxs"
   },
   "source": [
    "# 9.5. Bài tập\n",
    "\n",
    "Tập dữ liệu đầu vào là [breast cancer](https://archive.ics.uci.edu/ml/datasets/breast+cancer+wisconsin+%28original%29).\n",
    "\n",
    "1. Hãy xây dựng một mô hình kết hợp giữa nhiều mô hình phân loại khác nhau cho bài toán này. So sánh với từng mô hình riêng lẻ thì mô hình kết hợp có độ chính xác như thế nào?\n",
    "\n",
    "2. Sử dụng phương pháp _lấy mẫu tái lập_ (_boostrapping_) để huấn luyện mô hình cây quyết định trên những mẫu này. Đánh giá độ chính xác của mô hình trên các quan sát _nằm ngoài túi_ (viết tắt là _oob_). Những đánh giá trên _oob_ có tác dụng gì?\n",
    "\n",
    "3. Mô hình rừng cây hoạt động dựa trên sự kết hợp của những ý tưởng nào?\n",
    "\n",
    "4. Chúng ta làm thế nào để đánh giá mức độ quan trọng của biến đầu vào sử dụng mô hình _rừng cây_?\n",
    "\n",
    "5. Ưu và nhược điểm của mô hình rừng cây là gì?"
   ]
  },
  {
   "cell_type": "markdown",
   "id": "a4682567",
   "metadata": {
    "id": "ZbcEKRq0CQjb"
   },
   "source": [
    "# 9.6. Tài liệu tham khảo\n",
    "\n",
    "1. [Random forest ensemble in python - machine learning mastery](https://machinelearningmastery.com/random-forest-ensemble-in-python/)\n",
    "2. [Random forest datacamp](https://www.datacamp.com/community/tutorials/random-forests-classifier-python)\n",
    "3. [Random forest wikipedia](https://en.wikipedia.org/wiki/Random_forest)\n",
    "4. [Random forest freecodecamp](https://www.freecodecamp.org/news/how-to-use-the-tree-based-algorithm-for-machine-learning/)"
   ]
  }
 ],
 "metadata": {
  "jupytext": {
   "text_representation": {
    "extension": ".md",
    "format_name": "myst",
    "format_version": 0.12,
    "jupytext_version": "1.8.2"
   }
  },
  "kernelspec": {
   "display_name": "Python 3",
   "name": "python3"
  },
  "language_info": {
   "codemirror_mode": {
    "name": "ipython",
    "version": 3
   },
   "file_extension": ".py",
   "mimetype": "text/x-python",
   "name": "python",
   "nbconvert_exporter": "python",
   "pygments_lexer": "ipython3",
   "version": "3.9.7"
  },
  "source_map": [
   11,
   19,
   33,
   65,
   81,
   93,
   97,
   131,
   155,
   159,
   166,
   200,
   204,
   215,
   219,
   243,
   279,
   306,
   314,
   327,
   331,
   337,
   354
  ]
 },
 "nbformat": 4,
 "nbformat_minor": 5
}