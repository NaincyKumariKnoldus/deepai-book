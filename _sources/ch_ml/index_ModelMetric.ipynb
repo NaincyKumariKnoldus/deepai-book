{
 "cells": [
  {
   "cell_type": "markdown",
   "id": "e9093800",
   "metadata": {},
   "source": [
    "Các thuật ngữ trong bài:\n",
    "\n",
    "* dương tính: Positive\n",
    "* âm tính: Negative\n",
    "* thước đo: metric\n",
    "* độ chính xác: accuracy\n",
    "* độ chuẩn xác: precision\n",
    "* độ phủ: recall\n",
    "* sai dương tính: false positive rate\n",
    "* đúng dương tính: true positive rate\n",
    "* tập huấn luyện: train data\n",
    "* tập thẩm định: validation data\n",
    "* tập kiểm tra: test data\n",
    "\n",
    "# 5. Thước đo mô hình phân loại\n",
    "\n",
    "Đánh giá mô hình là một khâu quan trọng trong quá trình xây dựng mô hình machine learning. Đánh giá mô hình giúp ta biết được chất lượng của mô hình như thế nào và lựa chọn được mô hình tốt nhất giúp giải quyết tác vụ của mình. Tuy nhiên để tìm được thước đo đánh giá mô hình phù hợp với từng bài toán đòi hỏi chúng ta phải hiểu về ý nghĩa, bản chất và trường hợp áp dụng của từng thước đo.\n",
    "\n",
    "Nội dung của chương này nhằm cung cấp cho bạn đọc các kiến thức về những thước đo quan trọng, thường được áp dụng trong các mô hình phân loại trong machine learning nhưng chúng ta đôi khi còn chưa nắm vững hoặc chưa biết cách áp dụng những thước đo này sao cho phù hợp với từng bộ dữ liệu cụ thể.\n",
    "Cụ thể chúng ta sẽ nắm được ý nghĩa, cách thức áp dụng của những thước đo như:\n",
    "\n",
    "* Độ chính xác (_accuracy_): Thước đo thông dụng nhất của mô hình phân loại.\n",
    "* Độ chuẩn xác (_precision_): Thước đo tỷ lệ dự báo đúng được tính trên mẫu được dự báo là _dương tính_ (_positive_) và trường hợp áp dụng chúng.\n",
    "* Độ nhạy (_recall_), tương tự như _độ chuẩn xác_ nhưng được tính trên tỷ lệ của những mẫu thực tế là _dương tính_. \n",
    "* f1 score: Trung bình điều hoà của _độ chuẩn xác_ và _độ nhạy_. Trường hợp nào thì nên áp dụng chúng thay cho _độ chuẩn xác_.\n",
    "* chỉ số AUC và đường cong ROC, các hình dạng đặc trưng của ROC và ý nghĩa trong việc đánh giá phẩm chất của các mô hình phân loại nhị phân của học có giám sát.\n",
    "* chỉ số Gini và đường cong Lorenz trong đo lường bất bình đẳng phân phối. Ví dụ áp dụng đối với bài toán phân loại tín dụng.\n",
    "\n",
    "Hãy cùng phân tích và tìm hiểu các thước đo này qua các ví dụ trực quan bên dưới."
   ]
  }
 ],
 "metadata": {
  "jupytext": {
   "text_representation": {
    "extension": ".md",
    "format_name": "myst",
    "format_version": 0.12,
    "jupytext_version": "1.8.2"
   }
  },
  "kernelspec": {
   "display_name": "Python 3",
   "name": "python3"
  },
  "language_info": {
   "codemirror_mode": {
    "name": "ipython",
    "version": 3
   },
   "file_extension": ".py",
   "mimetype": "text/x-python",
   "name": "python",
   "nbconvert_exporter": "python",
   "pygments_lexer": "ipython3",
   "version": "3.9.7"
  },
  "source_map": [
   11
  ]
 },
 "nbformat": 4,
 "nbformat_minor": 5
}