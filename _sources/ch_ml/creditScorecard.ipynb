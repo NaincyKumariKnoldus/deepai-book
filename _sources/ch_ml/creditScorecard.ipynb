{
 "cells": [
  {
   "cell_type": "markdown",
   "id": "69f346df",
   "metadata": {},
   "source": [
    "# 6.1. Phương pháp chuyên gia và mô hình\n",
    "\n",
    "Để đánh giá rủi ro tín dụng chúng ta có thể áp dụng phương pháp chuyên gia hoặc sử dụng mô hình thống kê. Mỗi phương pháp đều có các ưu nhược điểm khác nhau. Tiếp theo chúng ta sẽ cùng nhau phân biệt hai phương pháp này:\n",
    " \n",
    "**Phương pháp chuyên gia**: Như tên gọi của nó, phương pháp chuyên gia sẽ dựa trên ý kiến thẩm định của các chuyên gia về rủi ro đối với một khoản tín dụng. Rủi ro sẽ được căn cứ trên các thông tin chủ yếu đó là:\n",
    "\n",
    "* Đặc điểm của chủ thể vay (character): Thẩm định danh tiếng, tính trung thực của người vay vốn.\n",
    "\n",
    "* Vốn (capital): Thẩm định sự chênh lệch giữa tài sản và nguồn vốn của người cho vay. Tài sản chính là những giá trị mà ngân hàng có thể thu hồi khi người vay không trả được nợ. Nguồn vốn có thể là các chi phí mà người vay đang phải chi trả như chi tiêu gia đình, chi phí sinh hoạt, chi phí trả lãi từ các khoản vay khác,…. Sau khi trừ đi các chi phí chúng ta sẽ biết được giá trị khả dụng của người vay và liệu nó có đủ để bao quát lãi vay hay không?\n",
    "\n",
    "* Tài sản đảm bảo (collateral): Sẽ có 2 loại hình thức cho vay được phân chia dựa trên tài sản đảm bảo đó là vay thế chấp (có tài sản đảm bảo) và vay tín chấp (không có tài sản đảm bảo). Rủi ro của 2 hình thức cho vay này là khác biệt nhau nên lãi suất và hạn mức của chúng cũng sẽ khác biệt để đảm bảo dung hòa giữa lợi nhuận và rủi ro đối với ngân hàng. Đối với vay thế chấp ngân hàng sẽ phải định giá chính xác giá trị của các tài sản thế chấp. Gía trị các tài sản này sẽ quyết định hạn mức tín dụng mà ngân hàng sẽ cấp cho người vay. Rủi ro đối với các khoản vay thế chấp là thấp hơn tín chấp vì trong trường hợp khách hàng không có khả năng thanh toán, ngân hàng được quyền thu hồi tài sản đảm bảo.\n",
    "\n",
    "* Khả năng trả nợ (capacity): Là các thông tin liên quan trực tiếp đến khả năng tài chính của người vay đó là: nghề nghiệp, mức thu nhập, trạng thái hôn nhân, số người phụ thuộc,….\n",
    "\n",
    "* Điều kiện (condition): Đánh giá sơ bộ trạng thái của người vay có tham chiếu tới điều kiện thị trường, bối cảnh tài chính, áp lực cạnh tranh, mục đích sử dụng vốn,…. Chẳng hạn người vay là hộ dân trồng cafe nhưng năm vừa qua thị trường cafe giảm giá mạnh. Do đó sẽ khiến lợi nhuận và khả năng thanh toán của người vay xuống thấp hơn dự kiến.\n",
    "\n",
    "Phương pháp chuyên gia là phương pháp thủ công vì nó dựa trên kinh nghiệm của con người. Do đó quá trình thẩm định sẽ tốn kém về thời gian. Đồng thời ý kiến đánh giá cũng không nhất quán giữa các chuyên gia. Do đó một phương pháp khác được khuyến nghị phát triển ở hội nghị basel nhằm đưa ra các đánh giá nhanh chóng và nhất quán hơn. Đó chính là phương pháp mô hình.\n",
    "\n",
    "**Phương pháp mô hình**: Phương pháp mô hình sẽ dựa trên điểm số được lượng hóa từ mô hình học máy. Phương pháp này có nhiều điểm tối ưu hơn so với phương pháp chuyên gia:\n",
    "\n",
    "* Những mô hình đưa ra kết quả dường như là ngay lập tức. Do đó thời gian thẩm định hồ sơ nhanh chóng và rất phù hợp với các nền tảng cho vay online.\n",
    "\n",
    "* Năng suất thẩm định từ mô hình cao hơn rất nhiều so với các chuyên gia. Một môt hình có thể giải quyết số lượng hồ sơ bằng khối lượng công việc của hàng trăm chuyên gia.\n",
    "\n",
    "* Giảm thiểu chi phí lao động khi không phải chi trả lương cho các chuyên gia thẩm định.\n",
    "\n",
    "* Kết quả đánh giá hồ sơ là rất nhất quán dựa trên điểm số tín nhiệm là duy nhất, trong khi đó các chuyên gia có thể đưa ra kết quả đánh giá khác nhau dựa trên cảm quan của họ về rủi ro. Khi xảy ra bất đồng ý kiến, sẽ cần hội đồng chuyên gia đánh giá lại hồ sơ và khá tốn thời gian để hoàn thành thẩm định.\n",
    "\n",
    "* Mô hình sẽ xem xét toàn diện các biến số đầu vào và thậm chí có thể gia tăng số lượng biến tùy ý mà không ảnh hưởng tới thời gian dự báo. Trong khi phương pháp chuyên gia sẽ chịu hạn chế bởi khả năng của con người là có hạn. Việc đánh giá hồ sơ đôi khi chỉ được nhận định trên một số biến chính.\n",
    "\n",
    "Chính vì những lợi thế đó, phương pháp mô hình đang dần thay thế phương pháp chuyên gia và trở thành phương pháp thẩm định chủ yếu tại các ngân hàng.\n",
    "\n",
    "# 6.2. Xây dựng mô hình credit scorecard\n",
    "\n",
    "Có nhiều thuật toán khác nhau được áp dụng để xây dựng mô hình scorecard. Trong bài này tôi sẽ chỉ giới thiệu mô hình thông dụng nhất đối với bài toán phân loại nợ xấu trong lớp các mô hình phân loại nhị phân, đó là hồi qui Logistic. Về hồi qui Logistic các bạn xem thêm tại [3.1. Logistic Regression](https://phamdinhkhanh.github.io/deepai-book/ch_ml/classification.html) để nắm rõ nội dung của phương pháp này. Quá trình hồi qui sẽ tiếp nhận các đặc trưng đầu vào đã được tiền xử lý theo phương pháp _trọng số dấu hiệu_, viết tắt là WOE, cụ thể sẽ được giới thiệu bên dưới. Cuối cùng đầu ra của mô hình là xác suất vỡ nợ (_default probability_) đánh giá khả năng vỡ nợ của một hồ sơ vay vốn. Xác suất càng cao là dấu hiệu cho thấy khả năng vỡ nợ càng lớn. Từ xác suất, thông qua các phép biến đổi để chuyển sang điểm số tín nhiệm (_credit score_) đại diện cho mức độ uy tín của khách hàng. Điểm số này bằng tổng các điểm số tương ứng với mỗi một đặc trưng của người dùng được tạo ra từ WOE. Bạn đọc sẽ nắm rõ hơn điều này ở phần trình bày bên dưới.\n",
    "\n",
    "## 6.2.1. Weight of Evidence - WOE\n",
    "\n",
    "WOE (weight of evidence) là một trong những kĩ thuật _tạo đặc trưng_ (_feature engineering_) và _lựa chọn đặc trưng_ (_feature selection_) khá hiệu quả, thường được áp dụng trong quá trình xây dựng mô hình scorecard. Phương pháp này sẽ xếp hạng các biến thành mạnh, trung bình, yếu, không tác động,… dựa trên điểm số đánh giá về sức mạnh dự báo nợ xấu. Tiêu chuẩn xếp hạng sẽ là chỉ số giá trị thông tin IV (_information value_) được tính toán từ phương pháp WOE. Đồng thời mô hình cũng tạo ra các _đặc trưng_ cho mỗi biến. Giá trị này sẽ đo lường sự khác biệt trong phân phối giữa GOOD và BAD. Cụ thể như sau:\n",
    "\n",
    "Phương pháp WOE sẽ có các kĩ thuật xử lý khác biệt đối với biến liên tục và biến phân loại:\n",
    "\n",
    "* **Trường hợp biến liên tục**: WOE sẽ gán nhãn cho mỗi một quan sát theo nhãn giá trị bins mà nó thuộc về. Các bins sẽ là các khoảng liên tiếp được xác định từ biến liên tục sao cho số lượng quan sát ở mỗi bin là bằng nhau. Để xác định các bins thì ta cần xác định số lượng bins. Chúng ta có thể hình dung đầu mút của các khoảng bins chính là các quantile.\n",
    "\n",
    "* **Trường hợp biến phân loại**: WOE có thể cân nhắc mỗi một nhóm là một bin hoặc có thể nhóm vài nhóm có số lượng quan sát ít vào một bin. Ngoài ra mức độ chênh lệch giữa phân phối GOOD/BAD được đo lường thông qua chỉ số WOE cũng có thể được sử dụng để nhận diện các nhóm có cùng tính chất phân loại. Nếu giá trị WOE của chúng càng gần nhau thì có thể chúng sẽ được nhóm vào một nhóm. Ngoài ra, trường hợp Null cũng có thể được coi là một nhóm riêng biệt nếu số lượng của nó là đáng kể hoặc nhóm vào các nhóm khác nếu nó là thiểu số.\n",
    "\n",
    "Để hình dung cách tính WOE, tôi lấy ví dụ:\n",
    "\n",
    "Độ tuổi của một khách hàng vay vốn rơi vào khoảng từ 20-60 tuổi. Ta sẽ phân chia độ tuổi này thành các bins sao cho số lượng quan sát của chúng là gần bằng nhau và thống kê số lượng hồ sơ good và bad trên từng bin đó. Sau cùng ta thu được một bảng như bên dưới:\n",
    "\n",
    "![](https://i.imgur.com/rntYJSv.png)\n",
    "\n",
    "**Bảng 1**: Bảng tính toán hệ số bằng chứng WOE và giá trị thông tin IV.\n",
    "\n",
    "Các cột có ý nghĩa như sau:\n",
    "\n",
    "* **No observation**: Số lượng các quan sát trong từng bins. Thường sẽ được chia bằng nhau giữa các bins để không có sự thiên lệch.\n",
    "\n",
    "* **No Good**: Số lượng hồ sơ là nợ xấu ở mỗi bins. Chúng ta coi những hồ sơ vỡ nợ là Good vì Good không phải đại diện cho chất lượng của hồ sơ mà chỉ đơn thuần đánh dấu các hồ sơ nhãn là 1.\n",
    "\n",
    "* **No Bad**: Số lượng hồ sơ không là nợ xấu ở mỗi bins. Nhãn của hồ sơ là 0.\n",
    "\n",
    "* **Good/Bad**: Tỷ lệ hồ sơ Good/Bad ở mỗi bins.\n",
    "\n",
    "* **%Good**: Phân phối của các hồ sơ good trên toàn bộ các bins. Tổng cột bằng 1.\n",
    "\n",
    "* **%Bad**: Phân phối của các hồ sơ bad trên toàn bộ các bins. Tương tự như %Good cũng có tổng bằng 1.\n",
    "\n",
    "* **WOE (Weight of Evidence)**: Trọng số bằng chứng được sử dụng để đo lường sự khác biệt giữa tỷ lệ %Good và %Bad trên từng bin. Trọng số bằng chứng được tính toán bằng logarit của %Good/%Bad. Chẳng hạn tại bin 20-30 chúng ta biết được %Good = 0.313 và %Bad = 0.192, khi đó giá trị WOE tại bin này như sau:\n",
    "\n",
    "$$\\text{WOE}_{20-30} = \\ln(\\frac{\\text{ %Good}}{\\text{ %Bad}}) = \\ln(\\frac{0.313}{0.192}) = 0.491$$\n",
    "\n",
    "Tính chất của WOE: Giá trị WOE tại một bin càng lớn là dấu hiệu chứng tỏ đặc trưng rất tốt trong việc nhận diện hồ sơ Good và trái lại nếu giá trị WOE càng nhỏ thì đặc trưng bin sẽ rất tốt trong việc nhận diện hồ sơ Bad. WOE > 1 thì phân phối của hồ sơ Good đang chiếm ưu thế hơn Bad và trái lại.\n",
    "\n",
    "* **IV (Information Value)**: Chỉ số giá trị thông tin, có tác dụng đánh giá một biến có sức mạnh trong việc phân loại nợ xấu hay không. Công thức tính IV:\n",
    "\n",
    "$$\\sum_{i=1}^{n}({\\text{ %Good}_{i}-\\text{ %Bad}_{i}).\\text{WOE}_{i}}$$\n",
    "\n",
    "Ta nhận thấy IV luôn nhận giá trị dương vì $\\text{WOE}_{i}$ và $(\\text{ %Good}_{i}-\\text{ %Bad}_{i})$ đồng biến. Gía trị IV sẽ cho ta biết mức độ chênh lệch của `%Good` và `%Bad` ở mỗi bin là nhiều hay ít. Nếu IV cao thì sự khác biệt trong phân phối giữa `%Good` và `%Bad`sẽ lớn và biến hữu ích hơn trong việc phân loại hồ sơ và trái lại IV nhỏ thì biến ít hữu ích trong việc phân loại hồ sơ. Một số tài liệu cũng đưa ra tiêu chuẩn phân loại sức mạnh của biến theo giá trị IV như bên dưới:\n",
    "\n",
    "* <= 0.02: Biến không có tác dụng trong việc phân loại hồ sơ Good/Bad.\n",
    "* 0.02 - 0.1: yếu\n",
    "* 0.1 - 0.3: trung bình\n",
    "* 0.3 - 0.5: mạnh\n",
    "* => 0.5: Biến rất mạnh, tuy nhiên trường hợp này cần được điều tra lại để tránh trường hợp biến có mối quan hệ trực tiếp để định nghĩa hồ sơ Good/Bad.\n",
    "\n",
    "## 6.2.2. Ưu và nhược điểm của phương pháp WOE\n",
    "\n",
    "Sở dĩ các mô hình scorecard lại ưa chuộng WOE bởi vì chúng có những ưu điểm đó là:\n",
    "\n",
    "* WOE giúp biến đổi các biến đầu vào liên tục thành những biến có mối quan hệ đơn điệu (đồng biến hoặc nghịch biến) đối với biến mục tiêu. Thật vậy, giả sử thống kê cho thấy đối với độ tuổi của khách hàng trong các khoảng `20-30, 30-40, 40-50, 50+` thì tỷ lệ _%GOOD/%BAD_ là `[0.1, 0.5, 0.2, 0.3]`. Như vậy AGE sẽ không có mối quan hệ đồng biến với tỷ lệ _%GOOD/%BAD_, tức là nó không có mối quan hệ đồng biến với biến mục tiêu. Trong khi nếu hồi qui giá trị gốc của AGE theo Logistic thì mối quan hệ với biến mục tiêu của AGE sẽ là đơn điệu (đơn điệu tăng hay giảm phụ thuộc vào dấu của hệ số hồi qui). Điều này là trái với thực tế. Do đó, phương pháp WOE giúp ta chia nhỏ các biến liên tục thành các khoảng biến mà giá trị của nó là đơn điệu với biến mục tiêu tuỳ thuộc vào dấu của WOE tương ứng với mỗi khoảng. Do đó các hệ số trong phương trình hồi qui Logistic sẽ giải thích được đúng thực tế mối quan hệ giữa biến đầu vào với biến mục tiêu.\n",
    "\n",
    "* Phương pháp WOE giúp loại bỏ các outliers vì các biến có khoảng biến thiên lớn sẽ được nhóm về các nhóm bins. Gía trị của các quan sát outliers sẽ không còn khác biệt so với các những quan sát khác thuộc cùng nhóm vì chúng cùng được gán giá trị bằng trọng số WOE.\n",
    "\n",
    "* Giá trị WOE phản ánh được ảnh hưởng của từng nhóm lên biến phụ thuộc. Vì giá trị WOE thể hiện chênh lệch về tỷ lệ giữa `%GOOD/%BAD`, đây là chỉ số ảnh hưởng trực tiếp đến xác suất vỡ nợ của khách hàng.\n",
    "\n",
    "* Đối với các biến có nhiều nhóm nhỏ thì WOE sẽ nhóm chúng thành các nhóm lớn có hệ số WOE thể hiện thông tin chung cho toàn bộ nhóm.\n",
    "\n",
    "Chính nhờ những lợi thế trên mà WOE đã được sử dụng phổ biến trong các mô hình credit scorecard.\n",
    "\n",
    "Tuy nhiên phương pháp WOE cũng có những hạn chế nhất định đó là:\n",
    "\n",
    "* Khi tính toán WOE, rất khó để biết phân chia bao nhiêu bins là phù hợp đối với biến liên tục. Việc gộp nhóm hoặc tách nhóm cũng được thực hiện thủ công dựa trên phân tích giá trị của WOE.\n",
    "\n",
    "* Do các biến WOE là luôn đơn điệu với biến mục tiêu nên giữa các biến đầu vào luôn có sự tương quan (do cùng tương quan với biến mục tiêu). Điều này có thể dẫn đến nguy cơ đa cộng tuyến cao ảnh hưởng tới khả năng giải thích của hệ số hồi qui.\n",
    "\n",
    "## 6.2.3. Tiêu chuẩn mô hình scorecard\n",
    "\n",
    "Vì là một mô hình liên quan đến định lượng tín nhiệm khách hàng và ảnh hưởng đến quyết định cấp vốn nên khi phát triển một mô hình scorecard và cân nhắc ứng dụng mô hình đó vào thực tiễn, ngân hàng cần phải xem xét đến các khía cạnh rủi ro có thể phát sinh để đảm bảo việc áp dụng mang lại hiệu quả và hạn chế các rủi ro tiềm ẩn. Các tiêu chuẩn cần đạt được của một mô hình credit scorecard đó là:\n",
    "\n",
    "* **Khả năng diễn giải (Interpretability)**: Một mô hình có khả năng diễn giải tốt sẽ dễ dàng áp dụng vào thực tiễn hơn so với các mô hình có khả năng diễn giải kém. Chẳng hạn khi áp dụng 2 thuật toán khác nhau là hồi qui Logistic và mạng Nơ ron vào xây dựng một mô hình phân loại nợ xấu thì mạng nơ ron có thể mặc dù mang lại kết quả tốt hơn nhưng mô hình hồi qui Logistic vẫn được ưa chuộng hơn vì nó có khả năng giải thích được tác động của các đặc trưng lên điểm số cuối cùng.\n",
    "\n",
    "* **Độ chính xác kì vọng (Expectation Accuracy)**: Một mô hình trước khi đưa vào áp dụng cần phải đạt được một ngưỡng chính xác kì vọng. Ngưỡng chính xác này nên được thiết lập theo một thước đo phù hợp, chúng có thể là: _độ chính xác (Accuracy), độ chuẩn xác (Precision), độ phủ (Recall), f1 score, AUC, Gini, Kappa_ giúp đánh giá bài toán phân loại. Thời điểm thiết lập kì vọng nên được tiến hành ở đầu dự án để tạo ra mục tiêu nhất quán trong suốt quá trình phát triển mô hình. Ngoài ra giá trị thiết lập nên được tham chiếu đến một số cơ sở thực tiễn chẳng hạn như: Khuyến nghị của các tổ chức tư vấn tài chính, độ chính xác mà một số ngân hàng khác đã đạt được trong cùng một thị trường, độ chính xác từ phương pháp chuyên gia,….\n",
    "\n",
    "* **Chi phí xây dựng (Cost)**: Để xây dựng một mô hình scorecard sẽ khá tốn kém về mặt chi phí và nguồn lực. Đội ngũ phát triển sẽ phải bỏ công sức thu thập dữ liệu, xử lý dữ liệu, huấn luyện mô hình. Ngoài ra việc sử dụng một số nguồn dữ liệu ngoài như dữ liệu lịch sử tín dụng từ cục tín dụng sẽ phải mất phí. Quá trình xây dựng mô hình cần phải tuân theo chuẩn basel nên có thể sẽ cần tới chi phí thuê tư vấn từ bên thứ ba. Sau khi xây dựng mô hình sẽ phát sinh thêm các chi phí về hậu kiểm, vận hành và đánh giá lại mô hình định kì. Do đó cần ước tính chúng trước khi xây dựng mô hình để dự án đạt hiệu quả lớn nhất.\n",
    "\n",
    "Xây dựng mô hình scorecard là một quá trình lâu dài, từ khâu huấn luyện cho tới duy trì và vận hành. Đòi hỏi chúng ta phải thoả mãn các tiêu chuẩn chặt chẽ theo qui định của Basel. Trong khuôn khổ hạn hẹp, các nội dung liên quan tới tiêu chuẩn của Basel sẽ nằm ngoài bài viết này. Tiếp theo chúng ta sẽ cùng thực hành xây dựng một mô hình scorecard trên bộ dữ liệu [hmeq](http://www.creditriskanalytics.net/uploads/1/9/5/1/19511601/hmeq.csv).\n",
    "\n",
    "## 6.2.4.  Xây dựng model ScoreCard\n",
    "\n",
    "Sau đây chúng ta sẽ cùng xây dựng một model scorecard từ bộ dữ liệu [hmeq](http://www.creditriskanalytics.net/uploads/1/9/5/1/19511601/hmeq.csv). Thông tin cụ thể về các biến trong bộ dữ liệu này như sau:\n",
    "\n",
    "Bộ dữ liệu HMEQ bao gồm các đặc trưng thông tin nợ quá hạn của 5960 khoản vay mua nhà. Đây là những khoản vay mà người vay sử dụng vốn chủ sở hữu làm tài sản thế chấp cơ sở. Tập dữ liệu bao gồm những trường sau:\n",
    "\n",
    "* BAD: 1 = Hồ sơ vay là vi phạm hoặc mất khả năng trả nợ; 0 = hồ sơ vay đã và đang trả nợ.\n",
    "* LOAN: Số tiền yêu cầu cho vay.\n",
    "* MORTDUE: Số tiền đến hạn của khoản thế chấp hiện có.\n",
    "* VALUE: Giá trị tài sản hiện tại.\n",
    "* REASON: DebtCon = nợ hợp nhất; HomeImp = cải thiện nhà.\n",
    "* JOB: Thể loại nghề nghiệp.\n",
    "* YOJ: Số năm kinh nghiệm trong nghề nghiệp hiện tại.\n",
    "* DEROG: Số lượng báo cáo không tín nhiệm.\n",
    "* DELINQ: Số hạn mức tín dụng quá hạn.\n",
    "* CLAGE: Tuổi của hạn mức tín dụng cũ nhất tính theo tháng.\n",
    "* NINQ: Số câu hỏi tín dụng gần đây.\n",
    "* CLNO: Số lượng hạn mức tín dụng.\n",
    "* DEBTINC: Tỷ lệ nợ trên thu nhập.\n",
    "\n",
    "Có tổng cộng 12 biến đầu vào bao gồm cả biến numeric và biến category. Về cơ bản số lượng quan sát là đủ lớn để xây dựng mô hình credit scorecard. Tiếp theo chúng ta sẽ khảo sát dữ liệu.\n",
    "\n",
    "### 6.2.4.1. Khảo sát dữ liệu"
   ]
  },
  {
   "cell_type": "code",
   "execution_count": 1,
   "id": "3f2751bd",
   "metadata": {},
   "outputs": [],
   "source": [
    "import pandas as pd\n",
    "\n",
    "data = pd.read_csv('http://www.creditriskanalytics.net/uploads/1/9/5/1/19511601/hmeq.csv', header = 0, sep = ',')"
   ]
  },
  {
   "cell_type": "markdown",
   "id": "597b2b8e",
   "metadata": {},
   "source": [
    "Khảo sát dữ liệu"
   ]
  },
  {
   "cell_type": "code",
   "execution_count": 2,
   "id": "e36489bd",
   "metadata": {},
   "outputs": [
    {
     "data": {
      "text/html": [
       "<div>\n",
       "<style scoped>\n",
       "    .dataframe tbody tr th:only-of-type {\n",
       "        vertical-align: middle;\n",
       "    }\n",
       "\n",
       "    .dataframe tbody tr th {\n",
       "        vertical-align: top;\n",
       "    }\n",
       "\n",
       "    .dataframe thead th {\n",
       "        text-align: right;\n",
       "    }\n",
       "</style>\n",
       "<table border=\"1\" class=\"dataframe\">\n",
       "  <thead>\n",
       "    <tr style=\"text-align: right;\">\n",
       "      <th></th>\n",
       "      <th>BAD</th>\n",
       "      <th>LOAN</th>\n",
       "      <th>MORTDUE</th>\n",
       "      <th>VALUE</th>\n",
       "      <th>YOJ</th>\n",
       "      <th>DEROG</th>\n",
       "      <th>DELINQ</th>\n",
       "      <th>CLAGE</th>\n",
       "      <th>NINQ</th>\n",
       "      <th>CLNO</th>\n",
       "      <th>DEBTINC</th>\n",
       "    </tr>\n",
       "  </thead>\n",
       "  <tbody>\n",
       "    <tr>\n",
       "      <th>count</th>\n",
       "      <td>5960.000000</td>\n",
       "      <td>5960.000000</td>\n",
       "      <td>5442.000000</td>\n",
       "      <td>5848.000000</td>\n",
       "      <td>5445.000000</td>\n",
       "      <td>5252.000000</td>\n",
       "      <td>5380.000000</td>\n",
       "      <td>5652.000000</td>\n",
       "      <td>5450.000000</td>\n",
       "      <td>5738.000000</td>\n",
       "      <td>4693.000000</td>\n",
       "    </tr>\n",
       "    <tr>\n",
       "      <th>mean</th>\n",
       "      <td>0.199497</td>\n",
       "      <td>18607.969799</td>\n",
       "      <td>73760.817200</td>\n",
       "      <td>101776.048741</td>\n",
       "      <td>8.922268</td>\n",
       "      <td>0.254570</td>\n",
       "      <td>0.449442</td>\n",
       "      <td>179.766275</td>\n",
       "      <td>1.186055</td>\n",
       "      <td>21.296096</td>\n",
       "      <td>33.779915</td>\n",
       "    </tr>\n",
       "    <tr>\n",
       "      <th>std</th>\n",
       "      <td>0.399656</td>\n",
       "      <td>11207.480417</td>\n",
       "      <td>44457.609458</td>\n",
       "      <td>57385.775334</td>\n",
       "      <td>7.573982</td>\n",
       "      <td>0.846047</td>\n",
       "      <td>1.127266</td>\n",
       "      <td>85.810092</td>\n",
       "      <td>1.728675</td>\n",
       "      <td>10.138933</td>\n",
       "      <td>8.601746</td>\n",
       "    </tr>\n",
       "    <tr>\n",
       "      <th>min</th>\n",
       "      <td>0.000000</td>\n",
       "      <td>1100.000000</td>\n",
       "      <td>2063.000000</td>\n",
       "      <td>8000.000000</td>\n",
       "      <td>0.000000</td>\n",
       "      <td>0.000000</td>\n",
       "      <td>0.000000</td>\n",
       "      <td>0.000000</td>\n",
       "      <td>0.000000</td>\n",
       "      <td>0.000000</td>\n",
       "      <td>0.524499</td>\n",
       "    </tr>\n",
       "    <tr>\n",
       "      <th>25%</th>\n",
       "      <td>0.000000</td>\n",
       "      <td>11100.000000</td>\n",
       "      <td>46276.000000</td>\n",
       "      <td>66075.500000</td>\n",
       "      <td>3.000000</td>\n",
       "      <td>0.000000</td>\n",
       "      <td>0.000000</td>\n",
       "      <td>115.116702</td>\n",
       "      <td>0.000000</td>\n",
       "      <td>15.000000</td>\n",
       "      <td>29.140031</td>\n",
       "    </tr>\n",
       "    <tr>\n",
       "      <th>50%</th>\n",
       "      <td>0.000000</td>\n",
       "      <td>16300.000000</td>\n",
       "      <td>65019.000000</td>\n",
       "      <td>89235.500000</td>\n",
       "      <td>7.000000</td>\n",
       "      <td>0.000000</td>\n",
       "      <td>0.000000</td>\n",
       "      <td>173.466667</td>\n",
       "      <td>1.000000</td>\n",
       "      <td>20.000000</td>\n",
       "      <td>34.818262</td>\n",
       "    </tr>\n",
       "    <tr>\n",
       "      <th>75%</th>\n",
       "      <td>0.000000</td>\n",
       "      <td>23300.000000</td>\n",
       "      <td>91488.000000</td>\n",
       "      <td>119824.250000</td>\n",
       "      <td>13.000000</td>\n",
       "      <td>0.000000</td>\n",
       "      <td>0.000000</td>\n",
       "      <td>231.562278</td>\n",
       "      <td>2.000000</td>\n",
       "      <td>26.000000</td>\n",
       "      <td>39.003141</td>\n",
       "    </tr>\n",
       "    <tr>\n",
       "      <th>max</th>\n",
       "      <td>1.000000</td>\n",
       "      <td>89900.000000</td>\n",
       "      <td>399550.000000</td>\n",
       "      <td>855909.000000</td>\n",
       "      <td>41.000000</td>\n",
       "      <td>10.000000</td>\n",
       "      <td>15.000000</td>\n",
       "      <td>1168.233561</td>\n",
       "      <td>17.000000</td>\n",
       "      <td>71.000000</td>\n",
       "      <td>203.312149</td>\n",
       "    </tr>\n",
       "  </tbody>\n",
       "</table>\n",
       "</div>"
      ],
      "text/plain": [
       "               BAD          LOAN        MORTDUE          VALUE          YOJ  \\\n",
       "count  5960.000000   5960.000000    5442.000000    5848.000000  5445.000000   \n",
       "mean      0.199497  18607.969799   73760.817200  101776.048741     8.922268   \n",
       "std       0.399656  11207.480417   44457.609458   57385.775334     7.573982   \n",
       "min       0.000000   1100.000000    2063.000000    8000.000000     0.000000   \n",
       "25%       0.000000  11100.000000   46276.000000   66075.500000     3.000000   \n",
       "50%       0.000000  16300.000000   65019.000000   89235.500000     7.000000   \n",
       "75%       0.000000  23300.000000   91488.000000  119824.250000    13.000000   \n",
       "max       1.000000  89900.000000  399550.000000  855909.000000    41.000000   \n",
       "\n",
       "             DEROG       DELINQ        CLAGE         NINQ         CLNO  \\\n",
       "count  5252.000000  5380.000000  5652.000000  5450.000000  5738.000000   \n",
       "mean      0.254570     0.449442   179.766275     1.186055    21.296096   \n",
       "std       0.846047     1.127266    85.810092     1.728675    10.138933   \n",
       "min       0.000000     0.000000     0.000000     0.000000     0.000000   \n",
       "25%       0.000000     0.000000   115.116702     0.000000    15.000000   \n",
       "50%       0.000000     0.000000   173.466667     1.000000    20.000000   \n",
       "75%       0.000000     0.000000   231.562278     2.000000    26.000000   \n",
       "max      10.000000    15.000000  1168.233561    17.000000    71.000000   \n",
       "\n",
       "           DEBTINC  \n",
       "count  4693.000000  \n",
       "mean     33.779915  \n",
       "std       8.601746  \n",
       "min       0.524499  \n",
       "25%      29.140031  \n",
       "50%      34.818262  \n",
       "75%      39.003141  \n",
       "max     203.312149  "
      ]
     },
     "execution_count": 2,
     "metadata": {},
     "output_type": "execute_result"
    }
   ],
   "source": [
    "data.describe()"
   ]
  },
  {
   "cell_type": "markdown",
   "id": "728e327c",
   "metadata": {},
   "source": [
    "mean của BAD chính là tỷ lệ số hợp đồng nợ xấu và chiếm 19.95%. Ta sẽ visualize phân phối của các biến để tìm hiểu phân phối của chúng."
   ]
  },
  {
   "cell_type": "code",
   "execution_count": 3,
   "id": "650600e0",
   "metadata": {},
   "outputs": [
    {
     "data": {
      "image/png": "[encoded data removed]",
      "text/plain": [
       "<Figure size 1296x1152 with 12 Axes>"
      ]
     },
     "metadata": {
      "filenames": {
       "image/png": "/home/khanh/Documents/KhanhBlog/deepai-book/book/_build/jupyter_execute/ch_ml/creditScorecard_5_0.png"
      },
      "needs_background": "light"
     },
     "output_type": "display_data"
    }
   ],
   "source": [
    "import seaborn as sns\n",
    "import matplotlib.pyplot as plt\n",
    "import warnings\n",
    "warnings.simplefilter(action='ignore', category=FutureWarning)\n",
    "\n",
    "# Biểu đồ histogram\n",
    "def _plot_hist_subplot(x, fieldname, bins = 10, use_kde = True):\n",
    "  x = x.dropna()\n",
    "  xlabel = '{} bins tickers'.format(fieldname)\n",
    "  ylabel = 'Count obs in {} each bin'.format(fieldname)\n",
    "  title = 'histogram plot of {} with {} bins'.format(fieldname, bins)\n",
    "  ax = sns.distplot(x, bins = bins, kde = use_kde)\n",
    "  ax.set_xlabel(xlabel)\n",
    "  ax.set_ylabel(ylabel)\n",
    "  ax.set_title(title)\n",
    "  return ax\n",
    "\n",
    "# Biểu đồ barchart\n",
    "def _plot_barchart_subplot(x, fieldname):\n",
    "  xlabel = 'Group of {}'.format(fieldname)\n",
    "  ylabel = 'Count obs in {} each bin'.format(fieldname)\n",
    "  title = 'Barchart plot of {}'.format(fieldname)\n",
    "  x = x.fillna('Missing')\n",
    "  df_summary = x.value_counts(dropna = False)\n",
    "  y_values = df_summary.values\n",
    "  x_index = df_summary.index\n",
    "  ax = sns.barplot(x = x_index, y = y_values, order = x_index)\n",
    "  # Tạo vòng for lấy tọa độ đỉnh trên cùng của biểu đồ và thêm label thông qua annotate.\n",
    "  labels = list(set(x))\n",
    "  for label, p in zip(y_values, ax.patches):\n",
    "    ax.annotate(label, (p.get_x()+0.25, p.get_height()+0.15))\n",
    "  plt.xlabel(xlabel)\n",
    "  plt.ylabel(ylabel)\n",
    "  plt.title(title)\n",
    "  return ax\n",
    "\n",
    "# Khởi tạo figure cho đồ thị (Kích thước W*H = 16x12) và cách nhau là 0.2 giữa các đồ thị\n",
    "fig = plt.figure(figsize=(18, 16))\n",
    "fig.subplots_adjust(hspace=0.5, wspace=0.2)\n",
    "# Tạo vòng for check định dạng của biến và visualize\n",
    "for i, (fieldname, dtype) in enumerate(zip(data.columns, data.dtypes.values)):\n",
    "  if i <= 11:\n",
    "    ax_i = fig.add_subplot(4, 3, i+1)\n",
    "    if dtype in ['float64', 'int64']:\n",
    "      ax_i = _plot_hist_subplot(data[fieldname], fieldname=fieldname)\n",
    "    else:\n",
    "      ax_i = _plot_barchart_subplot(data[fieldname], fieldname=fieldname)\n",
    "      \n",
    "fig.suptitle('Visualization all fields')\n",
    "plt.show()"
   ]
  },
  {
   "cell_type": "markdown",
   "id": "d3222940",
   "metadata": {},
   "source": [
    "Nhận xét:\n",
    "\n",
    "* Từ biểu đồ phân phối cho ta biết hình dạng phân phối của các biến.\n",
    "* Các outliers của các biến là những điểm nào?\n",
    "* Hình dạng phân phối cũng giúp ta phát hiện các dị thường trong dữ liệu. Chắc hẳn các bạn còn nhớ gian lận thi cử năm 2018 tại Sơn La và Hà Giang đã được phát hiện như thế nào?\n",
    "\n",
    "\n",
    "### 6.2.4.2. Áp dụng phương pháp WOE\n",
    "\n",
    "Tiếp theo ta sẽ áp dụng phương pháp WOE vào việc xếp hạng sức mạnh dự báo của biến và tạo features cho mô hình. Nhưng trước đó sẽ cần phải xử lý dữ liệu missing data bằng giá trị trung bình.\n",
    "\n",
    "Đối với biến numeric:"
   ]
  },
  {
   "cell_type": "code",
   "execution_count": 4,
   "id": "52e5ccf4",
   "metadata": {},
   "outputs": [],
   "source": [
    "columns_num = data.select_dtypes(['float', 'int']).columns\n",
    "data[columns_num] = data[columns_num].apply(lambda x: x.fillna(x.mean()), axis=0)"
   ]
  },
  {
   "cell_type": "code",
   "execution_count": 5,
   "id": "889b96c9",
   "metadata": {},
   "outputs": [],
   "source": [
    "columns_obj = data.select_dtypes(['object']).columns\n",
    "data[columns_obj] = data[columns_obj].apply(lambda x: x.fillna('Missing'), axis=0)"
   ]
  },
  {
   "cell_type": "markdown",
   "id": "d27f0dc9",
   "metadata": {},
   "source": [
    "**Tính toán WOE cho từng biến**\n",
    "\n",
    "Hàm _bin_table() bên dưới sẽ có tác dụng phân chia các nhóm bins và thống kê số lượng các quan sát, số lượng good và bad ở mỗi nhóm."
   ]
  },
  {
   "cell_type": "code",
   "execution_count": 6,
   "id": "d2961566",
   "metadata": {},
   "outputs": [],
   "source": [
    "import numpy as np\n",
    "import matplotlib.pyplot as plt\n",
    "\n",
    "MAX_VAL = 999999999\n",
    "MIN_VAL = -MAX_VAL\n",
    "\n",
    "def _bin_table(data, colname, n_bins = 10, qcut = None):\n",
    "  X = data[[colname, 'BAD']]\n",
    "  X = X.sort_values(colname)\n",
    "  coltype = X[colname].dtype\n",
    "\n",
    "  if coltype in ['float', 'int']:\n",
    "    if qcut is None:\n",
    "      try:\n",
    "        bins, thres = pd.qcut(X[colname], q = n_bins, retbins=True)\n",
    "        # Thay thế threshold đầu và cuối của thres\n",
    "        thres[0] = MIN_VAL\n",
    "        thres[-1] = MAX_VAL\n",
    "        bins, thres = pd.cut(X[colname], bins=thres, retbins=True)\n",
    "        X['bins'] = bins\n",
    "      except:\n",
    "        print('n_bins must be lower to bin interval is valid!')\n",
    "    else:\n",
    "      bins, thres = pd.cut(X[colname], bins=qcut, retbins=True)\n",
    "      X['bins'] = bins\n",
    "  elif coltype == 'object':\n",
    "    X['bins'] = X[colname]\n",
    "\n",
    "  df_GB = pd.pivot_table(X, \n",
    "                index = ['bins'],\n",
    "                values = ['BAD'],\n",
    "                columns = ['BAD'],\n",
    "                aggfunc = {\n",
    "                    'BAD':np.size\n",
    "                })\n",
    "\n",
    "  df_Count = pd.pivot_table(X, \n",
    "                index = ['bins'],\n",
    "                values = ['BAD'],\n",
    "                aggfunc = {\n",
    "                    'BAD': np.size\n",
    "                })\n",
    "  \n",
    "  if coltype in ['float', 'int']:\n",
    "    df_Thres = pd.DataFrame({'Thres':thres[1:]}, index=df_GB.index)\n",
    "  elif coltype == 'object':\n",
    "    df_Thres = pd.DataFrame(index=df_GB.index)\n",
    "    thres = None\n",
    "  df_Count.columns = ['No_Obs']\n",
    "  df_GB.columns = ['#BAD', '#GOOD']\n",
    "  df_summary = df_Thres.join(df_Count).join(df_GB)\n",
    "  return df_summary, thres"
   ]
  },
  {
   "cell_type": "markdown",
   "id": "b0512c1b",
   "metadata": {},
   "source": [
    "Phân chia các bins theo ngưỡng cutpoints. Phù hợp với những biến thứ bậc."
   ]
  },
  {
   "cell_type": "code",
   "execution_count": 7,
   "id": "a032b826",
   "metadata": {},
   "outputs": [
    {
     "data": {
      "text/html": [
       "<div>\n",
       "<style scoped>\n",
       "    .dataframe tbody tr th:only-of-type {\n",
       "        vertical-align: middle;\n",
       "    }\n",
       "\n",
       "    .dataframe tbody tr th {\n",
       "        vertical-align: top;\n",
       "    }\n",
       "\n",
       "    .dataframe thead th {\n",
       "        text-align: right;\n",
       "    }\n",
       "</style>\n",
       "<table border=\"1\" class=\"dataframe\">\n",
       "  <thead>\n",
       "    <tr style=\"text-align: right;\">\n",
       "      <th></th>\n",
       "      <th>Thres</th>\n",
       "      <th>No_Obs</th>\n",
       "      <th>#BAD</th>\n",
       "      <th>#GOOD</th>\n",
       "    </tr>\n",
       "    <tr>\n",
       "      <th>bins</th>\n",
       "      <th></th>\n",
       "      <th></th>\n",
       "      <th></th>\n",
       "      <th></th>\n",
       "    </tr>\n",
       "  </thead>\n",
       "  <tbody>\n",
       "    <tr>\n",
       "      <th>(-999999999, 2]</th>\n",
       "      <td>2</td>\n",
       "      <td>5663</td>\n",
       "      <td>4674</td>\n",
       "      <td>989</td>\n",
       "    </tr>\n",
       "    <tr>\n",
       "      <th>(2, 999999999]</th>\n",
       "      <td>999999999</td>\n",
       "      <td>297</td>\n",
       "      <td>97</td>\n",
       "      <td>200</td>\n",
       "    </tr>\n",
       "  </tbody>\n",
       "</table>\n",
       "</div>"
      ],
      "text/plain": [
       "                     Thres  No_Obs  #BAD  #GOOD\n",
       "bins                                           \n",
       "(-999999999, 2]          2    5663  4674    989\n",
       "(2, 999999999]   999999999     297    97    200"
      ]
     },
     "execution_count": 7,
     "metadata": {},
     "output_type": "execute_result"
    }
   ],
   "source": [
    "df_summary, thres = _bin_table(data, 'DELINQ', qcut=[MIN_VAL, 2, MAX_VAL])\n",
    "df_summary"
   ]
  },
  {
   "cell_type": "markdown",
   "id": "12f9da49",
   "metadata": {},
   "source": [
    "Phân chia các bins theo khai báo số lượng bins. Phù hợp với các biến liên tục."
   ]
  },
  {
   "cell_type": "code",
   "execution_count": 8,
   "id": "f9bb5453",
   "metadata": {},
   "outputs": [
    {
     "data": {
      "text/html": [
       "<div>\n",
       "<style scoped>\n",
       "    .dataframe tbody tr th:only-of-type {\n",
       "        vertical-align: middle;\n",
       "    }\n",
       "\n",
       "    .dataframe tbody tr th {\n",
       "        vertical-align: top;\n",
       "    }\n",
       "\n",
       "    .dataframe thead th {\n",
       "        text-align: right;\n",
       "    }\n",
       "</style>\n",
       "<table border=\"1\" class=\"dataframe\">\n",
       "  <thead>\n",
       "    <tr style=\"text-align: right;\">\n",
       "      <th></th>\n",
       "      <th>Thres</th>\n",
       "      <th>No_Obs</th>\n",
       "      <th>#BAD</th>\n",
       "      <th>#GOOD</th>\n",
       "    </tr>\n",
       "    <tr>\n",
       "      <th>bins</th>\n",
       "      <th></th>\n",
       "      <th></th>\n",
       "      <th></th>\n",
       "      <th></th>\n",
       "    </tr>\n",
       "  </thead>\n",
       "  <tbody>\n",
       "    <tr>\n",
       "      <th>(-999999999.0, 29.214]</th>\n",
       "      <td>2.921447e+01</td>\n",
       "      <td>1192</td>\n",
       "      <td>1127</td>\n",
       "      <td>65</td>\n",
       "    </tr>\n",
       "    <tr>\n",
       "      <th>(29.214, 33.78]</th>\n",
       "      <td>3.377992e+01</td>\n",
       "      <td>2156</td>\n",
       "      <td>1316</td>\n",
       "      <td>840</td>\n",
       "    </tr>\n",
       "    <tr>\n",
       "      <th>(33.78, 34.688]</th>\n",
       "      <td>3.468780e+01</td>\n",
       "      <td>228</td>\n",
       "      <td>216</td>\n",
       "      <td>12</td>\n",
       "    </tr>\n",
       "    <tr>\n",
       "      <th>(34.688, 38.956]</th>\n",
       "      <td>3.895595e+01</td>\n",
       "      <td>1192</td>\n",
       "      <td>1102</td>\n",
       "      <td>90</td>\n",
       "    </tr>\n",
       "    <tr>\n",
       "      <th>(38.956, 999999999.0]</th>\n",
       "      <td>1.000000e+09</td>\n",
       "      <td>1192</td>\n",
       "      <td>1010</td>\n",
       "      <td>182</td>\n",
       "    </tr>\n",
       "  </tbody>\n",
       "</table>\n",
       "</div>"
      ],
      "text/plain": [
       "                               Thres  No_Obs  #BAD  #GOOD\n",
       "bins                                                     \n",
       "(-999999999.0, 29.214]  2.921447e+01    1192  1127     65\n",
       "(29.214, 33.78]         3.377992e+01    2156  1316    840\n",
       "(33.78, 34.688]         3.468780e+01     228   216     12\n",
       "(34.688, 38.956]        3.895595e+01    1192  1102     90\n",
       "(38.956, 999999999.0]   1.000000e+09    1192  1010    182"
      ]
     },
     "execution_count": 8,
     "metadata": {},
     "output_type": "execute_result"
    }
   ],
   "source": [
    "df_summary, thres = _bin_table(data, 'DEBTINC', n_bins=5)\n",
    "df_summary"
   ]
  },
  {
   "cell_type": "markdown",
   "id": "4442248b",
   "metadata": {},
   "source": [
    "Tiếp theo hàm `_WOE()` sẽ tính toán các trọng số WOE ở mỗi bins và chỉ số IV cho từng biến. Trong trường hợp một bin có số lượng quan sát nhỏ hơn một ngưỡng tối thiểu ta sẽ ghép nó vào bin liền trước."
   ]
  },
  {
   "cell_type": "code",
   "execution_count": 9,
   "id": "86221fee",
   "metadata": {},
   "outputs": [
    {
     "name": "stdout",
     "output_type": "stream",
     "text": [
      "Information Value of DEBTINC column: 1.3795573580411762\n"
     ]
    },
    {
     "data": {
      "text/html": [
       "<div>\n",
       "<style scoped>\n",
       "    .dataframe tbody tr th:only-of-type {\n",
       "        vertical-align: middle;\n",
       "    }\n",
       "\n",
       "    .dataframe tbody tr th {\n",
       "        vertical-align: top;\n",
       "    }\n",
       "\n",
       "    .dataframe thead th {\n",
       "        text-align: right;\n",
       "    }\n",
       "</style>\n",
       "<table border=\"1\" class=\"dataframe\">\n",
       "  <thead>\n",
       "    <tr style=\"text-align: right;\">\n",
       "      <th></th>\n",
       "      <th>Thres</th>\n",
       "      <th>No_Obs</th>\n",
       "      <th>#BAD</th>\n",
       "      <th>#GOOD</th>\n",
       "      <th>GOOD/BAD</th>\n",
       "      <th>%BAD</th>\n",
       "      <th>%GOOD</th>\n",
       "      <th>WOE</th>\n",
       "      <th>IV</th>\n",
       "      <th>COLUMN</th>\n",
       "    </tr>\n",
       "    <tr>\n",
       "      <th>bins</th>\n",
       "      <th></th>\n",
       "      <th></th>\n",
       "      <th></th>\n",
       "      <th></th>\n",
       "      <th></th>\n",
       "      <th></th>\n",
       "      <th></th>\n",
       "      <th></th>\n",
       "      <th></th>\n",
       "      <th></th>\n",
       "    </tr>\n",
       "  </thead>\n",
       "  <tbody>\n",
       "    <tr>\n",
       "      <th>(-999999999.0, 27.028]</th>\n",
       "      <td>2.702826e+01</td>\n",
       "      <td>852</td>\n",
       "      <td>800</td>\n",
       "      <td>52</td>\n",
       "      <td>0.065000</td>\n",
       "      <td>0.167680</td>\n",
       "      <td>0.043734</td>\n",
       "      <td>-1.343925</td>\n",
       "      <td>0.166573</td>\n",
       "      <td>DEBTINC</td>\n",
       "    </tr>\n",
       "    <tr>\n",
       "      <th>(27.028, 31.875]</th>\n",
       "      <td>3.187511e+01</td>\n",
       "      <td>851</td>\n",
       "      <td>808</td>\n",
       "      <td>43</td>\n",
       "      <td>0.053218</td>\n",
       "      <td>0.169357</td>\n",
       "      <td>0.036165</td>\n",
       "      <td>-1.543919</td>\n",
       "      <td>0.205637</td>\n",
       "      <td>DEBTINC</td>\n",
       "    </tr>\n",
       "    <tr>\n",
       "      <th>(31.875, 33.78]</th>\n",
       "      <td>3.377992e+01</td>\n",
       "      <td>1645</td>\n",
       "      <td>835</td>\n",
       "      <td>810</td>\n",
       "      <td>0.970060</td>\n",
       "      <td>0.175016</td>\n",
       "      <td>0.681245</td>\n",
       "      <td>1.359046</td>\n",
       "      <td>0.687988</td>\n",
       "      <td>DEBTINC</td>\n",
       "    </tr>\n",
       "    <tr>\n",
       "      <th>(33.78, 34.043]</th>\n",
       "      <td>3.404341e+01</td>\n",
       "      <td>58</td>\n",
       "      <td>56</td>\n",
       "      <td>2</td>\n",
       "      <td>0.035714</td>\n",
       "      <td>0.011738</td>\n",
       "      <td>0.001682</td>\n",
       "      <td>-1.942761</td>\n",
       "      <td>0.019535</td>\n",
       "      <td>DEBTINC</td>\n",
       "    </tr>\n",
       "    <tr>\n",
       "      <th>(34.043, 37.18]</th>\n",
       "      <td>3.717985e+01</td>\n",
       "      <td>851</td>\n",
       "      <td>783</td>\n",
       "      <td>68</td>\n",
       "      <td>0.086845</td>\n",
       "      <td>0.164117</td>\n",
       "      <td>0.057191</td>\n",
       "      <td>-1.054182</td>\n",
       "      <td>0.112719</td>\n",
       "      <td>DEBTINC</td>\n",
       "    </tr>\n",
       "    <tr>\n",
       "      <th>(37.18, 40.133]</th>\n",
       "      <td>4.013282e+01</td>\n",
       "      <td>851</td>\n",
       "      <td>804</td>\n",
       "      <td>47</td>\n",
       "      <td>0.058458</td>\n",
       "      <td>0.168518</td>\n",
       "      <td>0.039529</td>\n",
       "      <td>-1.450008</td>\n",
       "      <td>0.187035</td>\n",
       "      <td>DEBTINC</td>\n",
       "    </tr>\n",
       "    <tr>\n",
       "      <th>(40.133, 999999999.0]</th>\n",
       "      <td>1.000000e+09</td>\n",
       "      <td>852</td>\n",
       "      <td>685</td>\n",
       "      <td>167</td>\n",
       "      <td>0.243796</td>\n",
       "      <td>0.143576</td>\n",
       "      <td>0.140454</td>\n",
       "      <td>-0.021982</td>\n",
       "      <td>0.000069</td>\n",
       "      <td>DEBTINC</td>\n",
       "    </tr>\n",
       "  </tbody>\n",
       "</table>\n",
       "</div>"
      ],
      "text/plain": [
       "                               Thres  No_Obs  #BAD  #GOOD  GOOD/BAD      %BAD  \\\n",
       "bins                                                                            \n",
       "(-999999999.0, 27.028]  2.702826e+01     852   800     52  0.065000  0.167680   \n",
       "(27.028, 31.875]        3.187511e+01     851   808     43  0.053218  0.169357   \n",
       "(31.875, 33.78]         3.377992e+01    1645   835    810  0.970060  0.175016   \n",
       "(33.78, 34.043]         3.404341e+01      58    56      2  0.035714  0.011738   \n",
       "(34.043, 37.18]         3.717985e+01     851   783     68  0.086845  0.164117   \n",
       "(37.18, 40.133]         4.013282e+01     851   804     47  0.058458  0.168518   \n",
       "(40.133, 999999999.0]   1.000000e+09     852   685    167  0.243796  0.143576   \n",
       "\n",
       "                           %GOOD       WOE        IV   COLUMN  \n",
       "bins                                                           \n",
       "(-999999999.0, 27.028]  0.043734 -1.343925  0.166573  DEBTINC  \n",
       "(27.028, 31.875]        0.036165 -1.543919  0.205637  DEBTINC  \n",
       "(31.875, 33.78]         0.681245  1.359046  0.687988  DEBTINC  \n",
       "(33.78, 34.043]         0.001682 -1.942761  0.019535  DEBTINC  \n",
       "(34.043, 37.18]         0.057191 -1.054182  0.112719  DEBTINC  \n",
       "(37.18, 40.133]         0.039529 -1.450008  0.187035  DEBTINC  \n",
       "(40.133, 999999999.0]   0.140454 -0.021982  0.000069  DEBTINC  "
      ]
     },
     "execution_count": 9,
     "metadata": {},
     "output_type": "execute_result"
    }
   ],
   "source": [
    "def _WOE(data, colname, n_bins = None, min_obs = 100, qcut = None):\n",
    "  # Thống kê bins và lấy ra thres hold ban đầu\n",
    "  df_summary, thres = _bin_table(data, colname, n_bins = n_bins, qcut = qcut)\n",
    "  # Thay thế giá trị 0 của #BAD trong df_summary bằng 1 để không bị lỗi chia cho 0\n",
    "  df_summary['#BAD'] = df_summary['#BAD'].replace({0:1})\n",
    "  \n",
    "  if qcut is not None:\n",
    "    # Lọc bỏ threshold để tạo thành threshold mới mà thỏa mãn số lượng quan sát >= min_obs\n",
    "    exclude_ind = np.where(df_summary['No_Obs'] <= min_obs)[0]\n",
    "    if exclude_ind.shape[0] > 0:\n",
    "      new_thres = np.delete(thres, exclude_ind)\n",
    "      print('Auto combine {} bins into {} bins'.format(n_bins, new_thres.shape[0]-1))\n",
    "      # Tính toán lại bảng summary\n",
    "      df_summary, thres = _bin_table(data, colname, qcut=new_thres)\n",
    "  \n",
    "  new_thres = thres\n",
    "  df_summary['GOOD/BAD'] = df_summary['#GOOD']/df_summary['#BAD']\n",
    "  df_summary['%BAD'] = df_summary['#BAD']/df_summary['#BAD'].sum()\n",
    "  df_summary['%GOOD'] = df_summary['#GOOD']/df_summary['#GOOD'].sum()\n",
    "  df_summary['WOE'] = np.log(df_summary['%GOOD']/df_summary['%BAD'])\n",
    "  df_summary['IV'] = (df_summary['%GOOD']-df_summary['%BAD'])*df_summary['WOE']\n",
    "  df_summary['COLUMN'] = colname\n",
    "  IV = df_summary['IV'].sum()\n",
    "  print('Information Value of {} column: {}'.format(colname, IV))\n",
    "  return df_summary, IV, new_thres\n",
    "\n",
    "df_summary, IV, thres = _WOE(data, 'DEBTINC', n_bins = 7, min_obs= 100)\n",
    "df_summary"
   ]
  },
  {
   "cell_type": "markdown",
   "id": "6ba2d730",
   "metadata": {},
   "source": [
    "Vẽ biểu đồ giá trị WOE của các bins."
   ]
  },
  {
   "cell_type": "code",
   "execution_count": 10,
   "id": "39896970",
   "metadata": {},
   "outputs": [
    {
     "data": {
      "image/png": "[encoded data removed]",
      "text/plain": [
       "<Figure size 432x288 with 1 Axes>"
      ]
     },
     "metadata": {
      "filenames": {
       "image/png": "/home/khanh/Documents/KhanhBlog/deepai-book/book/_build/jupyter_execute/ch_ml/creditScorecard_18_0.png"
      },
      "needs_background": "light"
     },
     "output_type": "display_data"
    }
   ],
   "source": [
    "def _plot(df_summary):\n",
    "  colname = list(df_summary['COLUMN'].unique())[0]\n",
    "  df_summary['WOE'].plot(linestyle='-', marker='o')\n",
    "  plt.title('WOE of {} field'.format(colname))\n",
    "  plt.axhline(y=0, color = 'red')\n",
    "  plt.xticks(rotation=45)\n",
    "  plt.ylabel('WOE')\n",
    "  plt.xlabel('Bin group')\n",
    "\n",
    "_plot(df_summary)"
   ]
  },
  {
   "cell_type": "markdown",
   "id": "0baf32c9",
   "metadata": {},
   "source": [
    "Tiếp theo ta sẽ tính toán giá trị WOE cho toàn bộ các biến."
   ]
  },
  {
   "cell_type": "code",
   "execution_count": 11,
   "id": "c785d434",
   "metadata": {},
   "outputs": [
    {
     "name": "stdout",
     "output_type": "stream",
     "text": [
      "Information Value of LOAN column: 0.1601563338988017\n",
      "Information Value of MORTDUE column: 0.05131351983314017\n",
      "Information Value of VALUE column: 0.14188912125986042\n",
      "Information Value of YOJ column: 0.06714693781095009\n",
      "Information Value of CLAGE column: 0.22171042878294653\n",
      "Information Value of NINQ column: 0.06965935231976197\n",
      "Information Value of CLNO column: 0.06043698467606807\n",
      "Information Value of DEBTINC column: 1.3795573580411762\n"
     ]
    }
   ],
   "source": [
    "# Đối với các biến numeric\n",
    "WOE_dict=dict()\n",
    "nbins = {'LOAN': 10, 'MORTDUE': 10, 'VALUE': 10, 'YOJ':10, 'CLAGE':10, 'NINQ': 2, 'CLNO':10, 'DEBTINC':7}\n",
    "for (col, bins) in nbins.items():\n",
    "  df_summary, IV, thres = _WOE(data, colname=col, n_bins=bins)\n",
    "  WOE_dict[col] = {'table':df_summary, 'IV':IV}\n"
   ]
  },
  {
   "cell_type": "markdown",
   "id": "e21e6e08",
   "metadata": {},
   "source": [
    "Do các biến `DEROG, DELINQ` có xu hướng là biến thứ bậc hơn là biến liên tục nên áp dụng cách phân chia theo quantile sẽ tạo ra những khoảng bins có độ dài bằng 0. Do đó chúng ta sẽ phân chia theo ngưỡng cutpoint."
   ]
  },
  {
   "cell_type": "code",
   "execution_count": 12,
   "id": "bb3d9799",
   "metadata": {},
   "outputs": [
    {
     "name": "stdout",
     "output_type": "stream",
     "text": [
      "Information Value of DEROG column: 0.19008112833205368\n",
      "Information Value of DELINQ column: 0.3366699247263777\n"
     ]
    }
   ],
   "source": [
    "for col in ['DEROG', 'DELINQ']:\n",
    "  df_summary, IV, thres = _WOE(data, colname=col, n_bins=5, qcut=[MIN_VAL, 2, MAX_VAL])\n",
    "  WOE_dict[col] = {'table':df_summary, 'IV':IV}"
   ]
  },
  {
   "cell_type": "markdown",
   "id": "9758a1b2",
   "metadata": {},
   "source": [
    "Tiếp theo ta sẽ tính toán IV cho các biến category là `REASON` và `JOB`."
   ]
  },
  {
   "cell_type": "code",
   "execution_count": 13,
   "id": "e8b1a75b",
   "metadata": {},
   "outputs": [
    {
     "name": "stdout",
     "output_type": "stream",
     "text": [
      "Information Value of REASON column: 0.008618460238864025\n",
      "Information Value of JOB column: 0.1237305657142077\n"
     ]
    }
   ],
   "source": [
    "for col in ['REASON', 'JOB']:\n",
    "  df_summary, IV, thres = _WOE(data, colname=col)\n",
    "  WOE_dict[col] = {'table':df_summary, 'IV':IV}"
   ]
  },
  {
   "cell_type": "markdown",
   "id": "e1146e8c",
   "metadata": {},
   "source": [
    "### 6.2.4.3. Xếp hạng các biến theo sức mạnh dự báo\n",
    "\n",
    "Dựa trên giá trị IV đã tính toán ở bước trước, ta sẽ xếp hạng các biến này như bên dưới."
   ]
  },
  {
   "cell_type": "code",
   "execution_count": 14,
   "id": "89f67ed1",
   "metadata": {},
   "outputs": [
    {
     "data": {
      "text/html": [
       "<div>\n",
       "<style scoped>\n",
       "    .dataframe tbody tr th:only-of-type {\n",
       "        vertical-align: middle;\n",
       "    }\n",
       "\n",
       "    .dataframe tbody tr th {\n",
       "        vertical-align: top;\n",
       "    }\n",
       "\n",
       "    .dataframe thead th {\n",
       "        text-align: right;\n",
       "    }\n",
       "</style>\n",
       "<table border=\"1\" class=\"dataframe\">\n",
       "  <thead>\n",
       "    <tr style=\"text-align: right;\">\n",
       "      <th></th>\n",
       "      <th>column</th>\n",
       "      <th>IV</th>\n",
       "      <th>rank</th>\n",
       "    </tr>\n",
       "  </thead>\n",
       "  <tbody>\n",
       "    <tr>\n",
       "      <th>11</th>\n",
       "      <td>DEBTINC</td>\n",
       "      <td>1.379557</td>\n",
       "      <td>Suspicious</td>\n",
       "    </tr>\n",
       "    <tr>\n",
       "      <th>7</th>\n",
       "      <td>DELINQ</td>\n",
       "      <td>0.336670</td>\n",
       "      <td>Strong</td>\n",
       "    </tr>\n",
       "    <tr>\n",
       "      <th>8</th>\n",
       "      <td>CLAGE</td>\n",
       "      <td>0.221710</td>\n",
       "      <td>Medium</td>\n",
       "    </tr>\n",
       "    <tr>\n",
       "      <th>6</th>\n",
       "      <td>DEROG</td>\n",
       "      <td>0.190081</td>\n",
       "      <td>Medium</td>\n",
       "    </tr>\n",
       "    <tr>\n",
       "      <th>0</th>\n",
       "      <td>LOAN</td>\n",
       "      <td>0.160156</td>\n",
       "      <td>Medium</td>\n",
       "    </tr>\n",
       "    <tr>\n",
       "      <th>2</th>\n",
       "      <td>VALUE</td>\n",
       "      <td>0.141889</td>\n",
       "      <td>Medium</td>\n",
       "    </tr>\n",
       "    <tr>\n",
       "      <th>4</th>\n",
       "      <td>JOB</td>\n",
       "      <td>0.123731</td>\n",
       "      <td>Medium</td>\n",
       "    </tr>\n",
       "    <tr>\n",
       "      <th>9</th>\n",
       "      <td>NINQ</td>\n",
       "      <td>0.069659</td>\n",
       "      <td>Weak</td>\n",
       "    </tr>\n",
       "    <tr>\n",
       "      <th>5</th>\n",
       "      <td>YOJ</td>\n",
       "      <td>0.067147</td>\n",
       "      <td>Weak</td>\n",
       "    </tr>\n",
       "    <tr>\n",
       "      <th>10</th>\n",
       "      <td>CLNO</td>\n",
       "      <td>0.060437</td>\n",
       "      <td>Weak</td>\n",
       "    </tr>\n",
       "    <tr>\n",
       "      <th>1</th>\n",
       "      <td>MORTDUE</td>\n",
       "      <td>0.051314</td>\n",
       "      <td>Weak</td>\n",
       "    </tr>\n",
       "    <tr>\n",
       "      <th>3</th>\n",
       "      <td>REASON</td>\n",
       "      <td>0.008618</td>\n",
       "      <td>Useless</td>\n",
       "    </tr>\n",
       "  </tbody>\n",
       "</table>\n",
       "</div>"
      ],
      "text/plain": [
       "     column        IV        rank\n",
       "11  DEBTINC  1.379557  Suspicious\n",
       "7    DELINQ  0.336670      Strong\n",
       "8     CLAGE  0.221710      Medium\n",
       "6     DEROG  0.190081      Medium\n",
       "0      LOAN  0.160156      Medium\n",
       "2     VALUE  0.141889      Medium\n",
       "4       JOB  0.123731      Medium\n",
       "9      NINQ  0.069659        Weak\n",
       "5       YOJ  0.067147        Weak\n",
       "10     CLNO  0.060437        Weak\n",
       "1   MORTDUE  0.051314        Weak\n",
       "3    REASON  0.008618     Useless"
      ]
     },
     "execution_count": 14,
     "metadata": {},
     "output_type": "execute_result"
    }
   ],
   "source": [
    "columns = []\n",
    "IVs = []\n",
    "for col in data.columns:\n",
    "  if col != 'BAD':\n",
    "    columns.append(col)\n",
    "    IVs.append(WOE_dict[col]['IV'])\n",
    "df_WOE = pd.DataFrame({'column': columns, 'IV': IVs})\n",
    "\n",
    "def _rank_IV(iv):\n",
    "  if iv <= 0.02:\n",
    "    return 'Useless'\n",
    "  elif iv <= 0.1:\n",
    "    return 'Weak'\n",
    "  elif iv <= 0.3:\n",
    "    return 'Medium'\n",
    "  elif iv <= 0.5:\n",
    "    return 'Strong'\n",
    "  else:\n",
    "    return 'Suspicious'\n",
    "\n",
    "df_WOE['rank']=df_WOE['IV'].apply(lambda x: _rank_IV(x))\n",
    "df_WOE.sort_values('IV', ascending=False)"
   ]
  },
  {
   "cell_type": "markdown",
   "id": "99d55bcc",
   "metadata": {},
   "source": [
    "Như vậy trong các biến trên, biến `REASON` không có tác dụng trong việc phân loại hồ sơ nợ xấu. Các biến còn lại đều có tác dụng hỗ trợ một phần phân loại hồ sơ. Trong đó các biến có sức mạnh nhất là `DELINQ, DEBTINC`. Tiếp theo `CLAGE, DEROG, LOAN, VALUE, JOB` là các biến có sức mạnh trung bình. Các biến còn lại bao gồm `NINQ, YOJ, CLNO` và `MORTDUE` cũng có sức mạnh phân loại nhưng yếu hơn. `DELINQ` là biến có tương quan rất lớn đến việc phân loại nên chúng ta cần phải review lại giá trị của biến.\n",
    "\n",
    "### 6.2.4.4. Hồi qui logistic\n",
    "Phương trình hồi qui logistic trong credit scorecard sẽ không hồi qui trực tiếp trên các biến gốc mà thay vào đó giá trị WOE ở từng biến sẽ được sử dụng thay thế để làm đầu vào. Ta sẽ tính toán các biến WOE bằng cách map mỗi khoảng bin tương ứng với giá trị WOE của nó như sau:"
   ]
  },
  {
   "cell_type": "code",
   "execution_count": 15,
   "id": "8ed075e5",
   "metadata": {},
   "outputs": [],
   "source": [
    "for col in WOE_dict.keys():\n",
    "  try:\n",
    "    key = list(WOE_dict[col]['table']['WOE'].index)\n",
    "    woe = list(WOE_dict[col]['table']['WOE'])\n",
    "    d = dict(zip(key, woe))\n",
    "    col_woe = col+'_WOE'\n",
    "    data[col_woe] = data[col].map(d)\n",
    "  except:\n",
    "    print(col)"
   ]
  },
  {
   "cell_type": "markdown",
   "id": "19c21ac3",
   "metadata": {},
   "source": [
    "Gán giá trị input là các biến WOE và biến mục tiêu là data[‘BAD’]."
   ]
  },
  {
   "cell_type": "code",
   "execution_count": 16,
   "id": "1b8c0f3e",
   "metadata": {},
   "outputs": [],
   "source": [
    "X = data.filter(like='_WOE', axis = 1)\n",
    "y = data['BAD']"
   ]
  },
  {
   "cell_type": "markdown",
   "id": "e9bd030a",
   "metadata": {},
   "source": [
    "Phân chia tập huấn luyện/kiểm tra có tỷ lệ kích thước mẫu là 80:20. Tỷ lệ của GOOD/BAD là cân bằng trên cả tập huấn luyện và kiểm tra."
   ]
  },
  {
   "cell_type": "code",
   "execution_count": 17,
   "id": "732c8291",
   "metadata": {},
   "outputs": [
    {
     "name": "stdout",
     "output_type": "stream",
     "text": [
      "X_train shape:  (4768, 12)\n",
      "X_test shape:  (1192, 12)\n",
      "y_train shape:  (4768,)\n",
      "y_test shape:  (1192,)\n"
     ]
    }
   ],
   "source": [
    "from sklearn.model_selection import train_test_split\n",
    "\n",
    "ids = np.arange(X.shape[0])\n",
    "X_train, X_test, y_train, y_test, id_train, id_test = train_test_split(X, y, ids, test_size = 0.2, stratify = y, shuffle = True, random_state = 123)\n",
    "\n",
    "print('X_train shape: ', X_train.shape)\n",
    "print('X_test shape: ', X_test.shape)\n",
    "print('y_train shape: ', y_train.shape)\n",
    "print('y_test shape: ', y_test.shape)"
   ]
  },
  {
   "cell_type": "markdown",
   "id": "a43978b3",
   "metadata": {},
   "source": [
    "Xây dựng phương trình hồi qui logistic các biến đầu vào WOE."
   ]
  },
  {
   "cell_type": "code",
   "execution_count": 18,
   "id": "0496f1f9",
   "metadata": {},
   "outputs": [
    {
     "data": {
      "text/plain": [
       "LogisticRegression(C=1, max_iter=1000)"
      ]
     },
     "execution_count": 18,
     "metadata": {},
     "output_type": "execute_result"
    }
   ],
   "source": [
    "from sklearn.linear_model import LogisticRegression\n",
    "\n",
    "logit_model = LogisticRegression(solver = 'lbfgs', max_iter=1000, fit_intercept=True, tol=0.0001, C=1, penalty='l2')\n",
    "logit_model.fit(X_train, y_train)"
   ]
  },
  {
   "cell_type": "markdown",
   "id": "9b2e50a3",
   "metadata": {},
   "source": [
    "Dự báo và kiểm tra accuracy trên tập huấn luyện/kiểm tra"
   ]
  },
  {
   "cell_type": "code",
   "execution_count": 19,
   "id": "b37d22af",
   "metadata": {},
   "outputs": [
    {
     "name": "stdout",
     "output_type": "stream",
     "text": [
      "accuracy on train:  0.8655620805369127\n",
      "accuracy on test:  0.8557046979865772\n"
     ]
    }
   ],
   "source": [
    "from sklearn.metrics import accuracy_score\n",
    "\n",
    "y_pred_train = logit_model.predict(X_train)\n",
    "acc_train = accuracy_score(y_pred_train, y_train)\n",
    "y_pred_test = logit_model.predict(X_test)\n",
    "acc_test = accuracy_score(y_pred_test, y_test)\n",
    "\n",
    "print('accuracy on train: ', acc_train)\n",
    "print('accuracy on test: ', acc_test)"
   ]
  },
  {
   "cell_type": "markdown",
   "id": "baed6aaa",
   "metadata": {},
   "source": [
    "**Đường cong ROC trên tập kiểm tra**"
   ]
  },
  {
   "cell_type": "code",
   "execution_count": 20,
   "id": "32d61f82",
   "metadata": {},
   "outputs": [
    {
     "name": "stderr",
     "output_type": "stream",
     "text": [
      "/tmp/ipykernel_44490/1988037723.py:9: UserWarning: linestyle is redundantly defined by the 'linestyle' keyword argument and the fmt string \"b-\" (-> linestyle='-'). The keyword argument will take precedence.\n",
      "  plt.plot(fpr, tpr, 'b-', color='darkorange', lw=2, linestyle='--', label='ROC curve (area = %0.2f)'%auc)\n",
      "/tmp/ipykernel_44490/1988037723.py:9: UserWarning: color is redundantly defined by the 'color' keyword argument and the fmt string \"b-\" (-> color='b'). The keyword argument will take precedence.\n",
      "  plt.plot(fpr, tpr, 'b-', color='darkorange', lw=2, linestyle='--', label='ROC curve (area = %0.2f)'%auc)\n"
     ]
    },
    {
     "data": {
      "image/png": "[encoded data removed]",
      "text/plain": [
       "<Figure size 720x576 with 1 Axes>"
      ]
     },
     "metadata": {
      "filenames": {
       "image/png": "/home/khanh/Documents/KhanhBlog/deepai-book/book/_build/jupyter_execute/ch_ml/creditScorecard_38_1.png"
      },
      "needs_background": "light"
     },
     "output_type": "display_data"
    }
   ],
   "source": [
    "from sklearn.metrics import roc_curve, auc\n",
    "\n",
    "y_pred_prob_test = logit_model.predict_proba(X_test)[:, 1]\n",
    "fpr, tpr, thres = roc_curve(y_test, y_pred_prob_test)\n",
    "roc_auc = auc(fpr, tpr)\n",
    "\n",
    "def _plot_roc_curve(fpr, tpr, thres, auc):\n",
    "    plt.figure(figsize = (10, 8))\n",
    "    plt.plot(fpr, tpr, 'b-', color='darkorange', lw=2, linestyle='--', label='ROC curve (area = %0.2f)'%auc)\n",
    "    plt.plot([0, 1], [0, 1], '--')\n",
    "    plt.axis([0, 1, 0, 1])\n",
    "    plt.xlabel('False Positive Rate')\n",
    "    plt.ylabel('True Positive Rate')\n",
    "    plt.legend(loc='lower right')\n",
    "    plt.title('ROC Curve')\n",
    "\n",
    "_plot_roc_curve(fpr, tpr, thres, roc_auc)"
   ]
  },
  {
   "cell_type": "markdown",
   "id": "3c01127b",
   "metadata": {},
   "source": [
    "Chỉ số AUC (_area under curve_) đo lường phần diện tích nằm dưới đường cong ROC cho biết khả năng phân loại của các hợp đồng `GOOD/BAD` của mô hình hồi qui Logistic là mạnh hay yếu. AUC $\\in [0, 1]$ , giá trị của nó càng lớn thì mô hình càng tốt. Đối với mô hình hồi qui Logistic này, AUC = 0.87 là khá cao, cho thấy khả năng dự báo của mô hình tốt và có thể áp dụng mô hình vào thực tiễn.\n",
    "\n",
    "**Đường cong precision-recall trên tập kiểm tra**"
   ]
  },
  {
   "cell_type": "code",
   "execution_count": 21,
   "id": "da4b014a",
   "metadata": {},
   "outputs": [
    {
     "data": {
      "image/png": "[encoded data removed]",
      "text/plain": [
       "<Figure size 720x576 with 1 Axes>"
      ]
     },
     "metadata": {
      "filenames": {
       "image/png": "/home/khanh/Documents/KhanhBlog/deepai-book/book/_build/jupyter_execute/ch_ml/creditScorecard_40_0.png"
      },
      "needs_background": "light"
     },
     "output_type": "display_data"
    }
   ],
   "source": [
    "from sklearn.metrics import precision_recall_curve\n",
    "precision, recall, thres = precision_recall_curve(y_test, y_pred_prob_test)\n",
    "\n",
    "def _plot_prec_rec_curve(prec, rec, thres):\n",
    "    plt.figure(figsize = (10, 8))\n",
    "    plt.plot(thres, prec[:-1], 'b--', label = 'Precision')\n",
    "    plt.plot(thres, rec[:-1], 'g-', label = 'Recall')\n",
    "    plt.xlabel('Threshold')\n",
    "    plt.ylabel('Probability')\n",
    "    plt.title('Precsion vs Recall Curve')\n",
    "    plt.legend()\n",
    "\n",
    "_plot_prec_rec_curve(precision, recall, thres)"
   ]
  },
  {
   "cell_type": "markdown",
   "id": "81f63daf",
   "metadata": {},
   "source": [
    "Đường cong precision-recall cho chúng ta thấy sự đánh đổi qua lại giữa độ chuẩn xác (_precision_) và độ phủ (_recall_). Dựa trên kì vọng về _độ chuẩn xác_ hoặc _độ phủ_ từ trước chúng ta có thể lựa chọn được ngưỡng threshold phù hợp. Chẳng hạn trước khi bước vào dự án ta kì vọng tỷ lệ dự báo đúng hồ sơ GOOD là 70% thì cần thiết lập các threshold để giá trị recall >= 70%. Trường hợp khác, ta kì vọng tỷ lệ dự báo đúng trong số các hồ sơ được dự báo là GOOD là 70% thì cần lựa chọn các threshold để giá trị precision >= 70%. Rất khó để nói ngưỡng threshold nào nên được lựa chọn là tốt nhất. Điều này phụ thuộc vào mục tiêu của mô hình là ưu tiên phân loại đúng hồ sơ GOOD hay hồ sơ BAD hơn.\n",
    "\n",
    "**Kiểm định Kolmogorov-Smirnov**\n",
    "\n",
    "Đây là kiểm định về sự khác biệt trong phân phối giữa phân phối xác suất tích luỹ giữa `GOOD` và `BAD`. Nếu mô hình có khả năng phân loại `GOOD` và `BAD` tốt thì đường cong phân phối xác suất tích lũy (cumulative distribution function - cdf) giữa GOOD và BAD phải có sự khác biệt lớn. Trái lại, nếu mô hình rất yếu và kết quả dự báo của nó chỉ ngang bằng một phép lựa chọn ngẫu nhiên. Khi đó đường phân phối xác suất tích lũy của `GOOD` và `BAD` sẽ nằm sát nhau và tiệm cận đường chéo 45 độ. Kiểm định Kolmogorov-Smirnov sẽ kiểm tra giả thuyết $H_0$ cho rằng hai phân phối xác suất giữa `GOOD` và `BAD` không có sự khác biệt. Khi P-value < 0.05 bác bỏ giả thuyết $H_0$.\n",
    "\n",
    "Tính toán phân phối xác suất tích lũy của `GOOD` và `BAD`"
   ]
  },
  {
   "cell_type": "code",
   "execution_count": 22,
   "id": "5d8e9165",
   "metadata": {},
   "outputs": [],
   "source": [
    "def _KM(y_pred, n_bins):\n",
    "  _, thresholds = pd.qcut(y_pred, q=n_bins, retbins=True)\n",
    "  cmd_BAD = []\n",
    "  cmd_GOOD = []\n",
    "  BAD_id = set(np.where(y_test == 0)[0])\n",
    "  GOOD_id = set(np.where(y_test == 1)[0])\n",
    "  total_BAD = len(BAD_id)\n",
    "  total_GOOD = len(GOOD_id)\n",
    "  for thres in thresholds:\n",
    "    pred_id = set(np.where(y_pred <= thres)[0])\n",
    "    # Đếm % số lượng hồ sơ BAD có xác suất dự báo nhỏ hơn hoặc bằng thres\n",
    "    per_BAD = len(pred_id.intersection(BAD_id))/total_BAD\n",
    "    cmd_BAD.append(per_BAD)\n",
    "    # Đếm % số lượng hồ sơ GOOD có xác suất dự báo nhỏ hơn hoặc bằng thres\n",
    "    per_GOOD = len(pred_id.intersection(GOOD_id))/total_GOOD\n",
    "    cmd_GOOD.append(per_GOOD)\n",
    "  cmd_BAD = np.array(cmd_BAD)\n",
    "  cmd_GOOD = np.array(cmd_GOOD)\n",
    "  return cmd_BAD, cmd_GOOD, thresholds\n",
    "\n",
    "cmd_BAD, cmd_GOOD, thresholds = _KM(y_pred_prob_test, n_bins=20)"
   ]
  },
  {
   "cell_type": "markdown",
   "id": "28fb988e",
   "metadata": {},
   "source": [
    "Biểu đồ phân phối xác suất tích lũy của `GOOD` và `BAD`"
   ]
  },
  {
   "cell_type": "code",
   "execution_count": 23,
   "id": "3dbd8d62",
   "metadata": {},
   "outputs": [
    {
     "data": {
      "image/png": "[encoded data removed]",
      "text/plain": [
       "<Figure size 720x576 with 1 Axes>"
      ]
     },
     "metadata": {
      "filenames": {
       "image/png": "/home/khanh/Documents/KhanhBlog/deepai-book/book/_build/jupyter_execute/ch_ml/creditScorecard_44_0.png"
      },
      "needs_background": "light"
     },
     "output_type": "display_data"
    }
   ],
   "source": [
    "def _plot_KM(cmd_BAD, cmd_GOOD, thresholds):\n",
    "  plt.figure(figsize = (10, 8))\n",
    "  plt.plot(thresholds, cmd_BAD, 'y-', label = 'BAD')\n",
    "  plt.plot(thresholds, cmd_GOOD, 'g-', label = 'GOOD')\n",
    "  plt.plot(thresholds, cmd_BAD-cmd_GOOD, 'b--', label = 'DIFF')\n",
    "  plt.xlabel('% observation')\n",
    "  plt.ylabel('% total GOOD/BAD')\n",
    "  plt.title('Kolmogorov-Smirnov Curve')\n",
    "  plt.legend()\n",
    "\n",
    "_plot_KM(cmd_BAD, cmd_GOOD, thresholds)"
   ]
  },
  {
   "cell_type": "markdown",
   "id": "3f5fd0b0",
   "metadata": {},
   "source": [
    "Kiểm định Kolmogorov-Smirnov:"
   ]
  },
  {
   "cell_type": "code",
   "execution_count": 24,
   "id": "ce13f59e",
   "metadata": {},
   "outputs": [
    {
     "data": {
      "text/plain": [
       "KstestResult(statistic=0.5238095238095238, pvalue=0.005467427576534314)"
      ]
     },
     "execution_count": 24,
     "metadata": {},
     "output_type": "execute_result"
    }
   ],
   "source": [
    "from scipy import stats\n",
    "\n",
    "stats.ks_2samp(cmd_BAD, cmd_GOOD)"
   ]
  },
  {
   "cell_type": "markdown",
   "id": "4e690aa2",
   "metadata": {},
   "source": [
    "p-value < 0.05 cho thấy phân phối tích lũy giữa tỷ lệ `BAD` và `GOOD` là khác biệt nhau. Do đó mô hình có ý nghĩa trong phân loại hồ sơ.\n",
    "\n",
    "### 6.2.4.5. Tính điểm credit score cho mỗi đặc trưng\n",
    "\n",
    "Bước cuối cùng là tính ra điểm tín nhiệm (credit scorecard) của mỗi khách hàng bằng cách tính điểm số cho mỗi đặc trưng (đặc trưng) ở đây là một khoảng bin của biến liên tục hoặc một nhãn của biến hạng mục). Điểm sẽ được scale theo công thức sau:\n",
    "\n",
    "$$\\text{Score} = (\\beta.\\text{WOE}+\\frac{\\alpha}{n}).\\text{Factor}+\\frac{\\text{Offset}}{n} \\tag{1}$$\n",
    "\n",
    "Trong đó:\n",
    "\n",
    "* $\\beta$: Hệ số của biến đặc trưng đầu vào trong phương trình hồi qui Logistic.\n",
    "* $\\alpha$: Hệ số chặn của phương trình hồi qui Logistic.\n",
    "* $\\text{WOE}$: Giá trị của biến đặc trưng đầu vào đã được gán bằng giá trị với WOE.\n",
    "* $n$: Số lượng các biến của mô hình.\n",
    "\n",
    "$\\text{Factor}, \\text{Offset}$ Là các tham số được thiết lập để tính Score. Chúng được tính từ $\\text{pdo}$ và $\\text{odd}$ theo công thức:\n",
    "\n",
    "* $\\text{Factor} = \\frac{\\text{pdo}}{\\ln(2)}$\n",
    "* $\\text{Offset} = \\text{Base_Score}-(\\text{Factor}.\\ln(\\text{odd}))$\n",
    "\n",
    "**Diễn giải ý nghĩa của Offset và Factor**\n",
    "\n",
    "Như chúng ta đã biết, $\\text{odd}$ chính là tỷ lệ giữa xác suất GOOD/BAD. \n",
    "\n",
    "Gỉa sử xác suất để hợp đồng là GOOD bằng $p$ thì tỷ lệ:\n",
    "\n",
    "$$\\text{odd} = \\frac{p}{1-p}$$ \n",
    "\n",
    "$p$ được tính theo hàm Sigmoid. Nên giá trị:\n",
    "\n",
    "$$\\ln(\\text{odd}) = \\ln{(\\frac{p}{1-p})} = \\ln{(e^{\\beta \\mathbf{x}})} = \\beta \\mathbf{x}$$\n",
    "\n",
    "Nếu coi $\\frac{\\text{Offset}}{n}=C$ là một hằng số. Như vậy phương trình (1) ta có thể viết thành:\n",
    "\n",
    "$$\\text{Score} = (\\ln(\\text{odd})*\\text{Factor}) + C$$\n",
    "\n",
    "Lấy đạo hàm theo $\\ln(\\text{odd})$:\n",
    "\n",
    "$$\\text{Factor} = \\frac{d ~\\text{Score}}{d ~\\ln(\\text{odd})}$$\n",
    "\n",
    "**Ý nghĩa của Factor**:\n",
    "\n",
    "Gỉa sử với mức điểm cơ sở ($\\text{Base_score}$) là $600$ thì tỷ lệ odd ratio là $1:30$. Điểm càng cao thì hồ sơ càng tốt, do đó khi mức điểm giảm xuống còn $580$ thì tỷ lệ hồ sơ xấu (nhãn `GOOD`) tăng lên và khiến cho tỷ lệ odd ratio tăng gấp đôi thành $1:15$. Chúng ta có thể hiểu $\\text{pdo}$ (_point double odd ratio_) chính là điểm thay đổi để gấp đôi tỷ lệ odd, giả sử chúng có giá trị bằng -20. Khi đó:\n",
    "\n",
    "$$\\text{Factor} = \\frac{d ~\\text{Score}}{d ~\\ln(\\text{odd})} = \\frac{\\text{pdo}}{\\ln(2)} \\tag{2}$$\n",
    "\n",
    "Như vậy $\\text{Factor}$ chính là tác động biên khi gia tăng odd ratio gấp đôi lên điểm số ứng với mỗi đặc trưng.\n",
    "\n",
    "**Ý nghĩa của Offset**:\n",
    "\n",
    "$\\text{Offset}$ có thể được xem như phần bù của điểm số để đạt được mức điểm $\\text{Base_score}$.\n",
    "\n",
    "Để hình dung rõ hơn quá trình tính điểm score chúng ta lấy ví dụ:\n",
    "\n",
    "Một mô hình credit scorecard có các tham số thiết lập gồm tỷ lệ $\\text{odd} = 1:50$ tại $\\text{Base_Score} =600$ điểm và $\\text{pdo}=20$, hai tham số $\\text{Factor}, \\text{Offset}$ được tính như sau:\n",
    "\n",
    "* $\\text{Factor}=\\frac{20}{\\ln(2)}=28.85$\n",
    "* $\\text{Offset}=600-28.85\\times \\ln(1/50)=712.86$ \n",
    "\n",
    "Phương trình hồi qui có hệ số đối với 1 biến bất kì là $\\beta = 0.5$, hệ số tự do $\\alpha=1$, giá trị $\\text{WOE}=0.15$ và số lượng các biến $n=12$. Khi đó áp dụng phương trình (1) tính điểm tín nhiệm $\\text{Score}$ được đóng góp bởi biến đó sẽ là:\n",
    "\n",
    "$$\\text{Score} = (0.5\\times0.15+\\frac{1}{12}).\\text{28.85}+\\frac{\\text{712.85}}{12} = 63.97$$\n",
    "\n",
    "Ta có thể tạo ra hàm số tính điểm cho mỗi đặc trưng như sau:"
   ]
  },
  {
   "cell_type": "code",
   "execution_count": 25,
   "id": "280f5417",
   "metadata": {},
   "outputs": [
    {
     "data": {
      "text/plain": [
       "42.2677896003704"
      ]
     },
     "execution_count": 25,
     "metadata": {},
     "output_type": "execute_result"
    }
   ],
   "source": [
    "import numpy as np\n",
    "\n",
    "def _CreditScore(beta, alpha, woe, n = 12, odds = 1/4, pdo = -50, thres_score = 600):\n",
    "  factor = pdo/np.log(2)\n",
    "  offset = thres_score - factor*np.log(odds)\n",
    "  score = (beta*woe+alpha/n)*factor+offset/n\n",
    "  return score\n",
    "\n",
    "_CreditScore(beta = 0.5, alpha = -1, woe = 0.15, n = 12)"
   ]
  },
  {
   "cell_type": "markdown",
   "id": "8aeaec24",
   "metadata": {},
   "source": [
    "Gán các giá trị $\\beta$ và $\\alpha$ vào dictionary."
   ]
  },
  {
   "cell_type": "code",
   "execution_count": 26,
   "id": "4141dba5",
   "metadata": {},
   "outputs": [
    {
     "data": {
      "text/plain": [
       "{'LOAN_WOE': 0.4710324107004053,\n",
       " 'MORTDUE_WOE': 0.5825609027920233,\n",
       " 'VALUE_WOE': 0.7543949126408708,\n",
       " 'YOJ_WOE': 0.883788791405289,\n",
       " 'CLAGE_WOE': 0.8622728924386148,\n",
       " 'NINQ_WOE': 0.5431039926781012,\n",
       " 'CLNO_WOE': 0.8543750687914761,\n",
       " 'DEBTINC_WOE': 0.9440898350669943,\n",
       " 'DEROG_WOE': 0.9016268860831372,\n",
       " 'DELINQ_WOE': 1.054952732547523,\n",
       " 'REASON_WOE': 0.6474770785463526,\n",
       " 'JOB_WOE': 0.8871024491457584}"
      ]
     },
     "execution_count": 26,
     "metadata": {},
     "output_type": "execute_result"
    }
   ],
   "source": [
    "betas_dict = dict(zip(list(X_train.columns), logit_model.coef_[0]))\n",
    "alpha = logit_model.intercept_[0]\n",
    "betas_dict"
   ]
  },
  {
   "cell_type": "markdown",
   "id": "1122c43a",
   "metadata": {},
   "source": [
    "Tính `WOE` cho từng đặc trưng."
   ]
  },
  {
   "cell_type": "code",
   "execution_count": 27,
   "id": "5767084e",
   "metadata": {},
   "outputs": [
    {
     "data": {
      "text/html": [
       "<div>\n",
       "<style scoped>\n",
       "    .dataframe tbody tr th:only-of-type {\n",
       "        vertical-align: middle;\n",
       "    }\n",
       "\n",
       "    .dataframe tbody tr th {\n",
       "        vertical-align: top;\n",
       "    }\n",
       "\n",
       "    .dataframe thead th {\n",
       "        text-align: right;\n",
       "    }\n",
       "</style>\n",
       "<table border=\"1\" class=\"dataframe\">\n",
       "  <thead>\n",
       "    <tr style=\"text-align: right;\">\n",
       "      <th></th>\n",
       "      <th>Columns</th>\n",
       "      <th>Features</th>\n",
       "      <th>WOE</th>\n",
       "      <th>Betas</th>\n",
       "      <th>Scores</th>\n",
       "    </tr>\n",
       "  </thead>\n",
       "  <tbody>\n",
       "    <tr>\n",
       "      <th>0</th>\n",
       "      <td>LOAN</td>\n",
       "      <td>(-999999999.0, 7600.0]</td>\n",
       "      <td>0.898910</td>\n",
       "      <td>0.471032</td>\n",
       "      <td>19.446581</td>\n",
       "    </tr>\n",
       "    <tr>\n",
       "      <th>1</th>\n",
       "      <td>LOAN</td>\n",
       "      <td>(7600.0, 10000.0]</td>\n",
       "      <td>0.154566</td>\n",
       "      <td>0.471032</td>\n",
       "      <td>44.737736</td>\n",
       "    </tr>\n",
       "    <tr>\n",
       "      <th>2</th>\n",
       "      <td>LOAN</td>\n",
       "      <td>(10000.0, 12100.0]</td>\n",
       "      <td>-0.112535</td>\n",
       "      <td>0.471032</td>\n",
       "      <td>53.813262</td>\n",
       "    </tr>\n",
       "    <tr>\n",
       "      <th>3</th>\n",
       "      <td>LOAN</td>\n",
       "      <td>(12100.0, 14400.0]</td>\n",
       "      <td>-0.158318</td>\n",
       "      <td>0.471032</td>\n",
       "      <td>55.368853</td>\n",
       "    </tr>\n",
       "    <tr>\n",
       "      <th>4</th>\n",
       "      <td>LOAN</td>\n",
       "      <td>(14400.0, 16300.0]</td>\n",
       "      <td>0.162082</td>\n",
       "      <td>0.471032</td>\n",
       "      <td>44.482362</td>\n",
       "    </tr>\n",
       "  </tbody>\n",
       "</table>\n",
       "</div>"
      ],
      "text/plain": [
       "  Columns                Features       WOE     Betas     Scores\n",
       "0    LOAN  (-999999999.0, 7600.0]  0.898910  0.471032  19.446581\n",
       "1    LOAN       (7600.0, 10000.0]  0.154566  0.471032  44.737736\n",
       "2    LOAN      (10000.0, 12100.0] -0.112535  0.471032  53.813262\n",
       "3    LOAN      (12100.0, 14400.0] -0.158318  0.471032  55.368853\n",
       "4    LOAN      (14400.0, 16300.0]  0.162082  0.471032  44.482362"
      ]
     },
     "execution_count": 27,
     "metadata": {},
     "output_type": "execute_result"
    }
   ],
   "source": [
    "cols = []\n",
    "features = []\n",
    "woes = []\n",
    "betas = []\n",
    "scores = []\n",
    "\n",
    "for col in columns:\n",
    "  for feature, woe in WOE_dict[col]['table']['WOE'].to_frame().iterrows():\n",
    "      cols.append(col)\n",
    "      # Add feature\n",
    "      feature = str(feature)\n",
    "      features.append(feature)    \n",
    "      # Add woe\n",
    "      woe = woe.values[0]\n",
    "      woes.append(woe)\n",
    "      # Add beta\n",
    "      col_woe = col+'_WOE'\n",
    "      beta = betas_dict[col_woe]\n",
    "      betas.append(beta)\n",
    "      # Add score\n",
    "      score = _CreditScore(beta = beta, alpha = alpha, woe = woe, n = 12)\n",
    "      scores.append(score)\n",
    "\n",
    "df_WOE = pd.DataFrame({'Columns': cols, 'Features': features, 'WOE': woes, 'Betas':betas, 'Scores':scores})\n",
    "df_WOE.head()"
   ]
  },
  {
   "cell_type": "markdown",
   "id": "aa3f32ea",
   "metadata": {},
   "source": [
    "Như vậy ta đã hoàn thiện bảng tính điểm số cho mỗi features. Từ điểm số này ta có thể suy ra điểm tín nhiệm của mỗi một hồ sơ bằng cách tính tổng điểm số của toàn bộ các features của hồ sơ đó. Bên dưới ta sẽ thực hành tính điểm tín nhiệm cho một hồ sơ ngẫu nhiên:"
   ]
  },
  {
   "cell_type": "code",
   "execution_count": 28,
   "id": "27fb6b78",
   "metadata": {},
   "outputs": [
    {
     "data": {
      "text/html": [
       "<div>\n",
       "<style scoped>\n",
       "    .dataframe tbody tr th:only-of-type {\n",
       "        vertical-align: middle;\n",
       "    }\n",
       "\n",
       "    .dataframe tbody tr th {\n",
       "        vertical-align: top;\n",
       "    }\n",
       "\n",
       "    .dataframe thead th {\n",
       "        text-align: right;\n",
       "    }\n",
       "</style>\n",
       "<table border=\"1\" class=\"dataframe\">\n",
       "  <thead>\n",
       "    <tr style=\"text-align: right;\">\n",
       "      <th></th>\n",
       "      <th>LOAN</th>\n",
       "      <th>MORTDUE</th>\n",
       "      <th>VALUE</th>\n",
       "      <th>REASON</th>\n",
       "      <th>JOB</th>\n",
       "      <th>YOJ</th>\n",
       "      <th>DEROG</th>\n",
       "      <th>DELINQ</th>\n",
       "      <th>CLAGE</th>\n",
       "      <th>NINQ</th>\n",
       "      <th>CLNO</th>\n",
       "      <th>DEBTINC</th>\n",
       "    </tr>\n",
       "  </thead>\n",
       "  <tbody>\n",
       "    <tr>\n",
       "      <th>0</th>\n",
       "      <td>1100</td>\n",
       "      <td>25860.0</td>\n",
       "      <td>39025.0</td>\n",
       "      <td>HomeImp</td>\n",
       "      <td>Other</td>\n",
       "      <td>10.5</td>\n",
       "      <td>0.0</td>\n",
       "      <td>0.0</td>\n",
       "      <td>94.366667</td>\n",
       "      <td>1.0</td>\n",
       "      <td>9.0</td>\n",
       "      <td>33.779915</td>\n",
       "    </tr>\n",
       "  </tbody>\n",
       "</table>\n",
       "</div>"
      ],
      "text/plain": [
       "   LOAN  MORTDUE    VALUE   REASON    JOB   YOJ  DEROG  DELINQ      CLAGE  \\\n",
       "0  1100  25860.0  39025.0  HomeImp  Other  10.5    0.0     0.0  94.366667   \n",
       "\n",
       "   NINQ  CLNO    DEBTINC  \n",
       "0   1.0   9.0  33.779915  "
      ]
     },
     "execution_count": 28,
     "metadata": {},
     "output_type": "execute_result"
    }
   ],
   "source": [
    "# Giả sử một hồ sơ ngẫu nhiên có các thông số như sau\n",
    "test_obs = data[columns].iloc[0:1, :]\n",
    "test_obs"
   ]
  },
  {
   "cell_type": "markdown",
   "id": "d4420731",
   "metadata": {},
   "source": [
    "Viết hàm tính toán điểm số cho mỗi trường của một bộ hồ sơ:"
   ]
  },
  {
   "cell_type": "code",
   "execution_count": 29,
   "id": "28050990",
   "metadata": {},
   "outputs": [
    {
     "data": {
      "text/plain": [
       "19.446580780492287"
      ]
     },
     "execution_count": 29,
     "metadata": {},
     "output_type": "execute_result"
    }
   ],
   "source": [
    "def _search_score(obs, col):\n",
    "  feature = [str(inter) for inter in list(WOE_dict[col]['table'].index) if obs[col].values[0] in inter][0]\n",
    "  score = df_WOE[(df_WOE['Columns'] == col) & (df_WOE['Features'] == feature)]['Scores'].values[0]\n",
    "  return score\n",
    "\n",
    "# Tính điểm cho trường 'LOAN' của bộ hồ sơ test\n",
    "score = _search_score(test_obs, 'LOAN')\n",
    "score"
   ]
  },
  {
   "cell_type": "markdown",
   "id": "65036abf",
   "metadata": {},
   "source": [
    "Điểm chi tiết của từng trường trong bộ hồ sơ và điểm của toàn bộ bộ hồ sơ sẽ là:"
   ]
  },
  {
   "cell_type": "code",
   "execution_count": 30,
   "id": "dfa78754",
   "metadata": {},
   "outputs": [],
   "source": [
    "def _total_score(obs, columns = columns):\n",
    "  scores = dict()\n",
    "  for col in columns:\n",
    "    scores[col] = _search_score(obs, col)\n",
    "  total_score = sum(scores.values())\n",
    "  return scores, total_score\n",
    "\n",
    "scores, total_score = _total_score(test_obs)"
   ]
  },
  {
   "cell_type": "markdown",
   "id": "1268d78a",
   "metadata": {},
   "source": [
    "Ta có thể tính toán điểm tín nhiệm cho toàn bộ các hồ sơ trên tập huấn luyện như sau:"
   ]
  },
  {
   "cell_type": "code",
   "execution_count": 31,
   "id": "8e98001c",
   "metadata": {},
   "outputs": [],
   "source": [
    "total_scores = []\n",
    "data_test = data.iloc[id_test].copy()\n",
    "for i in np.arange(data_test[columns].shape[0]):\n",
    "  obs = data_test[columns].iloc[i:(i+1), :]\n",
    "  _, score = _total_score(obs)\n",
    "  total_scores.append(score)\n",
    "\n",
    "data_test['Score'] = total_scores"
   ]
  },
  {
   "cell_type": "markdown",
   "id": "3390fe04",
   "metadata": {},
   "source": [
    "Biểu đồ phân phối của điểm số theo `GOOD` và `BAD`"
   ]
  },
  {
   "cell_type": "code",
   "execution_count": 32,
   "id": "e83ebf20",
   "metadata": {},
   "outputs": [
    {
     "data": {
      "text/plain": [
       "Text(0.5, 1.0, 'Distribution Score in Default vs Non-Default')"
      ]
     },
     "execution_count": 32,
     "metadata": {},
     "output_type": "execute_result"
    },
    {
     "data": {
      "image/png": "[encoded data removed]",
      "text/plain": [
       "<Figure size 1152x288 with 2 Axes>"
      ]
     },
     "metadata": {
      "filenames": {
       "image/png": "/home/khanh/Documents/KhanhBlog/deepai-book/book/_build/jupyter_execute/ch_ml/creditScorecard_62_1.png"
      },
      "needs_background": "light"
     },
     "output_type": "display_data"
    }
   ],
   "source": [
    "plt.figure(figsize=(16, 4))\n",
    "plt.subplot(121)\n",
    "sns.distplot(data_test['Score'])\n",
    "plt.title('Distribution Score of Total data')\n",
    "plt.subplot(122)\n",
    "sns.distplot(data_test[data_test['BAD']==1]['Score'], label='Default')\n",
    "sns.distplot(data_test[data_test['BAD']==0]['Score'], label='Non-Default', \n",
    "             kde_kws={\"color\": \"r\"}, \n",
    "             hist_kws={\"color\": \"g\", \"alpha\":0.5})\n",
    "plt.legend(loc = 'lower right')\n",
    "plt.title('Distribution Score in Default vs Non-Default')"
   ]
  },
  {
   "cell_type": "markdown",
   "id": "8efaa36a",
   "metadata": {},
   "source": [
    "Như vậy ta có thể nhận thấy phân phối điểm số của hồ sơ Default và Non-Default là khác biệt nhau. Điểm số tín nhiệm đánh giá mức độ tin cậy của khách hàng về khả năng trả nợ cho ngân hàng. Một khách hàng có điểm số tín nhiệm cao sẽ gia tăng mức độ tin tưởng của Ngân hàng dành cho họ. Ngoài ra Ngân hàng cũng có thể dựa trên điểm tín nhiệm để phân loại khách hàng thành những nhóm tiềm năng khác nhau giống như chỉ số [FICO score](https://www.experian.com/blogs/ask-experian/credit-education/score-basics/what-is-a-good-credit-score/) đã phân loại:\n",
    "\n",
    "![](https://www.experian.com/blogs/ask-experian/wp-content/img/experian-good-score-ranges-fico.png)\n",
    "\n",
    "**Hình 1**: Tỷ lệ phân chia các nhóm khách hàng theo ngưỡng điểm tín nhiệm.\n",
    "\n",
    "Bên dưới là bảng thống kê đối với danh mục khách hàng vay vốn theo điểm scorecard.\n",
    "\n",
    "<img src='https://i.imgur.com/xzt7Q3S.png' width=\"600px\" style=\"display:block; margin-left:auto; margin-right:auto\"/>\n",
    "\n",
    "**Bảng 2**: Bảng ảnh hưởng của các nhóm khách hàng theo điểm tín nhiệm.\n",
    "\n",
    "Để giảm thiểu rủi ro thì Ngân hàng có thể đưa ra các điều kiện ràng buộc khi cho vay. Chẳng hạn như đối với khách hàng rơi vào nhóm `Very Poor`, Ngân hàng có thể đề nghị khách trả phí vay và tiền đặt cọc hoặc thậm chí là không cho vay với nhóm khách hàng này.\n",
    "\n",
    "## 6.3. Kết luận\n",
    "\n",
    "Như vậy tôi đã giới thiệu tới các bạn các bước để xây dựng một mô hình credit scorecard từ các bước như thu thập dữ liệu, tiền xử lý dữ liệu bằng phương pháp WOE, hồi qui mô hình, hậu kiểm mô hình, dự báo xác suất, tính toán điểm tín nhiệm cho một hồ sơ. Về cơ bản phương pháp scorecard là khá đơn giản. Tuy nhiên quá trình xây dựng mô hình đòi hỏi phải đáp ứng được rất nhiều tiêu chí như khả năng giải thích, độ chính xác, chi phí xây dựng, khả năng áp dụng vào thực tiễn. Điều này đòi hỏi chúng ta phải bỏ ra nhiều công sức hơn để huấn luyện và cải tiến mô hình scorecard.\n",
    "\n",
    "Bên cạnh đó, ngoài áp dụng trong lĩnh vực quản trị rủi ro tín dụng, mô hình scorecard còn có thể mở rộng và áp dụng sang rất nhiều các lĩnh vực khác như thẩm định khách hàng trên các nền tảng cho vay online, xếp hạng khách hàng trong marketing, xếp hạng doanh nghiệp, xếp hạng quốc gia, tổ chức tài chính,....\n",
    "\n",
    "## 6.4. Bài tập\n",
    "\n",
    "Sử dụng bộ dữ liệu về [churn customer](https://archive.ics.uci.edu/ml/datasets/Iranian+Churn+Dataset). Hãy thực hiện các công việc sau.\n",
    "\n",
    "1. Khảo sát dữ liệu đầu vào.\n",
    "2. Phân chia hai tập huấn luyện và kiểm tra theo tỷ lệ 80:20.\n",
    "3. Tính toán chỉ số WOE trên từng biến và xếp hạng sức mạnh phân loại của từng biến.\n",
    "4. Xây dựng mô hình scorecard trên tập huấn luyện.\n",
    "5. Chấm điểm khách hàng rời bỏ trên tập kiểm tra.\n",
    "6. Đánh giá sự khác biệt về phân phối giữa hai xác suất luỹ kế giữa GOOD và BAD.\n",
    "\n",
    "## 6.5. Tài liệu tham khảo\n",
    "\n",
    "1. [FICO score](https://www.experian.com/blogs/ask-experian/credit-education/score-basics/what-is-a-good-credit-score/)\n",
    "\n",
    "2. [WOE - Weight of Evidence](https://multithreaded.stitchfix.com/blog/2015/08/13/weight-of-evidence/)\n",
    "\n",
    "3. [Scorecard model - Nguyen Chi Dung VietNam](https://rpubs.com/chidungkt/442168)\n",
    "\n",
    "4. [Introduction to credit scoring and scorecard approach - Jenny Nguyen](https://rstudio-pubs-static.s3.amazonaws.com/441239_e4a46ef90bd5421bb810e95c06f22df8.html#introduction_to_credit_scoring_and_scorecard_approach)\n",
    "\n",
    "5. [Introduction to credit scoring and scorecard approach- Nguyen Chi Dung VietNam](https://rpubs.com/chidungkt/442168)\n",
    "\n",
    "6. [Attribute relevance analysis in python IV and WOE - R language](https://towardsdatascience.com/attribute-relevance-analysis-in-python-iv-and-woe-b5651443fc04)\n",
    "\n",
    "7. [Scorecard package in R language](https://cran.r-project.org/web/packages/scorecard/scorecard.pdf)\n",
    "\n",
    "8. [Scorecard package in python](https://pypi.org/project/scorecardpy/)\n",
    "\n",
    "9. [Creditworthiness - investopedia](https://www.investopedia.com/terms/c/credit-worthiness.asp)\n",
    "\n",
    "10. [Credit Risk Scorecards Implementing Intelligent - Naeem Siddiqui](https://www.amazon.com/Credit-Risk-Scorecards-Implementing-Intelligent/dp/047175451X)\n",
    "\n",
    "11. [Credit Scoring Application at Banks: Mapping to Basel II - Do Hoai Linh, Luong Thi Thu Hang, Nguyen Xuan Thang - NEU University VietNam](https://www.researchgate.net/publication/332098964_Credit_Scoring_Application_at_Banks_Mapping_to_Basel_II)\n",
    "\n",
    "12. [Credit Risk Factor Modeling and the Basel II IRB Approach](https://epub.uni-regensburg.de/8241/1/hamerle1.pdf)"
   ]
  }
 ],
 "metadata": {
  "jupytext": {
   "text_representation": {
    "extension": ".md",
    "format_name": "myst",
    "format_version": 0.12,
    "jupytext_version": "1.8.2"
   }
  },
  "kernelspec": {
   "display_name": "Python 3",
   "name": "python3"
  },
  "language_info": {
   "codemirror_mode": {
    "name": "ipython",
    "version": 3
   },
   "file_extension": ".py",
   "mimetype": "text/x-python",
   "name": "python",
   "nbconvert_exporter": "python",
   "pygments_lexer": "ipython3",
   "version": "3.9.7"
  },
  "source_map": [
   11,
   155,
   159,
   163,
   165,
   169,
   220,
   236,
   241,
   244,
   250,
   303,
   307,
   310,
   314,
   317,
   321,
   350,
   354,
   365,
   369,
   377,
   381,
   385,
   389,
   393,
   399,
   422,
   429,
   439,
   443,
   446,
   450,
   460,
   464,
   469,
   473,
   483,
   487,
   505,
   511,
   525,
   535,
   557,
   561,
   573,
   577,
   581,
   648,
   658,
   662,
   666,
   670,
   696,
   701,
   705,
   709,
   718,
   722,
   731,
   735,
   744,
   748,
   760
  ]
 },
 "nbformat": 4,
 "nbformat_minor": 5
}