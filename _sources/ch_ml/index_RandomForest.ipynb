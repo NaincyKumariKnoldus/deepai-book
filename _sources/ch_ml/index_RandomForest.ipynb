{
 "cells": [
  {
   "cell_type": "markdown",
   "id": "9b8ad667",
   "metadata": {},
   "source": [
    "Thuật ngữ:\n",
    "\n",
    "* mô hình rừng cây: Random Forest\n",
    "* Cây quyết định: Decision Tree\n",
    "* Học kết hợp: ensemble learning\n",
    "* Phương pháp bỏ túi: bagging\n",
    "* Lấy mẫu tái lập: Boostrapping\n",
    "* Quá khớp: overfitting\n",
    "* Mẫu nằm ngoài túi: out of bag\n",
    "* Bầu cử: voting\n",
    "* Dữ liệu ngoại lai: outlier\n",
    "* Quá khớp: overfitting\n",
    "* Bị chệch: bias\n",
    "\n",
    "# 9. Giới thiệu về mô hình rừng cây (_Random Forest_)\n",
    "\n",
    "Ở bài trước chúng ta đã tìm hiểu về cây quyết định. Cây quyết định là một mô hình khá nối tiếng hoạt động trên cả hai lớp bài toán phân loại và dự báo của học có giám sát. Ý tưởng chính của mô hình là xây dựng một đồ thị dạng câu hỏi để đưa ra dự báo.\n",
    "\n",
    "Dù có độ chính xác khá cao nhưng cây quyết định tồn tại những hạn chế lớn đó là:\n",
    "\n",
    "* Dễ xảy ra _quá khớp_ nếu số lượng các đặc trưng để hỏi lớn. Khi độ sâu của cây quyết định không bị giới hạn thì có thể tạo ra những node lá chỉ có một vài quan sát. Những kết luận dự báo từ chúng thường chỉ đúng trên tập huấn luyện mà không đúng trên tập kiểm tra. \n",
    "\n",
    "* Trong tình huống bộ dữ liệu có số lượng biến lớn. Một cây quyết định có độ sâu giới hạn (để giảm thiểu _quá khớp_) thường bỏ sót những biến quan trọng. \n",
    "\n",
    "* Cây quyết định chỉ tạo ra một kịch bản dự báo duy nhất cho mỗi một quan sát nên nếu model có hiệu suất kém thì kết quả sẽ bị chệch.\n",
    "\n",
    "Nếu như sức mạnh của một cây quyết định là yếu thì hợp sức của nhiều cây quyết định sẽ trở nên mạnh mẽ hơn (một cây làm chẳng nên non, ba cây chụm lại nên hòn núi cao). Ý tưởng của sự hợp sức đã hình thành nên mô hình _rừng cây_ (_Random Forest_). \n",
    "\n",
    "Nếu bạn là một data scientist thì chắc hẳn bạn đã từng nghe qua và áp dụng mô hình _rừng cây_. Mô hình _rừng cây_  khá nổi tiếng, ở các cuộc thi trên kaggle mô hình này thường được sử dụng và nhiều lần dành chiến thắng. Vì có độ chính xác cao, giảm thiểu hiện tượng _quá khớp_ nên mô hình _rừng cây_ được sử dụng rộng rãi trong cả hai lớp bài toán phân loại và dự báo của học có giám sát."
   ]
  }
 ],
 "metadata": {
  "jupytext": {
   "text_representation": {
    "extension": ".md",
    "format_name": "myst",
    "format_version": 0.12,
    "jupytext_version": "1.8.2"
   }
  },
  "kernelspec": {
   "display_name": "Python 3",
   "name": "python3"
  },
  "language_info": {
   "codemirror_mode": {
    "name": "ipython",
    "version": 3
   },
   "file_extension": ".py",
   "mimetype": "text/x-python",
   "name": "python",
   "nbconvert_exporter": "python",
   "pygments_lexer": "ipython3",
   "version": "3.9.7"
  },
  "source_map": [
   11
  ]
 },
 "nbformat": 4,
 "nbformat_minor": 5
}